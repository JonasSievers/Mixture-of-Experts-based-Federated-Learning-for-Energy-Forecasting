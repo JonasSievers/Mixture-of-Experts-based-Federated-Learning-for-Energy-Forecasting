{
 "cells": [
  {
   "cell_type": "code",
   "execution_count": 4,
   "id": "aeebd9de",
   "metadata": {},
   "outputs": [
    {
     "name": "stdout",
     "output_type": "stream",
     "text": [
      "Collecting pyodbc\n",
      "  Using cached pyodbc-4.0.39-cp310-cp310-win_amd64.whl (69 kB)\n",
      "Installing collected packages: pyodbc\n",
      "Successfully installed pyodbc-4.0.39\n"
     ]
    },
    {
     "name": "stderr",
     "output_type": "stream",
     "text": [
      "WARNING: You are using pip version 22.0.4; however, version 23.2.1 is available.\n",
      "You should consider upgrading via the 'C:\\Users\\rs1044\\bwSyncShare\\02Python Code\\MoE-based-FL-for-secure-STLF\\.venv\\Scripts\\python.exe -m pip install --upgrade pip' command.\n"
     ]
    }
   ],
   "source": [
    "#!pip install pyodbc\n",
    "\n",
    "import pyodbc\n",
    "import pandas as pd\n",
    "import os"
   ]
  },
  {
   "cell_type": "code",
   "execution_count": 2,
   "id": "08237f6b",
   "metadata": {},
   "outputs": [
    {
     "data": {
      "text/plain": [
       "'\\nConnection-Info\\nRechnername:    IPEPDVMSSQLDB2.ipe.kit.edu\\nIP-Adresse:    141.52.64.73\\nSQL-Server-Port:    1433\\nDatenbank:    EnMaSy\\n\\nSQL-Server-Authentifizierung für \"SmartMeter / $Smart$Meter$\"\\n'"
      ]
     },
     "execution_count": 2,
     "metadata": {},
     "output_type": "execute_result"
    }
   ],
   "source": [
    "\"\"\"\n",
    "Connection-Info\n",
    "Rechnername:    IPEPDVMSSQLDB2.ipe.kit.edu\n",
    "IP-Adresse:    141.52.64.73\n",
    "SQL-Server-Port:    1433\n",
    "Datenbank:    EnMaSy\n",
    "\n",
    "SQL-Server-Authentifizierung für \"SmartMeter / $Smart$Meter$\"\n",
    "\"\"\""
   ]
  },
  {
   "cell_type": "code",
   "execution_count": 9,
   "id": "6aabcf3c",
   "metadata": {},
   "outputs": [
    {
     "data": {
      "text/plain": [
       "\"# get current working directory and go back one folder to main working directory\\ncwd = os.path.normpath(os.getcwd())\\n# set path to load data file\\nload_data_path = '/d01_weather_data_all_raw/Data_weather_meteostat_2019-01-01 bis 2021_12-31.csv'\\npath = cwd + load_data_path\\n  \\n#Read CSV file to pandas dataframe; encoding= 'unicode_escape': Decode from Latin-1 source code. Default UTF-8.\\ndf = pd.read_csv(path, encoding= 'unicode_escape', index_col='Date')\\ndf\""
      ]
     },
     "execution_count": 9,
     "metadata": {},
     "output_type": "execute_result"
    }
   ],
   "source": [
    "\"\"\"# get current working directory and go back one folder to main working directory\n",
    "cwd = os.path.normpath(os.getcwd())\n",
    "# set path to load data file\n",
    "load_data_path = '/d01_weather_data_all_raw/Data_weather_meteostat_2019-01-01 bis 2021_12-31.csv'\n",
    "path = cwd + load_data_path\n",
    "  \n",
    "#Read CSV file to pandas dataframe; encoding= 'unicode_escape': Decode from Latin-1 source code. Default UTF-8.\n",
    "df = pd.read_csv(path, encoding= 'unicode_escape', index_col='Date')\n",
    "df\"\"\""
   ]
  },
  {
   "cell_type": "code",
   "execution_count": 6,
   "id": "de802569",
   "metadata": {},
   "outputs": [],
   "source": [
    "driver = 'ODBC Driver 18 for SQL Server' #Must by downloaded and installed in advance\n",
    "server = 'IPEPDVMSSQLDB2.ipe.kit.edu,1433'\n",
    "database = 'EnMaSy'\n",
    "username= 'SmartMeter'\n",
    "password ='$Smart$Meter$'\n",
    "\n",
    "\n",
    "cnxn = pyodbc.connect(\n",
    "    f'DRIVER={driver};'\n",
    "    f'SERVER={server};'\n",
    "    f'DATABASE={database};'\n",
    "    f'ENCRYPT=yes;'\n",
    "    f'UID={username};'\n",
    "    f'PWD={password};'\n",
    "    f'TrustServerCertificate=yes;'\n",
    ")\n",
    "cursor = cnxn.cursor()\n"
   ]
  },
  {
   "cell_type": "code",
   "execution_count": 8,
   "id": "ff1982e1",
   "metadata": {},
   "outputs": [],
   "source": [
    "\n",
    "cursor.execute(\n",
    "    '''\n",
    "    CREATE TABLE sensorNodeThData (\n",
    "        id INT NOT NULL IDENTITY PRIMARY KEY,\n",
    "        date DATETIME,\n",
    "        temp FLOAT(1),\n",
    "        pres FLOAT(1),\n",
    "        sound FLOAT(1),\n",
    "        light FLOAT(1),\n",
    "    )\n",
    "    '''\n",
    ")\n",
    "\n",
    "cnxn.commit()\n"
   ]
  },
  {
   "cell_type": "code",
   "execution_count": 5,
   "id": "65e14560",
   "metadata": {},
   "outputs": [],
   "source": [
    "\"\"\"\n",
    "cursor.execute(\n",
    "    '''\n",
    "    CREATE TABLE weatherData (\n",
    "        id INT NOT NULL IDENTITY PRIMARY KEY,\n",
    "        date DATETIME,\n",
    "        temp FLOAT(1),\n",
    "        dwpt FLOAT(1),\n",
    "        rhum FLOAT(1),\n",
    "        prcp FLOAT(1),\n",
    "        wdir FLOAT(1),\n",
    "        wspd FLOAT(1),\n",
    "        wpgt FLOAT(1),\n",
    "        pres FLOAT(1),\n",
    "        coco FLOAT(1)\n",
    "    )\n",
    "    '''\n",
    ")\n",
    "\n",
    "cnxn.commit()\n",
    "\"\"\""
   ]
  },
  {
   "cell_type": "code",
   "execution_count": 11,
   "id": "dee2d2e1",
   "metadata": {},
   "outputs": [],
   "source": [
    "sql = '''ALTER TABLE weatherData\n",
    "ALTER COLUMN date VARCHAR(25);'''\n",
    "\n",
    "cursor.execute(sql)\n",
    "cnxn.commit()"
   ]
  },
  {
   "cell_type": "code",
   "execution_count": 12,
   "id": "77afe423",
   "metadata": {},
   "outputs": [],
   "source": [
    "# Insert Dataframe into SQL Server:\n",
    "for index, row in df.iterrows():\n",
    "     cursor.execute(\n",
    "         \"INSERT INTO weatherData (\"\n",
    "         \"date,temp,dwpt, rhum, prcp, wdir, wspd, wpgt, pres, coco) values(?,?,?,?,?,?,?,?,?,?)\",\n",
    "         index, row.temp, row.dwpt, row.rhum, row.prcp, row.wdir,\n",
    "         row.wspd, row.wpgt, row.pres,row.coco\n",
    "     )\n",
    "cnxn.commit()\n",
    "cursor.close()"
   ]
  },
  {
   "cell_type": "code",
   "execution_count": null,
   "id": "5dbf5b3e",
   "metadata": {},
   "outputs": [],
   "source": []
  }
 ],
 "metadata": {
  "kernelspec": {
   "display_name": "Python 3 (ipykernel)",
   "language": "python",
   "name": "python3"
  },
  "language_info": {
   "codemirror_mode": {
    "name": "ipython",
    "version": 3
   },
   "file_extension": ".py",
   "mimetype": "text/x-python",
   "name": "python",
   "nbconvert_exporter": "python",
   "pygments_lexer": "ipython3",
   "version": "3.10.5"
  }
 },
 "nbformat": 4,
 "nbformat_minor": 5
}
