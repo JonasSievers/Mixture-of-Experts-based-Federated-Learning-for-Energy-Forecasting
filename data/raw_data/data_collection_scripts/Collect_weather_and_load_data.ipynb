{
 "cells": [
  {
   "cell_type": "markdown",
   "metadata": {},
   "source": [
    "# Collect weather and load data \n",
    "\n",
    "This notebook provides all the code and documentation to collect the Ausgrid load dataset and the Meteostat Weather dataset. \n"
   ]
  },
  {
   "cell_type": "markdown",
   "metadata": {},
   "source": [
    "# Ausgrid Load Data\n",
    "\n",
    "The load datasets can be downloaded manually from the Ausgrid Website. You also find further documentation there. \n",
    "- https://www.ausgrid.com.au/Industry/Our-Research/Data-to-share/Solar-home-electricity-data\n",
    "\n",
    "The half-hour electricity data is for 300 homes with rooftop solar systems that are measured by a gross meter that records the total amount of solar power generated every 30 minutes. The data has been sourced from 300 randomly selected solar customers in Ausgrid’s electricity network area that were billed on a domestic tariff and had a gross metered solar system installed for the whole of the period from 1 July 2010 to 30 June 2013. The customers chosen had a full set of actual data for the period from 1 July 2010 to 30 June 2011, gathered through our meter reading processes. We also undertook some data quality checking and excluded customers on the high and low ends of household consumption and solar generation performance during the first year."
   ]
  },
  {
   "cell_type": "markdown",
   "metadata": {},
   "source": [
    "# Meteostat Weather Data\n",
    "\n",
    "The weather data from the Meteostat Homepage can be collected via an API (https://dev.meteostat.net/). Meteostat is an open platform which provides free access to historical weather and climate data."
   ]
  },
  {
   "cell_type": "code",
   "execution_count": 3,
   "metadata": {},
   "outputs": [
    {
     "name": "stdout",
     "output_type": "stream",
     "text": [
      "Requirement already satisfied: meteostat in c:\\users\\rs1044\\bwsyncshare\\02python code\\moe-based-fl-for-secure-stlf\\.venv\\lib\\site-packages (1.6.7)\n",
      "Requirement already satisfied: pandas>=1.1 in c:\\users\\rs1044\\bwsyncshare\\02python code\\moe-based-fl-for-secure-stlf\\.venv\\lib\\site-packages (from meteostat) (2.0.3)\n",
      "Requirement already satisfied: pytz in c:\\users\\rs1044\\bwsyncshare\\02python code\\moe-based-fl-for-secure-stlf\\.venv\\lib\\site-packages (from meteostat) (2023.3)\n",
      "Requirement already satisfied: numpy in c:\\users\\rs1044\\bwsyncshare\\02python code\\moe-based-fl-for-secure-stlf\\.venv\\lib\\site-packages (from meteostat) (1.24.3)\n",
      "Requirement already satisfied: python-dateutil>=2.8.2 in c:\\users\\rs1044\\bwsyncshare\\02python code\\moe-based-fl-for-secure-stlf\\.venv\\lib\\site-packages (from pandas>=1.1->meteostat) (2.8.2)\n",
      "Requirement already satisfied: tzdata>=2022.1 in c:\\users\\rs1044\\bwsyncshare\\02python code\\moe-based-fl-for-secure-stlf\\.venv\\lib\\site-packages (from pandas>=1.1->meteostat) (2023.3)\n",
      "Requirement already satisfied: six>=1.5 in c:\\users\\rs1044\\bwsyncshare\\02python code\\moe-based-fl-for-secure-stlf\\.venv\\lib\\site-packages (from python-dateutil>=2.8.2->pandas>=1.1->meteostat) (1.16.0)\n",
      "Note: you may need to restart the kernel to use updated packages.\n"
     ]
    },
    {
     "name": "stderr",
     "output_type": "stream",
     "text": [
      "WARNING: Ignoring invalid distribution -rotobuf (c:\\users\\rs1044\\bwsyncshare\\02python code\\moe-based-fl-for-secure-stlf\\.venv\\lib\\site-packages)\n",
      "WARNING: Ignoring invalid distribution -rotobuf (c:\\users\\rs1044\\bwsyncshare\\02python code\\moe-based-fl-for-secure-stlf\\.venv\\lib\\site-packages)\n",
      "\n",
      "[notice] A new release of pip is available: 23.2.1 -> 23.3.1\n",
      "[notice] To update, run: python.exe -m pip install --upgrade pip\n"
     ]
    }
   ],
   "source": [
    "# Required libraries\n",
    "import pandas as pd\n",
    "from datetime import datetime\n",
    "\n",
    "%pip install meteostat -U\n",
    "from meteostat import  Daily, Hourly"
   ]
  },
  {
   "cell_type": "code",
   "execution_count": 9,
   "metadata": {},
   "outputs": [],
   "source": [
    "# Set time period for the dataset\n",
    "start = datetime(2012, 6, 30)\n",
    "end = datetime(2013, 7, 1)\n",
    "\n",
    "# Get hourly data\n",
    "# Provide the needed zip-code\n",
    "#For more details look at: https://meteostat.net/en/station/94755?t=2023-10-31/2023-11-07\n",
    "# 94755 -> Zip code for Timezone Australia/ Sydney\n",
    "hourly_data = Hourly('94755', start, end)"
   ]
  },
  {
   "cell_type": "code",
   "execution_count": 10,
   "metadata": {},
   "outputs": [
    {
     "data": {
      "text/html": [
       "<div>\n",
       "<style scoped>\n",
       "    .dataframe tbody tr th:only-of-type {\n",
       "        vertical-align: middle;\n",
       "    }\n",
       "\n",
       "    .dataframe tbody tr th {\n",
       "        vertical-align: top;\n",
       "    }\n",
       "\n",
       "    .dataframe thead th {\n",
       "        text-align: right;\n",
       "    }\n",
       "</style>\n",
       "<table border=\"1\" class=\"dataframe\">\n",
       "  <thead>\n",
       "    <tr style=\"text-align: right;\">\n",
       "      <th></th>\n",
       "      <th>temp</th>\n",
       "      <th>dwpt</th>\n",
       "      <th>rhum</th>\n",
       "      <th>prcp</th>\n",
       "      <th>snow</th>\n",
       "      <th>wdir</th>\n",
       "      <th>wspd</th>\n",
       "      <th>wpgt</th>\n",
       "      <th>pres</th>\n",
       "      <th>tsun</th>\n",
       "      <th>coco</th>\n",
       "    </tr>\n",
       "    <tr>\n",
       "      <th>time</th>\n",
       "      <th></th>\n",
       "      <th></th>\n",
       "      <th></th>\n",
       "      <th></th>\n",
       "      <th></th>\n",
       "      <th></th>\n",
       "      <th></th>\n",
       "      <th></th>\n",
       "      <th></th>\n",
       "      <th></th>\n",
       "      <th></th>\n",
       "    </tr>\n",
       "  </thead>\n",
       "  <tbody>\n",
       "    <tr>\n",
       "      <th>2012-06-30 02:00:00</th>\n",
       "      <td>16.0</td>\n",
       "      <td>6.7</td>\n",
       "      <td>54.0</td>\n",
       "      <td>NaN</td>\n",
       "      <td>NaN</td>\n",
       "      <td>350.0</td>\n",
       "      <td>7.6</td>\n",
       "      <td>NaN</td>\n",
       "      <td>1012.6</td>\n",
       "      <td>NaN</td>\n",
       "      <td>NaN</td>\n",
       "    </tr>\n",
       "    <tr>\n",
       "      <th>2012-06-30 05:00:00</th>\n",
       "      <td>16.8</td>\n",
       "      <td>4.1</td>\n",
       "      <td>43.0</td>\n",
       "      <td>NaN</td>\n",
       "      <td>NaN</td>\n",
       "      <td>220.0</td>\n",
       "      <td>11.2</td>\n",
       "      <td>NaN</td>\n",
       "      <td>1011.5</td>\n",
       "      <td>NaN</td>\n",
       "      <td>NaN</td>\n",
       "    </tr>\n",
       "    <tr>\n",
       "      <th>2012-06-30 08:00:00</th>\n",
       "      <td>10.2</td>\n",
       "      <td>3.5</td>\n",
       "      <td>63.0</td>\n",
       "      <td>NaN</td>\n",
       "      <td>NaN</td>\n",
       "      <td>170.0</td>\n",
       "      <td>5.4</td>\n",
       "      <td>NaN</td>\n",
       "      <td>1013.1</td>\n",
       "      <td>NaN</td>\n",
       "      <td>NaN</td>\n",
       "    </tr>\n",
       "    <tr>\n",
       "      <th>2012-06-30 11:00:00</th>\n",
       "      <td>6.7</td>\n",
       "      <td>4.4</td>\n",
       "      <td>85.0</td>\n",
       "      <td>NaN</td>\n",
       "      <td>NaN</td>\n",
       "      <td>360.0</td>\n",
       "      <td>3.6</td>\n",
       "      <td>NaN</td>\n",
       "      <td>1015.0</td>\n",
       "      <td>NaN</td>\n",
       "      <td>NaN</td>\n",
       "    </tr>\n",
       "    <tr>\n",
       "      <th>2012-06-30 14:00:00</th>\n",
       "      <td>5.1</td>\n",
       "      <td>4.5</td>\n",
       "      <td>96.0</td>\n",
       "      <td>NaN</td>\n",
       "      <td>NaN</td>\n",
       "      <td>NaN</td>\n",
       "      <td>0.0</td>\n",
       "      <td>NaN</td>\n",
       "      <td>1015.2</td>\n",
       "      <td>NaN</td>\n",
       "      <td>NaN</td>\n",
       "    </tr>\n",
       "  </tbody>\n",
       "</table>\n",
       "</div>"
      ],
      "text/plain": [
       "                     temp  dwpt  rhum  prcp  snow   wdir  wspd  wpgt    pres  \\\n",
       "time                                                                           \n",
       "2012-06-30 02:00:00  16.0   6.7  54.0   NaN   NaN  350.0   7.6   NaN  1012.6   \n",
       "2012-06-30 05:00:00  16.8   4.1  43.0   NaN   NaN  220.0  11.2   NaN  1011.5   \n",
       "2012-06-30 08:00:00  10.2   3.5  63.0   NaN   NaN  170.0   5.4   NaN  1013.1   \n",
       "2012-06-30 11:00:00   6.7   4.4  85.0   NaN   NaN  360.0   3.6   NaN  1015.0   \n",
       "2012-06-30 14:00:00   5.1   4.5  96.0   NaN   NaN    NaN   0.0   NaN  1015.2   \n",
       "\n",
       "                     tsun  coco  \n",
       "time                             \n",
       "2012-06-30 02:00:00   NaN   NaN  \n",
       "2012-06-30 05:00:00   NaN   NaN  \n",
       "2012-06-30 08:00:00   NaN   NaN  \n",
       "2012-06-30 11:00:00   NaN   NaN  \n",
       "2012-06-30 14:00:00   NaN   NaN  "
      ]
     },
     "execution_count": 10,
     "metadata": {},
     "output_type": "execute_result"
    }
   ],
   "source": [
    "# Get data\n",
    "df = hourly_data.fetch()\n",
    "df.head()"
   ]
  }
 ],
 "metadata": {
  "kernelspec": {
   "display_name": ".venv",
   "language": "python",
   "name": "python3"
  },
  "language_info": {
   "codemirror_mode": {
    "name": "ipython",
    "version": 3
   },
   "file_extension": ".py",
   "mimetype": "text/x-python",
   "name": "python",
   "nbconvert_exporter": "python",
   "pygments_lexer": "ipython3",
   "version": "3.10.5"
  }
 },
 "nbformat": 4,
 "nbformat_minor": 2
}
