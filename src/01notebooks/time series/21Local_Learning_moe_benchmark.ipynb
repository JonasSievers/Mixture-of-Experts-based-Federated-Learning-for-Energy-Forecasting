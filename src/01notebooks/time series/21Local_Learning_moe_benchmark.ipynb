{
 "cells": [
  {
   "cell_type": "markdown",
   "metadata": {},
   "source": [
    "# Local Learning for benchmark models\n",
    "This includes: \n",
    "- **Dense**: 3 layers, with 16 units and relu activation function\n",
    "- **Bidirectional LSTM**: 2 bidirectional layers, with 20 LSTM cells and tanh "
   ]
  },
  {
   "cell_type": "code",
   "execution_count": 1,
   "metadata": {},
   "outputs": [],
   "source": [
    "#Imports\n",
    "import pandas as pd\n",
    "import os\n",
    "import tensorflow as tf\n",
    "\n",
    "from utils.modelgenerator import *\n",
    "from utils.modelhandler import *\n",
    "from utils.datahandler import *\n",
    "\n",
    "#Get data \n",
    "cwd = os.path.normpath(os.getcwd())\n",
    "df = pd.read_csv(cwd+'/data/df_with_final_features.csv', index_col='Date') #df = pd.read_csv('user5.csv')\n",
    "df.index = pd.to_datetime(df.index)\n",
    "#df = df[['User5', 'temp', 'rhum']]\n",
    "df.fillna(0, inplace=True)\n",
    "\n",
    "df_array = []\n",
    "for idx in range(30):\n",
    "    df_array.append(df[[f'User{idx+1}', 'temp', 'rhum', 'wspd', 'PC1', 'hour sin', 'hour cos', f'User{idx+1}_lag_24hrs']])\n",
    "\n",
    "#df_array[3].head(3)\n",
    "\n",
    "#Train, Validation and Test datasets\n",
    "sequence_length = 25\n",
    "batch_size = 16\n",
    "num_features = df_array[0].shape[1]\n",
    "\n",
    "dh = Datahandler()\n",
    "\n",
    "X_train, y_train, X_val, y_val, X_test, y_test = {}, {}, {}, {}, {}, {}\n",
    "\n",
    "#Create Train, Validation and Test datasets\n",
    "for idx, df in enumerate(df_array):\n",
    "    n = len(df)\n",
    "    train_df = df[0:int(n*0.7)]\n",
    "    val_df = df[int(n*0.7):int(n*0.9)]\n",
    "    test_df = df[int(n*0.9):]\n",
    "\n",
    "    # Min max sclaing\n",
    "    train_df = dh.min_max_scaling(train_df)\n",
    "    val_df = dh.min_max_scaling(val_df)\n",
    "    test_df = dh.min_max_scaling(test_df)\n",
    "\n",
    "    # Sequencing\n",
    "    train_sequences = dh.create_sequences(train_df, sequence_length)\n",
    "    val_sequences = dh.create_sequences(val_df, sequence_length)\n",
    "    test_sequences = dh.create_sequences(test_df, sequence_length)\n",
    "\n",
    "    #Split into feature and label\n",
    "    X_train[f'user{idx+1}'], y_train[f'user{idx+1}'] = dh.prepare_data(train_sequences, batch_size)\n",
    "    X_val[f'user{idx+1}'], y_val[f'user{idx+1}'] = dh.prepare_data(val_sequences, batch_size)\n",
    "    X_test[f'user{idx+1}'], y_test[f'user{idx+1}'] = dh.prepare_data(test_sequences, batch_size)\n",
    "\n",
    "#General Hyperparameters\n",
    "# #All models\n",
    "horizon = 1\n",
    "max_epochs = 100\n",
    "m1 = ModelGenerator()\n",
    "mh = Modelhandler()\n",
    "\n",
    "loss = tf.keras.losses.MeanSquaredError()\n",
    "metrics=[\n",
    "    tf.keras.metrics.RootMeanSquaredError(), \n",
    "    tf.keras.metrics.MeanAbsolutePercentageError(),\n",
    "    tf.keras.metrics.MeanAbsoluteError(),\n",
    "]\n",
    "\n",
    "early_stopping = tf.keras.callbacks.EarlyStopping(monitor='val_loss',patience=10,mode='min')\n",
    "timing_callback = TimingCallback()\n",
    "custom_callback = CustomCallback()\n",
    "#model_checkpoint = ModelCheckpoint('models/best_model.h5', save_best_only=True, monitor='val_loss', mode='min')\n",
    "callbacks=[early_stopping, timing_callback, custom_callback] #model_checkpoint\n"
   ]
  },
  {
   "cell_type": "markdown",
   "metadata": {},
   "source": [
    "# 1. SOFT DENSE MOE MODEL"
   ]
  },
  {
   "cell_type": "code",
   "execution_count": 2,
   "metadata": {},
   "outputs": [],
   "source": [
    "dense_results = pd.DataFrame(columns=['architecture', 'train_time', 'avg_time_epoch', 'mse','mse_std', 'rmse','rmse_std','mape','mape_std','mae','mae_std'])"
   ]
  },
  {
   "cell_type": "code",
   "execution_count": 3,
   "metadata": {},
   "outputs": [
    {
     "name": "stdout",
     "output_type": "stream",
     "text": [
      "User:  1\n",
      "INFO:tensorflow:Assets written to: c:\\Users\\rs1044\\bwSyncShare\\02Python Code\\MoE-based-FL-for-secure-STLF/models/Local_learning/Soft_Dense_MoE/User0\\assets\n"
     ]
    },
    {
     "name": "stderr",
     "output_type": "stream",
     "text": [
      "INFO:tensorflow:Assets written to: c:\\Users\\rs1044\\bwSyncShare\\02Python Code\\MoE-based-FL-for-secure-STLF/models/Local_learning/Soft_Dense_MoE/User0\\assets\n"
     ]
    },
    {
     "name": "stdout",
     "output_type": "stream",
     "text": [
      "Saved Soft_Dense_MoE\n",
      "User:  2\n",
      "INFO:tensorflow:Assets written to: c:\\Users\\rs1044\\bwSyncShare\\02Python Code\\MoE-based-FL-for-secure-STLF/models/Local_learning/Soft_Dense_MoE/User1\\assets\n"
     ]
    },
    {
     "name": "stderr",
     "output_type": "stream",
     "text": [
      "INFO:tensorflow:Assets written to: c:\\Users\\rs1044\\bwSyncShare\\02Python Code\\MoE-based-FL-for-secure-STLF/models/Local_learning/Soft_Dense_MoE/User1\\assets\n"
     ]
    },
    {
     "name": "stdout",
     "output_type": "stream",
     "text": [
      "Saved Soft_Dense_MoE\n",
      "User:  3\n",
      "INFO:tensorflow:Assets written to: c:\\Users\\rs1044\\bwSyncShare\\02Python Code\\MoE-based-FL-for-secure-STLF/models/Local_learning/Soft_Dense_MoE/User2\\assets\n"
     ]
    },
    {
     "name": "stderr",
     "output_type": "stream",
     "text": [
      "INFO:tensorflow:Assets written to: c:\\Users\\rs1044\\bwSyncShare\\02Python Code\\MoE-based-FL-for-secure-STLF/models/Local_learning/Soft_Dense_MoE/User2\\assets\n"
     ]
    },
    {
     "name": "stdout",
     "output_type": "stream",
     "text": [
      "Saved Soft_Dense_MoE\n",
      "User:  4\n",
      "INFO:tensorflow:Assets written to: c:\\Users\\rs1044\\bwSyncShare\\02Python Code\\MoE-based-FL-for-secure-STLF/models/Local_learning/Soft_Dense_MoE/User3\\assets\n"
     ]
    },
    {
     "name": "stderr",
     "output_type": "stream",
     "text": [
      "INFO:tensorflow:Assets written to: c:\\Users\\rs1044\\bwSyncShare\\02Python Code\\MoE-based-FL-for-secure-STLF/models/Local_learning/Soft_Dense_MoE/User3\\assets\n"
     ]
    },
    {
     "name": "stdout",
     "output_type": "stream",
     "text": [
      "Saved Soft_Dense_MoE\n",
      "User:  5\n",
      "INFO:tensorflow:Assets written to: c:\\Users\\rs1044\\bwSyncShare\\02Python Code\\MoE-based-FL-for-secure-STLF/models/Local_learning/Soft_Dense_MoE/User4\\assets\n"
     ]
    },
    {
     "name": "stderr",
     "output_type": "stream",
     "text": [
      "INFO:tensorflow:Assets written to: c:\\Users\\rs1044\\bwSyncShare\\02Python Code\\MoE-based-FL-for-secure-STLF/models/Local_learning/Soft_Dense_MoE/User4\\assets\n"
     ]
    },
    {
     "name": "stdout",
     "output_type": "stream",
     "text": [
      "Saved Soft_Dense_MoE\n",
      "User:  6\n",
      "INFO:tensorflow:Assets written to: c:\\Users\\rs1044\\bwSyncShare\\02Python Code\\MoE-based-FL-for-secure-STLF/models/Local_learning/Soft_Dense_MoE/User5\\assets\n"
     ]
    },
    {
     "name": "stderr",
     "output_type": "stream",
     "text": [
      "INFO:tensorflow:Assets written to: c:\\Users\\rs1044\\bwSyncShare\\02Python Code\\MoE-based-FL-for-secure-STLF/models/Local_learning/Soft_Dense_MoE/User5\\assets\n"
     ]
    },
    {
     "name": "stdout",
     "output_type": "stream",
     "text": [
      "Saved Soft_Dense_MoE\n",
      "User:  7\n",
      "INFO:tensorflow:Assets written to: c:\\Users\\rs1044\\bwSyncShare\\02Python Code\\MoE-based-FL-for-secure-STLF/models/Local_learning/Soft_Dense_MoE/User6\\assets\n"
     ]
    },
    {
     "name": "stderr",
     "output_type": "stream",
     "text": [
      "INFO:tensorflow:Assets written to: c:\\Users\\rs1044\\bwSyncShare\\02Python Code\\MoE-based-FL-for-secure-STLF/models/Local_learning/Soft_Dense_MoE/User6\\assets\n"
     ]
    },
    {
     "name": "stdout",
     "output_type": "stream",
     "text": [
      "Saved Soft_Dense_MoE\n",
      "User:  8\n",
      "INFO:tensorflow:Assets written to: c:\\Users\\rs1044\\bwSyncShare\\02Python Code\\MoE-based-FL-for-secure-STLF/models/Local_learning/Soft_Dense_MoE/User7\\assets\n"
     ]
    },
    {
     "name": "stderr",
     "output_type": "stream",
     "text": [
      "INFO:tensorflow:Assets written to: c:\\Users\\rs1044\\bwSyncShare\\02Python Code\\MoE-based-FL-for-secure-STLF/models/Local_learning/Soft_Dense_MoE/User7\\assets\n"
     ]
    },
    {
     "name": "stdout",
     "output_type": "stream",
     "text": [
      "Saved Soft_Dense_MoE\n",
      "User:  9\n",
      "INFO:tensorflow:Assets written to: c:\\Users\\rs1044\\bwSyncShare\\02Python Code\\MoE-based-FL-for-secure-STLF/models/Local_learning/Soft_Dense_MoE/User8\\assets\n"
     ]
    },
    {
     "name": "stderr",
     "output_type": "stream",
     "text": [
      "INFO:tensorflow:Assets written to: c:\\Users\\rs1044\\bwSyncShare\\02Python Code\\MoE-based-FL-for-secure-STLF/models/Local_learning/Soft_Dense_MoE/User8\\assets\n"
     ]
    },
    {
     "name": "stdout",
     "output_type": "stream",
     "text": [
      "Saved Soft_Dense_MoE\n",
      "User:  10\n",
      "INFO:tensorflow:Assets written to: c:\\Users\\rs1044\\bwSyncShare\\02Python Code\\MoE-based-FL-for-secure-STLF/models/Local_learning/Soft_Dense_MoE/User9\\assets\n"
     ]
    },
    {
     "name": "stderr",
     "output_type": "stream",
     "text": [
      "INFO:tensorflow:Assets written to: c:\\Users\\rs1044\\bwSyncShare\\02Python Code\\MoE-based-FL-for-secure-STLF/models/Local_learning/Soft_Dense_MoE/User9\\assets\n"
     ]
    },
    {
     "name": "stdout",
     "output_type": "stream",
     "text": [
      "Saved Soft_Dense_MoE\n",
      "User:  11\n",
      "INFO:tensorflow:Assets written to: c:\\Users\\rs1044\\bwSyncShare\\02Python Code\\MoE-based-FL-for-secure-STLF/models/Local_learning/Soft_Dense_MoE/User10\\assets\n"
     ]
    },
    {
     "name": "stderr",
     "output_type": "stream",
     "text": [
      "INFO:tensorflow:Assets written to: c:\\Users\\rs1044\\bwSyncShare\\02Python Code\\MoE-based-FL-for-secure-STLF/models/Local_learning/Soft_Dense_MoE/User10\\assets\n"
     ]
    },
    {
     "name": "stdout",
     "output_type": "stream",
     "text": [
      "Saved Soft_Dense_MoE\n",
      "User:  12\n",
      "INFO:tensorflow:Assets written to: c:\\Users\\rs1044\\bwSyncShare\\02Python Code\\MoE-based-FL-for-secure-STLF/models/Local_learning/Soft_Dense_MoE/User11\\assets\n"
     ]
    },
    {
     "name": "stderr",
     "output_type": "stream",
     "text": [
      "INFO:tensorflow:Assets written to: c:\\Users\\rs1044\\bwSyncShare\\02Python Code\\MoE-based-FL-for-secure-STLF/models/Local_learning/Soft_Dense_MoE/User11\\assets\n"
     ]
    },
    {
     "name": "stdout",
     "output_type": "stream",
     "text": [
      "Saved Soft_Dense_MoE\n",
      "User:  13\n",
      "INFO:tensorflow:Assets written to: c:\\Users\\rs1044\\bwSyncShare\\02Python Code\\MoE-based-FL-for-secure-STLF/models/Local_learning/Soft_Dense_MoE/User12\\assets\n"
     ]
    },
    {
     "name": "stderr",
     "output_type": "stream",
     "text": [
      "INFO:tensorflow:Assets written to: c:\\Users\\rs1044\\bwSyncShare\\02Python Code\\MoE-based-FL-for-secure-STLF/models/Local_learning/Soft_Dense_MoE/User12\\assets\n"
     ]
    },
    {
     "name": "stdout",
     "output_type": "stream",
     "text": [
      "Saved Soft_Dense_MoE\n",
      "User:  14\n",
      "INFO:tensorflow:Assets written to: c:\\Users\\rs1044\\bwSyncShare\\02Python Code\\MoE-based-FL-for-secure-STLF/models/Local_learning/Soft_Dense_MoE/User13\\assets\n"
     ]
    },
    {
     "name": "stderr",
     "output_type": "stream",
     "text": [
      "INFO:tensorflow:Assets written to: c:\\Users\\rs1044\\bwSyncShare\\02Python Code\\MoE-based-FL-for-secure-STLF/models/Local_learning/Soft_Dense_MoE/User13\\assets\n"
     ]
    },
    {
     "name": "stdout",
     "output_type": "stream",
     "text": [
      "Saved Soft_Dense_MoE\n",
      "User:  15\n",
      "INFO:tensorflow:Assets written to: c:\\Users\\rs1044\\bwSyncShare\\02Python Code\\MoE-based-FL-for-secure-STLF/models/Local_learning/Soft_Dense_MoE/User14\\assets\n"
     ]
    },
    {
     "name": "stderr",
     "output_type": "stream",
     "text": [
      "INFO:tensorflow:Assets written to: c:\\Users\\rs1044\\bwSyncShare\\02Python Code\\MoE-based-FL-for-secure-STLF/models/Local_learning/Soft_Dense_MoE/User14\\assets\n"
     ]
    },
    {
     "name": "stdout",
     "output_type": "stream",
     "text": [
      "Saved Soft_Dense_MoE\n",
      "User:  16\n",
      "INFO:tensorflow:Assets written to: c:\\Users\\rs1044\\bwSyncShare\\02Python Code\\MoE-based-FL-for-secure-STLF/models/Local_learning/Soft_Dense_MoE/User15\\assets\n"
     ]
    },
    {
     "name": "stderr",
     "output_type": "stream",
     "text": [
      "INFO:tensorflow:Assets written to: c:\\Users\\rs1044\\bwSyncShare\\02Python Code\\MoE-based-FL-for-secure-STLF/models/Local_learning/Soft_Dense_MoE/User15\\assets\n"
     ]
    },
    {
     "name": "stdout",
     "output_type": "stream",
     "text": [
      "Saved Soft_Dense_MoE\n",
      "User:  17\n",
      "INFO:tensorflow:Assets written to: c:\\Users\\rs1044\\bwSyncShare\\02Python Code\\MoE-based-FL-for-secure-STLF/models/Local_learning/Soft_Dense_MoE/User16\\assets\n"
     ]
    },
    {
     "name": "stderr",
     "output_type": "stream",
     "text": [
      "INFO:tensorflow:Assets written to: c:\\Users\\rs1044\\bwSyncShare\\02Python Code\\MoE-based-FL-for-secure-STLF/models/Local_learning/Soft_Dense_MoE/User16\\assets\n"
     ]
    },
    {
     "name": "stdout",
     "output_type": "stream",
     "text": [
      "Saved Soft_Dense_MoE\n",
      "User:  18\n",
      "INFO:tensorflow:Assets written to: c:\\Users\\rs1044\\bwSyncShare\\02Python Code\\MoE-based-FL-for-secure-STLF/models/Local_learning/Soft_Dense_MoE/User17\\assets\n"
     ]
    },
    {
     "name": "stderr",
     "output_type": "stream",
     "text": [
      "INFO:tensorflow:Assets written to: c:\\Users\\rs1044\\bwSyncShare\\02Python Code\\MoE-based-FL-for-secure-STLF/models/Local_learning/Soft_Dense_MoE/User17\\assets\n"
     ]
    },
    {
     "name": "stdout",
     "output_type": "stream",
     "text": [
      "Saved Soft_Dense_MoE\n",
      "User:  19\n",
      "INFO:tensorflow:Assets written to: c:\\Users\\rs1044\\bwSyncShare\\02Python Code\\MoE-based-FL-for-secure-STLF/models/Local_learning/Soft_Dense_MoE/User18\\assets\n"
     ]
    },
    {
     "name": "stderr",
     "output_type": "stream",
     "text": [
      "INFO:tensorflow:Assets written to: c:\\Users\\rs1044\\bwSyncShare\\02Python Code\\MoE-based-FL-for-secure-STLF/models/Local_learning/Soft_Dense_MoE/User18\\assets\n"
     ]
    },
    {
     "name": "stdout",
     "output_type": "stream",
     "text": [
      "Saved Soft_Dense_MoE\n",
      "User:  20\n",
      "INFO:tensorflow:Assets written to: c:\\Users\\rs1044\\bwSyncShare\\02Python Code\\MoE-based-FL-for-secure-STLF/models/Local_learning/Soft_Dense_MoE/User19\\assets\n"
     ]
    },
    {
     "name": "stderr",
     "output_type": "stream",
     "text": [
      "INFO:tensorflow:Assets written to: c:\\Users\\rs1044\\bwSyncShare\\02Python Code\\MoE-based-FL-for-secure-STLF/models/Local_learning/Soft_Dense_MoE/User19\\assets\n"
     ]
    },
    {
     "name": "stdout",
     "output_type": "stream",
     "text": [
      "Saved Soft_Dense_MoE\n",
      "User:  21\n",
      "INFO:tensorflow:Assets written to: c:\\Users\\rs1044\\bwSyncShare\\02Python Code\\MoE-based-FL-for-secure-STLF/models/Local_learning/Soft_Dense_MoE/User20\\assets\n"
     ]
    },
    {
     "name": "stderr",
     "output_type": "stream",
     "text": [
      "INFO:tensorflow:Assets written to: c:\\Users\\rs1044\\bwSyncShare\\02Python Code\\MoE-based-FL-for-secure-STLF/models/Local_learning/Soft_Dense_MoE/User20\\assets\n"
     ]
    },
    {
     "name": "stdout",
     "output_type": "stream",
     "text": [
      "Saved Soft_Dense_MoE\n",
      "User:  22\n",
      "INFO:tensorflow:Assets written to: c:\\Users\\rs1044\\bwSyncShare\\02Python Code\\MoE-based-FL-for-secure-STLF/models/Local_learning/Soft_Dense_MoE/User21\\assets\n"
     ]
    },
    {
     "name": "stderr",
     "output_type": "stream",
     "text": [
      "INFO:tensorflow:Assets written to: c:\\Users\\rs1044\\bwSyncShare\\02Python Code\\MoE-based-FL-for-secure-STLF/models/Local_learning/Soft_Dense_MoE/User21\\assets\n"
     ]
    },
    {
     "name": "stdout",
     "output_type": "stream",
     "text": [
      "Saved Soft_Dense_MoE\n",
      "User:  23\n",
      "INFO:tensorflow:Assets written to: c:\\Users\\rs1044\\bwSyncShare\\02Python Code\\MoE-based-FL-for-secure-STLF/models/Local_learning/Soft_Dense_MoE/User22\\assets\n"
     ]
    },
    {
     "name": "stderr",
     "output_type": "stream",
     "text": [
      "INFO:tensorflow:Assets written to: c:\\Users\\rs1044\\bwSyncShare\\02Python Code\\MoE-based-FL-for-secure-STLF/models/Local_learning/Soft_Dense_MoE/User22\\assets\n"
     ]
    },
    {
     "name": "stdout",
     "output_type": "stream",
     "text": [
      "Saved Soft_Dense_MoE\n",
      "User:  24\n",
      "INFO:tensorflow:Assets written to: c:\\Users\\rs1044\\bwSyncShare\\02Python Code\\MoE-based-FL-for-secure-STLF/models/Local_learning/Soft_Dense_MoE/User23\\assets\n"
     ]
    },
    {
     "name": "stderr",
     "output_type": "stream",
     "text": [
      "INFO:tensorflow:Assets written to: c:\\Users\\rs1044\\bwSyncShare\\02Python Code\\MoE-based-FL-for-secure-STLF/models/Local_learning/Soft_Dense_MoE/User23\\assets\n"
     ]
    },
    {
     "name": "stdout",
     "output_type": "stream",
     "text": [
      "Saved Soft_Dense_MoE\n",
      "User:  25\n",
      "INFO:tensorflow:Assets written to: c:\\Users\\rs1044\\bwSyncShare\\02Python Code\\MoE-based-FL-for-secure-STLF/models/Local_learning/Soft_Dense_MoE/User24\\assets\n"
     ]
    },
    {
     "name": "stderr",
     "output_type": "stream",
     "text": [
      "INFO:tensorflow:Assets written to: c:\\Users\\rs1044\\bwSyncShare\\02Python Code\\MoE-based-FL-for-secure-STLF/models/Local_learning/Soft_Dense_MoE/User24\\assets\n"
     ]
    },
    {
     "name": "stdout",
     "output_type": "stream",
     "text": [
      "Saved Soft_Dense_MoE\n",
      "User:  26\n",
      "INFO:tensorflow:Assets written to: c:\\Users\\rs1044\\bwSyncShare\\02Python Code\\MoE-based-FL-for-secure-STLF/models/Local_learning/Soft_Dense_MoE/User25\\assets\n"
     ]
    },
    {
     "name": "stderr",
     "output_type": "stream",
     "text": [
      "INFO:tensorflow:Assets written to: c:\\Users\\rs1044\\bwSyncShare\\02Python Code\\MoE-based-FL-for-secure-STLF/models/Local_learning/Soft_Dense_MoE/User25\\assets\n"
     ]
    },
    {
     "name": "stdout",
     "output_type": "stream",
     "text": [
      "Saved Soft_Dense_MoE\n",
      "User:  27\n",
      "INFO:tensorflow:Assets written to: c:\\Users\\rs1044\\bwSyncShare\\02Python Code\\MoE-based-FL-for-secure-STLF/models/Local_learning/Soft_Dense_MoE/User26\\assets\n"
     ]
    },
    {
     "name": "stderr",
     "output_type": "stream",
     "text": [
      "INFO:tensorflow:Assets written to: c:\\Users\\rs1044\\bwSyncShare\\02Python Code\\MoE-based-FL-for-secure-STLF/models/Local_learning/Soft_Dense_MoE/User26\\assets\n"
     ]
    },
    {
     "name": "stdout",
     "output_type": "stream",
     "text": [
      "Saved Soft_Dense_MoE\n",
      "User:  28\n",
      "INFO:tensorflow:Assets written to: c:\\Users\\rs1044\\bwSyncShare\\02Python Code\\MoE-based-FL-for-secure-STLF/models/Local_learning/Soft_Dense_MoE/User27\\assets\n"
     ]
    },
    {
     "name": "stderr",
     "output_type": "stream",
     "text": [
      "INFO:tensorflow:Assets written to: c:\\Users\\rs1044\\bwSyncShare\\02Python Code\\MoE-based-FL-for-secure-STLF/models/Local_learning/Soft_Dense_MoE/User27\\assets\n"
     ]
    },
    {
     "name": "stdout",
     "output_type": "stream",
     "text": [
      "Saved Soft_Dense_MoE\n",
      "User:  29\n",
      "INFO:tensorflow:Assets written to: c:\\Users\\rs1044\\bwSyncShare\\02Python Code\\MoE-based-FL-for-secure-STLF/models/Local_learning/Soft_Dense_MoE/User28\\assets\n"
     ]
    },
    {
     "name": "stderr",
     "output_type": "stream",
     "text": [
      "INFO:tensorflow:Assets written to: c:\\Users\\rs1044\\bwSyncShare\\02Python Code\\MoE-based-FL-for-secure-STLF/models/Local_learning/Soft_Dense_MoE/User28\\assets\n"
     ]
    },
    {
     "name": "stdout",
     "output_type": "stream",
     "text": [
      "Saved Soft_Dense_MoE\n",
      "User:  30\n",
      "INFO:tensorflow:Assets written to: c:\\Users\\rs1044\\bwSyncShare\\02Python Code\\MoE-based-FL-for-secure-STLF/models/Local_learning/Soft_Dense_MoE/User29\\assets\n"
     ]
    },
    {
     "name": "stderr",
     "output_type": "stream",
     "text": [
      "INFO:tensorflow:Assets written to: c:\\Users\\rs1044\\bwSyncShare\\02Python Code\\MoE-based-FL-for-secure-STLF/models/Local_learning/Soft_Dense_MoE/User29\\assets\n"
     ]
    },
    {
     "name": "stdout",
     "output_type": "stream",
     "text": [
      "Saved Soft_Dense_MoE\n"
     ]
    }
   ],
   "source": [
    "#MOE MODEL 1\n",
    "dense_moe_architecture = \"Soft_Dense_MoE\"\n",
    "dense_units = 16\n",
    "num_experts = 4\n",
    "expert_units = 8\n",
    "\n",
    "dense_all_results = pd.DataFrame(columns=[\"user\", \"architecture\", \"train_time\", \"avg_time_epoch\", \"mse\", \"rmse\", \"mape\", \"mae\"])\n",
    "\n",
    "#For each of the 3 user\n",
    "for idx in range(len(df_array)):\n",
    "    print(\"User: \", idx+1)\n",
    "    for round in range(3):\n",
    "        #print(\"Round: \", round)\n",
    "        dense_model = m1.build_soft_dense_moe_model(X_train[f'user{idx+1}'], batch_size, horizon, dense_units, expert_units, num_experts, m1)\n",
    "        dense_histroy, dense_user_results = mh.compile_fit_evaluate_model(\n",
    "            model=dense_model, \n",
    "            loss=loss, \n",
    "            metrics=metrics, \n",
    "            X_train=X_train[f'user{idx+1}'],\n",
    "            y_train = y_train[f'user{idx+1}'], \n",
    "            max_epochs = max_epochs, \n",
    "            batch_size=batch_size, \n",
    "            X_val=X_val[f'user{idx+1}'], \n",
    "            y_val=y_val[f'user{idx+1}'], \n",
    "            X_test=X_test[f'user{idx+1}'], \n",
    "            y_test=y_test[f'user{idx+1}'], \n",
    "            callbacks=callbacks, \n",
    "            user=f'user{idx+1}', \n",
    "            hyper=dense_moe_architecture,\n",
    "            optimizer=tf.keras.optimizers.Adam(learning_rate=0.001)\n",
    "        )\n",
    "        # Add the 'architecture' column from dense_user_results to dense_results\n",
    "        dense_all_results = pd.merge(dense_all_results, dense_user_results, how='outer')   \n",
    "\n",
    "    dense_model.save(cwd + f\"/models/Local_learning/{dense_moe_architecture}/User{idx}\")\n",
    "    print(\"Saved Soft_Dense_MoE\")  \n",
    "\n",
    "\n",
    "\n",
    "for idx in range(len(df_array)):\n",
    "    new_row = {\n",
    "        'architecture': dense_all_results[\"architecture\"][0],\n",
    "        'train_time': dense_all_results[dense_all_results[\"user\"]==f\"user{idx+1}\"][\"train_time\"].mean(), \n",
    "        'avg_time_epoch' : dense_all_results[dense_all_results[\"user\"]==f\"user{idx+1}\"][\"avg_time_epoch\"].mean(),\n",
    "        'mse': dense_all_results[dense_all_results[\"user\"]==f\"user{idx+1}\"][\"mse\"].mean(),\n",
    "        'mse_std' : dense_all_results[dense_all_results[\"user\"]==f\"user{idx+1}\"][\"mse\"].std(),\n",
    "        'rmse': dense_all_results[dense_all_results[\"user\"]==f\"user{idx+1}\"][\"rmse\"].mean(),\n",
    "        'rmse_std' : dense_all_results[dense_all_results[\"user\"]==f\"user{idx+1}\"][\"rmse\"].std(),\n",
    "        'mape': dense_all_results[dense_all_results[\"user\"]==f\"user{idx+1}\"][\"mape\"].mean(),\n",
    "        'mape_std' : dense_all_results[dense_all_results[\"user\"]==f\"user{idx+1}\"][\"mape\"].std(),\n",
    "        'mae': dense_all_results[dense_all_results[\"user\"]==f\"user{idx+1}\"][\"mae\"].mean(),\n",
    "        'mae_std' : dense_all_results[dense_all_results[\"user\"]==f\"user{idx+1}\"][\"mae\"].std(),\n",
    "    }\n",
    "    dense_results.loc[len(dense_results)] = new_row"
   ]
  },
  {
   "cell_type": "code",
   "execution_count": 4,
   "metadata": {},
   "outputs": [
    {
     "data": {
      "text/html": [
       "<div>\n",
       "<style scoped>\n",
       "    .dataframe tbody tr th:only-of-type {\n",
       "        vertical-align: middle;\n",
       "    }\n",
       "\n",
       "    .dataframe tbody tr th {\n",
       "        vertical-align: top;\n",
       "    }\n",
       "\n",
       "    .dataframe thead th {\n",
       "        text-align: right;\n",
       "    }\n",
       "</style>\n",
       "<table border=\"1\" class=\"dataframe\">\n",
       "  <thead>\n",
       "    <tr style=\"text-align: right;\">\n",
       "      <th></th>\n",
       "      <th>architecture</th>\n",
       "      <th>train_time</th>\n",
       "      <th>avg_time_epoch</th>\n",
       "      <th>mse</th>\n",
       "      <th>mse_std</th>\n",
       "      <th>rmse</th>\n",
       "      <th>rmse_std</th>\n",
       "      <th>mape</th>\n",
       "      <th>mape_std</th>\n",
       "      <th>mae</th>\n",
       "      <th>mae_std</th>\n",
       "    </tr>\n",
       "  </thead>\n",
       "  <tbody>\n",
       "    <tr>\n",
       "      <th>0</th>\n",
       "      <td>Soft_Dense_MoE</td>\n",
       "      <td>15.626359</td>\n",
       "      <td>0.463006</td>\n",
       "      <td>0.034008</td>\n",
       "      <td>0.001083</td>\n",
       "      <td>0.184397</td>\n",
       "      <td>0.002948</td>\n",
       "      <td>8.830589e+04</td>\n",
       "      <td>19232.836431</td>\n",
       "      <td>0.129079</td>\n",
       "      <td>0.003706</td>\n",
       "    </tr>\n",
       "    <tr>\n",
       "      <th>1</th>\n",
       "      <td>Soft_Dense_MoE</td>\n",
       "      <td>9.322736</td>\n",
       "      <td>0.478693</td>\n",
       "      <td>0.018306</td>\n",
       "      <td>0.000799</td>\n",
       "      <td>0.135277</td>\n",
       "      <td>0.002945</td>\n",
       "      <td>1.604002e+05</td>\n",
       "      <td>29655.439462</td>\n",
       "      <td>0.076615</td>\n",
       "      <td>0.001233</td>\n",
       "    </tr>\n",
       "    <tr>\n",
       "      <th>2</th>\n",
       "      <td>Soft_Dense_MoE</td>\n",
       "      <td>11.822861</td>\n",
       "      <td>0.475102</td>\n",
       "      <td>0.019897</td>\n",
       "      <td>0.000272</td>\n",
       "      <td>0.141054</td>\n",
       "      <td>0.000964</td>\n",
       "      <td>5.190807e+04</td>\n",
       "      <td>10837.389705</td>\n",
       "      <td>0.079009</td>\n",
       "      <td>0.003142</td>\n",
       "    </tr>\n",
       "    <tr>\n",
       "      <th>3</th>\n",
       "      <td>Soft_Dense_MoE</td>\n",
       "      <td>13.700077</td>\n",
       "      <td>0.461089</td>\n",
       "      <td>0.023119</td>\n",
       "      <td>0.001371</td>\n",
       "      <td>0.152004</td>\n",
       "      <td>0.004542</td>\n",
       "      <td>1.215700e+05</td>\n",
       "      <td>16326.066329</td>\n",
       "      <td>0.065597</td>\n",
       "      <td>0.003234</td>\n",
       "    </tr>\n",
       "    <tr>\n",
       "      <th>4</th>\n",
       "      <td>Soft_Dense_MoE</td>\n",
       "      <td>15.611840</td>\n",
       "      <td>0.485246</td>\n",
       "      <td>0.014659</td>\n",
       "      <td>0.000378</td>\n",
       "      <td>0.121067</td>\n",
       "      <td>0.001568</td>\n",
       "      <td>9.773217e+04</td>\n",
       "      <td>21146.666917</td>\n",
       "      <td>0.079981</td>\n",
       "      <td>0.007227</td>\n",
       "    </tr>\n",
       "    <tr>\n",
       "      <th>5</th>\n",
       "      <td>Soft_Dense_MoE</td>\n",
       "      <td>10.895442</td>\n",
       "      <td>0.484592</td>\n",
       "      <td>0.019896</td>\n",
       "      <td>0.000916</td>\n",
       "      <td>0.141030</td>\n",
       "      <td>0.003240</td>\n",
       "      <td>9.753535e+04</td>\n",
       "      <td>27478.223929</td>\n",
       "      <td>0.101038</td>\n",
       "      <td>0.003678</td>\n",
       "    </tr>\n",
       "    <tr>\n",
       "      <th>6</th>\n",
       "      <td>Soft_Dense_MoE</td>\n",
       "      <td>9.237150</td>\n",
       "      <td>0.481440</td>\n",
       "      <td>0.020026</td>\n",
       "      <td>0.000957</td>\n",
       "      <td>0.141486</td>\n",
       "      <td>0.003378</td>\n",
       "      <td>9.437673e+04</td>\n",
       "      <td>5333.592766</td>\n",
       "      <td>0.080616</td>\n",
       "      <td>0.002861</td>\n",
       "    </tr>\n",
       "    <tr>\n",
       "      <th>7</th>\n",
       "      <td>Soft_Dense_MoE</td>\n",
       "      <td>15.180292</td>\n",
       "      <td>0.477294</td>\n",
       "      <td>0.023913</td>\n",
       "      <td>0.001063</td>\n",
       "      <td>0.154613</td>\n",
       "      <td>0.003416</td>\n",
       "      <td>2.596664e+04</td>\n",
       "      <td>19514.097835</td>\n",
       "      <td>0.102416</td>\n",
       "      <td>0.001870</td>\n",
       "    </tr>\n",
       "    <tr>\n",
       "      <th>8</th>\n",
       "      <td>Soft_Dense_MoE</td>\n",
       "      <td>8.213238</td>\n",
       "      <td>0.521750</td>\n",
       "      <td>0.030319</td>\n",
       "      <td>0.003107</td>\n",
       "      <td>0.173967</td>\n",
       "      <td>0.009066</td>\n",
       "      <td>7.344347e+01</td>\n",
       "      <td>5.273183</td>\n",
       "      <td>0.103316</td>\n",
       "      <td>0.004435</td>\n",
       "    </tr>\n",
       "    <tr>\n",
       "      <th>9</th>\n",
       "      <td>Soft_Dense_MoE</td>\n",
       "      <td>13.226991</td>\n",
       "      <td>0.494499</td>\n",
       "      <td>0.014332</td>\n",
       "      <td>0.002040</td>\n",
       "      <td>0.119520</td>\n",
       "      <td>0.008435</td>\n",
       "      <td>2.289266e+06</td>\n",
       "      <td>222486.286993</td>\n",
       "      <td>0.072292</td>\n",
       "      <td>0.008905</td>\n",
       "    </tr>\n",
       "    <tr>\n",
       "      <th>10</th>\n",
       "      <td>Soft_Dense_MoE</td>\n",
       "      <td>15.593790</td>\n",
       "      <td>0.490595</td>\n",
       "      <td>0.015037</td>\n",
       "      <td>0.000619</td>\n",
       "      <td>0.122608</td>\n",
       "      <td>0.002513</td>\n",
       "      <td>8.084063e+04</td>\n",
       "      <td>19623.120077</td>\n",
       "      <td>0.079093</td>\n",
       "      <td>0.001562</td>\n",
       "    </tr>\n",
       "    <tr>\n",
       "      <th>11</th>\n",
       "      <td>Soft_Dense_MoE</td>\n",
       "      <td>10.844938</td>\n",
       "      <td>0.485401</td>\n",
       "      <td>0.010916</td>\n",
       "      <td>0.000409</td>\n",
       "      <td>0.104465</td>\n",
       "      <td>0.001963</td>\n",
       "      <td>1.156769e+05</td>\n",
       "      <td>31539.796150</td>\n",
       "      <td>0.074920</td>\n",
       "      <td>0.001194</td>\n",
       "    </tr>\n",
       "    <tr>\n",
       "      <th>12</th>\n",
       "      <td>Soft_Dense_MoE</td>\n",
       "      <td>10.428686</td>\n",
       "      <td>0.498972</td>\n",
       "      <td>0.018177</td>\n",
       "      <td>0.000270</td>\n",
       "      <td>0.134819</td>\n",
       "      <td>0.001003</td>\n",
       "      <td>1.224192e+05</td>\n",
       "      <td>62162.437754</td>\n",
       "      <td>0.087425</td>\n",
       "      <td>0.002356</td>\n",
       "    </tr>\n",
       "    <tr>\n",
       "      <th>13</th>\n",
       "      <td>Soft_Dense_MoE</td>\n",
       "      <td>18.108260</td>\n",
       "      <td>0.482204</td>\n",
       "      <td>0.020128</td>\n",
       "      <td>0.000777</td>\n",
       "      <td>0.141857</td>\n",
       "      <td>0.002753</td>\n",
       "      <td>9.341008e+04</td>\n",
       "      <td>17239.175229</td>\n",
       "      <td>0.093283</td>\n",
       "      <td>0.001760</td>\n",
       "    </tr>\n",
       "    <tr>\n",
       "      <th>14</th>\n",
       "      <td>Soft_Dense_MoE</td>\n",
       "      <td>8.055918</td>\n",
       "      <td>0.522851</td>\n",
       "      <td>0.009828</td>\n",
       "      <td>0.000086</td>\n",
       "      <td>0.099133</td>\n",
       "      <td>0.000432</td>\n",
       "      <td>1.279180e+05</td>\n",
       "      <td>24629.537482</td>\n",
       "      <td>0.058748</td>\n",
       "      <td>0.002443</td>\n",
       "    </tr>\n",
       "    <tr>\n",
       "      <th>15</th>\n",
       "      <td>Soft_Dense_MoE</td>\n",
       "      <td>11.415136</td>\n",
       "      <td>0.486205</td>\n",
       "      <td>0.013572</td>\n",
       "      <td>0.000286</td>\n",
       "      <td>0.116496</td>\n",
       "      <td>0.001226</td>\n",
       "      <td>9.555510e+04</td>\n",
       "      <td>37434.623614</td>\n",
       "      <td>0.077128</td>\n",
       "      <td>0.004938</td>\n",
       "    </tr>\n",
       "    <tr>\n",
       "      <th>16</th>\n",
       "      <td>Soft_Dense_MoE</td>\n",
       "      <td>17.496894</td>\n",
       "      <td>0.471894</td>\n",
       "      <td>0.017027</td>\n",
       "      <td>0.000580</td>\n",
       "      <td>0.130476</td>\n",
       "      <td>0.002213</td>\n",
       "      <td>1.496617e+05</td>\n",
       "      <td>31966.615701</td>\n",
       "      <td>0.081069</td>\n",
       "      <td>0.005551</td>\n",
       "    </tr>\n",
       "    <tr>\n",
       "      <th>17</th>\n",
       "      <td>Soft_Dense_MoE</td>\n",
       "      <td>12.069512</td>\n",
       "      <td>0.492905</td>\n",
       "      <td>0.014516</td>\n",
       "      <td>0.000400</td>\n",
       "      <td>0.120475</td>\n",
       "      <td>0.001656</td>\n",
       "      <td>1.217784e+05</td>\n",
       "      <td>8800.376104</td>\n",
       "      <td>0.079790</td>\n",
       "      <td>0.003282</td>\n",
       "    </tr>\n",
       "    <tr>\n",
       "      <th>18</th>\n",
       "      <td>Soft_Dense_MoE</td>\n",
       "      <td>12.741379</td>\n",
       "      <td>0.496808</td>\n",
       "      <td>0.014531</td>\n",
       "      <td>0.000043</td>\n",
       "      <td>0.120546</td>\n",
       "      <td>0.000180</td>\n",
       "      <td>8.912438e+04</td>\n",
       "      <td>10500.419087</td>\n",
       "      <td>0.071003</td>\n",
       "      <td>0.001315</td>\n",
       "    </tr>\n",
       "    <tr>\n",
       "      <th>19</th>\n",
       "      <td>Soft_Dense_MoE</td>\n",
       "      <td>15.183234</td>\n",
       "      <td>0.487505</td>\n",
       "      <td>0.032589</td>\n",
       "      <td>0.000679</td>\n",
       "      <td>0.180517</td>\n",
       "      <td>0.001885</td>\n",
       "      <td>2.675386e+05</td>\n",
       "      <td>70519.096417</td>\n",
       "      <td>0.137240</td>\n",
       "      <td>0.002123</td>\n",
       "    </tr>\n",
       "    <tr>\n",
       "      <th>20</th>\n",
       "      <td>Soft_Dense_MoE</td>\n",
       "      <td>15.138316</td>\n",
       "      <td>0.486007</td>\n",
       "      <td>0.017434</td>\n",
       "      <td>0.000432</td>\n",
       "      <td>0.132032</td>\n",
       "      <td>0.001632</td>\n",
       "      <td>9.382830e+04</td>\n",
       "      <td>20179.703910</td>\n",
       "      <td>0.094687</td>\n",
       "      <td>0.000693</td>\n",
       "    </tr>\n",
       "    <tr>\n",
       "      <th>21</th>\n",
       "      <td>Soft_Dense_MoE</td>\n",
       "      <td>10.117158</td>\n",
       "      <td>0.504933</td>\n",
       "      <td>0.020281</td>\n",
       "      <td>0.000320</td>\n",
       "      <td>0.142409</td>\n",
       "      <td>0.001122</td>\n",
       "      <td>9.835365e+04</td>\n",
       "      <td>13795.622427</td>\n",
       "      <td>0.089733</td>\n",
       "      <td>0.001009</td>\n",
       "    </tr>\n",
       "    <tr>\n",
       "      <th>22</th>\n",
       "      <td>Soft_Dense_MoE</td>\n",
       "      <td>13.656531</td>\n",
       "      <td>0.491924</td>\n",
       "      <td>0.009819</td>\n",
       "      <td>0.000236</td>\n",
       "      <td>0.099088</td>\n",
       "      <td>0.001187</td>\n",
       "      <td>1.086113e+05</td>\n",
       "      <td>17812.006794</td>\n",
       "      <td>0.059130</td>\n",
       "      <td>0.003516</td>\n",
       "    </tr>\n",
       "    <tr>\n",
       "      <th>23</th>\n",
       "      <td>Soft_Dense_MoE</td>\n",
       "      <td>14.793775</td>\n",
       "      <td>0.490539</td>\n",
       "      <td>0.007668</td>\n",
       "      <td>0.000203</td>\n",
       "      <td>0.087564</td>\n",
       "      <td>0.001159</td>\n",
       "      <td>2.061345e+05</td>\n",
       "      <td>28385.585108</td>\n",
       "      <td>0.062431</td>\n",
       "      <td>0.002719</td>\n",
       "    </tr>\n",
       "    <tr>\n",
       "      <th>24</th>\n",
       "      <td>Soft_Dense_MoE</td>\n",
       "      <td>9.867016</td>\n",
       "      <td>0.498177</td>\n",
       "      <td>0.022651</td>\n",
       "      <td>0.001323</td>\n",
       "      <td>0.150460</td>\n",
       "      <td>0.004391</td>\n",
       "      <td>3.786156e+04</td>\n",
       "      <td>19475.683922</td>\n",
       "      <td>0.095825</td>\n",
       "      <td>0.005492</td>\n",
       "    </tr>\n",
       "    <tr>\n",
       "      <th>25</th>\n",
       "      <td>Soft_Dense_MoE</td>\n",
       "      <td>15.124548</td>\n",
       "      <td>0.489975</td>\n",
       "      <td>0.024489</td>\n",
       "      <td>0.000183</td>\n",
       "      <td>0.156488</td>\n",
       "      <td>0.000586</td>\n",
       "      <td>8.064817e+04</td>\n",
       "      <td>19799.348417</td>\n",
       "      <td>0.099767</td>\n",
       "      <td>0.002653</td>\n",
       "    </tr>\n",
       "    <tr>\n",
       "      <th>26</th>\n",
       "      <td>Soft_Dense_MoE</td>\n",
       "      <td>15.227182</td>\n",
       "      <td>0.483461</td>\n",
       "      <td>0.019131</td>\n",
       "      <td>0.000422</td>\n",
       "      <td>0.138309</td>\n",
       "      <td>0.001520</td>\n",
       "      <td>1.963000e+05</td>\n",
       "      <td>22513.966702</td>\n",
       "      <td>0.095920</td>\n",
       "      <td>0.003704</td>\n",
       "    </tr>\n",
       "    <tr>\n",
       "      <th>27</th>\n",
       "      <td>Soft_Dense_MoE</td>\n",
       "      <td>8.343301</td>\n",
       "      <td>0.516141</td>\n",
       "      <td>0.011240</td>\n",
       "      <td>0.000288</td>\n",
       "      <td>0.106014</td>\n",
       "      <td>0.001355</td>\n",
       "      <td>5.479214e+04</td>\n",
       "      <td>9488.294261</td>\n",
       "      <td>0.046838</td>\n",
       "      <td>0.001016</td>\n",
       "    </tr>\n",
       "    <tr>\n",
       "      <th>28</th>\n",
       "      <td>Soft_Dense_MoE</td>\n",
       "      <td>14.012332</td>\n",
       "      <td>0.484714</td>\n",
       "      <td>0.017308</td>\n",
       "      <td>0.000613</td>\n",
       "      <td>0.131546</td>\n",
       "      <td>0.002336</td>\n",
       "      <td>4.043783e+05</td>\n",
       "      <td>40869.588370</td>\n",
       "      <td>0.091695</td>\n",
       "      <td>0.001943</td>\n",
       "    </tr>\n",
       "    <tr>\n",
       "      <th>29</th>\n",
       "      <td>Soft_Dense_MoE</td>\n",
       "      <td>14.503598</td>\n",
       "      <td>0.485652</td>\n",
       "      <td>0.016394</td>\n",
       "      <td>0.000693</td>\n",
       "      <td>0.128021</td>\n",
       "      <td>0.002697</td>\n",
       "      <td>1.931411e+06</td>\n",
       "      <td>221908.458259</td>\n",
       "      <td>0.084411</td>\n",
       "      <td>0.003518</td>\n",
       "    </tr>\n",
       "  </tbody>\n",
       "</table>\n",
       "</div>"
      ],
      "text/plain": [
       "      architecture  train_time  avg_time_epoch       mse   mse_std      rmse  \\\n",
       "0   Soft_Dense_MoE   15.626359        0.463006  0.034008  0.001083  0.184397   \n",
       "1   Soft_Dense_MoE    9.322736        0.478693  0.018306  0.000799  0.135277   \n",
       "2   Soft_Dense_MoE   11.822861        0.475102  0.019897  0.000272  0.141054   \n",
       "3   Soft_Dense_MoE   13.700077        0.461089  0.023119  0.001371  0.152004   \n",
       "4   Soft_Dense_MoE   15.611840        0.485246  0.014659  0.000378  0.121067   \n",
       "5   Soft_Dense_MoE   10.895442        0.484592  0.019896  0.000916  0.141030   \n",
       "6   Soft_Dense_MoE    9.237150        0.481440  0.020026  0.000957  0.141486   \n",
       "7   Soft_Dense_MoE   15.180292        0.477294  0.023913  0.001063  0.154613   \n",
       "8   Soft_Dense_MoE    8.213238        0.521750  0.030319  0.003107  0.173967   \n",
       "9   Soft_Dense_MoE   13.226991        0.494499  0.014332  0.002040  0.119520   \n",
       "10  Soft_Dense_MoE   15.593790        0.490595  0.015037  0.000619  0.122608   \n",
       "11  Soft_Dense_MoE   10.844938        0.485401  0.010916  0.000409  0.104465   \n",
       "12  Soft_Dense_MoE   10.428686        0.498972  0.018177  0.000270  0.134819   \n",
       "13  Soft_Dense_MoE   18.108260        0.482204  0.020128  0.000777  0.141857   \n",
       "14  Soft_Dense_MoE    8.055918        0.522851  0.009828  0.000086  0.099133   \n",
       "15  Soft_Dense_MoE   11.415136        0.486205  0.013572  0.000286  0.116496   \n",
       "16  Soft_Dense_MoE   17.496894        0.471894  0.017027  0.000580  0.130476   \n",
       "17  Soft_Dense_MoE   12.069512        0.492905  0.014516  0.000400  0.120475   \n",
       "18  Soft_Dense_MoE   12.741379        0.496808  0.014531  0.000043  0.120546   \n",
       "19  Soft_Dense_MoE   15.183234        0.487505  0.032589  0.000679  0.180517   \n",
       "20  Soft_Dense_MoE   15.138316        0.486007  0.017434  0.000432  0.132032   \n",
       "21  Soft_Dense_MoE   10.117158        0.504933  0.020281  0.000320  0.142409   \n",
       "22  Soft_Dense_MoE   13.656531        0.491924  0.009819  0.000236  0.099088   \n",
       "23  Soft_Dense_MoE   14.793775        0.490539  0.007668  0.000203  0.087564   \n",
       "24  Soft_Dense_MoE    9.867016        0.498177  0.022651  0.001323  0.150460   \n",
       "25  Soft_Dense_MoE   15.124548        0.489975  0.024489  0.000183  0.156488   \n",
       "26  Soft_Dense_MoE   15.227182        0.483461  0.019131  0.000422  0.138309   \n",
       "27  Soft_Dense_MoE    8.343301        0.516141  0.011240  0.000288  0.106014   \n",
       "28  Soft_Dense_MoE   14.012332        0.484714  0.017308  0.000613  0.131546   \n",
       "29  Soft_Dense_MoE   14.503598        0.485652  0.016394  0.000693  0.128021   \n",
       "\n",
       "    rmse_std          mape       mape_std       mae   mae_std  \n",
       "0   0.002948  8.830589e+04   19232.836431  0.129079  0.003706  \n",
       "1   0.002945  1.604002e+05   29655.439462  0.076615  0.001233  \n",
       "2   0.000964  5.190807e+04   10837.389705  0.079009  0.003142  \n",
       "3   0.004542  1.215700e+05   16326.066329  0.065597  0.003234  \n",
       "4   0.001568  9.773217e+04   21146.666917  0.079981  0.007227  \n",
       "5   0.003240  9.753535e+04   27478.223929  0.101038  0.003678  \n",
       "6   0.003378  9.437673e+04    5333.592766  0.080616  0.002861  \n",
       "7   0.003416  2.596664e+04   19514.097835  0.102416  0.001870  \n",
       "8   0.009066  7.344347e+01       5.273183  0.103316  0.004435  \n",
       "9   0.008435  2.289266e+06  222486.286993  0.072292  0.008905  \n",
       "10  0.002513  8.084063e+04   19623.120077  0.079093  0.001562  \n",
       "11  0.001963  1.156769e+05   31539.796150  0.074920  0.001194  \n",
       "12  0.001003  1.224192e+05   62162.437754  0.087425  0.002356  \n",
       "13  0.002753  9.341008e+04   17239.175229  0.093283  0.001760  \n",
       "14  0.000432  1.279180e+05   24629.537482  0.058748  0.002443  \n",
       "15  0.001226  9.555510e+04   37434.623614  0.077128  0.004938  \n",
       "16  0.002213  1.496617e+05   31966.615701  0.081069  0.005551  \n",
       "17  0.001656  1.217784e+05    8800.376104  0.079790  0.003282  \n",
       "18  0.000180  8.912438e+04   10500.419087  0.071003  0.001315  \n",
       "19  0.001885  2.675386e+05   70519.096417  0.137240  0.002123  \n",
       "20  0.001632  9.382830e+04   20179.703910  0.094687  0.000693  \n",
       "21  0.001122  9.835365e+04   13795.622427  0.089733  0.001009  \n",
       "22  0.001187  1.086113e+05   17812.006794  0.059130  0.003516  \n",
       "23  0.001159  2.061345e+05   28385.585108  0.062431  0.002719  \n",
       "24  0.004391  3.786156e+04   19475.683922  0.095825  0.005492  \n",
       "25  0.000586  8.064817e+04   19799.348417  0.099767  0.002653  \n",
       "26  0.001520  1.963000e+05   22513.966702  0.095920  0.003704  \n",
       "27  0.001355  5.479214e+04    9488.294261  0.046838  0.001016  \n",
       "28  0.002336  4.043783e+05   40869.588370  0.091695  0.001943  \n",
       "29  0.002697  1.931411e+06  221908.458259  0.084411  0.003518  "
      ]
     },
     "execution_count": 4,
     "metadata": {},
     "output_type": "execute_result"
    }
   ],
   "source": [
    "dense_results.to_csv(f'evaluations/Local_learning/{dense_moe_architecture}.csv')\n",
    "dense_results"
   ]
  },
  {
   "cell_type": "markdown",
   "metadata": {},
   "source": [
    "# Model top k Dense MoE"
   ]
  },
  {
   "cell_type": "code",
   "execution_count": 5,
   "metadata": {},
   "outputs": [
    {
     "name": "stdout",
     "output_type": "stream",
     "text": [
      "User:  1\n",
      "INFO:tensorflow:Assets written to: c:\\Users\\rs1044\\bwSyncShare\\02Python Code\\MoE-based-FL-for-secure-STLF/models/Local_learning/TopK_Dense_MoE/User0\\assets\n"
     ]
    },
    {
     "name": "stderr",
     "output_type": "stream",
     "text": [
      "INFO:tensorflow:Assets written to: c:\\Users\\rs1044\\bwSyncShare\\02Python Code\\MoE-based-FL-for-secure-STLF/models/Local_learning/TopK_Dense_MoE/User0\\assets\n"
     ]
    },
    {
     "name": "stdout",
     "output_type": "stream",
     "text": [
      "Saved Soft_Dense_MoE\n",
      "User:  2\n",
      "INFO:tensorflow:Assets written to: c:\\Users\\rs1044\\bwSyncShare\\02Python Code\\MoE-based-FL-for-secure-STLF/models/Local_learning/TopK_Dense_MoE/User1\\assets\n"
     ]
    },
    {
     "name": "stderr",
     "output_type": "stream",
     "text": [
      "INFO:tensorflow:Assets written to: c:\\Users\\rs1044\\bwSyncShare\\02Python Code\\MoE-based-FL-for-secure-STLF/models/Local_learning/TopK_Dense_MoE/User1\\assets\n"
     ]
    },
    {
     "name": "stdout",
     "output_type": "stream",
     "text": [
      "Saved Soft_Dense_MoE\n",
      "User:  3\n",
      "INFO:tensorflow:Assets written to: c:\\Users\\rs1044\\bwSyncShare\\02Python Code\\MoE-based-FL-for-secure-STLF/models/Local_learning/TopK_Dense_MoE/User2\\assets\n"
     ]
    },
    {
     "name": "stderr",
     "output_type": "stream",
     "text": [
      "INFO:tensorflow:Assets written to: c:\\Users\\rs1044\\bwSyncShare\\02Python Code\\MoE-based-FL-for-secure-STLF/models/Local_learning/TopK_Dense_MoE/User2\\assets\n"
     ]
    },
    {
     "name": "stdout",
     "output_type": "stream",
     "text": [
      "Saved Soft_Dense_MoE\n",
      "User:  4\n",
      "INFO:tensorflow:Assets written to: c:\\Users\\rs1044\\bwSyncShare\\02Python Code\\MoE-based-FL-for-secure-STLF/models/Local_learning/TopK_Dense_MoE/User3\\assets\n"
     ]
    },
    {
     "name": "stderr",
     "output_type": "stream",
     "text": [
      "INFO:tensorflow:Assets written to: c:\\Users\\rs1044\\bwSyncShare\\02Python Code\\MoE-based-FL-for-secure-STLF/models/Local_learning/TopK_Dense_MoE/User3\\assets\n"
     ]
    },
    {
     "name": "stdout",
     "output_type": "stream",
     "text": [
      "Saved Soft_Dense_MoE\n",
      "User:  5\n",
      "INFO:tensorflow:Assets written to: c:\\Users\\rs1044\\bwSyncShare\\02Python Code\\MoE-based-FL-for-secure-STLF/models/Local_learning/TopK_Dense_MoE/User4\\assets\n"
     ]
    },
    {
     "name": "stderr",
     "output_type": "stream",
     "text": [
      "INFO:tensorflow:Assets written to: c:\\Users\\rs1044\\bwSyncShare\\02Python Code\\MoE-based-FL-for-secure-STLF/models/Local_learning/TopK_Dense_MoE/User4\\assets\n"
     ]
    },
    {
     "name": "stdout",
     "output_type": "stream",
     "text": [
      "Saved Soft_Dense_MoE\n",
      "User:  6\n",
      "INFO:tensorflow:Assets written to: c:\\Users\\rs1044\\bwSyncShare\\02Python Code\\MoE-based-FL-for-secure-STLF/models/Local_learning/TopK_Dense_MoE/User5\\assets\n"
     ]
    },
    {
     "name": "stderr",
     "output_type": "stream",
     "text": [
      "INFO:tensorflow:Assets written to: c:\\Users\\rs1044\\bwSyncShare\\02Python Code\\MoE-based-FL-for-secure-STLF/models/Local_learning/TopK_Dense_MoE/User5\\assets\n"
     ]
    },
    {
     "name": "stdout",
     "output_type": "stream",
     "text": [
      "Saved Soft_Dense_MoE\n",
      "User:  7\n",
      "INFO:tensorflow:Assets written to: c:\\Users\\rs1044\\bwSyncShare\\02Python Code\\MoE-based-FL-for-secure-STLF/models/Local_learning/TopK_Dense_MoE/User6\\assets\n"
     ]
    },
    {
     "name": "stderr",
     "output_type": "stream",
     "text": [
      "INFO:tensorflow:Assets written to: c:\\Users\\rs1044\\bwSyncShare\\02Python Code\\MoE-based-FL-for-secure-STLF/models/Local_learning/TopK_Dense_MoE/User6\\assets\n"
     ]
    },
    {
     "name": "stdout",
     "output_type": "stream",
     "text": [
      "Saved Soft_Dense_MoE\n",
      "User:  8\n",
      "INFO:tensorflow:Assets written to: c:\\Users\\rs1044\\bwSyncShare\\02Python Code\\MoE-based-FL-for-secure-STLF/models/Local_learning/TopK_Dense_MoE/User7\\assets\n"
     ]
    },
    {
     "name": "stderr",
     "output_type": "stream",
     "text": [
      "INFO:tensorflow:Assets written to: c:\\Users\\rs1044\\bwSyncShare\\02Python Code\\MoE-based-FL-for-secure-STLF/models/Local_learning/TopK_Dense_MoE/User7\\assets\n"
     ]
    },
    {
     "name": "stdout",
     "output_type": "stream",
     "text": [
      "Saved Soft_Dense_MoE\n",
      "User:  9\n",
      "INFO:tensorflow:Assets written to: c:\\Users\\rs1044\\bwSyncShare\\02Python Code\\MoE-based-FL-for-secure-STLF/models/Local_learning/TopK_Dense_MoE/User8\\assets\n"
     ]
    },
    {
     "name": "stderr",
     "output_type": "stream",
     "text": [
      "INFO:tensorflow:Assets written to: c:\\Users\\rs1044\\bwSyncShare\\02Python Code\\MoE-based-FL-for-secure-STLF/models/Local_learning/TopK_Dense_MoE/User8\\assets\n"
     ]
    },
    {
     "name": "stdout",
     "output_type": "stream",
     "text": [
      "Saved Soft_Dense_MoE\n",
      "User:  10\n",
      "INFO:tensorflow:Assets written to: c:\\Users\\rs1044\\bwSyncShare\\02Python Code\\MoE-based-FL-for-secure-STLF/models/Local_learning/TopK_Dense_MoE/User9\\assets\n"
     ]
    },
    {
     "name": "stderr",
     "output_type": "stream",
     "text": [
      "INFO:tensorflow:Assets written to: c:\\Users\\rs1044\\bwSyncShare\\02Python Code\\MoE-based-FL-for-secure-STLF/models/Local_learning/TopK_Dense_MoE/User9\\assets\n"
     ]
    },
    {
     "name": "stdout",
     "output_type": "stream",
     "text": [
      "Saved Soft_Dense_MoE\n",
      "User:  11\n",
      "INFO:tensorflow:Assets written to: c:\\Users\\rs1044\\bwSyncShare\\02Python Code\\MoE-based-FL-for-secure-STLF/models/Local_learning/TopK_Dense_MoE/User10\\assets\n"
     ]
    },
    {
     "name": "stderr",
     "output_type": "stream",
     "text": [
      "INFO:tensorflow:Assets written to: c:\\Users\\rs1044\\bwSyncShare\\02Python Code\\MoE-based-FL-for-secure-STLF/models/Local_learning/TopK_Dense_MoE/User10\\assets\n"
     ]
    },
    {
     "name": "stdout",
     "output_type": "stream",
     "text": [
      "Saved Soft_Dense_MoE\n",
      "User:  12\n",
      "INFO:tensorflow:Assets written to: c:\\Users\\rs1044\\bwSyncShare\\02Python Code\\MoE-based-FL-for-secure-STLF/models/Local_learning/TopK_Dense_MoE/User11\\assets\n"
     ]
    },
    {
     "name": "stderr",
     "output_type": "stream",
     "text": [
      "INFO:tensorflow:Assets written to: c:\\Users\\rs1044\\bwSyncShare\\02Python Code\\MoE-based-FL-for-secure-STLF/models/Local_learning/TopK_Dense_MoE/User11\\assets\n"
     ]
    },
    {
     "name": "stdout",
     "output_type": "stream",
     "text": [
      "Saved Soft_Dense_MoE\n",
      "User:  13\n",
      "INFO:tensorflow:Assets written to: c:\\Users\\rs1044\\bwSyncShare\\02Python Code\\MoE-based-FL-for-secure-STLF/models/Local_learning/TopK_Dense_MoE/User12\\assets\n"
     ]
    },
    {
     "name": "stderr",
     "output_type": "stream",
     "text": [
      "INFO:tensorflow:Assets written to: c:\\Users\\rs1044\\bwSyncShare\\02Python Code\\MoE-based-FL-for-secure-STLF/models/Local_learning/TopK_Dense_MoE/User12\\assets\n"
     ]
    },
    {
     "name": "stdout",
     "output_type": "stream",
     "text": [
      "Saved Soft_Dense_MoE\n",
      "User:  14\n",
      "INFO:tensorflow:Assets written to: c:\\Users\\rs1044\\bwSyncShare\\02Python Code\\MoE-based-FL-for-secure-STLF/models/Local_learning/TopK_Dense_MoE/User13\\assets\n"
     ]
    },
    {
     "name": "stderr",
     "output_type": "stream",
     "text": [
      "INFO:tensorflow:Assets written to: c:\\Users\\rs1044\\bwSyncShare\\02Python Code\\MoE-based-FL-for-secure-STLF/models/Local_learning/TopK_Dense_MoE/User13\\assets\n"
     ]
    },
    {
     "name": "stdout",
     "output_type": "stream",
     "text": [
      "Saved Soft_Dense_MoE\n",
      "User:  15\n",
      "INFO:tensorflow:Assets written to: c:\\Users\\rs1044\\bwSyncShare\\02Python Code\\MoE-based-FL-for-secure-STLF/models/Local_learning/TopK_Dense_MoE/User14\\assets\n"
     ]
    },
    {
     "name": "stderr",
     "output_type": "stream",
     "text": [
      "INFO:tensorflow:Assets written to: c:\\Users\\rs1044\\bwSyncShare\\02Python Code\\MoE-based-FL-for-secure-STLF/models/Local_learning/TopK_Dense_MoE/User14\\assets\n"
     ]
    },
    {
     "name": "stdout",
     "output_type": "stream",
     "text": [
      "Saved Soft_Dense_MoE\n",
      "User:  16\n",
      "INFO:tensorflow:Assets written to: c:\\Users\\rs1044\\bwSyncShare\\02Python Code\\MoE-based-FL-for-secure-STLF/models/Local_learning/TopK_Dense_MoE/User15\\assets\n"
     ]
    },
    {
     "name": "stderr",
     "output_type": "stream",
     "text": [
      "INFO:tensorflow:Assets written to: c:\\Users\\rs1044\\bwSyncShare\\02Python Code\\MoE-based-FL-for-secure-STLF/models/Local_learning/TopK_Dense_MoE/User15\\assets\n"
     ]
    },
    {
     "name": "stdout",
     "output_type": "stream",
     "text": [
      "Saved Soft_Dense_MoE\n",
      "User:  17\n",
      "INFO:tensorflow:Assets written to: c:\\Users\\rs1044\\bwSyncShare\\02Python Code\\MoE-based-FL-for-secure-STLF/models/Local_learning/TopK_Dense_MoE/User16\\assets\n"
     ]
    },
    {
     "name": "stderr",
     "output_type": "stream",
     "text": [
      "INFO:tensorflow:Assets written to: c:\\Users\\rs1044\\bwSyncShare\\02Python Code\\MoE-based-FL-for-secure-STLF/models/Local_learning/TopK_Dense_MoE/User16\\assets\n"
     ]
    },
    {
     "name": "stdout",
     "output_type": "stream",
     "text": [
      "Saved Soft_Dense_MoE\n",
      "User:  18\n",
      "INFO:tensorflow:Assets written to: c:\\Users\\rs1044\\bwSyncShare\\02Python Code\\MoE-based-FL-for-secure-STLF/models/Local_learning/TopK_Dense_MoE/User17\\assets\n"
     ]
    },
    {
     "name": "stderr",
     "output_type": "stream",
     "text": [
      "INFO:tensorflow:Assets written to: c:\\Users\\rs1044\\bwSyncShare\\02Python Code\\MoE-based-FL-for-secure-STLF/models/Local_learning/TopK_Dense_MoE/User17\\assets\n"
     ]
    },
    {
     "name": "stdout",
     "output_type": "stream",
     "text": [
      "Saved Soft_Dense_MoE\n",
      "User:  19\n",
      "INFO:tensorflow:Assets written to: c:\\Users\\rs1044\\bwSyncShare\\02Python Code\\MoE-based-FL-for-secure-STLF/models/Local_learning/TopK_Dense_MoE/User18\\assets\n"
     ]
    },
    {
     "name": "stderr",
     "output_type": "stream",
     "text": [
      "INFO:tensorflow:Assets written to: c:\\Users\\rs1044\\bwSyncShare\\02Python Code\\MoE-based-FL-for-secure-STLF/models/Local_learning/TopK_Dense_MoE/User18\\assets\n"
     ]
    },
    {
     "name": "stdout",
     "output_type": "stream",
     "text": [
      "Saved Soft_Dense_MoE\n",
      "User:  20\n",
      "INFO:tensorflow:Assets written to: c:\\Users\\rs1044\\bwSyncShare\\02Python Code\\MoE-based-FL-for-secure-STLF/models/Local_learning/TopK_Dense_MoE/User19\\assets\n"
     ]
    },
    {
     "name": "stderr",
     "output_type": "stream",
     "text": [
      "INFO:tensorflow:Assets written to: c:\\Users\\rs1044\\bwSyncShare\\02Python Code\\MoE-based-FL-for-secure-STLF/models/Local_learning/TopK_Dense_MoE/User19\\assets\n"
     ]
    },
    {
     "name": "stdout",
     "output_type": "stream",
     "text": [
      "Saved Soft_Dense_MoE\n",
      "User:  21\n",
      "INFO:tensorflow:Assets written to: c:\\Users\\rs1044\\bwSyncShare\\02Python Code\\MoE-based-FL-for-secure-STLF/models/Local_learning/TopK_Dense_MoE/User20\\assets\n"
     ]
    },
    {
     "name": "stderr",
     "output_type": "stream",
     "text": [
      "INFO:tensorflow:Assets written to: c:\\Users\\rs1044\\bwSyncShare\\02Python Code\\MoE-based-FL-for-secure-STLF/models/Local_learning/TopK_Dense_MoE/User20\\assets\n"
     ]
    },
    {
     "name": "stdout",
     "output_type": "stream",
     "text": [
      "Saved Soft_Dense_MoE\n",
      "User:  22\n",
      "INFO:tensorflow:Assets written to: c:\\Users\\rs1044\\bwSyncShare\\02Python Code\\MoE-based-FL-for-secure-STLF/models/Local_learning/TopK_Dense_MoE/User21\\assets\n"
     ]
    },
    {
     "name": "stderr",
     "output_type": "stream",
     "text": [
      "INFO:tensorflow:Assets written to: c:\\Users\\rs1044\\bwSyncShare\\02Python Code\\MoE-based-FL-for-secure-STLF/models/Local_learning/TopK_Dense_MoE/User21\\assets\n"
     ]
    },
    {
     "name": "stdout",
     "output_type": "stream",
     "text": [
      "Saved Soft_Dense_MoE\n",
      "User:  23\n",
      "INFO:tensorflow:Assets written to: c:\\Users\\rs1044\\bwSyncShare\\02Python Code\\MoE-based-FL-for-secure-STLF/models/Local_learning/TopK_Dense_MoE/User22\\assets\n"
     ]
    },
    {
     "name": "stderr",
     "output_type": "stream",
     "text": [
      "INFO:tensorflow:Assets written to: c:\\Users\\rs1044\\bwSyncShare\\02Python Code\\MoE-based-FL-for-secure-STLF/models/Local_learning/TopK_Dense_MoE/User22\\assets\n"
     ]
    },
    {
     "name": "stdout",
     "output_type": "stream",
     "text": [
      "Saved Soft_Dense_MoE\n",
      "User:  24\n",
      "INFO:tensorflow:Assets written to: c:\\Users\\rs1044\\bwSyncShare\\02Python Code\\MoE-based-FL-for-secure-STLF/models/Local_learning/TopK_Dense_MoE/User23\\assets\n"
     ]
    },
    {
     "name": "stderr",
     "output_type": "stream",
     "text": [
      "INFO:tensorflow:Assets written to: c:\\Users\\rs1044\\bwSyncShare\\02Python Code\\MoE-based-FL-for-secure-STLF/models/Local_learning/TopK_Dense_MoE/User23\\assets\n"
     ]
    },
    {
     "name": "stdout",
     "output_type": "stream",
     "text": [
      "Saved Soft_Dense_MoE\n",
      "User:  25\n",
      "INFO:tensorflow:Assets written to: c:\\Users\\rs1044\\bwSyncShare\\02Python Code\\MoE-based-FL-for-secure-STLF/models/Local_learning/TopK_Dense_MoE/User24\\assets\n"
     ]
    },
    {
     "name": "stderr",
     "output_type": "stream",
     "text": [
      "INFO:tensorflow:Assets written to: c:\\Users\\rs1044\\bwSyncShare\\02Python Code\\MoE-based-FL-for-secure-STLF/models/Local_learning/TopK_Dense_MoE/User24\\assets\n"
     ]
    },
    {
     "name": "stdout",
     "output_type": "stream",
     "text": [
      "Saved Soft_Dense_MoE\n",
      "User:  26\n",
      "INFO:tensorflow:Assets written to: c:\\Users\\rs1044\\bwSyncShare\\02Python Code\\MoE-based-FL-for-secure-STLF/models/Local_learning/TopK_Dense_MoE/User25\\assets\n"
     ]
    },
    {
     "name": "stderr",
     "output_type": "stream",
     "text": [
      "INFO:tensorflow:Assets written to: c:\\Users\\rs1044\\bwSyncShare\\02Python Code\\MoE-based-FL-for-secure-STLF/models/Local_learning/TopK_Dense_MoE/User25\\assets\n"
     ]
    },
    {
     "name": "stdout",
     "output_type": "stream",
     "text": [
      "Saved Soft_Dense_MoE\n",
      "User:  27\n",
      "INFO:tensorflow:Assets written to: c:\\Users\\rs1044\\bwSyncShare\\02Python Code\\MoE-based-FL-for-secure-STLF/models/Local_learning/TopK_Dense_MoE/User26\\assets\n"
     ]
    },
    {
     "name": "stderr",
     "output_type": "stream",
     "text": [
      "INFO:tensorflow:Assets written to: c:\\Users\\rs1044\\bwSyncShare\\02Python Code\\MoE-based-FL-for-secure-STLF/models/Local_learning/TopK_Dense_MoE/User26\\assets\n"
     ]
    },
    {
     "name": "stdout",
     "output_type": "stream",
     "text": [
      "Saved Soft_Dense_MoE\n",
      "User:  28\n",
      "INFO:tensorflow:Assets written to: c:\\Users\\rs1044\\bwSyncShare\\02Python Code\\MoE-based-FL-for-secure-STLF/models/Local_learning/TopK_Dense_MoE/User27\\assets\n"
     ]
    },
    {
     "name": "stderr",
     "output_type": "stream",
     "text": [
      "INFO:tensorflow:Assets written to: c:\\Users\\rs1044\\bwSyncShare\\02Python Code\\MoE-based-FL-for-secure-STLF/models/Local_learning/TopK_Dense_MoE/User27\\assets\n"
     ]
    },
    {
     "name": "stdout",
     "output_type": "stream",
     "text": [
      "Saved Soft_Dense_MoE\n",
      "User:  29\n",
      "INFO:tensorflow:Assets written to: c:\\Users\\rs1044\\bwSyncShare\\02Python Code\\MoE-based-FL-for-secure-STLF/models/Local_learning/TopK_Dense_MoE/User28\\assets\n"
     ]
    },
    {
     "name": "stderr",
     "output_type": "stream",
     "text": [
      "INFO:tensorflow:Assets written to: c:\\Users\\rs1044\\bwSyncShare\\02Python Code\\MoE-based-FL-for-secure-STLF/models/Local_learning/TopK_Dense_MoE/User28\\assets\n"
     ]
    },
    {
     "name": "stdout",
     "output_type": "stream",
     "text": [
      "Saved Soft_Dense_MoE\n",
      "User:  30\n",
      "INFO:tensorflow:Assets written to: c:\\Users\\rs1044\\bwSyncShare\\02Python Code\\MoE-based-FL-for-secure-STLF/models/Local_learning/TopK_Dense_MoE/User29\\assets\n"
     ]
    },
    {
     "name": "stderr",
     "output_type": "stream",
     "text": [
      "INFO:tensorflow:Assets written to: c:\\Users\\rs1044\\bwSyncShare\\02Python Code\\MoE-based-FL-for-secure-STLF/models/Local_learning/TopK_Dense_MoE/User29\\assets\n"
     ]
    },
    {
     "name": "stdout",
     "output_type": "stream",
     "text": [
      "Saved Soft_Dense_MoE\n"
     ]
    }
   ],
   "source": [
    "dense_moe_architecture = \"TopK_Dense_MoE\" #top2_exp5_d8\n",
    "dense_units = 16\n",
    "\n",
    "num_experts = 5\n",
    "expert_units = 8\n",
    "top_k = 2\n",
    "\n",
    "dense_all_results = pd.DataFrame(columns=[\"user\", \"architecture\", \"train_time\", \"avg_time_epoch\", \"mse\", \"rmse\", \"mape\", \"mae\"])\n",
    "#For each of the 3 user\n",
    "for idx in range(len(df_array)):\n",
    "    print(\"User: \", idx+1)\n",
    "    for round in range(3):\n",
    "        #print(\"Round: \", round)\n",
    "        dense_model = m1.build_topk_dense_moe_model(X_train[f'user{idx+1}'], batch_size, horizon, dense_units, num_experts, top_k, expert_units, m1)\n",
    "        dense_histroy, dense_user_results = mh.compile_fit_evaluate_model(\n",
    "            model=dense_model, \n",
    "            loss=loss, \n",
    "            metrics=metrics, \n",
    "            X_train=X_train[f'user{idx+1}'],\n",
    "            y_train = y_train[f'user{idx+1}'], \n",
    "            max_epochs = max_epochs, \n",
    "            batch_size=batch_size, \n",
    "            X_val=X_val[f'user{idx+1}'], \n",
    "            y_val=y_val[f'user{idx+1}'], \n",
    "            X_test=X_test[f'user{idx+1}'], \n",
    "            y_test=y_test[f'user{idx+1}'], \n",
    "            callbacks=callbacks, \n",
    "            user=f'user{idx+1}', \n",
    "            hyper=dense_moe_architecture,\n",
    "            optimizer=tf.keras.optimizers.Adam(learning_rate=0.001)\n",
    "        )\n",
    "        # Add the 'architecture' column from dense_user_results to dense_results\n",
    "        dense_all_results = pd.merge(dense_all_results, dense_user_results, how='outer')   \n",
    "\n",
    "    dense_model.save(cwd + f\"/models/Local_learning/{dense_moe_architecture}/User{idx}\")\n",
    "    print(\"Saved Soft_Dense_MoE\")  \n",
    "\n",
    "for idx in range(len(df_array)):\n",
    "    new_row = {\n",
    "        'architecture': dense_all_results[\"architecture\"][0],\n",
    "        'train_time': dense_all_results[dense_all_results[\"user\"]==f\"user{idx+1}\"][\"train_time\"].mean(), \n",
    "        'avg_time_epoch' : dense_all_results[dense_all_results[\"user\"]==f\"user{idx+1}\"][\"avg_time_epoch\"].mean(),\n",
    "        'mse': dense_all_results[dense_all_results[\"user\"]==f\"user{idx+1}\"][\"mse\"].mean(),\n",
    "        'mse_std' : dense_all_results[dense_all_results[\"user\"]==f\"user{idx+1}\"][\"mse\"].std(),\n",
    "        'rmse': dense_all_results[dense_all_results[\"user\"]==f\"user{idx+1}\"][\"rmse\"].mean(),\n",
    "        'rmse_std' : dense_all_results[dense_all_results[\"user\"]==f\"user{idx+1}\"][\"rmse\"].std(),\n",
    "        'mape': dense_all_results[dense_all_results[\"user\"]==f\"user{idx+1}\"][\"mape\"].mean(),\n",
    "        'mape_std' : dense_all_results[dense_all_results[\"user\"]==f\"user{idx+1}\"][\"mape\"].std(),\n",
    "        'mae': dense_all_results[dense_all_results[\"user\"]==f\"user{idx+1}\"][\"mae\"].mean(),\n",
    "        'mae_std' : dense_all_results[dense_all_results[\"user\"]==f\"user{idx+1}\"][\"mae\"].std(),\n",
    "    }\n",
    "    dense_results.loc[len(dense_results)] = new_row"
   ]
  },
  {
   "cell_type": "code",
   "execution_count": 6,
   "metadata": {},
   "outputs": [
    {
     "data": {
      "text/html": [
       "<div>\n",
       "<style scoped>\n",
       "    .dataframe tbody tr th:only-of-type {\n",
       "        vertical-align: middle;\n",
       "    }\n",
       "\n",
       "    .dataframe tbody tr th {\n",
       "        vertical-align: top;\n",
       "    }\n",
       "\n",
       "    .dataframe thead th {\n",
       "        text-align: right;\n",
       "    }\n",
       "</style>\n",
       "<table border=\"1\" class=\"dataframe\">\n",
       "  <thead>\n",
       "    <tr style=\"text-align: right;\">\n",
       "      <th></th>\n",
       "      <th>architecture</th>\n",
       "      <th>train_time</th>\n",
       "      <th>avg_time_epoch</th>\n",
       "      <th>mse</th>\n",
       "      <th>mse_std</th>\n",
       "      <th>rmse</th>\n",
       "      <th>rmse_std</th>\n",
       "      <th>mape</th>\n",
       "      <th>mape_std</th>\n",
       "      <th>mae</th>\n",
       "      <th>mae_std</th>\n",
       "    </tr>\n",
       "  </thead>\n",
       "  <tbody>\n",
       "    <tr>\n",
       "      <th>0</th>\n",
       "      <td>Soft_Dense_MoE</td>\n",
       "      <td>15.626359</td>\n",
       "      <td>0.463006</td>\n",
       "      <td>0.034008</td>\n",
       "      <td>0.001083</td>\n",
       "      <td>0.184397</td>\n",
       "      <td>0.002948</td>\n",
       "      <td>8.830589e+04</td>\n",
       "      <td>19232.836431</td>\n",
       "      <td>0.129079</td>\n",
       "      <td>0.003706</td>\n",
       "    </tr>\n",
       "    <tr>\n",
       "      <th>1</th>\n",
       "      <td>Soft_Dense_MoE</td>\n",
       "      <td>9.322736</td>\n",
       "      <td>0.478693</td>\n",
       "      <td>0.018306</td>\n",
       "      <td>0.000799</td>\n",
       "      <td>0.135277</td>\n",
       "      <td>0.002945</td>\n",
       "      <td>1.604002e+05</td>\n",
       "      <td>29655.439462</td>\n",
       "      <td>0.076615</td>\n",
       "      <td>0.001233</td>\n",
       "    </tr>\n",
       "    <tr>\n",
       "      <th>2</th>\n",
       "      <td>Soft_Dense_MoE</td>\n",
       "      <td>11.822861</td>\n",
       "      <td>0.475102</td>\n",
       "      <td>0.019897</td>\n",
       "      <td>0.000272</td>\n",
       "      <td>0.141054</td>\n",
       "      <td>0.000964</td>\n",
       "      <td>5.190807e+04</td>\n",
       "      <td>10837.389705</td>\n",
       "      <td>0.079009</td>\n",
       "      <td>0.003142</td>\n",
       "    </tr>\n",
       "    <tr>\n",
       "      <th>3</th>\n",
       "      <td>Soft_Dense_MoE</td>\n",
       "      <td>13.700077</td>\n",
       "      <td>0.461089</td>\n",
       "      <td>0.023119</td>\n",
       "      <td>0.001371</td>\n",
       "      <td>0.152004</td>\n",
       "      <td>0.004542</td>\n",
       "      <td>1.215700e+05</td>\n",
       "      <td>16326.066329</td>\n",
       "      <td>0.065597</td>\n",
       "      <td>0.003234</td>\n",
       "    </tr>\n",
       "    <tr>\n",
       "      <th>4</th>\n",
       "      <td>Soft_Dense_MoE</td>\n",
       "      <td>15.611840</td>\n",
       "      <td>0.485246</td>\n",
       "      <td>0.014659</td>\n",
       "      <td>0.000378</td>\n",
       "      <td>0.121067</td>\n",
       "      <td>0.001568</td>\n",
       "      <td>9.773217e+04</td>\n",
       "      <td>21146.666917</td>\n",
       "      <td>0.079981</td>\n",
       "      <td>0.007227</td>\n",
       "    </tr>\n",
       "    <tr>\n",
       "      <th>5</th>\n",
       "      <td>Soft_Dense_MoE</td>\n",
       "      <td>10.895442</td>\n",
       "      <td>0.484592</td>\n",
       "      <td>0.019896</td>\n",
       "      <td>0.000916</td>\n",
       "      <td>0.141030</td>\n",
       "      <td>0.003240</td>\n",
       "      <td>9.753535e+04</td>\n",
       "      <td>27478.223929</td>\n",
       "      <td>0.101038</td>\n",
       "      <td>0.003678</td>\n",
       "    </tr>\n",
       "    <tr>\n",
       "      <th>6</th>\n",
       "      <td>Soft_Dense_MoE</td>\n",
       "      <td>9.237150</td>\n",
       "      <td>0.481440</td>\n",
       "      <td>0.020026</td>\n",
       "      <td>0.000957</td>\n",
       "      <td>0.141486</td>\n",
       "      <td>0.003378</td>\n",
       "      <td>9.437673e+04</td>\n",
       "      <td>5333.592766</td>\n",
       "      <td>0.080616</td>\n",
       "      <td>0.002861</td>\n",
       "    </tr>\n",
       "    <tr>\n",
       "      <th>7</th>\n",
       "      <td>Soft_Dense_MoE</td>\n",
       "      <td>15.180292</td>\n",
       "      <td>0.477294</td>\n",
       "      <td>0.023913</td>\n",
       "      <td>0.001063</td>\n",
       "      <td>0.154613</td>\n",
       "      <td>0.003416</td>\n",
       "      <td>2.596664e+04</td>\n",
       "      <td>19514.097835</td>\n",
       "      <td>0.102416</td>\n",
       "      <td>0.001870</td>\n",
       "    </tr>\n",
       "    <tr>\n",
       "      <th>8</th>\n",
       "      <td>Soft_Dense_MoE</td>\n",
       "      <td>8.213238</td>\n",
       "      <td>0.521750</td>\n",
       "      <td>0.030319</td>\n",
       "      <td>0.003107</td>\n",
       "      <td>0.173967</td>\n",
       "      <td>0.009066</td>\n",
       "      <td>7.344347e+01</td>\n",
       "      <td>5.273183</td>\n",
       "      <td>0.103316</td>\n",
       "      <td>0.004435</td>\n",
       "    </tr>\n",
       "    <tr>\n",
       "      <th>9</th>\n",
       "      <td>Soft_Dense_MoE</td>\n",
       "      <td>13.226991</td>\n",
       "      <td>0.494499</td>\n",
       "      <td>0.014332</td>\n",
       "      <td>0.002040</td>\n",
       "      <td>0.119520</td>\n",
       "      <td>0.008435</td>\n",
       "      <td>2.289266e+06</td>\n",
       "      <td>222486.286993</td>\n",
       "      <td>0.072292</td>\n",
       "      <td>0.008905</td>\n",
       "    </tr>\n",
       "    <tr>\n",
       "      <th>10</th>\n",
       "      <td>Soft_Dense_MoE</td>\n",
       "      <td>15.593790</td>\n",
       "      <td>0.490595</td>\n",
       "      <td>0.015037</td>\n",
       "      <td>0.000619</td>\n",
       "      <td>0.122608</td>\n",
       "      <td>0.002513</td>\n",
       "      <td>8.084063e+04</td>\n",
       "      <td>19623.120077</td>\n",
       "      <td>0.079093</td>\n",
       "      <td>0.001562</td>\n",
       "    </tr>\n",
       "    <tr>\n",
       "      <th>11</th>\n",
       "      <td>Soft_Dense_MoE</td>\n",
       "      <td>10.844938</td>\n",
       "      <td>0.485401</td>\n",
       "      <td>0.010916</td>\n",
       "      <td>0.000409</td>\n",
       "      <td>0.104465</td>\n",
       "      <td>0.001963</td>\n",
       "      <td>1.156769e+05</td>\n",
       "      <td>31539.796150</td>\n",
       "      <td>0.074920</td>\n",
       "      <td>0.001194</td>\n",
       "    </tr>\n",
       "    <tr>\n",
       "      <th>12</th>\n",
       "      <td>Soft_Dense_MoE</td>\n",
       "      <td>10.428686</td>\n",
       "      <td>0.498972</td>\n",
       "      <td>0.018177</td>\n",
       "      <td>0.000270</td>\n",
       "      <td>0.134819</td>\n",
       "      <td>0.001003</td>\n",
       "      <td>1.224192e+05</td>\n",
       "      <td>62162.437754</td>\n",
       "      <td>0.087425</td>\n",
       "      <td>0.002356</td>\n",
       "    </tr>\n",
       "    <tr>\n",
       "      <th>13</th>\n",
       "      <td>Soft_Dense_MoE</td>\n",
       "      <td>18.108260</td>\n",
       "      <td>0.482204</td>\n",
       "      <td>0.020128</td>\n",
       "      <td>0.000777</td>\n",
       "      <td>0.141857</td>\n",
       "      <td>0.002753</td>\n",
       "      <td>9.341008e+04</td>\n",
       "      <td>17239.175229</td>\n",
       "      <td>0.093283</td>\n",
       "      <td>0.001760</td>\n",
       "    </tr>\n",
       "    <tr>\n",
       "      <th>14</th>\n",
       "      <td>Soft_Dense_MoE</td>\n",
       "      <td>8.055918</td>\n",
       "      <td>0.522851</td>\n",
       "      <td>0.009828</td>\n",
       "      <td>0.000086</td>\n",
       "      <td>0.099133</td>\n",
       "      <td>0.000432</td>\n",
       "      <td>1.279180e+05</td>\n",
       "      <td>24629.537482</td>\n",
       "      <td>0.058748</td>\n",
       "      <td>0.002443</td>\n",
       "    </tr>\n",
       "    <tr>\n",
       "      <th>15</th>\n",
       "      <td>Soft_Dense_MoE</td>\n",
       "      <td>11.415136</td>\n",
       "      <td>0.486205</td>\n",
       "      <td>0.013572</td>\n",
       "      <td>0.000286</td>\n",
       "      <td>0.116496</td>\n",
       "      <td>0.001226</td>\n",
       "      <td>9.555510e+04</td>\n",
       "      <td>37434.623614</td>\n",
       "      <td>0.077128</td>\n",
       "      <td>0.004938</td>\n",
       "    </tr>\n",
       "    <tr>\n",
       "      <th>16</th>\n",
       "      <td>Soft_Dense_MoE</td>\n",
       "      <td>17.496894</td>\n",
       "      <td>0.471894</td>\n",
       "      <td>0.017027</td>\n",
       "      <td>0.000580</td>\n",
       "      <td>0.130476</td>\n",
       "      <td>0.002213</td>\n",
       "      <td>1.496617e+05</td>\n",
       "      <td>31966.615701</td>\n",
       "      <td>0.081069</td>\n",
       "      <td>0.005551</td>\n",
       "    </tr>\n",
       "    <tr>\n",
       "      <th>17</th>\n",
       "      <td>Soft_Dense_MoE</td>\n",
       "      <td>12.069512</td>\n",
       "      <td>0.492905</td>\n",
       "      <td>0.014516</td>\n",
       "      <td>0.000400</td>\n",
       "      <td>0.120475</td>\n",
       "      <td>0.001656</td>\n",
       "      <td>1.217784e+05</td>\n",
       "      <td>8800.376104</td>\n",
       "      <td>0.079790</td>\n",
       "      <td>0.003282</td>\n",
       "    </tr>\n",
       "    <tr>\n",
       "      <th>18</th>\n",
       "      <td>Soft_Dense_MoE</td>\n",
       "      <td>12.741379</td>\n",
       "      <td>0.496808</td>\n",
       "      <td>0.014531</td>\n",
       "      <td>0.000043</td>\n",
       "      <td>0.120546</td>\n",
       "      <td>0.000180</td>\n",
       "      <td>8.912438e+04</td>\n",
       "      <td>10500.419087</td>\n",
       "      <td>0.071003</td>\n",
       "      <td>0.001315</td>\n",
       "    </tr>\n",
       "    <tr>\n",
       "      <th>19</th>\n",
       "      <td>Soft_Dense_MoE</td>\n",
       "      <td>15.183234</td>\n",
       "      <td>0.487505</td>\n",
       "      <td>0.032589</td>\n",
       "      <td>0.000679</td>\n",
       "      <td>0.180517</td>\n",
       "      <td>0.001885</td>\n",
       "      <td>2.675386e+05</td>\n",
       "      <td>70519.096417</td>\n",
       "      <td>0.137240</td>\n",
       "      <td>0.002123</td>\n",
       "    </tr>\n",
       "    <tr>\n",
       "      <th>20</th>\n",
       "      <td>Soft_Dense_MoE</td>\n",
       "      <td>15.138316</td>\n",
       "      <td>0.486007</td>\n",
       "      <td>0.017434</td>\n",
       "      <td>0.000432</td>\n",
       "      <td>0.132032</td>\n",
       "      <td>0.001632</td>\n",
       "      <td>9.382830e+04</td>\n",
       "      <td>20179.703910</td>\n",
       "      <td>0.094687</td>\n",
       "      <td>0.000693</td>\n",
       "    </tr>\n",
       "    <tr>\n",
       "      <th>21</th>\n",
       "      <td>Soft_Dense_MoE</td>\n",
       "      <td>10.117158</td>\n",
       "      <td>0.504933</td>\n",
       "      <td>0.020281</td>\n",
       "      <td>0.000320</td>\n",
       "      <td>0.142409</td>\n",
       "      <td>0.001122</td>\n",
       "      <td>9.835365e+04</td>\n",
       "      <td>13795.622427</td>\n",
       "      <td>0.089733</td>\n",
       "      <td>0.001009</td>\n",
       "    </tr>\n",
       "    <tr>\n",
       "      <th>22</th>\n",
       "      <td>Soft_Dense_MoE</td>\n",
       "      <td>13.656531</td>\n",
       "      <td>0.491924</td>\n",
       "      <td>0.009819</td>\n",
       "      <td>0.000236</td>\n",
       "      <td>0.099088</td>\n",
       "      <td>0.001187</td>\n",
       "      <td>1.086113e+05</td>\n",
       "      <td>17812.006794</td>\n",
       "      <td>0.059130</td>\n",
       "      <td>0.003516</td>\n",
       "    </tr>\n",
       "    <tr>\n",
       "      <th>23</th>\n",
       "      <td>Soft_Dense_MoE</td>\n",
       "      <td>14.793775</td>\n",
       "      <td>0.490539</td>\n",
       "      <td>0.007668</td>\n",
       "      <td>0.000203</td>\n",
       "      <td>0.087564</td>\n",
       "      <td>0.001159</td>\n",
       "      <td>2.061345e+05</td>\n",
       "      <td>28385.585108</td>\n",
       "      <td>0.062431</td>\n",
       "      <td>0.002719</td>\n",
       "    </tr>\n",
       "    <tr>\n",
       "      <th>24</th>\n",
       "      <td>Soft_Dense_MoE</td>\n",
       "      <td>9.867016</td>\n",
       "      <td>0.498177</td>\n",
       "      <td>0.022651</td>\n",
       "      <td>0.001323</td>\n",
       "      <td>0.150460</td>\n",
       "      <td>0.004391</td>\n",
       "      <td>3.786156e+04</td>\n",
       "      <td>19475.683922</td>\n",
       "      <td>0.095825</td>\n",
       "      <td>0.005492</td>\n",
       "    </tr>\n",
       "    <tr>\n",
       "      <th>25</th>\n",
       "      <td>Soft_Dense_MoE</td>\n",
       "      <td>15.124548</td>\n",
       "      <td>0.489975</td>\n",
       "      <td>0.024489</td>\n",
       "      <td>0.000183</td>\n",
       "      <td>0.156488</td>\n",
       "      <td>0.000586</td>\n",
       "      <td>8.064817e+04</td>\n",
       "      <td>19799.348417</td>\n",
       "      <td>0.099767</td>\n",
       "      <td>0.002653</td>\n",
       "    </tr>\n",
       "    <tr>\n",
       "      <th>26</th>\n",
       "      <td>Soft_Dense_MoE</td>\n",
       "      <td>15.227182</td>\n",
       "      <td>0.483461</td>\n",
       "      <td>0.019131</td>\n",
       "      <td>0.000422</td>\n",
       "      <td>0.138309</td>\n",
       "      <td>0.001520</td>\n",
       "      <td>1.963000e+05</td>\n",
       "      <td>22513.966702</td>\n",
       "      <td>0.095920</td>\n",
       "      <td>0.003704</td>\n",
       "    </tr>\n",
       "    <tr>\n",
       "      <th>27</th>\n",
       "      <td>Soft_Dense_MoE</td>\n",
       "      <td>8.343301</td>\n",
       "      <td>0.516141</td>\n",
       "      <td>0.011240</td>\n",
       "      <td>0.000288</td>\n",
       "      <td>0.106014</td>\n",
       "      <td>0.001355</td>\n",
       "      <td>5.479214e+04</td>\n",
       "      <td>9488.294261</td>\n",
       "      <td>0.046838</td>\n",
       "      <td>0.001016</td>\n",
       "    </tr>\n",
       "    <tr>\n",
       "      <th>28</th>\n",
       "      <td>Soft_Dense_MoE</td>\n",
       "      <td>14.012332</td>\n",
       "      <td>0.484714</td>\n",
       "      <td>0.017308</td>\n",
       "      <td>0.000613</td>\n",
       "      <td>0.131546</td>\n",
       "      <td>0.002336</td>\n",
       "      <td>4.043783e+05</td>\n",
       "      <td>40869.588370</td>\n",
       "      <td>0.091695</td>\n",
       "      <td>0.001943</td>\n",
       "    </tr>\n",
       "    <tr>\n",
       "      <th>29</th>\n",
       "      <td>Soft_Dense_MoE</td>\n",
       "      <td>14.503598</td>\n",
       "      <td>0.485652</td>\n",
       "      <td>0.016394</td>\n",
       "      <td>0.000693</td>\n",
       "      <td>0.128021</td>\n",
       "      <td>0.002697</td>\n",
       "      <td>1.931411e+06</td>\n",
       "      <td>221908.458259</td>\n",
       "      <td>0.084411</td>\n",
       "      <td>0.003518</td>\n",
       "    </tr>\n",
       "    <tr>\n",
       "      <th>30</th>\n",
       "      <td>TopK_Dense_MoE</td>\n",
       "      <td>25.156060</td>\n",
       "      <td>0.627001</td>\n",
       "      <td>0.033635</td>\n",
       "      <td>0.001555</td>\n",
       "      <td>0.183365</td>\n",
       "      <td>0.004214</td>\n",
       "      <td>8.569518e+04</td>\n",
       "      <td>12702.599381</td>\n",
       "      <td>0.127961</td>\n",
       "      <td>0.002622</td>\n",
       "    </tr>\n",
       "    <tr>\n",
       "      <th>31</th>\n",
       "      <td>TopK_Dense_MoE</td>\n",
       "      <td>13.611694</td>\n",
       "      <td>0.664614</td>\n",
       "      <td>0.018200</td>\n",
       "      <td>0.000392</td>\n",
       "      <td>0.134901</td>\n",
       "      <td>0.001455</td>\n",
       "      <td>1.627614e+05</td>\n",
       "      <td>55251.943816</td>\n",
       "      <td>0.080028</td>\n",
       "      <td>0.002734</td>\n",
       "    </tr>\n",
       "    <tr>\n",
       "      <th>32</th>\n",
       "      <td>TopK_Dense_MoE</td>\n",
       "      <td>13.471023</td>\n",
       "      <td>0.638454</td>\n",
       "      <td>0.020681</td>\n",
       "      <td>0.001080</td>\n",
       "      <td>0.143776</td>\n",
       "      <td>0.003770</td>\n",
       "      <td>6.495575e+04</td>\n",
       "      <td>12771.945128</td>\n",
       "      <td>0.090157</td>\n",
       "      <td>0.006452</td>\n",
       "    </tr>\n",
       "    <tr>\n",
       "      <th>33</th>\n",
       "      <td>TopK_Dense_MoE</td>\n",
       "      <td>18.214949</td>\n",
       "      <td>0.647891</td>\n",
       "      <td>0.023525</td>\n",
       "      <td>0.001667</td>\n",
       "      <td>0.153316</td>\n",
       "      <td>0.005388</td>\n",
       "      <td>1.475227e+05</td>\n",
       "      <td>19548.549518</td>\n",
       "      <td>0.068451</td>\n",
       "      <td>0.007328</td>\n",
       "    </tr>\n",
       "    <tr>\n",
       "      <th>34</th>\n",
       "      <td>TopK_Dense_MoE</td>\n",
       "      <td>21.415259</td>\n",
       "      <td>0.640535</td>\n",
       "      <td>0.013552</td>\n",
       "      <td>0.000238</td>\n",
       "      <td>0.116410</td>\n",
       "      <td>0.001020</td>\n",
       "      <td>9.701566e+04</td>\n",
       "      <td>22053.133923</td>\n",
       "      <td>0.078552</td>\n",
       "      <td>0.002920</td>\n",
       "    </tr>\n",
       "    <tr>\n",
       "      <th>35</th>\n",
       "      <td>TopK_Dense_MoE</td>\n",
       "      <td>14.158534</td>\n",
       "      <td>0.658640</td>\n",
       "      <td>0.020610</td>\n",
       "      <td>0.000394</td>\n",
       "      <td>0.143556</td>\n",
       "      <td>0.001374</td>\n",
       "      <td>9.521547e+04</td>\n",
       "      <td>16511.599586</td>\n",
       "      <td>0.104822</td>\n",
       "      <td>0.000670</td>\n",
       "    </tr>\n",
       "    <tr>\n",
       "      <th>36</th>\n",
       "      <td>TopK_Dense_MoE</td>\n",
       "      <td>22.638293</td>\n",
       "      <td>0.633481</td>\n",
       "      <td>0.019859</td>\n",
       "      <td>0.000628</td>\n",
       "      <td>0.140909</td>\n",
       "      <td>0.002225</td>\n",
       "      <td>1.002064e+05</td>\n",
       "      <td>6576.440066</td>\n",
       "      <td>0.083767</td>\n",
       "      <td>0.003092</td>\n",
       "    </tr>\n",
       "    <tr>\n",
       "      <th>37</th>\n",
       "      <td>TopK_Dense_MoE</td>\n",
       "      <td>9.691375</td>\n",
       "      <td>0.685348</td>\n",
       "      <td>0.025524</td>\n",
       "      <td>0.000228</td>\n",
       "      <td>0.159763</td>\n",
       "      <td>0.000714</td>\n",
       "      <td>4.206507e+04</td>\n",
       "      <td>8314.611551</td>\n",
       "      <td>0.108689</td>\n",
       "      <td>0.003840</td>\n",
       "    </tr>\n",
       "    <tr>\n",
       "      <th>38</th>\n",
       "      <td>TopK_Dense_MoE</td>\n",
       "      <td>18.373457</td>\n",
       "      <td>0.641430</td>\n",
       "      <td>0.032548</td>\n",
       "      <td>0.002988</td>\n",
       "      <td>0.180286</td>\n",
       "      <td>0.008179</td>\n",
       "      <td>7.178610e+01</td>\n",
       "      <td>12.740373</td>\n",
       "      <td>0.105796</td>\n",
       "      <td>0.003925</td>\n",
       "    </tr>\n",
       "    <tr>\n",
       "      <th>39</th>\n",
       "      <td>TopK_Dense_MoE</td>\n",
       "      <td>12.177590</td>\n",
       "      <td>0.658516</td>\n",
       "      <td>0.015540</td>\n",
       "      <td>0.001496</td>\n",
       "      <td>0.124562</td>\n",
       "      <td>0.006011</td>\n",
       "      <td>2.369322e+06</td>\n",
       "      <td>494656.597756</td>\n",
       "      <td>0.076144</td>\n",
       "      <td>0.000919</td>\n",
       "    </tr>\n",
       "    <tr>\n",
       "      <th>40</th>\n",
       "      <td>TopK_Dense_MoE</td>\n",
       "      <td>17.108671</td>\n",
       "      <td>0.644901</td>\n",
       "      <td>0.015191</td>\n",
       "      <td>0.000498</td>\n",
       "      <td>0.123240</td>\n",
       "      <td>0.002028</td>\n",
       "      <td>1.139350e+05</td>\n",
       "      <td>64685.961199</td>\n",
       "      <td>0.080990</td>\n",
       "      <td>0.002341</td>\n",
       "    </tr>\n",
       "    <tr>\n",
       "      <th>41</th>\n",
       "      <td>TopK_Dense_MoE</td>\n",
       "      <td>12.595657</td>\n",
       "      <td>0.657515</td>\n",
       "      <td>0.010505</td>\n",
       "      <td>0.000507</td>\n",
       "      <td>0.102476</td>\n",
       "      <td>0.002464</td>\n",
       "      <td>1.444328e+05</td>\n",
       "      <td>11744.150227</td>\n",
       "      <td>0.075937</td>\n",
       "      <td>0.005280</td>\n",
       "    </tr>\n",
       "    <tr>\n",
       "      <th>42</th>\n",
       "      <td>TopK_Dense_MoE</td>\n",
       "      <td>16.351559</td>\n",
       "      <td>0.641419</td>\n",
       "      <td>0.018724</td>\n",
       "      <td>0.000348</td>\n",
       "      <td>0.136833</td>\n",
       "      <td>0.001269</td>\n",
       "      <td>7.972106e+04</td>\n",
       "      <td>22653.815239</td>\n",
       "      <td>0.086721</td>\n",
       "      <td>0.001792</td>\n",
       "    </tr>\n",
       "    <tr>\n",
       "      <th>43</th>\n",
       "      <td>TopK_Dense_MoE</td>\n",
       "      <td>18.383079</td>\n",
       "      <td>0.647487</td>\n",
       "      <td>0.020905</td>\n",
       "      <td>0.000506</td>\n",
       "      <td>0.144579</td>\n",
       "      <td>0.001749</td>\n",
       "      <td>1.007155e+05</td>\n",
       "      <td>22747.607214</td>\n",
       "      <td>0.095975</td>\n",
       "      <td>0.004083</td>\n",
       "    </tr>\n",
       "    <tr>\n",
       "      <th>44</th>\n",
       "      <td>TopK_Dense_MoE</td>\n",
       "      <td>17.064895</td>\n",
       "      <td>0.657216</td>\n",
       "      <td>0.009685</td>\n",
       "      <td>0.000163</td>\n",
       "      <td>0.098412</td>\n",
       "      <td>0.000829</td>\n",
       "      <td>1.055750e+05</td>\n",
       "      <td>12862.599961</td>\n",
       "      <td>0.054348</td>\n",
       "      <td>0.002487</td>\n",
       "    </tr>\n",
       "    <tr>\n",
       "      <th>45</th>\n",
       "      <td>TopK_Dense_MoE</td>\n",
       "      <td>19.490110</td>\n",
       "      <td>0.630638</td>\n",
       "      <td>0.013872</td>\n",
       "      <td>0.000718</td>\n",
       "      <td>0.117753</td>\n",
       "      <td>0.003071</td>\n",
       "      <td>7.045787e+04</td>\n",
       "      <td>22463.396335</td>\n",
       "      <td>0.077779</td>\n",
       "      <td>0.000935</td>\n",
       "    </tr>\n",
       "    <tr>\n",
       "      <th>46</th>\n",
       "      <td>TopK_Dense_MoE</td>\n",
       "      <td>20.501064</td>\n",
       "      <td>0.651948</td>\n",
       "      <td>0.017761</td>\n",
       "      <td>0.000793</td>\n",
       "      <td>0.133249</td>\n",
       "      <td>0.002983</td>\n",
       "      <td>1.880067e+05</td>\n",
       "      <td>91927.858523</td>\n",
       "      <td>0.090153</td>\n",
       "      <td>0.001539</td>\n",
       "    </tr>\n",
       "    <tr>\n",
       "      <th>47</th>\n",
       "      <td>TopK_Dense_MoE</td>\n",
       "      <td>14.681691</td>\n",
       "      <td>0.642589</td>\n",
       "      <td>0.014580</td>\n",
       "      <td>0.000129</td>\n",
       "      <td>0.120745</td>\n",
       "      <td>0.000532</td>\n",
       "      <td>1.672545e+05</td>\n",
       "      <td>16091.491769</td>\n",
       "      <td>0.081136</td>\n",
       "      <td>0.001398</td>\n",
       "    </tr>\n",
       "    <tr>\n",
       "      <th>48</th>\n",
       "      <td>TopK_Dense_MoE</td>\n",
       "      <td>16.671956</td>\n",
       "      <td>0.655850</td>\n",
       "      <td>0.015082</td>\n",
       "      <td>0.000856</td>\n",
       "      <td>0.122776</td>\n",
       "      <td>0.003511</td>\n",
       "      <td>9.483646e+04</td>\n",
       "      <td>16025.587522</td>\n",
       "      <td>0.070355</td>\n",
       "      <td>0.004386</td>\n",
       "    </tr>\n",
       "    <tr>\n",
       "      <th>49</th>\n",
       "      <td>TopK_Dense_MoE</td>\n",
       "      <td>22.424931</td>\n",
       "      <td>0.633417</td>\n",
       "      <td>0.033591</td>\n",
       "      <td>0.001774</td>\n",
       "      <td>0.183235</td>\n",
       "      <td>0.004878</td>\n",
       "      <td>2.348993e+05</td>\n",
       "      <td>21080.410490</td>\n",
       "      <td>0.140485</td>\n",
       "      <td>0.003363</td>\n",
       "    </tr>\n",
       "    <tr>\n",
       "      <th>50</th>\n",
       "      <td>TopK_Dense_MoE</td>\n",
       "      <td>18.328473</td>\n",
       "      <td>0.650250</td>\n",
       "      <td>0.017748</td>\n",
       "      <td>0.000584</td>\n",
       "      <td>0.133210</td>\n",
       "      <td>0.002202</td>\n",
       "      <td>1.013507e+05</td>\n",
       "      <td>14010.001465</td>\n",
       "      <td>0.097544</td>\n",
       "      <td>0.000654</td>\n",
       "    </tr>\n",
       "    <tr>\n",
       "      <th>51</th>\n",
       "      <td>TopK_Dense_MoE</td>\n",
       "      <td>13.710008</td>\n",
       "      <td>0.652189</td>\n",
       "      <td>0.020909</td>\n",
       "      <td>0.000406</td>\n",
       "      <td>0.144595</td>\n",
       "      <td>0.001402</td>\n",
       "      <td>8.285892e+04</td>\n",
       "      <td>27161.630726</td>\n",
       "      <td>0.086435</td>\n",
       "      <td>0.002236</td>\n",
       "    </tr>\n",
       "    <tr>\n",
       "      <th>52</th>\n",
       "      <td>TopK_Dense_MoE</td>\n",
       "      <td>19.911319</td>\n",
       "      <td>0.645266</td>\n",
       "      <td>0.009821</td>\n",
       "      <td>0.000192</td>\n",
       "      <td>0.099097</td>\n",
       "      <td>0.000965</td>\n",
       "      <td>9.261368e+04</td>\n",
       "      <td>7137.526335</td>\n",
       "      <td>0.059304</td>\n",
       "      <td>0.002479</td>\n",
       "    </tr>\n",
       "    <tr>\n",
       "      <th>53</th>\n",
       "      <td>TopK_Dense_MoE</td>\n",
       "      <td>26.065113</td>\n",
       "      <td>0.628426</td>\n",
       "      <td>0.008231</td>\n",
       "      <td>0.000396</td>\n",
       "      <td>0.090705</td>\n",
       "      <td>0.002192</td>\n",
       "      <td>2.198851e+05</td>\n",
       "      <td>68604.622708</td>\n",
       "      <td>0.067510</td>\n",
       "      <td>0.005354</td>\n",
       "    </tr>\n",
       "    <tr>\n",
       "      <th>54</th>\n",
       "      <td>TopK_Dense_MoE</td>\n",
       "      <td>17.051833</td>\n",
       "      <td>0.653330</td>\n",
       "      <td>0.022401</td>\n",
       "      <td>0.003200</td>\n",
       "      <td>0.149422</td>\n",
       "      <td>0.010500</td>\n",
       "      <td>3.938294e+04</td>\n",
       "      <td>21276.611615</td>\n",
       "      <td>0.096599</td>\n",
       "      <td>0.010972</td>\n",
       "    </tr>\n",
       "    <tr>\n",
       "      <th>55</th>\n",
       "      <td>TopK_Dense_MoE</td>\n",
       "      <td>22.862658</td>\n",
       "      <td>0.637144</td>\n",
       "      <td>0.026000</td>\n",
       "      <td>0.001307</td>\n",
       "      <td>0.161212</td>\n",
       "      <td>0.004057</td>\n",
       "      <td>1.438220e+05</td>\n",
       "      <td>39967.366266</td>\n",
       "      <td>0.104512</td>\n",
       "      <td>0.001773</td>\n",
       "    </tr>\n",
       "    <tr>\n",
       "      <th>56</th>\n",
       "      <td>TopK_Dense_MoE</td>\n",
       "      <td>19.247452</td>\n",
       "      <td>0.646136</td>\n",
       "      <td>0.020045</td>\n",
       "      <td>0.000203</td>\n",
       "      <td>0.141579</td>\n",
       "      <td>0.000717</td>\n",
       "      <td>2.003469e+05</td>\n",
       "      <td>3846.306777</td>\n",
       "      <td>0.095193</td>\n",
       "      <td>0.001940</td>\n",
       "    </tr>\n",
       "    <tr>\n",
       "      <th>57</th>\n",
       "      <td>TopK_Dense_MoE</td>\n",
       "      <td>10.283906</td>\n",
       "      <td>0.680719</td>\n",
       "      <td>0.011446</td>\n",
       "      <td>0.000467</td>\n",
       "      <td>0.106973</td>\n",
       "      <td>0.002176</td>\n",
       "      <td>6.173261e+04</td>\n",
       "      <td>4930.902756</td>\n",
       "      <td>0.046563</td>\n",
       "      <td>0.000167</td>\n",
       "    </tr>\n",
       "    <tr>\n",
       "      <th>58</th>\n",
       "      <td>TopK_Dense_MoE</td>\n",
       "      <td>16.765162</td>\n",
       "      <td>0.649521</td>\n",
       "      <td>0.018449</td>\n",
       "      <td>0.000682</td>\n",
       "      <td>0.135810</td>\n",
       "      <td>0.002521</td>\n",
       "      <td>3.565035e+05</td>\n",
       "      <td>102740.443690</td>\n",
       "      <td>0.095532</td>\n",
       "      <td>0.002967</td>\n",
       "    </tr>\n",
       "    <tr>\n",
       "      <th>59</th>\n",
       "      <td>TopK_Dense_MoE</td>\n",
       "      <td>26.912505</td>\n",
       "      <td>0.638648</td>\n",
       "      <td>0.016749</td>\n",
       "      <td>0.001102</td>\n",
       "      <td>0.129369</td>\n",
       "      <td>0.004282</td>\n",
       "      <td>1.968380e+06</td>\n",
       "      <td>388873.832984</td>\n",
       "      <td>0.081987</td>\n",
       "      <td>0.000346</td>\n",
       "    </tr>\n",
       "  </tbody>\n",
       "</table>\n",
       "</div>"
      ],
      "text/plain": [
       "      architecture  train_time  avg_time_epoch       mse   mse_std      rmse  \\\n",
       "0   Soft_Dense_MoE   15.626359        0.463006  0.034008  0.001083  0.184397   \n",
       "1   Soft_Dense_MoE    9.322736        0.478693  0.018306  0.000799  0.135277   \n",
       "2   Soft_Dense_MoE   11.822861        0.475102  0.019897  0.000272  0.141054   \n",
       "3   Soft_Dense_MoE   13.700077        0.461089  0.023119  0.001371  0.152004   \n",
       "4   Soft_Dense_MoE   15.611840        0.485246  0.014659  0.000378  0.121067   \n",
       "5   Soft_Dense_MoE   10.895442        0.484592  0.019896  0.000916  0.141030   \n",
       "6   Soft_Dense_MoE    9.237150        0.481440  0.020026  0.000957  0.141486   \n",
       "7   Soft_Dense_MoE   15.180292        0.477294  0.023913  0.001063  0.154613   \n",
       "8   Soft_Dense_MoE    8.213238        0.521750  0.030319  0.003107  0.173967   \n",
       "9   Soft_Dense_MoE   13.226991        0.494499  0.014332  0.002040  0.119520   \n",
       "10  Soft_Dense_MoE   15.593790        0.490595  0.015037  0.000619  0.122608   \n",
       "11  Soft_Dense_MoE   10.844938        0.485401  0.010916  0.000409  0.104465   \n",
       "12  Soft_Dense_MoE   10.428686        0.498972  0.018177  0.000270  0.134819   \n",
       "13  Soft_Dense_MoE   18.108260        0.482204  0.020128  0.000777  0.141857   \n",
       "14  Soft_Dense_MoE    8.055918        0.522851  0.009828  0.000086  0.099133   \n",
       "15  Soft_Dense_MoE   11.415136        0.486205  0.013572  0.000286  0.116496   \n",
       "16  Soft_Dense_MoE   17.496894        0.471894  0.017027  0.000580  0.130476   \n",
       "17  Soft_Dense_MoE   12.069512        0.492905  0.014516  0.000400  0.120475   \n",
       "18  Soft_Dense_MoE   12.741379        0.496808  0.014531  0.000043  0.120546   \n",
       "19  Soft_Dense_MoE   15.183234        0.487505  0.032589  0.000679  0.180517   \n",
       "20  Soft_Dense_MoE   15.138316        0.486007  0.017434  0.000432  0.132032   \n",
       "21  Soft_Dense_MoE   10.117158        0.504933  0.020281  0.000320  0.142409   \n",
       "22  Soft_Dense_MoE   13.656531        0.491924  0.009819  0.000236  0.099088   \n",
       "23  Soft_Dense_MoE   14.793775        0.490539  0.007668  0.000203  0.087564   \n",
       "24  Soft_Dense_MoE    9.867016        0.498177  0.022651  0.001323  0.150460   \n",
       "25  Soft_Dense_MoE   15.124548        0.489975  0.024489  0.000183  0.156488   \n",
       "26  Soft_Dense_MoE   15.227182        0.483461  0.019131  0.000422  0.138309   \n",
       "27  Soft_Dense_MoE    8.343301        0.516141  0.011240  0.000288  0.106014   \n",
       "28  Soft_Dense_MoE   14.012332        0.484714  0.017308  0.000613  0.131546   \n",
       "29  Soft_Dense_MoE   14.503598        0.485652  0.016394  0.000693  0.128021   \n",
       "30  TopK_Dense_MoE   25.156060        0.627001  0.033635  0.001555  0.183365   \n",
       "31  TopK_Dense_MoE   13.611694        0.664614  0.018200  0.000392  0.134901   \n",
       "32  TopK_Dense_MoE   13.471023        0.638454  0.020681  0.001080  0.143776   \n",
       "33  TopK_Dense_MoE   18.214949        0.647891  0.023525  0.001667  0.153316   \n",
       "34  TopK_Dense_MoE   21.415259        0.640535  0.013552  0.000238  0.116410   \n",
       "35  TopK_Dense_MoE   14.158534        0.658640  0.020610  0.000394  0.143556   \n",
       "36  TopK_Dense_MoE   22.638293        0.633481  0.019859  0.000628  0.140909   \n",
       "37  TopK_Dense_MoE    9.691375        0.685348  0.025524  0.000228  0.159763   \n",
       "38  TopK_Dense_MoE   18.373457        0.641430  0.032548  0.002988  0.180286   \n",
       "39  TopK_Dense_MoE   12.177590        0.658516  0.015540  0.001496  0.124562   \n",
       "40  TopK_Dense_MoE   17.108671        0.644901  0.015191  0.000498  0.123240   \n",
       "41  TopK_Dense_MoE   12.595657        0.657515  0.010505  0.000507  0.102476   \n",
       "42  TopK_Dense_MoE   16.351559        0.641419  0.018724  0.000348  0.136833   \n",
       "43  TopK_Dense_MoE   18.383079        0.647487  0.020905  0.000506  0.144579   \n",
       "44  TopK_Dense_MoE   17.064895        0.657216  0.009685  0.000163  0.098412   \n",
       "45  TopK_Dense_MoE   19.490110        0.630638  0.013872  0.000718  0.117753   \n",
       "46  TopK_Dense_MoE   20.501064        0.651948  0.017761  0.000793  0.133249   \n",
       "47  TopK_Dense_MoE   14.681691        0.642589  0.014580  0.000129  0.120745   \n",
       "48  TopK_Dense_MoE   16.671956        0.655850  0.015082  0.000856  0.122776   \n",
       "49  TopK_Dense_MoE   22.424931        0.633417  0.033591  0.001774  0.183235   \n",
       "50  TopK_Dense_MoE   18.328473        0.650250  0.017748  0.000584  0.133210   \n",
       "51  TopK_Dense_MoE   13.710008        0.652189  0.020909  0.000406  0.144595   \n",
       "52  TopK_Dense_MoE   19.911319        0.645266  0.009821  0.000192  0.099097   \n",
       "53  TopK_Dense_MoE   26.065113        0.628426  0.008231  0.000396  0.090705   \n",
       "54  TopK_Dense_MoE   17.051833        0.653330  0.022401  0.003200  0.149422   \n",
       "55  TopK_Dense_MoE   22.862658        0.637144  0.026000  0.001307  0.161212   \n",
       "56  TopK_Dense_MoE   19.247452        0.646136  0.020045  0.000203  0.141579   \n",
       "57  TopK_Dense_MoE   10.283906        0.680719  0.011446  0.000467  0.106973   \n",
       "58  TopK_Dense_MoE   16.765162        0.649521  0.018449  0.000682  0.135810   \n",
       "59  TopK_Dense_MoE   26.912505        0.638648  0.016749  0.001102  0.129369   \n",
       "\n",
       "    rmse_std          mape       mape_std       mae   mae_std  \n",
       "0   0.002948  8.830589e+04   19232.836431  0.129079  0.003706  \n",
       "1   0.002945  1.604002e+05   29655.439462  0.076615  0.001233  \n",
       "2   0.000964  5.190807e+04   10837.389705  0.079009  0.003142  \n",
       "3   0.004542  1.215700e+05   16326.066329  0.065597  0.003234  \n",
       "4   0.001568  9.773217e+04   21146.666917  0.079981  0.007227  \n",
       "5   0.003240  9.753535e+04   27478.223929  0.101038  0.003678  \n",
       "6   0.003378  9.437673e+04    5333.592766  0.080616  0.002861  \n",
       "7   0.003416  2.596664e+04   19514.097835  0.102416  0.001870  \n",
       "8   0.009066  7.344347e+01       5.273183  0.103316  0.004435  \n",
       "9   0.008435  2.289266e+06  222486.286993  0.072292  0.008905  \n",
       "10  0.002513  8.084063e+04   19623.120077  0.079093  0.001562  \n",
       "11  0.001963  1.156769e+05   31539.796150  0.074920  0.001194  \n",
       "12  0.001003  1.224192e+05   62162.437754  0.087425  0.002356  \n",
       "13  0.002753  9.341008e+04   17239.175229  0.093283  0.001760  \n",
       "14  0.000432  1.279180e+05   24629.537482  0.058748  0.002443  \n",
       "15  0.001226  9.555510e+04   37434.623614  0.077128  0.004938  \n",
       "16  0.002213  1.496617e+05   31966.615701  0.081069  0.005551  \n",
       "17  0.001656  1.217784e+05    8800.376104  0.079790  0.003282  \n",
       "18  0.000180  8.912438e+04   10500.419087  0.071003  0.001315  \n",
       "19  0.001885  2.675386e+05   70519.096417  0.137240  0.002123  \n",
       "20  0.001632  9.382830e+04   20179.703910  0.094687  0.000693  \n",
       "21  0.001122  9.835365e+04   13795.622427  0.089733  0.001009  \n",
       "22  0.001187  1.086113e+05   17812.006794  0.059130  0.003516  \n",
       "23  0.001159  2.061345e+05   28385.585108  0.062431  0.002719  \n",
       "24  0.004391  3.786156e+04   19475.683922  0.095825  0.005492  \n",
       "25  0.000586  8.064817e+04   19799.348417  0.099767  0.002653  \n",
       "26  0.001520  1.963000e+05   22513.966702  0.095920  0.003704  \n",
       "27  0.001355  5.479214e+04    9488.294261  0.046838  0.001016  \n",
       "28  0.002336  4.043783e+05   40869.588370  0.091695  0.001943  \n",
       "29  0.002697  1.931411e+06  221908.458259  0.084411  0.003518  \n",
       "30  0.004214  8.569518e+04   12702.599381  0.127961  0.002622  \n",
       "31  0.001455  1.627614e+05   55251.943816  0.080028  0.002734  \n",
       "32  0.003770  6.495575e+04   12771.945128  0.090157  0.006452  \n",
       "33  0.005388  1.475227e+05   19548.549518  0.068451  0.007328  \n",
       "34  0.001020  9.701566e+04   22053.133923  0.078552  0.002920  \n",
       "35  0.001374  9.521547e+04   16511.599586  0.104822  0.000670  \n",
       "36  0.002225  1.002064e+05    6576.440066  0.083767  0.003092  \n",
       "37  0.000714  4.206507e+04    8314.611551  0.108689  0.003840  \n",
       "38  0.008179  7.178610e+01      12.740373  0.105796  0.003925  \n",
       "39  0.006011  2.369322e+06  494656.597756  0.076144  0.000919  \n",
       "40  0.002028  1.139350e+05   64685.961199  0.080990  0.002341  \n",
       "41  0.002464  1.444328e+05   11744.150227  0.075937  0.005280  \n",
       "42  0.001269  7.972106e+04   22653.815239  0.086721  0.001792  \n",
       "43  0.001749  1.007155e+05   22747.607214  0.095975  0.004083  \n",
       "44  0.000829  1.055750e+05   12862.599961  0.054348  0.002487  \n",
       "45  0.003071  7.045787e+04   22463.396335  0.077779  0.000935  \n",
       "46  0.002983  1.880067e+05   91927.858523  0.090153  0.001539  \n",
       "47  0.000532  1.672545e+05   16091.491769  0.081136  0.001398  \n",
       "48  0.003511  9.483646e+04   16025.587522  0.070355  0.004386  \n",
       "49  0.004878  2.348993e+05   21080.410490  0.140485  0.003363  \n",
       "50  0.002202  1.013507e+05   14010.001465  0.097544  0.000654  \n",
       "51  0.001402  8.285892e+04   27161.630726  0.086435  0.002236  \n",
       "52  0.000965  9.261368e+04    7137.526335  0.059304  0.002479  \n",
       "53  0.002192  2.198851e+05   68604.622708  0.067510  0.005354  \n",
       "54  0.010500  3.938294e+04   21276.611615  0.096599  0.010972  \n",
       "55  0.004057  1.438220e+05   39967.366266  0.104512  0.001773  \n",
       "56  0.000717  2.003469e+05    3846.306777  0.095193  0.001940  \n",
       "57  0.002176  6.173261e+04    4930.902756  0.046563  0.000167  \n",
       "58  0.002521  3.565035e+05  102740.443690  0.095532  0.002967  \n",
       "59  0.004282  1.968380e+06  388873.832984  0.081987  0.000346  "
      ]
     },
     "execution_count": 6,
     "metadata": {},
     "output_type": "execute_result"
    }
   ],
   "source": [
    "dense_results.to_csv(f'evaluations/Local_learning/{dense_moe_architecture}.csv')\n",
    "dense_results"
   ]
  },
  {
   "cell_type": "markdown",
   "metadata": {},
   "source": [
    "# MOE Bidirectional LSTM Model"
   ]
  },
  {
   "cell_type": "code",
   "execution_count": 7,
   "metadata": {},
   "outputs": [
    {
     "name": "stdout",
     "output_type": "stream",
     "text": [
      "User:  1\n"
     ]
    },
    {
     "name": "stdout",
     "output_type": "stream",
     "text": [
      "INFO:tensorflow:Assets written to: c:\\Users\\rs1044\\bwSyncShare\\02Python Code\\MoE-based-FL-for-secure-STLF/models/Local_learning/Soft_BiLSTM_MoE/User0\\assets\n"
     ]
    },
    {
     "name": "stderr",
     "output_type": "stream",
     "text": [
      "INFO:tensorflow:Assets written to: c:\\Users\\rs1044\\bwSyncShare\\02Python Code\\MoE-based-FL-for-secure-STLF/models/Local_learning/Soft_BiLSTM_MoE/User0\\assets\n"
     ]
    },
    {
     "name": "stdout",
     "output_type": "stream",
     "text": [
      "Saved Soft_Dense_MoE\n",
      "User:  2\n",
      "INFO:tensorflow:Assets written to: c:\\Users\\rs1044\\bwSyncShare\\02Python Code\\MoE-based-FL-for-secure-STLF/models/Local_learning/Soft_BiLSTM_MoE/User1\\assets\n"
     ]
    },
    {
     "name": "stderr",
     "output_type": "stream",
     "text": [
      "INFO:tensorflow:Assets written to: c:\\Users\\rs1044\\bwSyncShare\\02Python Code\\MoE-based-FL-for-secure-STLF/models/Local_learning/Soft_BiLSTM_MoE/User1\\assets\n"
     ]
    },
    {
     "name": "stdout",
     "output_type": "stream",
     "text": [
      "Saved Soft_Dense_MoE\n",
      "User:  3\n",
      "INFO:tensorflow:Assets written to: c:\\Users\\rs1044\\bwSyncShare\\02Python Code\\MoE-based-FL-for-secure-STLF/models/Local_learning/Soft_BiLSTM_MoE/User2\\assets\n"
     ]
    },
    {
     "name": "stderr",
     "output_type": "stream",
     "text": [
      "INFO:tensorflow:Assets written to: c:\\Users\\rs1044\\bwSyncShare\\02Python Code\\MoE-based-FL-for-secure-STLF/models/Local_learning/Soft_BiLSTM_MoE/User2\\assets\n"
     ]
    },
    {
     "name": "stdout",
     "output_type": "stream",
     "text": [
      "Saved Soft_Dense_MoE\n",
      "User:  4\n",
      "INFO:tensorflow:Assets written to: c:\\Users\\rs1044\\bwSyncShare\\02Python Code\\MoE-based-FL-for-secure-STLF/models/Local_learning/Soft_BiLSTM_MoE/User3\\assets\n"
     ]
    },
    {
     "name": "stderr",
     "output_type": "stream",
     "text": [
      "INFO:tensorflow:Assets written to: c:\\Users\\rs1044\\bwSyncShare\\02Python Code\\MoE-based-FL-for-secure-STLF/models/Local_learning/Soft_BiLSTM_MoE/User3\\assets\n"
     ]
    },
    {
     "name": "stdout",
     "output_type": "stream",
     "text": [
      "Saved Soft_Dense_MoE\n",
      "User:  5\n",
      "INFO:tensorflow:Assets written to: c:\\Users\\rs1044\\bwSyncShare\\02Python Code\\MoE-based-FL-for-secure-STLF/models/Local_learning/Soft_BiLSTM_MoE/User4\\assets\n"
     ]
    },
    {
     "name": "stderr",
     "output_type": "stream",
     "text": [
      "INFO:tensorflow:Assets written to: c:\\Users\\rs1044\\bwSyncShare\\02Python Code\\MoE-based-FL-for-secure-STLF/models/Local_learning/Soft_BiLSTM_MoE/User4\\assets\n"
     ]
    },
    {
     "name": "stdout",
     "output_type": "stream",
     "text": [
      "Saved Soft_Dense_MoE\n",
      "User:  6\n",
      "INFO:tensorflow:Assets written to: c:\\Users\\rs1044\\bwSyncShare\\02Python Code\\MoE-based-FL-for-secure-STLF/models/Local_learning/Soft_BiLSTM_MoE/User5\\assets\n"
     ]
    },
    {
     "name": "stderr",
     "output_type": "stream",
     "text": [
      "INFO:tensorflow:Assets written to: c:\\Users\\rs1044\\bwSyncShare\\02Python Code\\MoE-based-FL-for-secure-STLF/models/Local_learning/Soft_BiLSTM_MoE/User5\\assets\n"
     ]
    },
    {
     "name": "stdout",
     "output_type": "stream",
     "text": [
      "Saved Soft_Dense_MoE\n",
      "User:  7\n",
      "INFO:tensorflow:Assets written to: c:\\Users\\rs1044\\bwSyncShare\\02Python Code\\MoE-based-FL-for-secure-STLF/models/Local_learning/Soft_BiLSTM_MoE/User6\\assets\n"
     ]
    },
    {
     "name": "stderr",
     "output_type": "stream",
     "text": [
      "INFO:tensorflow:Assets written to: c:\\Users\\rs1044\\bwSyncShare\\02Python Code\\MoE-based-FL-for-secure-STLF/models/Local_learning/Soft_BiLSTM_MoE/User6\\assets\n"
     ]
    },
    {
     "name": "stdout",
     "output_type": "stream",
     "text": [
      "Saved Soft_Dense_MoE\n",
      "User:  8\n",
      "INFO:tensorflow:Assets written to: c:\\Users\\rs1044\\bwSyncShare\\02Python Code\\MoE-based-FL-for-secure-STLF/models/Local_learning/Soft_BiLSTM_MoE/User7\\assets\n"
     ]
    },
    {
     "name": "stderr",
     "output_type": "stream",
     "text": [
      "INFO:tensorflow:Assets written to: c:\\Users\\rs1044\\bwSyncShare\\02Python Code\\MoE-based-FL-for-secure-STLF/models/Local_learning/Soft_BiLSTM_MoE/User7\\assets\n"
     ]
    },
    {
     "name": "stdout",
     "output_type": "stream",
     "text": [
      "Saved Soft_Dense_MoE\n",
      "User:  9\n",
      "INFO:tensorflow:Assets written to: c:\\Users\\rs1044\\bwSyncShare\\02Python Code\\MoE-based-FL-for-secure-STLF/models/Local_learning/Soft_BiLSTM_MoE/User8\\assets\n"
     ]
    },
    {
     "name": "stderr",
     "output_type": "stream",
     "text": [
      "INFO:tensorflow:Assets written to: c:\\Users\\rs1044\\bwSyncShare\\02Python Code\\MoE-based-FL-for-secure-STLF/models/Local_learning/Soft_BiLSTM_MoE/User8\\assets\n"
     ]
    },
    {
     "name": "stdout",
     "output_type": "stream",
     "text": [
      "Saved Soft_Dense_MoE\n",
      "User:  10\n",
      "INFO:tensorflow:Assets written to: c:\\Users\\rs1044\\bwSyncShare\\02Python Code\\MoE-based-FL-for-secure-STLF/models/Local_learning/Soft_BiLSTM_MoE/User9\\assets\n"
     ]
    },
    {
     "name": "stderr",
     "output_type": "stream",
     "text": [
      "INFO:tensorflow:Assets written to: c:\\Users\\rs1044\\bwSyncShare\\02Python Code\\MoE-based-FL-for-secure-STLF/models/Local_learning/Soft_BiLSTM_MoE/User9\\assets\n"
     ]
    },
    {
     "name": "stdout",
     "output_type": "stream",
     "text": [
      "Saved Soft_Dense_MoE\n",
      "User:  11\n",
      "INFO:tensorflow:Assets written to: c:\\Users\\rs1044\\bwSyncShare\\02Python Code\\MoE-based-FL-for-secure-STLF/models/Local_learning/Soft_BiLSTM_MoE/User10\\assets\n"
     ]
    },
    {
     "name": "stderr",
     "output_type": "stream",
     "text": [
      "INFO:tensorflow:Assets written to: c:\\Users\\rs1044\\bwSyncShare\\02Python Code\\MoE-based-FL-for-secure-STLF/models/Local_learning/Soft_BiLSTM_MoE/User10\\assets\n"
     ]
    },
    {
     "name": "stdout",
     "output_type": "stream",
     "text": [
      "Saved Soft_Dense_MoE\n",
      "User:  12\n",
      "INFO:tensorflow:Assets written to: c:\\Users\\rs1044\\bwSyncShare\\02Python Code\\MoE-based-FL-for-secure-STLF/models/Local_learning/Soft_BiLSTM_MoE/User11\\assets\n"
     ]
    },
    {
     "name": "stderr",
     "output_type": "stream",
     "text": [
      "INFO:tensorflow:Assets written to: c:\\Users\\rs1044\\bwSyncShare\\02Python Code\\MoE-based-FL-for-secure-STLF/models/Local_learning/Soft_BiLSTM_MoE/User11\\assets\n"
     ]
    },
    {
     "name": "stdout",
     "output_type": "stream",
     "text": [
      "Saved Soft_Dense_MoE\n",
      "User:  13\n",
      "INFO:tensorflow:Assets written to: c:\\Users\\rs1044\\bwSyncShare\\02Python Code\\MoE-based-FL-for-secure-STLF/models/Local_learning/Soft_BiLSTM_MoE/User12\\assets\n"
     ]
    },
    {
     "name": "stderr",
     "output_type": "stream",
     "text": [
      "INFO:tensorflow:Assets written to: c:\\Users\\rs1044\\bwSyncShare\\02Python Code\\MoE-based-FL-for-secure-STLF/models/Local_learning/Soft_BiLSTM_MoE/User12\\assets\n"
     ]
    },
    {
     "name": "stdout",
     "output_type": "stream",
     "text": [
      "Saved Soft_Dense_MoE\n",
      "User:  14\n",
      "INFO:tensorflow:Assets written to: c:\\Users\\rs1044\\bwSyncShare\\02Python Code\\MoE-based-FL-for-secure-STLF/models/Local_learning/Soft_BiLSTM_MoE/User13\\assets\n"
     ]
    },
    {
     "name": "stderr",
     "output_type": "stream",
     "text": [
      "INFO:tensorflow:Assets written to: c:\\Users\\rs1044\\bwSyncShare\\02Python Code\\MoE-based-FL-for-secure-STLF/models/Local_learning/Soft_BiLSTM_MoE/User13\\assets\n"
     ]
    },
    {
     "name": "stdout",
     "output_type": "stream",
     "text": [
      "Saved Soft_Dense_MoE\n",
      "User:  15\n",
      "INFO:tensorflow:Assets written to: c:\\Users\\rs1044\\bwSyncShare\\02Python Code\\MoE-based-FL-for-secure-STLF/models/Local_learning/Soft_BiLSTM_MoE/User14\\assets\n"
     ]
    },
    {
     "name": "stderr",
     "output_type": "stream",
     "text": [
      "INFO:tensorflow:Assets written to: c:\\Users\\rs1044\\bwSyncShare\\02Python Code\\MoE-based-FL-for-secure-STLF/models/Local_learning/Soft_BiLSTM_MoE/User14\\assets\n"
     ]
    },
    {
     "name": "stdout",
     "output_type": "stream",
     "text": [
      "Saved Soft_Dense_MoE\n",
      "User:  16\n",
      "INFO:tensorflow:Assets written to: c:\\Users\\rs1044\\bwSyncShare\\02Python Code\\MoE-based-FL-for-secure-STLF/models/Local_learning/Soft_BiLSTM_MoE/User15\\assets\n"
     ]
    },
    {
     "name": "stderr",
     "output_type": "stream",
     "text": [
      "INFO:tensorflow:Assets written to: c:\\Users\\rs1044\\bwSyncShare\\02Python Code\\MoE-based-FL-for-secure-STLF/models/Local_learning/Soft_BiLSTM_MoE/User15\\assets\n"
     ]
    },
    {
     "name": "stdout",
     "output_type": "stream",
     "text": [
      "Saved Soft_Dense_MoE\n",
      "User:  17\n",
      "INFO:tensorflow:Assets written to: c:\\Users\\rs1044\\bwSyncShare\\02Python Code\\MoE-based-FL-for-secure-STLF/models/Local_learning/Soft_BiLSTM_MoE/User16\\assets\n"
     ]
    },
    {
     "name": "stderr",
     "output_type": "stream",
     "text": [
      "INFO:tensorflow:Assets written to: c:\\Users\\rs1044\\bwSyncShare\\02Python Code\\MoE-based-FL-for-secure-STLF/models/Local_learning/Soft_BiLSTM_MoE/User16\\assets\n"
     ]
    },
    {
     "name": "stdout",
     "output_type": "stream",
     "text": [
      "Saved Soft_Dense_MoE\n",
      "User:  18\n",
      "INFO:tensorflow:Assets written to: c:\\Users\\rs1044\\bwSyncShare\\02Python Code\\MoE-based-FL-for-secure-STLF/models/Local_learning/Soft_BiLSTM_MoE/User17\\assets\n"
     ]
    },
    {
     "name": "stderr",
     "output_type": "stream",
     "text": [
      "INFO:tensorflow:Assets written to: c:\\Users\\rs1044\\bwSyncShare\\02Python Code\\MoE-based-FL-for-secure-STLF/models/Local_learning/Soft_BiLSTM_MoE/User17\\assets\n"
     ]
    },
    {
     "name": "stdout",
     "output_type": "stream",
     "text": [
      "Saved Soft_Dense_MoE\n",
      "User:  19\n",
      "INFO:tensorflow:Assets written to: c:\\Users\\rs1044\\bwSyncShare\\02Python Code\\MoE-based-FL-for-secure-STLF/models/Local_learning/Soft_BiLSTM_MoE/User18\\assets\n"
     ]
    },
    {
     "name": "stderr",
     "output_type": "stream",
     "text": [
      "INFO:tensorflow:Assets written to: c:\\Users\\rs1044\\bwSyncShare\\02Python Code\\MoE-based-FL-for-secure-STLF/models/Local_learning/Soft_BiLSTM_MoE/User18\\assets\n"
     ]
    },
    {
     "name": "stdout",
     "output_type": "stream",
     "text": [
      "Saved Soft_Dense_MoE\n",
      "User:  20\n",
      "INFO:tensorflow:Assets written to: c:\\Users\\rs1044\\bwSyncShare\\02Python Code\\MoE-based-FL-for-secure-STLF/models/Local_learning/Soft_BiLSTM_MoE/User19\\assets\n"
     ]
    },
    {
     "name": "stderr",
     "output_type": "stream",
     "text": [
      "INFO:tensorflow:Assets written to: c:\\Users\\rs1044\\bwSyncShare\\02Python Code\\MoE-based-FL-for-secure-STLF/models/Local_learning/Soft_BiLSTM_MoE/User19\\assets\n"
     ]
    },
    {
     "name": "stdout",
     "output_type": "stream",
     "text": [
      "Saved Soft_Dense_MoE\n",
      "User:  21\n",
      "INFO:tensorflow:Assets written to: c:\\Users\\rs1044\\bwSyncShare\\02Python Code\\MoE-based-FL-for-secure-STLF/models/Local_learning/Soft_BiLSTM_MoE/User20\\assets\n"
     ]
    },
    {
     "name": "stderr",
     "output_type": "stream",
     "text": [
      "INFO:tensorflow:Assets written to: c:\\Users\\rs1044\\bwSyncShare\\02Python Code\\MoE-based-FL-for-secure-STLF/models/Local_learning/Soft_BiLSTM_MoE/User20\\assets\n"
     ]
    },
    {
     "name": "stdout",
     "output_type": "stream",
     "text": [
      "Saved Soft_Dense_MoE\n",
      "User:  22\n",
      "INFO:tensorflow:Assets written to: c:\\Users\\rs1044\\bwSyncShare\\02Python Code\\MoE-based-FL-for-secure-STLF/models/Local_learning/Soft_BiLSTM_MoE/User21\\assets\n"
     ]
    },
    {
     "name": "stderr",
     "output_type": "stream",
     "text": [
      "INFO:tensorflow:Assets written to: c:\\Users\\rs1044\\bwSyncShare\\02Python Code\\MoE-based-FL-for-secure-STLF/models/Local_learning/Soft_BiLSTM_MoE/User21\\assets\n"
     ]
    },
    {
     "name": "stdout",
     "output_type": "stream",
     "text": [
      "Saved Soft_Dense_MoE\n",
      "User:  23\n",
      "INFO:tensorflow:Assets written to: c:\\Users\\rs1044\\bwSyncShare\\02Python Code\\MoE-based-FL-for-secure-STLF/models/Local_learning/Soft_BiLSTM_MoE/User22\\assets\n"
     ]
    },
    {
     "name": "stderr",
     "output_type": "stream",
     "text": [
      "INFO:tensorflow:Assets written to: c:\\Users\\rs1044\\bwSyncShare\\02Python Code\\MoE-based-FL-for-secure-STLF/models/Local_learning/Soft_BiLSTM_MoE/User22\\assets\n"
     ]
    },
    {
     "name": "stdout",
     "output_type": "stream",
     "text": [
      "Saved Soft_Dense_MoE\n",
      "User:  24\n",
      "INFO:tensorflow:Assets written to: c:\\Users\\rs1044\\bwSyncShare\\02Python Code\\MoE-based-FL-for-secure-STLF/models/Local_learning/Soft_BiLSTM_MoE/User23\\assets\n"
     ]
    },
    {
     "name": "stderr",
     "output_type": "stream",
     "text": [
      "INFO:tensorflow:Assets written to: c:\\Users\\rs1044\\bwSyncShare\\02Python Code\\MoE-based-FL-for-secure-STLF/models/Local_learning/Soft_BiLSTM_MoE/User23\\assets\n"
     ]
    },
    {
     "name": "stdout",
     "output_type": "stream",
     "text": [
      "Saved Soft_Dense_MoE\n",
      "User:  25\n",
      "INFO:tensorflow:Assets written to: c:\\Users\\rs1044\\bwSyncShare\\02Python Code\\MoE-based-FL-for-secure-STLF/models/Local_learning/Soft_BiLSTM_MoE/User24\\assets\n"
     ]
    },
    {
     "name": "stderr",
     "output_type": "stream",
     "text": [
      "INFO:tensorflow:Assets written to: c:\\Users\\rs1044\\bwSyncShare\\02Python Code\\MoE-based-FL-for-secure-STLF/models/Local_learning/Soft_BiLSTM_MoE/User24\\assets\n"
     ]
    },
    {
     "name": "stdout",
     "output_type": "stream",
     "text": [
      "Saved Soft_Dense_MoE\n",
      "User:  26\n",
      "INFO:tensorflow:Assets written to: c:\\Users\\rs1044\\bwSyncShare\\02Python Code\\MoE-based-FL-for-secure-STLF/models/Local_learning/Soft_BiLSTM_MoE/User25\\assets\n"
     ]
    },
    {
     "name": "stderr",
     "output_type": "stream",
     "text": [
      "INFO:tensorflow:Assets written to: c:\\Users\\rs1044\\bwSyncShare\\02Python Code\\MoE-based-FL-for-secure-STLF/models/Local_learning/Soft_BiLSTM_MoE/User25\\assets\n"
     ]
    },
    {
     "name": "stdout",
     "output_type": "stream",
     "text": [
      "Saved Soft_Dense_MoE\n",
      "User:  27\n",
      "INFO:tensorflow:Assets written to: c:\\Users\\rs1044\\bwSyncShare\\02Python Code\\MoE-based-FL-for-secure-STLF/models/Local_learning/Soft_BiLSTM_MoE/User26\\assets\n"
     ]
    },
    {
     "name": "stderr",
     "output_type": "stream",
     "text": [
      "INFO:tensorflow:Assets written to: c:\\Users\\rs1044\\bwSyncShare\\02Python Code\\MoE-based-FL-for-secure-STLF/models/Local_learning/Soft_BiLSTM_MoE/User26\\assets\n"
     ]
    },
    {
     "name": "stdout",
     "output_type": "stream",
     "text": [
      "Saved Soft_Dense_MoE\n",
      "User:  28\n",
      "INFO:tensorflow:Assets written to: c:\\Users\\rs1044\\bwSyncShare\\02Python Code\\MoE-based-FL-for-secure-STLF/models/Local_learning/Soft_BiLSTM_MoE/User27\\assets\n"
     ]
    },
    {
     "name": "stderr",
     "output_type": "stream",
     "text": [
      "INFO:tensorflow:Assets written to: c:\\Users\\rs1044\\bwSyncShare\\02Python Code\\MoE-based-FL-for-secure-STLF/models/Local_learning/Soft_BiLSTM_MoE/User27\\assets\n"
     ]
    },
    {
     "name": "stdout",
     "output_type": "stream",
     "text": [
      "Saved Soft_Dense_MoE\n",
      "User:  29\n",
      "INFO:tensorflow:Assets written to: c:\\Users\\rs1044\\bwSyncShare\\02Python Code\\MoE-based-FL-for-secure-STLF/models/Local_learning/Soft_BiLSTM_MoE/User28\\assets\n"
     ]
    },
    {
     "name": "stderr",
     "output_type": "stream",
     "text": [
      "INFO:tensorflow:Assets written to: c:\\Users\\rs1044\\bwSyncShare\\02Python Code\\MoE-based-FL-for-secure-STLF/models/Local_learning/Soft_BiLSTM_MoE/User28\\assets\n"
     ]
    },
    {
     "name": "stdout",
     "output_type": "stream",
     "text": [
      "Saved Soft_Dense_MoE\n",
      "User:  30\n",
      "INFO:tensorflow:Assets written to: c:\\Users\\rs1044\\bwSyncShare\\02Python Code\\MoE-based-FL-for-secure-STLF/models/Local_learning/Soft_BiLSTM_MoE/User29\\assets\n"
     ]
    },
    {
     "name": "stderr",
     "output_type": "stream",
     "text": [
      "INFO:tensorflow:Assets written to: c:\\Users\\rs1044\\bwSyncShare\\02Python Code\\MoE-based-FL-for-secure-STLF/models/Local_learning/Soft_BiLSTM_MoE/User29\\assets\n"
     ]
    },
    {
     "name": "stdout",
     "output_type": "stream",
     "text": [
      "Saved Soft_Dense_MoE\n"
     ]
    }
   ],
   "source": [
    "bilstm_moe_architecture = \"Soft_BiLSTM_MoE\"\n",
    "lstm_units = 4\n",
    "num_experts = 4\n",
    "expert_units = 8\n",
    "\n",
    "dense_all_results = pd.DataFrame(columns=[\"user\", \"architecture\", \"train_time\", \"avg_time_epoch\", \"mse\", \"rmse\", \"mape\", \"mae\"])\n",
    "#For each of the 3 user\n",
    "for idx in range(len(df_array)):\n",
    "    print(\"User: \", idx+1)\n",
    "    for round in range(3):\n",
    "        #print(\"Round: \", round)\n",
    "        dense_model = m1.build_soft_biLSTM_moe_model(X_train[f'user{idx+1}'], batch_size, horizon, lstm_units, num_experts, expert_units, m1)\n",
    "        dense_histroy, dense_user_results = mh.compile_fit_evaluate_model(\n",
    "            model=dense_model, \n",
    "            loss=loss, \n",
    "            metrics=metrics, \n",
    "            X_train=X_train[f'user{idx+1}'],\n",
    "            y_train = y_train[f'user{idx+1}'], \n",
    "            max_epochs = max_epochs, \n",
    "            batch_size=batch_size, \n",
    "            X_val=X_val[f'user{idx+1}'], \n",
    "            y_val=y_val[f'user{idx+1}'], \n",
    "            X_test=X_test[f'user{idx+1}'], \n",
    "            y_test=y_test[f'user{idx+1}'], \n",
    "            callbacks=callbacks, \n",
    "            user=f'user{idx+1}', \n",
    "            hyper=dense_moe_architecture,\n",
    "            optimizer=tf.keras.optimizers.Adam(learning_rate=0.001)\n",
    "        )\n",
    "        # Add the 'architecture' column from dense_user_results to dense_results\n",
    "        dense_all_results = pd.merge(dense_all_results, dense_user_results, how='outer')   \n",
    "\n",
    "    dense_model.save(cwd + f\"/models/Local_learning/{bilstm_moe_architecture}/User{idx}\")\n",
    "    print(\"Saved Soft_Dense_MoE\")  \n",
    "\n",
    "for idx in range(len(df_array)):\n",
    "    new_row = {\n",
    "        'architecture': dense_all_results[\"architecture\"][0],\n",
    "        'train_time': dense_all_results[dense_all_results[\"user\"]==f\"user{idx+1}\"][\"train_time\"].mean(), \n",
    "        'avg_time_epoch' : dense_all_results[dense_all_results[\"user\"]==f\"user{idx+1}\"][\"avg_time_epoch\"].mean(),\n",
    "        'mse': dense_all_results[dense_all_results[\"user\"]==f\"user{idx+1}\"][\"mse\"].mean(),\n",
    "        'mse_std' : dense_all_results[dense_all_results[\"user\"]==f\"user{idx+1}\"][\"mse\"].std(),\n",
    "        'rmse': dense_all_results[dense_all_results[\"user\"]==f\"user{idx+1}\"][\"rmse\"].mean(),\n",
    "        'rmse_std' : dense_all_results[dense_all_results[\"user\"]==f\"user{idx+1}\"][\"rmse\"].std(),\n",
    "        'mape': dense_all_results[dense_all_results[\"user\"]==f\"user{idx+1}\"][\"mape\"].mean(),\n",
    "        'mape_std' : dense_all_results[dense_all_results[\"user\"]==f\"user{idx+1}\"][\"mape\"].std(),\n",
    "        'mae': dense_all_results[dense_all_results[\"user\"]==f\"user{idx+1}\"][\"mae\"].mean(),\n",
    "        'mae_std' : dense_all_results[dense_all_results[\"user\"]==f\"user{idx+1}\"][\"mae\"].std(),\n",
    "    }\n",
    "    dense_results.loc[len(dense_results)] = new_row"
   ]
  },
  {
   "cell_type": "code",
   "execution_count": 8,
   "metadata": {},
   "outputs": [
    {
     "data": {
      "text/html": [
       "<div>\n",
       "<style scoped>\n",
       "    .dataframe tbody tr th:only-of-type {\n",
       "        vertical-align: middle;\n",
       "    }\n",
       "\n",
       "    .dataframe tbody tr th {\n",
       "        vertical-align: top;\n",
       "    }\n",
       "\n",
       "    .dataframe thead th {\n",
       "        text-align: right;\n",
       "    }\n",
       "</style>\n",
       "<table border=\"1\" class=\"dataframe\">\n",
       "  <thead>\n",
       "    <tr style=\"text-align: right;\">\n",
       "      <th></th>\n",
       "      <th>architecture</th>\n",
       "      <th>train_time</th>\n",
       "      <th>avg_time_epoch</th>\n",
       "      <th>mse</th>\n",
       "      <th>mse_std</th>\n",
       "      <th>rmse</th>\n",
       "      <th>rmse_std</th>\n",
       "      <th>mape</th>\n",
       "      <th>mape_std</th>\n",
       "      <th>mae</th>\n",
       "      <th>mae_std</th>\n",
       "    </tr>\n",
       "  </thead>\n",
       "  <tbody>\n",
       "    <tr>\n",
       "      <th>0</th>\n",
       "      <td>Soft_Dense_MoE</td>\n",
       "      <td>15.626359</td>\n",
       "      <td>0.463006</td>\n",
       "      <td>0.034008</td>\n",
       "      <td>0.001083</td>\n",
       "      <td>0.184397</td>\n",
       "      <td>0.002948</td>\n",
       "      <td>8.830589e+04</td>\n",
       "      <td>19232.836431</td>\n",
       "      <td>0.129079</td>\n",
       "      <td>0.003706</td>\n",
       "    </tr>\n",
       "    <tr>\n",
       "      <th>1</th>\n",
       "      <td>Soft_Dense_MoE</td>\n",
       "      <td>9.322736</td>\n",
       "      <td>0.478693</td>\n",
       "      <td>0.018306</td>\n",
       "      <td>0.000799</td>\n",
       "      <td>0.135277</td>\n",
       "      <td>0.002945</td>\n",
       "      <td>1.604002e+05</td>\n",
       "      <td>29655.439462</td>\n",
       "      <td>0.076615</td>\n",
       "      <td>0.001233</td>\n",
       "    </tr>\n",
       "    <tr>\n",
       "      <th>2</th>\n",
       "      <td>Soft_Dense_MoE</td>\n",
       "      <td>11.822861</td>\n",
       "      <td>0.475102</td>\n",
       "      <td>0.019897</td>\n",
       "      <td>0.000272</td>\n",
       "      <td>0.141054</td>\n",
       "      <td>0.000964</td>\n",
       "      <td>5.190807e+04</td>\n",
       "      <td>10837.389705</td>\n",
       "      <td>0.079009</td>\n",
       "      <td>0.003142</td>\n",
       "    </tr>\n",
       "    <tr>\n",
       "      <th>3</th>\n",
       "      <td>Soft_Dense_MoE</td>\n",
       "      <td>13.700077</td>\n",
       "      <td>0.461089</td>\n",
       "      <td>0.023119</td>\n",
       "      <td>0.001371</td>\n",
       "      <td>0.152004</td>\n",
       "      <td>0.004542</td>\n",
       "      <td>1.215700e+05</td>\n",
       "      <td>16326.066329</td>\n",
       "      <td>0.065597</td>\n",
       "      <td>0.003234</td>\n",
       "    </tr>\n",
       "    <tr>\n",
       "      <th>4</th>\n",
       "      <td>Soft_Dense_MoE</td>\n",
       "      <td>15.611840</td>\n",
       "      <td>0.485246</td>\n",
       "      <td>0.014659</td>\n",
       "      <td>0.000378</td>\n",
       "      <td>0.121067</td>\n",
       "      <td>0.001568</td>\n",
       "      <td>9.773217e+04</td>\n",
       "      <td>21146.666917</td>\n",
       "      <td>0.079981</td>\n",
       "      <td>0.007227</td>\n",
       "    </tr>\n",
       "    <tr>\n",
       "      <th>...</th>\n",
       "      <td>...</td>\n",
       "      <td>...</td>\n",
       "      <td>...</td>\n",
       "      <td>...</td>\n",
       "      <td>...</td>\n",
       "      <td>...</td>\n",
       "      <td>...</td>\n",
       "      <td>...</td>\n",
       "      <td>...</td>\n",
       "      <td>...</td>\n",
       "      <td>...</td>\n",
       "    </tr>\n",
       "    <tr>\n",
       "      <th>85</th>\n",
       "      <td>TopK_Dense_MoE</td>\n",
       "      <td>53.280330</td>\n",
       "      <td>1.398305</td>\n",
       "      <td>0.023779</td>\n",
       "      <td>0.001476</td>\n",
       "      <td>0.154155</td>\n",
       "      <td>0.004825</td>\n",
       "      <td>1.363704e+05</td>\n",
       "      <td>25981.224075</td>\n",
       "      <td>0.091218</td>\n",
       "      <td>0.001862</td>\n",
       "    </tr>\n",
       "    <tr>\n",
       "      <th>86</th>\n",
       "      <td>TopK_Dense_MoE</td>\n",
       "      <td>50.668634</td>\n",
       "      <td>1.393632</td>\n",
       "      <td>0.017601</td>\n",
       "      <td>0.000571</td>\n",
       "      <td>0.132656</td>\n",
       "      <td>0.002160</td>\n",
       "      <td>2.413912e+05</td>\n",
       "      <td>13535.949480</td>\n",
       "      <td>0.088671</td>\n",
       "      <td>0.000721</td>\n",
       "    </tr>\n",
       "    <tr>\n",
       "      <th>87</th>\n",
       "      <td>TopK_Dense_MoE</td>\n",
       "      <td>36.918722</td>\n",
       "      <td>1.415364</td>\n",
       "      <td>0.010855</td>\n",
       "      <td>0.000199</td>\n",
       "      <td>0.104184</td>\n",
       "      <td>0.000952</td>\n",
       "      <td>6.014136e+04</td>\n",
       "      <td>5915.740136</td>\n",
       "      <td>0.045907</td>\n",
       "      <td>0.002740</td>\n",
       "    </tr>\n",
       "    <tr>\n",
       "      <th>88</th>\n",
       "      <td>TopK_Dense_MoE</td>\n",
       "      <td>47.375805</td>\n",
       "      <td>1.389546</td>\n",
       "      <td>0.016744</td>\n",
       "      <td>0.000276</td>\n",
       "      <td>0.129397</td>\n",
       "      <td>0.001070</td>\n",
       "      <td>3.555199e+05</td>\n",
       "      <td>44652.313194</td>\n",
       "      <td>0.090446</td>\n",
       "      <td>0.000722</td>\n",
       "    </tr>\n",
       "    <tr>\n",
       "      <th>89</th>\n",
       "      <td>TopK_Dense_MoE</td>\n",
       "      <td>48.644178</td>\n",
       "      <td>1.374676</td>\n",
       "      <td>0.016463</td>\n",
       "      <td>0.000201</td>\n",
       "      <td>0.128306</td>\n",
       "      <td>0.000786</td>\n",
       "      <td>1.521567e+06</td>\n",
       "      <td>291385.775289</td>\n",
       "      <td>0.081179</td>\n",
       "      <td>0.001801</td>\n",
       "    </tr>\n",
       "  </tbody>\n",
       "</table>\n",
       "<p>90 rows × 11 columns</p>\n",
       "</div>"
      ],
      "text/plain": [
       "      architecture  train_time  avg_time_epoch       mse   mse_std      rmse  \\\n",
       "0   Soft_Dense_MoE   15.626359        0.463006  0.034008  0.001083  0.184397   \n",
       "1   Soft_Dense_MoE    9.322736        0.478693  0.018306  0.000799  0.135277   \n",
       "2   Soft_Dense_MoE   11.822861        0.475102  0.019897  0.000272  0.141054   \n",
       "3   Soft_Dense_MoE   13.700077        0.461089  0.023119  0.001371  0.152004   \n",
       "4   Soft_Dense_MoE   15.611840        0.485246  0.014659  0.000378  0.121067   \n",
       "..             ...         ...             ...       ...       ...       ...   \n",
       "85  TopK_Dense_MoE   53.280330        1.398305  0.023779  0.001476  0.154155   \n",
       "86  TopK_Dense_MoE   50.668634        1.393632  0.017601  0.000571  0.132656   \n",
       "87  TopK_Dense_MoE   36.918722        1.415364  0.010855  0.000199  0.104184   \n",
       "88  TopK_Dense_MoE   47.375805        1.389546  0.016744  0.000276  0.129397   \n",
       "89  TopK_Dense_MoE   48.644178        1.374676  0.016463  0.000201  0.128306   \n",
       "\n",
       "    rmse_std          mape       mape_std       mae   mae_std  \n",
       "0   0.002948  8.830589e+04   19232.836431  0.129079  0.003706  \n",
       "1   0.002945  1.604002e+05   29655.439462  0.076615  0.001233  \n",
       "2   0.000964  5.190807e+04   10837.389705  0.079009  0.003142  \n",
       "3   0.004542  1.215700e+05   16326.066329  0.065597  0.003234  \n",
       "4   0.001568  9.773217e+04   21146.666917  0.079981  0.007227  \n",
       "..       ...           ...            ...       ...       ...  \n",
       "85  0.004825  1.363704e+05   25981.224075  0.091218  0.001862  \n",
       "86  0.002160  2.413912e+05   13535.949480  0.088671  0.000721  \n",
       "87  0.000952  6.014136e+04    5915.740136  0.045907  0.002740  \n",
       "88  0.001070  3.555199e+05   44652.313194  0.090446  0.000722  \n",
       "89  0.000786  1.521567e+06  291385.775289  0.081179  0.001801  \n",
       "\n",
       "[90 rows x 11 columns]"
      ]
     },
     "execution_count": 8,
     "metadata": {},
     "output_type": "execute_result"
    }
   ],
   "source": [
    "dense_results.to_csv(f'evaluations/Local_learning/{bilstm_moe_architecture}.csv')\n",
    "dense_results"
   ]
  },
  {
   "cell_type": "markdown",
   "metadata": {},
   "source": [
    "# Top K MoE Bidirectional LSTM"
   ]
  },
  {
   "cell_type": "code",
   "execution_count": 9,
   "metadata": {},
   "outputs": [
    {
     "name": "stdout",
     "output_type": "stream",
     "text": [
      "User:  1\n",
      "INFO:tensorflow:Assets written to: c:\\Users\\rs1044\\bwSyncShare\\02Python Code\\MoE-based-FL-for-secure-STLF/models/Local_learning/TopK_BiLSTM_MoE/User0\\assets\n"
     ]
    },
    {
     "name": "stderr",
     "output_type": "stream",
     "text": [
      "INFO:tensorflow:Assets written to: c:\\Users\\rs1044\\bwSyncShare\\02Python Code\\MoE-based-FL-for-secure-STLF/models/Local_learning/TopK_BiLSTM_MoE/User0\\assets\n"
     ]
    },
    {
     "name": "stdout",
     "output_type": "stream",
     "text": [
      "Saved Soft_Dense_MoE\n",
      "User:  2\n",
      "INFO:tensorflow:Assets written to: c:\\Users\\rs1044\\bwSyncShare\\02Python Code\\MoE-based-FL-for-secure-STLF/models/Local_learning/TopK_BiLSTM_MoE/User1\\assets\n"
     ]
    },
    {
     "name": "stderr",
     "output_type": "stream",
     "text": [
      "INFO:tensorflow:Assets written to: c:\\Users\\rs1044\\bwSyncShare\\02Python Code\\MoE-based-FL-for-secure-STLF/models/Local_learning/TopK_BiLSTM_MoE/User1\\assets\n"
     ]
    },
    {
     "name": "stdout",
     "output_type": "stream",
     "text": [
      "Saved Soft_Dense_MoE\n",
      "User:  3\n",
      "INFO:tensorflow:Assets written to: c:\\Users\\rs1044\\bwSyncShare\\02Python Code\\MoE-based-FL-for-secure-STLF/models/Local_learning/TopK_BiLSTM_MoE/User2\\assets\n"
     ]
    },
    {
     "name": "stderr",
     "output_type": "stream",
     "text": [
      "INFO:tensorflow:Assets written to: c:\\Users\\rs1044\\bwSyncShare\\02Python Code\\MoE-based-FL-for-secure-STLF/models/Local_learning/TopK_BiLSTM_MoE/User2\\assets\n"
     ]
    },
    {
     "name": "stdout",
     "output_type": "stream",
     "text": [
      "Saved Soft_Dense_MoE\n",
      "User:  4\n",
      "INFO:tensorflow:Assets written to: c:\\Users\\rs1044\\bwSyncShare\\02Python Code\\MoE-based-FL-for-secure-STLF/models/Local_learning/TopK_BiLSTM_MoE/User3\\assets\n"
     ]
    },
    {
     "name": "stderr",
     "output_type": "stream",
     "text": [
      "INFO:tensorflow:Assets written to: c:\\Users\\rs1044\\bwSyncShare\\02Python Code\\MoE-based-FL-for-secure-STLF/models/Local_learning/TopK_BiLSTM_MoE/User3\\assets\n"
     ]
    },
    {
     "name": "stdout",
     "output_type": "stream",
     "text": [
      "Saved Soft_Dense_MoE\n",
      "User:  5\n",
      "INFO:tensorflow:Assets written to: c:\\Users\\rs1044\\bwSyncShare\\02Python Code\\MoE-based-FL-for-secure-STLF/models/Local_learning/TopK_BiLSTM_MoE/User4\\assets\n"
     ]
    },
    {
     "name": "stderr",
     "output_type": "stream",
     "text": [
      "INFO:tensorflow:Assets written to: c:\\Users\\rs1044\\bwSyncShare\\02Python Code\\MoE-based-FL-for-secure-STLF/models/Local_learning/TopK_BiLSTM_MoE/User4\\assets\n"
     ]
    },
    {
     "name": "stdout",
     "output_type": "stream",
     "text": [
      "Saved Soft_Dense_MoE\n",
      "User:  6\n",
      "INFO:tensorflow:Assets written to: c:\\Users\\rs1044\\bwSyncShare\\02Python Code\\MoE-based-FL-for-secure-STLF/models/Local_learning/TopK_BiLSTM_MoE/User5\\assets\n"
     ]
    },
    {
     "name": "stderr",
     "output_type": "stream",
     "text": [
      "INFO:tensorflow:Assets written to: c:\\Users\\rs1044\\bwSyncShare\\02Python Code\\MoE-based-FL-for-secure-STLF/models/Local_learning/TopK_BiLSTM_MoE/User5\\assets\n"
     ]
    },
    {
     "name": "stdout",
     "output_type": "stream",
     "text": [
      "Saved Soft_Dense_MoE\n",
      "User:  7\n",
      "INFO:tensorflow:Assets written to: c:\\Users\\rs1044\\bwSyncShare\\02Python Code\\MoE-based-FL-for-secure-STLF/models/Local_learning/TopK_BiLSTM_MoE/User6\\assets\n"
     ]
    },
    {
     "name": "stderr",
     "output_type": "stream",
     "text": [
      "INFO:tensorflow:Assets written to: c:\\Users\\rs1044\\bwSyncShare\\02Python Code\\MoE-based-FL-for-secure-STLF/models/Local_learning/TopK_BiLSTM_MoE/User6\\assets\n"
     ]
    },
    {
     "name": "stdout",
     "output_type": "stream",
     "text": [
      "Saved Soft_Dense_MoE\n",
      "User:  8\n",
      "INFO:tensorflow:Assets written to: c:\\Users\\rs1044\\bwSyncShare\\02Python Code\\MoE-based-FL-for-secure-STLF/models/Local_learning/TopK_BiLSTM_MoE/User7\\assets\n"
     ]
    },
    {
     "name": "stderr",
     "output_type": "stream",
     "text": [
      "INFO:tensorflow:Assets written to: c:\\Users\\rs1044\\bwSyncShare\\02Python Code\\MoE-based-FL-for-secure-STLF/models/Local_learning/TopK_BiLSTM_MoE/User7\\assets\n"
     ]
    },
    {
     "name": "stdout",
     "output_type": "stream",
     "text": [
      "Saved Soft_Dense_MoE\n",
      "User:  9\n",
      "INFO:tensorflow:Assets written to: c:\\Users\\rs1044\\bwSyncShare\\02Python Code\\MoE-based-FL-for-secure-STLF/models/Local_learning/TopK_BiLSTM_MoE/User8\\assets\n"
     ]
    },
    {
     "name": "stderr",
     "output_type": "stream",
     "text": [
      "INFO:tensorflow:Assets written to: c:\\Users\\rs1044\\bwSyncShare\\02Python Code\\MoE-based-FL-for-secure-STLF/models/Local_learning/TopK_BiLSTM_MoE/User8\\assets\n"
     ]
    },
    {
     "name": "stdout",
     "output_type": "stream",
     "text": [
      "Saved Soft_Dense_MoE\n",
      "User:  10\n",
      "INFO:tensorflow:Assets written to: c:\\Users\\rs1044\\bwSyncShare\\02Python Code\\MoE-based-FL-for-secure-STLF/models/Local_learning/TopK_BiLSTM_MoE/User9\\assets\n"
     ]
    },
    {
     "name": "stderr",
     "output_type": "stream",
     "text": [
      "INFO:tensorflow:Assets written to: c:\\Users\\rs1044\\bwSyncShare\\02Python Code\\MoE-based-FL-for-secure-STLF/models/Local_learning/TopK_BiLSTM_MoE/User9\\assets\n"
     ]
    },
    {
     "name": "stdout",
     "output_type": "stream",
     "text": [
      "Saved Soft_Dense_MoE\n",
      "User:  11\n",
      "INFO:tensorflow:Assets written to: c:\\Users\\rs1044\\bwSyncShare\\02Python Code\\MoE-based-FL-for-secure-STLF/models/Local_learning/TopK_BiLSTM_MoE/User10\\assets\n"
     ]
    },
    {
     "name": "stderr",
     "output_type": "stream",
     "text": [
      "INFO:tensorflow:Assets written to: c:\\Users\\rs1044\\bwSyncShare\\02Python Code\\MoE-based-FL-for-secure-STLF/models/Local_learning/TopK_BiLSTM_MoE/User10\\assets\n"
     ]
    },
    {
     "name": "stdout",
     "output_type": "stream",
     "text": [
      "Saved Soft_Dense_MoE\n",
      "User:  12\n",
      "INFO:tensorflow:Assets written to: c:\\Users\\rs1044\\bwSyncShare\\02Python Code\\MoE-based-FL-for-secure-STLF/models/Local_learning/TopK_BiLSTM_MoE/User11\\assets\n"
     ]
    },
    {
     "name": "stderr",
     "output_type": "stream",
     "text": [
      "INFO:tensorflow:Assets written to: c:\\Users\\rs1044\\bwSyncShare\\02Python Code\\MoE-based-FL-for-secure-STLF/models/Local_learning/TopK_BiLSTM_MoE/User11\\assets\n"
     ]
    },
    {
     "name": "stdout",
     "output_type": "stream",
     "text": [
      "Saved Soft_Dense_MoE\n",
      "User:  13\n",
      "INFO:tensorflow:Assets written to: c:\\Users\\rs1044\\bwSyncShare\\02Python Code\\MoE-based-FL-for-secure-STLF/models/Local_learning/TopK_BiLSTM_MoE/User12\\assets\n"
     ]
    },
    {
     "name": "stderr",
     "output_type": "stream",
     "text": [
      "INFO:tensorflow:Assets written to: c:\\Users\\rs1044\\bwSyncShare\\02Python Code\\MoE-based-FL-for-secure-STLF/models/Local_learning/TopK_BiLSTM_MoE/User12\\assets\n"
     ]
    },
    {
     "name": "stdout",
     "output_type": "stream",
     "text": [
      "Saved Soft_Dense_MoE\n",
      "User:  14\n",
      "INFO:tensorflow:Assets written to: c:\\Users\\rs1044\\bwSyncShare\\02Python Code\\MoE-based-FL-for-secure-STLF/models/Local_learning/TopK_BiLSTM_MoE/User13\\assets\n"
     ]
    },
    {
     "name": "stderr",
     "output_type": "stream",
     "text": [
      "INFO:tensorflow:Assets written to: c:\\Users\\rs1044\\bwSyncShare\\02Python Code\\MoE-based-FL-for-secure-STLF/models/Local_learning/TopK_BiLSTM_MoE/User13\\assets\n"
     ]
    },
    {
     "name": "stdout",
     "output_type": "stream",
     "text": [
      "Saved Soft_Dense_MoE\n",
      "User:  15\n",
      "INFO:tensorflow:Assets written to: c:\\Users\\rs1044\\bwSyncShare\\02Python Code\\MoE-based-FL-for-secure-STLF/models/Local_learning/TopK_BiLSTM_MoE/User14\\assets\n"
     ]
    },
    {
     "name": "stderr",
     "output_type": "stream",
     "text": [
      "INFO:tensorflow:Assets written to: c:\\Users\\rs1044\\bwSyncShare\\02Python Code\\MoE-based-FL-for-secure-STLF/models/Local_learning/TopK_BiLSTM_MoE/User14\\assets\n"
     ]
    },
    {
     "name": "stdout",
     "output_type": "stream",
     "text": [
      "Saved Soft_Dense_MoE\n",
      "User:  16\n",
      "INFO:tensorflow:Assets written to: c:\\Users\\rs1044\\bwSyncShare\\02Python Code\\MoE-based-FL-for-secure-STLF/models/Local_learning/TopK_BiLSTM_MoE/User15\\assets\n"
     ]
    },
    {
     "name": "stderr",
     "output_type": "stream",
     "text": [
      "INFO:tensorflow:Assets written to: c:\\Users\\rs1044\\bwSyncShare\\02Python Code\\MoE-based-FL-for-secure-STLF/models/Local_learning/TopK_BiLSTM_MoE/User15\\assets\n"
     ]
    },
    {
     "name": "stdout",
     "output_type": "stream",
     "text": [
      "Saved Soft_Dense_MoE\n",
      "User:  17\n",
      "INFO:tensorflow:Assets written to: c:\\Users\\rs1044\\bwSyncShare\\02Python Code\\MoE-based-FL-for-secure-STLF/models/Local_learning/TopK_BiLSTM_MoE/User16\\assets\n"
     ]
    },
    {
     "name": "stderr",
     "output_type": "stream",
     "text": [
      "INFO:tensorflow:Assets written to: c:\\Users\\rs1044\\bwSyncShare\\02Python Code\\MoE-based-FL-for-secure-STLF/models/Local_learning/TopK_BiLSTM_MoE/User16\\assets\n"
     ]
    },
    {
     "name": "stdout",
     "output_type": "stream",
     "text": [
      "Saved Soft_Dense_MoE\n",
      "User:  18\n",
      "INFO:tensorflow:Assets written to: c:\\Users\\rs1044\\bwSyncShare\\02Python Code\\MoE-based-FL-for-secure-STLF/models/Local_learning/TopK_BiLSTM_MoE/User17\\assets\n"
     ]
    },
    {
     "name": "stderr",
     "output_type": "stream",
     "text": [
      "INFO:tensorflow:Assets written to: c:\\Users\\rs1044\\bwSyncShare\\02Python Code\\MoE-based-FL-for-secure-STLF/models/Local_learning/TopK_BiLSTM_MoE/User17\\assets\n"
     ]
    },
    {
     "name": "stdout",
     "output_type": "stream",
     "text": [
      "Saved Soft_Dense_MoE\n",
      "User:  19\n",
      "INFO:tensorflow:Assets written to: c:\\Users\\rs1044\\bwSyncShare\\02Python Code\\MoE-based-FL-for-secure-STLF/models/Local_learning/TopK_BiLSTM_MoE/User18\\assets\n"
     ]
    },
    {
     "name": "stderr",
     "output_type": "stream",
     "text": [
      "INFO:tensorflow:Assets written to: c:\\Users\\rs1044\\bwSyncShare\\02Python Code\\MoE-based-FL-for-secure-STLF/models/Local_learning/TopK_BiLSTM_MoE/User18\\assets\n"
     ]
    },
    {
     "name": "stdout",
     "output_type": "stream",
     "text": [
      "Saved Soft_Dense_MoE\n",
      "User:  20\n",
      "INFO:tensorflow:Assets written to: c:\\Users\\rs1044\\bwSyncShare\\02Python Code\\MoE-based-FL-for-secure-STLF/models/Local_learning/TopK_BiLSTM_MoE/User19\\assets\n"
     ]
    },
    {
     "name": "stderr",
     "output_type": "stream",
     "text": [
      "INFO:tensorflow:Assets written to: c:\\Users\\rs1044\\bwSyncShare\\02Python Code\\MoE-based-FL-for-secure-STLF/models/Local_learning/TopK_BiLSTM_MoE/User19\\assets\n"
     ]
    },
    {
     "name": "stdout",
     "output_type": "stream",
     "text": [
      "Saved Soft_Dense_MoE\n",
      "User:  21\n",
      "INFO:tensorflow:Assets written to: c:\\Users\\rs1044\\bwSyncShare\\02Python Code\\MoE-based-FL-for-secure-STLF/models/Local_learning/TopK_BiLSTM_MoE/User20\\assets\n"
     ]
    },
    {
     "name": "stderr",
     "output_type": "stream",
     "text": [
      "INFO:tensorflow:Assets written to: c:\\Users\\rs1044\\bwSyncShare\\02Python Code\\MoE-based-FL-for-secure-STLF/models/Local_learning/TopK_BiLSTM_MoE/User20\\assets\n"
     ]
    },
    {
     "name": "stdout",
     "output_type": "stream",
     "text": [
      "Saved Soft_Dense_MoE\n",
      "User:  22\n",
      "INFO:tensorflow:Assets written to: c:\\Users\\rs1044\\bwSyncShare\\02Python Code\\MoE-based-FL-for-secure-STLF/models/Local_learning/TopK_BiLSTM_MoE/User21\\assets\n"
     ]
    },
    {
     "name": "stderr",
     "output_type": "stream",
     "text": [
      "INFO:tensorflow:Assets written to: c:\\Users\\rs1044\\bwSyncShare\\02Python Code\\MoE-based-FL-for-secure-STLF/models/Local_learning/TopK_BiLSTM_MoE/User21\\assets\n"
     ]
    },
    {
     "name": "stdout",
     "output_type": "stream",
     "text": [
      "Saved Soft_Dense_MoE\n",
      "User:  23\n",
      "INFO:tensorflow:Assets written to: c:\\Users\\rs1044\\bwSyncShare\\02Python Code\\MoE-based-FL-for-secure-STLF/models/Local_learning/TopK_BiLSTM_MoE/User22\\assets\n"
     ]
    },
    {
     "name": "stderr",
     "output_type": "stream",
     "text": [
      "INFO:tensorflow:Assets written to: c:\\Users\\rs1044\\bwSyncShare\\02Python Code\\MoE-based-FL-for-secure-STLF/models/Local_learning/TopK_BiLSTM_MoE/User22\\assets\n"
     ]
    },
    {
     "name": "stdout",
     "output_type": "stream",
     "text": [
      "Saved Soft_Dense_MoE\n",
      "User:  24\n",
      "INFO:tensorflow:Assets written to: c:\\Users\\rs1044\\bwSyncShare\\02Python Code\\MoE-based-FL-for-secure-STLF/models/Local_learning/TopK_BiLSTM_MoE/User23\\assets\n"
     ]
    },
    {
     "name": "stderr",
     "output_type": "stream",
     "text": [
      "INFO:tensorflow:Assets written to: c:\\Users\\rs1044\\bwSyncShare\\02Python Code\\MoE-based-FL-for-secure-STLF/models/Local_learning/TopK_BiLSTM_MoE/User23\\assets\n"
     ]
    },
    {
     "name": "stdout",
     "output_type": "stream",
     "text": [
      "Saved Soft_Dense_MoE\n",
      "User:  25\n",
      "INFO:tensorflow:Assets written to: c:\\Users\\rs1044\\bwSyncShare\\02Python Code\\MoE-based-FL-for-secure-STLF/models/Local_learning/TopK_BiLSTM_MoE/User24\\assets\n"
     ]
    },
    {
     "name": "stderr",
     "output_type": "stream",
     "text": [
      "INFO:tensorflow:Assets written to: c:\\Users\\rs1044\\bwSyncShare\\02Python Code\\MoE-based-FL-for-secure-STLF/models/Local_learning/TopK_BiLSTM_MoE/User24\\assets\n"
     ]
    },
    {
     "name": "stdout",
     "output_type": "stream",
     "text": [
      "Saved Soft_Dense_MoE\n",
      "User:  26\n",
      "INFO:tensorflow:Assets written to: c:\\Users\\rs1044\\bwSyncShare\\02Python Code\\MoE-based-FL-for-secure-STLF/models/Local_learning/TopK_BiLSTM_MoE/User25\\assets\n"
     ]
    },
    {
     "name": "stderr",
     "output_type": "stream",
     "text": [
      "INFO:tensorflow:Assets written to: c:\\Users\\rs1044\\bwSyncShare\\02Python Code\\MoE-based-FL-for-secure-STLF/models/Local_learning/TopK_BiLSTM_MoE/User25\\assets\n"
     ]
    },
    {
     "name": "stdout",
     "output_type": "stream",
     "text": [
      "Saved Soft_Dense_MoE\n",
      "User:  27\n",
      "INFO:tensorflow:Assets written to: c:\\Users\\rs1044\\bwSyncShare\\02Python Code\\MoE-based-FL-for-secure-STLF/models/Local_learning/TopK_BiLSTM_MoE/User26\\assets\n"
     ]
    },
    {
     "name": "stderr",
     "output_type": "stream",
     "text": [
      "INFO:tensorflow:Assets written to: c:\\Users\\rs1044\\bwSyncShare\\02Python Code\\MoE-based-FL-for-secure-STLF/models/Local_learning/TopK_BiLSTM_MoE/User26\\assets\n"
     ]
    },
    {
     "name": "stdout",
     "output_type": "stream",
     "text": [
      "Saved Soft_Dense_MoE\n",
      "User:  28\n",
      "INFO:tensorflow:Assets written to: c:\\Users\\rs1044\\bwSyncShare\\02Python Code\\MoE-based-FL-for-secure-STLF/models/Local_learning/TopK_BiLSTM_MoE/User27\\assets\n"
     ]
    },
    {
     "name": "stderr",
     "output_type": "stream",
     "text": [
      "INFO:tensorflow:Assets written to: c:\\Users\\rs1044\\bwSyncShare\\02Python Code\\MoE-based-FL-for-secure-STLF/models/Local_learning/TopK_BiLSTM_MoE/User27\\assets\n"
     ]
    },
    {
     "name": "stdout",
     "output_type": "stream",
     "text": [
      "Saved Soft_Dense_MoE\n",
      "User:  29\n",
      "INFO:tensorflow:Assets written to: c:\\Users\\rs1044\\bwSyncShare\\02Python Code\\MoE-based-FL-for-secure-STLF/models/Local_learning/TopK_BiLSTM_MoE/User28\\assets\n"
     ]
    },
    {
     "name": "stderr",
     "output_type": "stream",
     "text": [
      "INFO:tensorflow:Assets written to: c:\\Users\\rs1044\\bwSyncShare\\02Python Code\\MoE-based-FL-for-secure-STLF/models/Local_learning/TopK_BiLSTM_MoE/User28\\assets\n"
     ]
    },
    {
     "name": "stdout",
     "output_type": "stream",
     "text": [
      "Saved Soft_Dense_MoE\n",
      "User:  30\n",
      "INFO:tensorflow:Assets written to: c:\\Users\\rs1044\\bwSyncShare\\02Python Code\\MoE-based-FL-for-secure-STLF/models/Local_learning/TopK_BiLSTM_MoE/User29\\assets\n"
     ]
    },
    {
     "name": "stderr",
     "output_type": "stream",
     "text": [
      "INFO:tensorflow:Assets written to: c:\\Users\\rs1044\\bwSyncShare\\02Python Code\\MoE-based-FL-for-secure-STLF/models/Local_learning/TopK_BiLSTM_MoE/User29\\assets\n"
     ]
    },
    {
     "name": "stdout",
     "output_type": "stream",
     "text": [
      "Saved Soft_Dense_MoE\n"
     ]
    }
   ],
   "source": [
    "bilstm_moe_architecture = \"TopK_BiLSTM_MoE\"\n",
    "lstm_units = 8\n",
    "\n",
    "num_experts = 4\n",
    "top_k = 2\n",
    "expert_units = 8\n",
    "\n",
    "dense_all_results = pd.DataFrame(columns=[\"user\", \"architecture\", \"train_time\", \"avg_time_epoch\", \"mse\", \"rmse\", \"mape\", \"mae\"])\n",
    "#For each of the 3 user\n",
    "for idx in range(len(df_array)):\n",
    "    print(\"User: \", idx+1)\n",
    "    for round in range(3):\n",
    "        #print(\"Round: \", round)\n",
    "        dense_model = m1.build_topk_bilstm_moe_model(X_train[f'user{idx+1}'], batch_size, horizon, lstm_units, num_experts, top_k, expert_units, m1)\n",
    "        dense_histroy, dense_user_results = mh.compile_fit_evaluate_model(\n",
    "            model=dense_model, \n",
    "            loss=loss, \n",
    "            metrics=metrics, \n",
    "            X_train=X_train[f'user{idx+1}'],\n",
    "            y_train = y_train[f'user{idx+1}'], \n",
    "            max_epochs = max_epochs, \n",
    "            batch_size=batch_size, \n",
    "            X_val=X_val[f'user{idx+1}'], \n",
    "            y_val=y_val[f'user{idx+1}'], \n",
    "            X_test=X_test[f'user{idx+1}'], \n",
    "            y_test=y_test[f'user{idx+1}'], \n",
    "            callbacks=callbacks, \n",
    "            user=f'user{idx+1}', \n",
    "            hyper=dense_moe_architecture,\n",
    "            optimizer=tf.keras.optimizers.Adam(learning_rate=0.001)\n",
    "        )\n",
    "        # Add the 'architecture' column from dense_user_results to dense_results\n",
    "        dense_all_results = pd.merge(dense_all_results, dense_user_results, how='outer')   \n",
    "\n",
    "    dense_model.save(cwd + f\"/models/Local_learning/{bilstm_moe_architecture}/User{idx}\")\n",
    "    print(\"Saved Soft_Dense_MoE\")  \n",
    "\n",
    "\n",
    "for idx in range(len(df_array)):\n",
    "    new_row = {\n",
    "        'architecture': dense_all_results[\"architecture\"][0],\n",
    "        'train_time': dense_all_results[dense_all_results[\"user\"]==f\"user{idx+1}\"][\"train_time\"].mean(), \n",
    "        'avg_time_epoch' : dense_all_results[dense_all_results[\"user\"]==f\"user{idx+1}\"][\"avg_time_epoch\"].mean(),\n",
    "        'mse': dense_all_results[dense_all_results[\"user\"]==f\"user{idx+1}\"][\"mse\"].mean(),\n",
    "        'mse_std' : dense_all_results[dense_all_results[\"user\"]==f\"user{idx+1}\"][\"mse\"].std(),\n",
    "        'rmse': dense_all_results[dense_all_results[\"user\"]==f\"user{idx+1}\"][\"rmse\"].mean(),\n",
    "        'rmse_std' : dense_all_results[dense_all_results[\"user\"]==f\"user{idx+1}\"][\"rmse\"].std(),\n",
    "        'mape': dense_all_results[dense_all_results[\"user\"]==f\"user{idx+1}\"][\"mape\"].mean(),\n",
    "        'mape_std' : dense_all_results[dense_all_results[\"user\"]==f\"user{idx+1}\"][\"mape\"].std(),\n",
    "        'mae': dense_all_results[dense_all_results[\"user\"]==f\"user{idx+1}\"][\"mae\"].mean(),\n",
    "        'mae_std' : dense_all_results[dense_all_results[\"user\"]==f\"user{idx+1}\"][\"mae\"].std(),\n",
    "    }\n",
    "    dense_results.loc[len(dense_results)] = new_row"
   ]
  },
  {
   "cell_type": "code",
   "execution_count": 10,
   "metadata": {},
   "outputs": [
    {
     "data": {
      "text/html": [
       "<div>\n",
       "<style scoped>\n",
       "    .dataframe tbody tr th:only-of-type {\n",
       "        vertical-align: middle;\n",
       "    }\n",
       "\n",
       "    .dataframe tbody tr th {\n",
       "        vertical-align: top;\n",
       "    }\n",
       "\n",
       "    .dataframe thead th {\n",
       "        text-align: right;\n",
       "    }\n",
       "</style>\n",
       "<table border=\"1\" class=\"dataframe\">\n",
       "  <thead>\n",
       "    <tr style=\"text-align: right;\">\n",
       "      <th></th>\n",
       "      <th>architecture</th>\n",
       "      <th>train_time</th>\n",
       "      <th>avg_time_epoch</th>\n",
       "      <th>mse</th>\n",
       "      <th>mse_std</th>\n",
       "      <th>rmse</th>\n",
       "      <th>rmse_std</th>\n",
       "      <th>mape</th>\n",
       "      <th>mape_std</th>\n",
       "      <th>mae</th>\n",
       "      <th>mae_std</th>\n",
       "    </tr>\n",
       "  </thead>\n",
       "  <tbody>\n",
       "    <tr>\n",
       "      <th>0</th>\n",
       "      <td>Soft_Dense_MoE</td>\n",
       "      <td>15.626359</td>\n",
       "      <td>0.463006</td>\n",
       "      <td>0.034008</td>\n",
       "      <td>0.001083</td>\n",
       "      <td>0.184397</td>\n",
       "      <td>0.002948</td>\n",
       "      <td>8.830589e+04</td>\n",
       "      <td>19232.836431</td>\n",
       "      <td>0.129079</td>\n",
       "      <td>0.003706</td>\n",
       "    </tr>\n",
       "    <tr>\n",
       "      <th>1</th>\n",
       "      <td>Soft_Dense_MoE</td>\n",
       "      <td>9.322736</td>\n",
       "      <td>0.478693</td>\n",
       "      <td>0.018306</td>\n",
       "      <td>0.000799</td>\n",
       "      <td>0.135277</td>\n",
       "      <td>0.002945</td>\n",
       "      <td>1.604002e+05</td>\n",
       "      <td>29655.439462</td>\n",
       "      <td>0.076615</td>\n",
       "      <td>0.001233</td>\n",
       "    </tr>\n",
       "    <tr>\n",
       "      <th>2</th>\n",
       "      <td>Soft_Dense_MoE</td>\n",
       "      <td>11.822861</td>\n",
       "      <td>0.475102</td>\n",
       "      <td>0.019897</td>\n",
       "      <td>0.000272</td>\n",
       "      <td>0.141054</td>\n",
       "      <td>0.000964</td>\n",
       "      <td>5.190807e+04</td>\n",
       "      <td>10837.389705</td>\n",
       "      <td>0.079009</td>\n",
       "      <td>0.003142</td>\n",
       "    </tr>\n",
       "    <tr>\n",
       "      <th>3</th>\n",
       "      <td>Soft_Dense_MoE</td>\n",
       "      <td>13.700077</td>\n",
       "      <td>0.461089</td>\n",
       "      <td>0.023119</td>\n",
       "      <td>0.001371</td>\n",
       "      <td>0.152004</td>\n",
       "      <td>0.004542</td>\n",
       "      <td>1.215700e+05</td>\n",
       "      <td>16326.066329</td>\n",
       "      <td>0.065597</td>\n",
       "      <td>0.003234</td>\n",
       "    </tr>\n",
       "    <tr>\n",
       "      <th>4</th>\n",
       "      <td>Soft_Dense_MoE</td>\n",
       "      <td>15.611840</td>\n",
       "      <td>0.485246</td>\n",
       "      <td>0.014659</td>\n",
       "      <td>0.000378</td>\n",
       "      <td>0.121067</td>\n",
       "      <td>0.001568</td>\n",
       "      <td>9.773217e+04</td>\n",
       "      <td>21146.666917</td>\n",
       "      <td>0.079981</td>\n",
       "      <td>0.007227</td>\n",
       "    </tr>\n",
       "    <tr>\n",
       "      <th>...</th>\n",
       "      <td>...</td>\n",
       "      <td>...</td>\n",
       "      <td>...</td>\n",
       "      <td>...</td>\n",
       "      <td>...</td>\n",
       "      <td>...</td>\n",
       "      <td>...</td>\n",
       "      <td>...</td>\n",
       "      <td>...</td>\n",
       "      <td>...</td>\n",
       "      <td>...</td>\n",
       "    </tr>\n",
       "    <tr>\n",
       "      <th>115</th>\n",
       "      <td>TopK_Dense_MoE</td>\n",
       "      <td>67.585376</td>\n",
       "      <td>1.725003</td>\n",
       "      <td>0.023029</td>\n",
       "      <td>0.000502</td>\n",
       "      <td>0.151748</td>\n",
       "      <td>0.001649</td>\n",
       "      <td>9.423817e+04</td>\n",
       "      <td>41452.526190</td>\n",
       "      <td>0.095187</td>\n",
       "      <td>0.002600</td>\n",
       "    </tr>\n",
       "    <tr>\n",
       "      <th>116</th>\n",
       "      <td>TopK_Dense_MoE</td>\n",
       "      <td>51.862859</td>\n",
       "      <td>1.728453</td>\n",
       "      <td>0.019542</td>\n",
       "      <td>0.000670</td>\n",
       "      <td>0.139778</td>\n",
       "      <td>0.002393</td>\n",
       "      <td>2.625060e+05</td>\n",
       "      <td>63509.833296</td>\n",
       "      <td>0.099187</td>\n",
       "      <td>0.006676</td>\n",
       "    </tr>\n",
       "    <tr>\n",
       "      <th>117</th>\n",
       "      <td>TopK_Dense_MoE</td>\n",
       "      <td>38.906657</td>\n",
       "      <td>1.733680</td>\n",
       "      <td>0.011191</td>\n",
       "      <td>0.000381</td>\n",
       "      <td>0.105778</td>\n",
       "      <td>0.001795</td>\n",
       "      <td>5.523744e+04</td>\n",
       "      <td>12154.412663</td>\n",
       "      <td>0.045857</td>\n",
       "      <td>0.001533</td>\n",
       "    </tr>\n",
       "    <tr>\n",
       "      <th>118</th>\n",
       "      <td>TopK_Dense_MoE</td>\n",
       "      <td>55.663867</td>\n",
       "      <td>1.731980</td>\n",
       "      <td>0.017417</td>\n",
       "      <td>0.000782</td>\n",
       "      <td>0.131952</td>\n",
       "      <td>0.002964</td>\n",
       "      <td>4.316151e+05</td>\n",
       "      <td>69795.310530</td>\n",
       "      <td>0.092368</td>\n",
       "      <td>0.000741</td>\n",
       "    </tr>\n",
       "    <tr>\n",
       "      <th>119</th>\n",
       "      <td>TopK_Dense_MoE</td>\n",
       "      <td>59.788568</td>\n",
       "      <td>1.687878</td>\n",
       "      <td>0.016332</td>\n",
       "      <td>0.000023</td>\n",
       "      <td>0.127799</td>\n",
       "      <td>0.000089</td>\n",
       "      <td>1.898946e+06</td>\n",
       "      <td>176674.870995</td>\n",
       "      <td>0.087071</td>\n",
       "      <td>0.000959</td>\n",
       "    </tr>\n",
       "  </tbody>\n",
       "</table>\n",
       "<p>120 rows × 11 columns</p>\n",
       "</div>"
      ],
      "text/plain": [
       "       architecture  train_time  avg_time_epoch       mse   mse_std      rmse  \\\n",
       "0    Soft_Dense_MoE   15.626359        0.463006  0.034008  0.001083  0.184397   \n",
       "1    Soft_Dense_MoE    9.322736        0.478693  0.018306  0.000799  0.135277   \n",
       "2    Soft_Dense_MoE   11.822861        0.475102  0.019897  0.000272  0.141054   \n",
       "3    Soft_Dense_MoE   13.700077        0.461089  0.023119  0.001371  0.152004   \n",
       "4    Soft_Dense_MoE   15.611840        0.485246  0.014659  0.000378  0.121067   \n",
       "..              ...         ...             ...       ...       ...       ...   \n",
       "115  TopK_Dense_MoE   67.585376        1.725003  0.023029  0.000502  0.151748   \n",
       "116  TopK_Dense_MoE   51.862859        1.728453  0.019542  0.000670  0.139778   \n",
       "117  TopK_Dense_MoE   38.906657        1.733680  0.011191  0.000381  0.105778   \n",
       "118  TopK_Dense_MoE   55.663867        1.731980  0.017417  0.000782  0.131952   \n",
       "119  TopK_Dense_MoE   59.788568        1.687878  0.016332  0.000023  0.127799   \n",
       "\n",
       "     rmse_std          mape       mape_std       mae   mae_std  \n",
       "0    0.002948  8.830589e+04   19232.836431  0.129079  0.003706  \n",
       "1    0.002945  1.604002e+05   29655.439462  0.076615  0.001233  \n",
       "2    0.000964  5.190807e+04   10837.389705  0.079009  0.003142  \n",
       "3    0.004542  1.215700e+05   16326.066329  0.065597  0.003234  \n",
       "4    0.001568  9.773217e+04   21146.666917  0.079981  0.007227  \n",
       "..        ...           ...            ...       ...       ...  \n",
       "115  0.001649  9.423817e+04   41452.526190  0.095187  0.002600  \n",
       "116  0.002393  2.625060e+05   63509.833296  0.099187  0.006676  \n",
       "117  0.001795  5.523744e+04   12154.412663  0.045857  0.001533  \n",
       "118  0.002964  4.316151e+05   69795.310530  0.092368  0.000741  \n",
       "119  0.000089  1.898946e+06  176674.870995  0.087071  0.000959  \n",
       "\n",
       "[120 rows x 11 columns]"
      ]
     },
     "execution_count": 10,
     "metadata": {},
     "output_type": "execute_result"
    }
   ],
   "source": [
    "dense_results.to_csv(f'evaluations/Local_learning/{bilstm_moe_architecture}.csv')\n",
    "dense_results"
   ]
  },
  {
   "cell_type": "code",
   "execution_count": 14,
   "metadata": {},
   "outputs": [
    {
     "name": "stdout",
     "output_type": "stream",
     "text": [
      "Soft MoE Dense:  0.01844200170224254\n",
      "TopK MoE Dense:  0.018917902565464887\n",
      "Soft MoE Dense:  0.017549493125286596\n",
      "Soft MoE Dense:  0.01822167591074075\n"
     ]
    }
   ],
   "source": [
    "print(\"Soft MoE Dense: \", dense_results[0:29][\"mse\"].mean())\n",
    "print(\"TopK MoE Dense: \", dense_results[30:59][\"mse\"].mean())\n",
    "print(\"Soft MoE Dense: \", dense_results[60:89][\"mse\"].mean())\n",
    "print(\"Soft MoE Dense: \", dense_results[90:119][\"mse\"].mean())"
   ]
  }
 ],
 "metadata": {
  "kernelspec": {
   "display_name": ".venv",
   "language": "python",
   "name": "python3"
  },
  "language_info": {
   "codemirror_mode": {
    "name": "ipython",
    "version": 3
   },
   "file_extension": ".py",
   "mimetype": "text/x-python",
   "name": "python",
   "nbconvert_exporter": "python",
   "pygments_lexer": "ipython3",
   "version": "3.10.5"
  },
  "orig_nbformat": 4
 },
 "nbformat": 4,
 "nbformat_minor": 2
}
