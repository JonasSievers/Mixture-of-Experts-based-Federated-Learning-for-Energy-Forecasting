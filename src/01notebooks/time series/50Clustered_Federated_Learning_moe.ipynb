{
 "cells": [
  {
   "cell_type": "code",
   "execution_count": 1,
   "metadata": {},
   "outputs": [],
   "source": [
    "#Imports\n",
    "import pandas as pd\n",
    "import os\n",
    "import tensorflow as tf\n",
    "from keras import backend as K\n",
    "\n",
    "from utils.modelgenerator import *\n",
    "from utils.modelhandler import *\n",
    "from utils.datahandler import *\n",
    "\n",
    "#Get data \n",
    "cwd = os.path.normpath(os.getcwd())\n",
    "df = pd.read_csv(cwd+'/data/df_with_final_features.csv', index_col='Date') #df = pd.read_csv('user5.csv')\n",
    "df.index = pd.to_datetime(df.index)\n",
    "#df = df[['User5', 'temp', 'rhum']]\n",
    "df.fillna(0, inplace=True)\n",
    "\n",
    "df_array = []\n",
    "for idx in range(30):\n",
    "    df_array.append(df[[f'User{idx+1}', 'temp', 'rhum', 'wspd', 'PC1', 'hour sin', 'hour cos', f'User{idx+1}_lag_24hrs']])\n",
    "\n",
    "#df_array[3].head(3)\n",
    "\n",
    "#Train, Validation and Test datasets\n",
    "sequence_length = 25\n",
    "batch_size = 16\n",
    "num_features = df_array[0].shape[1]\n",
    "\n",
    "dh = Datahandler()\n",
    "\n",
    "X_train, y_train, X_val, y_val, X_test, y_test = {}, {}, {}, {}, {}, {}\n",
    "\n",
    "#Create Train, Validation and Test datasets\n",
    "for idx, df in enumerate(df_array):\n",
    "    n = len(df)\n",
    "    train_df = df[0:int(n*0.7)]\n",
    "    val_df = df[int(n*0.7):int(n*0.9)]\n",
    "    test_df = df[int(n*0.9):]\n",
    "\n",
    "    # Min max sclaing\n",
    "    train_df = dh.min_max_scaling(train_df)\n",
    "    val_df = dh.min_max_scaling(val_df)\n",
    "    test_df = dh.min_max_scaling(test_df)\n",
    "\n",
    "    # Sequencing\n",
    "    train_sequences = dh.create_sequences(train_df, sequence_length)\n",
    "    val_sequences = dh.create_sequences(val_df, sequence_length)\n",
    "    test_sequences = dh.create_sequences(test_df, sequence_length)\n",
    "\n",
    "    #Split into feature and label\n",
    "    X_train[f'user{idx+1}'], y_train[f'user{idx+1}'] = dh.prepare_data(train_sequences, batch_size)\n",
    "    X_val[f'user{idx+1}'], y_val[f'user{idx+1}'] = dh.prepare_data(val_sequences, batch_size)\n",
    "    X_test[f'user{idx+1}'], y_test[f'user{idx+1}'] = dh.prepare_data(test_sequences, batch_size)\n",
    "\n",
    "#General Hyperparameters\n",
    "# #All models\n",
    "horizon = 1\n",
    "max_epochs = 100\n",
    "m1 = ModelGenerator()\n",
    "mh = Modelhandler()\n",
    "\n",
    "loss = tf.keras.losses.MeanSquaredError()\n",
    "metrics=[\n",
    "    tf.keras.metrics.RootMeanSquaredError(), \n",
    "    tf.keras.metrics.MeanAbsolutePercentageError(),\n",
    "    tf.keras.metrics.MeanAbsoluteError(),\n",
    "]\n",
    "\n",
    "early_stopping = tf.keras.callbacks.EarlyStopping(monitor='val_loss',patience=10,mode='min')\n",
    "timing_callback = TimingCallback()\n",
    "custom_callback = CustomCallback()\n",
    "#model_checkpoint = ModelCheckpoint('models/best_model.h5', save_best_only=True, monitor='val_loss', mode='min')\n",
    "callbacks=[early_stopping, timing_callback, custom_callback] #model_checkpoint\n"
   ]
  },
  {
   "cell_type": "code",
   "execution_count": 2,
   "metadata": {},
   "outputs": [],
   "source": [
    "def avg_weights_with_noise_fedprox(weight_list, clip_threshold=None, noise_scale=0.001, proximal_term=0.1):\n",
    "    avg_grad = list()\n",
    "\n",
    "    for grad_list_tuple in zip(*weight_list):\n",
    "        layer_mean = tf.math.reduce_mean(grad_list_tuple, axis=0)\n",
    "\n",
    "        if clip_threshold is not None:\n",
    "            layer_mean = tf.clip_by_value(layer_mean, -clip_threshold, clip_threshold)\n",
    "\n",
    "        noise = tf.random.normal(shape=layer_mean.shape, mean=0.0, stddev=noise_scale)\n",
    "        noisy_layer_mean = layer_mean + noise\n",
    "\n",
    "        # Add FedProx proximal term\n",
    "        proximal_update = -proximal_term * noisy_layer_mean\n",
    "\n",
    "        avg_grad.append(noisy_layer_mean + proximal_update)\n",
    "\n",
    "    return avg_grad"
   ]
  },
  {
   "cell_type": "markdown",
   "metadata": {},
   "source": [
    "# Federated Learning Dense MoE Model"
   ]
  },
  {
   "cell_type": "code",
   "execution_count": 3,
   "metadata": {},
   "outputs": [],
   "source": [
    "dense_results = pd.DataFrame(columns=['architecture', 'train_time', 'avg_time_epoch', 'mse','mse_std', 'rmse','rmse_std','mape','mape_std','mae','mae_std'])"
   ]
  },
  {
   "cell_type": "code",
   "execution_count": 4,
   "metadata": {},
   "outputs": [
    {
     "data": {
      "text/plain": [
       "{0: array([ 1,  2,  4,  5,  7, 10, 11, 12, 15, 16, 17, 21, 22, 23, 24, 25, 28,\n",
       "        30], dtype=int64),\n",
       " 1: array([29], dtype=int64),\n",
       " 2: array([ 6, 13, 18, 20, 26], dtype=int64),\n",
       " 3: array([ 3,  8,  9, 14, 19, 27], dtype=int64)}"
      ]
     },
     "execution_count": 4,
     "metadata": {},
     "output_type": "execute_result"
    }
   ],
   "source": [
    "num_clusters = 4\n",
    "y = np.loadtxt(f'evaluations/federated_learning/clusters_KMeans{num_clusters}_dtw.csv', delimiter=',').astype(int)\n",
    "\n",
    "cluster_users = {i: [] for i in range(num_clusters)}\n",
    "\n",
    "# Iterate through each cluster\n",
    "for cluster_number in range(num_clusters):\n",
    "    users_in_cluster = np.where(y == cluster_number)[0] +1\n",
    "    cluster_users[cluster_number] = users_in_cluster\n",
    "cluster_users"
   ]
  },
  {
   "cell_type": "code",
   "execution_count": 5,
   "metadata": {},
   "outputs": [
    {
     "name": "stdout",
     "output_type": "stream",
     "text": [
      "WARNING:tensorflow:Compiled the loaded model, but the compiled metrics have yet to be built. `model.compile_metrics` will be empty until you train or evaluate the model.\n",
      "INFO:tensorflow:Assets written to: c:\\Users\\rs1044\\bwSyncShare\\02Python Code\\MoE-based-FL-for-secure-STLF/models/FL/Dense/global_dense_model/cluster_0/Dense_MoE_e4d8_d16/FederatedRound0\\assets\n"
     ]
    },
    {
     "name": "stderr",
     "output_type": "stream",
     "text": [
      "INFO:tensorflow:Assets written to: c:\\Users\\rs1044\\bwSyncShare\\02Python Code\\MoE-based-FL-for-secure-STLF/models/FL/Dense/global_dense_model/cluster_0/Dense_MoE_e4d8_d16/FederatedRound0\\assets\n"
     ]
    },
    {
     "name": "stdout",
     "output_type": "stream",
     "text": [
      "WARNING:tensorflow:Compiled the loaded model, but the compiled metrics have yet to be built. `model.compile_metrics` will be empty until you train or evaluate the model.\n"
     ]
    },
    {
     "name": "stderr",
     "output_type": "stream",
     "text": [
      "WARNING:tensorflow:Compiled the loaded model, but the compiled metrics have yet to be built. `model.compile_metrics` will be empty until you train or evaluate the model.\n"
     ]
    },
    {
     "name": "stdout",
     "output_type": "stream",
     "text": [
      "INFO:tensorflow:Assets written to: c:\\Users\\rs1044\\bwSyncShare\\02Python Code\\MoE-based-FL-for-secure-STLF/models/FL/Dense/global_dense_model/cluster_1/Dense_MoE_e4d8_d16/FederatedRound0\\assets\n"
     ]
    },
    {
     "name": "stderr",
     "output_type": "stream",
     "text": [
      "INFO:tensorflow:Assets written to: c:\\Users\\rs1044\\bwSyncShare\\02Python Code\\MoE-based-FL-for-secure-STLF/models/FL/Dense/global_dense_model/cluster_1/Dense_MoE_e4d8_d16/FederatedRound0\\assets\n"
     ]
    },
    {
     "name": "stdout",
     "output_type": "stream",
     "text": [
      "WARNING:tensorflow:Compiled the loaded model, but the compiled metrics have yet to be built. `model.compile_metrics` will be empty until you train or evaluate the model.\n"
     ]
    },
    {
     "name": "stderr",
     "output_type": "stream",
     "text": [
      "WARNING:tensorflow:Compiled the loaded model, but the compiled metrics have yet to be built. `model.compile_metrics` will be empty until you train or evaluate the model.\n"
     ]
    },
    {
     "name": "stdout",
     "output_type": "stream",
     "text": [
      "INFO:tensorflow:Assets written to: c:\\Users\\rs1044\\bwSyncShare\\02Python Code\\MoE-based-FL-for-secure-STLF/models/FL/Dense/global_dense_model/cluster_2/Dense_MoE_e4d8_d16/FederatedRound0\\assets\n"
     ]
    },
    {
     "name": "stderr",
     "output_type": "stream",
     "text": [
      "INFO:tensorflow:Assets written to: c:\\Users\\rs1044\\bwSyncShare\\02Python Code\\MoE-based-FL-for-secure-STLF/models/FL/Dense/global_dense_model/cluster_2/Dense_MoE_e4d8_d16/FederatedRound0\\assets\n"
     ]
    },
    {
     "name": "stdout",
     "output_type": "stream",
     "text": [
      "WARNING:tensorflow:Compiled the loaded model, but the compiled metrics have yet to be built. `model.compile_metrics` will be empty until you train or evaluate the model.\n"
     ]
    },
    {
     "name": "stderr",
     "output_type": "stream",
     "text": [
      "WARNING:tensorflow:Compiled the loaded model, but the compiled metrics have yet to be built. `model.compile_metrics` will be empty until you train or evaluate the model.\n"
     ]
    },
    {
     "name": "stdout",
     "output_type": "stream",
     "text": [
      "INFO:tensorflow:Assets written to: c:\\Users\\rs1044\\bwSyncShare\\02Python Code\\MoE-based-FL-for-secure-STLF/models/FL/Dense/global_dense_model/cluster_3/Dense_MoE_e4d8_d16/FederatedRound0\\assets\n"
     ]
    },
    {
     "name": "stderr",
     "output_type": "stream",
     "text": [
      "INFO:tensorflow:Assets written to: c:\\Users\\rs1044\\bwSyncShare\\02Python Code\\MoE-based-FL-for-secure-STLF/models/FL/Dense/global_dense_model/cluster_3/Dense_MoE_e4d8_d16/FederatedRound0\\assets\n"
     ]
    },
    {
     "name": "stdout",
     "output_type": "stream",
     "text": [
      "Started Federated training round ---------- 1 / 3\n",
      "Cluster 0:\n",
      "User 1\n",
      "User 2\n",
      "User 4\n",
      "User 5\n",
      "User 7\n",
      "User 10\n",
      "User 11\n",
      "User 12\n",
      "User 15\n",
      "User 16\n",
      "User 17\n",
      "User 21\n",
      "User 22\n",
      "User 23\n",
      "User 24\n",
      "User 25\n",
      "User 28\n",
      "User 30\n",
      "WARNING:tensorflow:Compiled the loaded model, but the compiled metrics have yet to be built. `model.compile_metrics` will be empty until you train or evaluate the model.\n"
     ]
    },
    {
     "name": "stderr",
     "output_type": "stream",
     "text": [
      "WARNING:tensorflow:Compiled the loaded model, but the compiled metrics have yet to be built. `model.compile_metrics` will be empty until you train or evaluate the model.\n"
     ]
    },
    {
     "name": "stdout",
     "output_type": "stream",
     "text": [
      "INFO:tensorflow:Assets written to: c:\\Users\\rs1044\\bwSyncShare\\02Python Code\\MoE-based-FL-for-secure-STLF/models/FL/Dense/global_dense_model/cluster_0/Dense_MoE_e4d8_d16/FederatedRound1\\assets\n"
     ]
    },
    {
     "name": "stderr",
     "output_type": "stream",
     "text": [
      "INFO:tensorflow:Assets written to: c:\\Users\\rs1044\\bwSyncShare\\02Python Code\\MoE-based-FL-for-secure-STLF/models/FL/Dense/global_dense_model/cluster_0/Dense_MoE_e4d8_d16/FederatedRound1\\assets\n"
     ]
    },
    {
     "name": "stdout",
     "output_type": "stream",
     "text": [
      "Saved Global models\n",
      "Cluster 1:\n",
      "User 29\n",
      "WARNING:tensorflow:Compiled the loaded model, but the compiled metrics have yet to be built. `model.compile_metrics` will be empty until you train or evaluate the model.\n"
     ]
    },
    {
     "name": "stderr",
     "output_type": "stream",
     "text": [
      "WARNING:tensorflow:Compiled the loaded model, but the compiled metrics have yet to be built. `model.compile_metrics` will be empty until you train or evaluate the model.\n"
     ]
    },
    {
     "name": "stdout",
     "output_type": "stream",
     "text": [
      "INFO:tensorflow:Assets written to: c:\\Users\\rs1044\\bwSyncShare\\02Python Code\\MoE-based-FL-for-secure-STLF/models/FL/Dense/global_dense_model/cluster_1/Dense_MoE_e4d8_d16/FederatedRound1\\assets\n"
     ]
    },
    {
     "name": "stderr",
     "output_type": "stream",
     "text": [
      "INFO:tensorflow:Assets written to: c:\\Users\\rs1044\\bwSyncShare\\02Python Code\\MoE-based-FL-for-secure-STLF/models/FL/Dense/global_dense_model/cluster_1/Dense_MoE_e4d8_d16/FederatedRound1\\assets\n"
     ]
    },
    {
     "name": "stdout",
     "output_type": "stream",
     "text": [
      "Saved Global models\n",
      "Cluster 2:\n",
      "User 6\n",
      "User 13\n",
      "User 18\n",
      "User 20\n",
      "User 26\n",
      "WARNING:tensorflow:Compiled the loaded model, but the compiled metrics have yet to be built. `model.compile_metrics` will be empty until you train or evaluate the model.\n"
     ]
    },
    {
     "name": "stderr",
     "output_type": "stream",
     "text": [
      "WARNING:tensorflow:Compiled the loaded model, but the compiled metrics have yet to be built. `model.compile_metrics` will be empty until you train or evaluate the model.\n"
     ]
    },
    {
     "name": "stdout",
     "output_type": "stream",
     "text": [
      "INFO:tensorflow:Assets written to: c:\\Users\\rs1044\\bwSyncShare\\02Python Code\\MoE-based-FL-for-secure-STLF/models/FL/Dense/global_dense_model/cluster_2/Dense_MoE_e4d8_d16/FederatedRound1\\assets\n"
     ]
    },
    {
     "name": "stderr",
     "output_type": "stream",
     "text": [
      "INFO:tensorflow:Assets written to: c:\\Users\\rs1044\\bwSyncShare\\02Python Code\\MoE-based-FL-for-secure-STLF/models/FL/Dense/global_dense_model/cluster_2/Dense_MoE_e4d8_d16/FederatedRound1\\assets\n"
     ]
    },
    {
     "name": "stdout",
     "output_type": "stream",
     "text": [
      "Saved Global models\n",
      "Cluster 3:\n",
      "User 3\n",
      "User 8\n",
      "User 9\n",
      "User 14\n",
      "User 19\n",
      "User 27\n",
      "WARNING:tensorflow:Compiled the loaded model, but the compiled metrics have yet to be built. `model.compile_metrics` will be empty until you train or evaluate the model.\n"
     ]
    },
    {
     "name": "stderr",
     "output_type": "stream",
     "text": [
      "WARNING:tensorflow:Compiled the loaded model, but the compiled metrics have yet to be built. `model.compile_metrics` will be empty until you train or evaluate the model.\n"
     ]
    },
    {
     "name": "stdout",
     "output_type": "stream",
     "text": [
      "INFO:tensorflow:Assets written to: c:\\Users\\rs1044\\bwSyncShare\\02Python Code\\MoE-based-FL-for-secure-STLF/models/FL/Dense/global_dense_model/cluster_3/Dense_MoE_e4d8_d16/FederatedRound1\\assets\n"
     ]
    },
    {
     "name": "stderr",
     "output_type": "stream",
     "text": [
      "INFO:tensorflow:Assets written to: c:\\Users\\rs1044\\bwSyncShare\\02Python Code\\MoE-based-FL-for-secure-STLF/models/FL/Dense/global_dense_model/cluster_3/Dense_MoE_e4d8_d16/FederatedRound1\\assets\n"
     ]
    },
    {
     "name": "stdout",
     "output_type": "stream",
     "text": [
      "Saved Global models\n",
      "Started Federated training round ---------- 2 / 3\n",
      "Cluster 0:\n",
      "User 1\n",
      "User 2\n",
      "User 4\n",
      "User 5\n",
      "User 7\n",
      "User 10\n",
      "User 11\n",
      "User 12\n",
      "User 15\n",
      "User 16\n",
      "User 17\n",
      "User 21\n",
      "User 22\n",
      "User 23\n",
      "User 24\n",
      "User 25\n",
      "User 28\n",
      "User 30\n",
      "WARNING:tensorflow:Compiled the loaded model, but the compiled metrics have yet to be built. `model.compile_metrics` will be empty until you train or evaluate the model.\n"
     ]
    },
    {
     "name": "stderr",
     "output_type": "stream",
     "text": [
      "WARNING:tensorflow:Compiled the loaded model, but the compiled metrics have yet to be built. `model.compile_metrics` will be empty until you train or evaluate the model.\n"
     ]
    },
    {
     "name": "stdout",
     "output_type": "stream",
     "text": [
      "INFO:tensorflow:Assets written to: c:\\Users\\rs1044\\bwSyncShare\\02Python Code\\MoE-based-FL-for-secure-STLF/models/FL/Dense/global_dense_model/cluster_0/Dense_MoE_e4d8_d16/FederatedRound2\\assets\n"
     ]
    },
    {
     "name": "stderr",
     "output_type": "stream",
     "text": [
      "INFO:tensorflow:Assets written to: c:\\Users\\rs1044\\bwSyncShare\\02Python Code\\MoE-based-FL-for-secure-STLF/models/FL/Dense/global_dense_model/cluster_0/Dense_MoE_e4d8_d16/FederatedRound2\\assets\n"
     ]
    },
    {
     "name": "stdout",
     "output_type": "stream",
     "text": [
      "Saved Global models\n",
      "Cluster 1:\n",
      "User 29\n",
      "WARNING:tensorflow:Compiled the loaded model, but the compiled metrics have yet to be built. `model.compile_metrics` will be empty until you train or evaluate the model.\n"
     ]
    },
    {
     "name": "stderr",
     "output_type": "stream",
     "text": [
      "WARNING:tensorflow:Compiled the loaded model, but the compiled metrics have yet to be built. `model.compile_metrics` will be empty until you train or evaluate the model.\n"
     ]
    },
    {
     "name": "stdout",
     "output_type": "stream",
     "text": [
      "INFO:tensorflow:Assets written to: c:\\Users\\rs1044\\bwSyncShare\\02Python Code\\MoE-based-FL-for-secure-STLF/models/FL/Dense/global_dense_model/cluster_1/Dense_MoE_e4d8_d16/FederatedRound2\\assets\n"
     ]
    },
    {
     "name": "stderr",
     "output_type": "stream",
     "text": [
      "INFO:tensorflow:Assets written to: c:\\Users\\rs1044\\bwSyncShare\\02Python Code\\MoE-based-FL-for-secure-STLF/models/FL/Dense/global_dense_model/cluster_1/Dense_MoE_e4d8_d16/FederatedRound2\\assets\n"
     ]
    },
    {
     "name": "stdout",
     "output_type": "stream",
     "text": [
      "Saved Global models\n",
      "Cluster 2:\n",
      "User 6\n",
      "User 13\n",
      "User 18\n",
      "User 20\n",
      "User 26\n",
      "WARNING:tensorflow:Compiled the loaded model, but the compiled metrics have yet to be built. `model.compile_metrics` will be empty until you train or evaluate the model.\n"
     ]
    },
    {
     "name": "stderr",
     "output_type": "stream",
     "text": [
      "WARNING:tensorflow:Compiled the loaded model, but the compiled metrics have yet to be built. `model.compile_metrics` will be empty until you train or evaluate the model.\n"
     ]
    },
    {
     "name": "stdout",
     "output_type": "stream",
     "text": [
      "INFO:tensorflow:Assets written to: c:\\Users\\rs1044\\bwSyncShare\\02Python Code\\MoE-based-FL-for-secure-STLF/models/FL/Dense/global_dense_model/cluster_2/Dense_MoE_e4d8_d16/FederatedRound2\\assets\n"
     ]
    },
    {
     "name": "stderr",
     "output_type": "stream",
     "text": [
      "INFO:tensorflow:Assets written to: c:\\Users\\rs1044\\bwSyncShare\\02Python Code\\MoE-based-FL-for-secure-STLF/models/FL/Dense/global_dense_model/cluster_2/Dense_MoE_e4d8_d16/FederatedRound2\\assets\n"
     ]
    },
    {
     "name": "stdout",
     "output_type": "stream",
     "text": [
      "Saved Global models\n",
      "Cluster 3:\n",
      "User 3\n",
      "User 8\n",
      "User 9\n",
      "User 14\n",
      "User 19\n",
      "User 27\n",
      "WARNING:tensorflow:Compiled the loaded model, but the compiled metrics have yet to be built. `model.compile_metrics` will be empty until you train or evaluate the model.\n"
     ]
    },
    {
     "name": "stderr",
     "output_type": "stream",
     "text": [
      "WARNING:tensorflow:Compiled the loaded model, but the compiled metrics have yet to be built. `model.compile_metrics` will be empty until you train or evaluate the model.\n"
     ]
    },
    {
     "name": "stdout",
     "output_type": "stream",
     "text": [
      "INFO:tensorflow:Assets written to: c:\\Users\\rs1044\\bwSyncShare\\02Python Code\\MoE-based-FL-for-secure-STLF/models/FL/Dense/global_dense_model/cluster_3/Dense_MoE_e4d8_d16/FederatedRound2\\assets\n"
     ]
    },
    {
     "name": "stderr",
     "output_type": "stream",
     "text": [
      "INFO:tensorflow:Assets written to: c:\\Users\\rs1044\\bwSyncShare\\02Python Code\\MoE-based-FL-for-secure-STLF/models/FL/Dense/global_dense_model/cluster_3/Dense_MoE_e4d8_d16/FederatedRound2\\assets\n"
     ]
    },
    {
     "name": "stdout",
     "output_type": "stream",
     "text": [
      "Saved Global models\n",
      "Started Federated training round ---------- 3 / 3\n",
      "Cluster 0:\n",
      "User 1\n",
      "User 2\n",
      "User 4\n",
      "User 5\n",
      "User 7\n",
      "User 10\n",
      "User 11\n",
      "User 12\n",
      "User 15\n",
      "User 16\n",
      "User 17\n",
      "User 21\n",
      "User 22\n",
      "User 23\n",
      "User 24\n",
      "User 25\n",
      "User 28\n",
      "User 30\n",
      "WARNING:tensorflow:Compiled the loaded model, but the compiled metrics have yet to be built. `model.compile_metrics` will be empty until you train or evaluate the model.\n"
     ]
    },
    {
     "name": "stderr",
     "output_type": "stream",
     "text": [
      "WARNING:tensorflow:Compiled the loaded model, but the compiled metrics have yet to be built. `model.compile_metrics` will be empty until you train or evaluate the model.\n"
     ]
    },
    {
     "name": "stdout",
     "output_type": "stream",
     "text": [
      "INFO:tensorflow:Assets written to: c:\\Users\\rs1044\\bwSyncShare\\02Python Code\\MoE-based-FL-for-secure-STLF/models/FL/Dense/global_dense_model/cluster_0/Dense_MoE_e4d8_d16/FederatedRound3\\assets\n"
     ]
    },
    {
     "name": "stderr",
     "output_type": "stream",
     "text": [
      "INFO:tensorflow:Assets written to: c:\\Users\\rs1044\\bwSyncShare\\02Python Code\\MoE-based-FL-for-secure-STLF/models/FL/Dense/global_dense_model/cluster_0/Dense_MoE_e4d8_d16/FederatedRound3\\assets\n"
     ]
    },
    {
     "name": "stdout",
     "output_type": "stream",
     "text": [
      "Saved Global models\n",
      "Cluster 1:\n",
      "User 29\n",
      "WARNING:tensorflow:Compiled the loaded model, but the compiled metrics have yet to be built. `model.compile_metrics` will be empty until you train or evaluate the model.\n"
     ]
    },
    {
     "name": "stderr",
     "output_type": "stream",
     "text": [
      "WARNING:tensorflow:Compiled the loaded model, but the compiled metrics have yet to be built. `model.compile_metrics` will be empty until you train or evaluate the model.\n"
     ]
    },
    {
     "name": "stdout",
     "output_type": "stream",
     "text": [
      "INFO:tensorflow:Assets written to: c:\\Users\\rs1044\\bwSyncShare\\02Python Code\\MoE-based-FL-for-secure-STLF/models/FL/Dense/global_dense_model/cluster_1/Dense_MoE_e4d8_d16/FederatedRound3\\assets\n"
     ]
    },
    {
     "name": "stderr",
     "output_type": "stream",
     "text": [
      "INFO:tensorflow:Assets written to: c:\\Users\\rs1044\\bwSyncShare\\02Python Code\\MoE-based-FL-for-secure-STLF/models/FL/Dense/global_dense_model/cluster_1/Dense_MoE_e4d8_d16/FederatedRound3\\assets\n"
     ]
    },
    {
     "name": "stdout",
     "output_type": "stream",
     "text": [
      "Saved Global models\n",
      "Cluster 2:\n",
      "User 6\n",
      "User 13\n",
      "User 18\n",
      "User 20\n",
      "User 26\n",
      "WARNING:tensorflow:Compiled the loaded model, but the compiled metrics have yet to be built. `model.compile_metrics` will be empty until you train or evaluate the model.\n"
     ]
    },
    {
     "name": "stderr",
     "output_type": "stream",
     "text": [
      "WARNING:tensorflow:Compiled the loaded model, but the compiled metrics have yet to be built. `model.compile_metrics` will be empty until you train or evaluate the model.\n"
     ]
    },
    {
     "name": "stdout",
     "output_type": "stream",
     "text": [
      "INFO:tensorflow:Assets written to: c:\\Users\\rs1044\\bwSyncShare\\02Python Code\\MoE-based-FL-for-secure-STLF/models/FL/Dense/global_dense_model/cluster_2/Dense_MoE_e4d8_d16/FederatedRound3\\assets\n"
     ]
    },
    {
     "name": "stderr",
     "output_type": "stream",
     "text": [
      "INFO:tensorflow:Assets written to: c:\\Users\\rs1044\\bwSyncShare\\02Python Code\\MoE-based-FL-for-secure-STLF/models/FL/Dense/global_dense_model/cluster_2/Dense_MoE_e4d8_d16/FederatedRound3\\assets\n"
     ]
    },
    {
     "name": "stdout",
     "output_type": "stream",
     "text": [
      "Saved Global models\n",
      "Cluster 3:\n",
      "User 3\n",
      "User 8\n",
      "User 9\n",
      "User 14\n",
      "User 19\n",
      "User 27\n",
      "WARNING:tensorflow:Compiled the loaded model, but the compiled metrics have yet to be built. `model.compile_metrics` will be empty until you train or evaluate the model.\n"
     ]
    },
    {
     "name": "stderr",
     "output_type": "stream",
     "text": [
      "WARNING:tensorflow:Compiled the loaded model, but the compiled metrics have yet to be built. `model.compile_metrics` will be empty until you train or evaluate the model.\n"
     ]
    },
    {
     "name": "stdout",
     "output_type": "stream",
     "text": [
      "INFO:tensorflow:Assets written to: c:\\Users\\rs1044\\bwSyncShare\\02Python Code\\MoE-based-FL-for-secure-STLF/models/FL/Dense/global_dense_model/cluster_3/Dense_MoE_e4d8_d16/FederatedRound3\\assets\n"
     ]
    },
    {
     "name": "stderr",
     "output_type": "stream",
     "text": [
      "INFO:tensorflow:Assets written to: c:\\Users\\rs1044\\bwSyncShare\\02Python Code\\MoE-based-FL-for-secure-STLF/models/FL/Dense/global_dense_model/cluster_3/Dense_MoE_e4d8_d16/FederatedRound3\\assets\n"
     ]
    },
    {
     "name": "stdout",
     "output_type": "stream",
     "text": [
      "Saved Global models\n",
      "Cluster 0:\n",
      "User:  1\n",
      "User:  2\n",
      "User:  4\n",
      "User:  5\n",
      "User:  7\n",
      "User:  10\n",
      "User:  11\n",
      "User:  12\n",
      "User:  15\n",
      "User:  16\n",
      "User:  17\n",
      "User:  21\n",
      "User:  22\n",
      "User:  23\n",
      "User:  24\n",
      "User:  25\n",
      "User:  28\n",
      "User:  30\n",
      "Cluster 1:\n",
      "User:  29\n",
      "Cluster 2:\n",
      "User:  6\n",
      "User:  13\n",
      "User:  18\n",
      "User:  20\n",
      "User:  26\n",
      "Cluster 3:\n",
      "User:  3\n",
      "User:  8\n",
      "User:  9\n",
      "User:  14\n",
      "User:  19\n",
      "User:  27\n"
     ]
    }
   ],
   "source": [
    "#Dense MODEL 1 ------------------------------------------------------------------\n",
    "dense_moe_architecture = \"Dense_MoE_e4d8_d16\"\n",
    "dense_units = 16\n",
    "num_experts = 4\n",
    "expert_units = 8\n",
    "\n",
    "# Create global models for each cluser (6)\n",
    "for cluster in range(num_clusters):\n",
    "#Build and save global model\n",
    "    global_dense_moe = m1.build_soft_dense_moe_model(X_train[f'user{1}'], batch_size, horizon, dense_units, expert_units, num_experts, m1)\n",
    "    global_dense_moe.save(cwd + f\"/models/FL/Dense/global_dense_model/cluster_{cluster}/{dense_moe_architecture}/FederatedRound{0}\")\n",
    "\n",
    "  \n",
    "federated_rounds = 3\n",
    "for federated_round  in range(federated_rounds):\n",
    "    print(\"Started Federated training round ----------\", federated_round+1, f\"/ {federated_rounds}\")\n",
    "\n",
    "    for cluster_number, users_in_cluster in cluster_users.items():\n",
    "        print(f\"Cluster {cluster_number}:\")\n",
    "\n",
    "        #Get global models weights\n",
    "        global_dense_moe = keras.models.load_model(cwd + f\"/models/FL/Dense/global_dense_model/cluster_{cluster_number}/{dense_moe_architecture}/FederatedRound{federated_round}\", compile=False)\n",
    "        global_dense_moe_weights = global_dense_moe.get_weights()\n",
    "\n",
    "        #initial list for local model weights\n",
    "        local_dense_moe_weight_list = list()\n",
    "\n",
    "\n",
    "        #for idx, user in enumerate(df_array): \n",
    "        for user_index in users_in_cluster:\n",
    "            user_df = df_array[user_index-1]  # Get the user's DataFrame from the array\n",
    "            print(f\"User {user_index}\") \n",
    "                      \n",
    "            #build and compile local model X_train, batch_size, horizon, dense_units,  expert_units, num_experts, m1\n",
    "            local_dense_moe_model = m1.build_soft_dense_moe_model(X_train[f'user{user_index}'], batch_size, horizon, dense_units, expert_units, num_experts, m1)\n",
    "            local_dense_moe_model.compile(loss=loss, optimizer=tf.keras.optimizers.Adam(learning_rate=0.0006), metrics=metrics)\n",
    "\n",
    "            #set local model weight to the weight of the global model\n",
    "            local_dense_moe_model.set_weights(global_dense_moe_weights)\n",
    "            \n",
    "            #Fit local model to local data\n",
    "            dense_histroy, dense_user_results = mh.compile_fit_evaluate_model(\n",
    "                model=local_dense_moe_model, \n",
    "                loss=loss, \n",
    "                metrics=metrics, \n",
    "                X_train=X_train[f'user{user_index}'],\n",
    "                y_train = y_train[f'user{user_index}'], \n",
    "                max_epochs = max_epochs, \n",
    "                batch_size=batch_size, \n",
    "                X_val=X_val[f'user{user_index}'], \n",
    "                y_val=y_val[f'user{user_index}'], \n",
    "                X_test=X_test[f'user{user_index}'], \n",
    "                y_test=y_test[f'user{user_index}'], \n",
    "                callbacks=callbacks, \n",
    "                user=f'user{user_index}', \n",
    "                hyper=dense_moe_architecture,\n",
    "                optimizer=tf.keras.optimizers.Adam(learning_rate=0.0006),\n",
    "            )\n",
    "            #add model weights to list        \n",
    "            local_dense_moe_weights = local_dense_moe_model.get_weights()\n",
    "            local_dense_moe_weight_list.append(local_dense_moe_weights)\n",
    "        \n",
    "            #clear session to free memory after each communication round\n",
    "            K.clear_session()\n",
    "        \n",
    "        #to get the average over all the local model, we simply take the sum of the scaled weights\n",
    "        average_weights_dense_moe = avg_weights_with_noise_fedprox(local_dense_moe_weight_list)\n",
    "        #update global model \n",
    "        global_dense_moe.set_weights(average_weights_dense_moe)\n",
    "        #Save global models\n",
    "        global_dense_moe.save(cwd + f\"/models/FL/Dense/global_dense_model/cluster_{cluster_number}/{dense_moe_architecture}/FederatedRound{federated_round+1}\")\n",
    "        print(\"Saved Global models\")\n",
    "\n",
    "\n",
    "#Evaluation\n",
    "dense_all_results = pd.DataFrame(columns=[\"user\", \"architecture\", \"train_time\", \"avg_time_epoch\", \"mse\", \"rmse\", \"mape\", \"mae\"])\n",
    "\n",
    "for cluster_number, users_in_cluster in cluster_users.items():\n",
    "    print(f\"Cluster {cluster_number}:\")\n",
    "\n",
    "    #Get global models weights\n",
    "    global_dense_moe = tf.keras.models.load_model(cwd + f\"/models/FL/Dense/global_dense_model/cluster_{cluster_number}/{dense_moe_architecture}/FederatedRound{federated_rounds}\", compile=False)\n",
    "\n",
    "    #for idx, user in enumerate(df_array): \n",
    "    for user_index in users_in_cluster:\n",
    "        print(\"User: \", user_index)\n",
    "        for round in range(3):\n",
    "            global_dense_moe = tf.keras.models.load_model(cwd + f\"/models/FL/Dense/global_dense_model/cluster_{cluster_number}/{dense_moe_architecture}/FederatedRound{federated_rounds}\", compile=False)\n",
    "            dense_moe_model = m1.build_soft_dense_moe_model(X_train[f'user{user_index}'], batch_size, horizon, dense_units, expert_units, num_experts, m1)\n",
    "            dense_moe_model.set_weights(global_dense_moe.get_weights())\n",
    "            \n",
    "            dense_histroy, dense_user_results = mh.compile_fit_evaluate_model(\n",
    "                model=dense_moe_model, \n",
    "                loss=loss, \n",
    "                metrics=metrics, \n",
    "                X_train=X_train[f'user{user_index}'],\n",
    "                y_train = y_train[f'user{user_index}'], \n",
    "                max_epochs = 1, \n",
    "                batch_size=batch_size, \n",
    "                X_val=X_val[f'user{user_index}'], \n",
    "                y_val=y_val[f'user{user_index}'], \n",
    "                X_test=X_test[f'user{user_index}'], \n",
    "                y_test=y_test[f'user{user_index}'], \n",
    "                callbacks=callbacks, \n",
    "                user=f'user{user_index}', \n",
    "                hyper=dense_moe_architecture,\n",
    "                optimizer=tf.keras.optimizers.Adam(learning_rate=0.0006)\n",
    "            )\n",
    "            # Add the 'architecture' column from dense_user_results to dense_results\n",
    "            dense_all_results = pd.merge(dense_all_results, dense_user_results, how='outer')  \n",
    "\n",
    "for idx in range(len(df_array)):\n",
    "    new_row = {\n",
    "        'architecture': dense_moe_architecture,\n",
    "        'train_time': dense_all_results[dense_all_results[\"user\"]==f\"user{idx+1}\"][\"train_time\"].mean(), \n",
    "        'avg_time_epoch' : dense_all_results[dense_all_results[\"user\"]==f\"user{idx+1}\"][\"avg_time_epoch\"].mean(),\n",
    "        'mse': dense_all_results[dense_all_results[\"user\"]==f\"user{idx+1}\"][\"mse\"].mean(),\n",
    "        'mse_std' : dense_all_results[dense_all_results[\"user\"]==f\"user{idx+1}\"][\"mse\"].std(),\n",
    "        'rmse': dense_all_results[dense_all_results[\"user\"]==f\"user{idx+1}\"][\"rmse\"].mean(),\n",
    "        'rmse_std' : dense_all_results[dense_all_results[\"user\"]==f\"user{idx+1}\"][\"rmse\"].std(),\n",
    "        'mape': dense_all_results[dense_all_results[\"user\"]==f\"user{idx+1}\"][\"mape\"].mean(),\n",
    "        'mape_std' : dense_all_results[dense_all_results[\"user\"]==f\"user{idx+1}\"][\"mape\"].std(),\n",
    "        'mae': dense_all_results[dense_all_results[\"user\"]==f\"user{idx+1}\"][\"mae\"].mean(),\n",
    "        'mae_std' : dense_all_results[dense_all_results[\"user\"]==f\"user{idx+1}\"][\"mae\"].std(),\n",
    "    }\n",
    "    dense_results.loc[len(dense_results)] = new_row\n",
    "\n"
   ]
  },
  {
   "cell_type": "code",
   "execution_count": 6,
   "metadata": {},
   "outputs": [
    {
     "data": {
      "text/html": [
       "<div>\n",
       "<style scoped>\n",
       "    .dataframe tbody tr th:only-of-type {\n",
       "        vertical-align: middle;\n",
       "    }\n",
       "\n",
       "    .dataframe tbody tr th {\n",
       "        vertical-align: top;\n",
       "    }\n",
       "\n",
       "    .dataframe thead th {\n",
       "        text-align: right;\n",
       "    }\n",
       "</style>\n",
       "<table border=\"1\" class=\"dataframe\">\n",
       "  <thead>\n",
       "    <tr style=\"text-align: right;\">\n",
       "      <th></th>\n",
       "      <th>architecture</th>\n",
       "      <th>train_time</th>\n",
       "      <th>avg_time_epoch</th>\n",
       "      <th>mse</th>\n",
       "      <th>mse_std</th>\n",
       "      <th>rmse</th>\n",
       "      <th>rmse_std</th>\n",
       "      <th>mape</th>\n",
       "      <th>mape_std</th>\n",
       "      <th>mae</th>\n",
       "      <th>mae_std</th>\n",
       "    </tr>\n",
       "  </thead>\n",
       "  <tbody>\n",
       "    <tr>\n",
       "      <th>0</th>\n",
       "      <td>Dense_MoE_e4d8_d16</td>\n",
       "      <td>1.495996</td>\n",
       "      <td>1.413643</td>\n",
       "      <td>0.034502</td>\n",
       "      <td>0.000277</td>\n",
       "      <td>0.185745</td>\n",
       "      <td>0.000746</td>\n",
       "      <td>9.506578e+04</td>\n",
       "      <td>10724.872810</td>\n",
       "      <td>0.132685</td>\n",
       "      <td>0.001910</td>\n",
       "    </tr>\n",
       "    <tr>\n",
       "      <th>1</th>\n",
       "      <td>Dense_MoE_e4d8_d16</td>\n",
       "      <td>1.350153</td>\n",
       "      <td>1.270475</td>\n",
       "      <td>0.017793</td>\n",
       "      <td>0.000942</td>\n",
       "      <td>0.133360</td>\n",
       "      <td>0.003506</td>\n",
       "      <td>2.148979e+05</td>\n",
       "      <td>31327.194595</td>\n",
       "      <td>0.074563</td>\n",
       "      <td>0.001257</td>\n",
       "    </tr>\n",
       "    <tr>\n",
       "      <th>2</th>\n",
       "      <td>Dense_MoE_e4d8_d16</td>\n",
       "      <td>1.374985</td>\n",
       "      <td>1.293299</td>\n",
       "      <td>0.019011</td>\n",
       "      <td>0.000143</td>\n",
       "      <td>0.137878</td>\n",
       "      <td>0.000519</td>\n",
       "      <td>5.378165e+04</td>\n",
       "      <td>5117.348585</td>\n",
       "      <td>0.073185</td>\n",
       "      <td>0.004528</td>\n",
       "    </tr>\n",
       "    <tr>\n",
       "      <th>3</th>\n",
       "      <td>Dense_MoE_e4d8_d16</td>\n",
       "      <td>1.375389</td>\n",
       "      <td>1.294036</td>\n",
       "      <td>0.021595</td>\n",
       "      <td>0.000361</td>\n",
       "      <td>0.146948</td>\n",
       "      <td>0.001226</td>\n",
       "      <td>1.556666e+05</td>\n",
       "      <td>11608.861413</td>\n",
       "      <td>0.063102</td>\n",
       "      <td>0.001889</td>\n",
       "    </tr>\n",
       "    <tr>\n",
       "      <th>4</th>\n",
       "      <td>Dense_MoE_e4d8_d16</td>\n",
       "      <td>1.382867</td>\n",
       "      <td>1.301181</td>\n",
       "      <td>0.013548</td>\n",
       "      <td>0.000742</td>\n",
       "      <td>0.116367</td>\n",
       "      <td>0.003170</td>\n",
       "      <td>7.609251e+04</td>\n",
       "      <td>9830.769647</td>\n",
       "      <td>0.070237</td>\n",
       "      <td>0.001908</td>\n",
       "    </tr>\n",
       "    <tr>\n",
       "      <th>5</th>\n",
       "      <td>Dense_MoE_e4d8_d16</td>\n",
       "      <td>1.398616</td>\n",
       "      <td>1.314584</td>\n",
       "      <td>0.018657</td>\n",
       "      <td>0.000397</td>\n",
       "      <td>0.136585</td>\n",
       "      <td>0.001459</td>\n",
       "      <td>8.944397e+04</td>\n",
       "      <td>6192.629211</td>\n",
       "      <td>0.096862</td>\n",
       "      <td>0.001518</td>\n",
       "    </tr>\n",
       "    <tr>\n",
       "      <th>6</th>\n",
       "      <td>Dense_MoE_e4d8_d16</td>\n",
       "      <td>1.547030</td>\n",
       "      <td>1.465073</td>\n",
       "      <td>0.018713</td>\n",
       "      <td>0.000332</td>\n",
       "      <td>0.136792</td>\n",
       "      <td>0.001218</td>\n",
       "      <td>7.546588e+04</td>\n",
       "      <td>3156.671672</td>\n",
       "      <td>0.078188</td>\n",
       "      <td>0.000688</td>\n",
       "    </tr>\n",
       "    <tr>\n",
       "      <th>7</th>\n",
       "      <td>Dense_MoE_e4d8_d16</td>\n",
       "      <td>1.358829</td>\n",
       "      <td>1.277476</td>\n",
       "      <td>0.025183</td>\n",
       "      <td>0.001245</td>\n",
       "      <td>0.158659</td>\n",
       "      <td>0.003950</td>\n",
       "      <td>2.673365e+04</td>\n",
       "      <td>2865.039978</td>\n",
       "      <td>0.099982</td>\n",
       "      <td>0.001196</td>\n",
       "    </tr>\n",
       "    <tr>\n",
       "      <th>8</th>\n",
       "      <td>Dense_MoE_e4d8_d16</td>\n",
       "      <td>1.362834</td>\n",
       "      <td>1.281814</td>\n",
       "      <td>0.023523</td>\n",
       "      <td>0.000862</td>\n",
       "      <td>0.153356</td>\n",
       "      <td>0.002805</td>\n",
       "      <td>6.924008e+01</td>\n",
       "      <td>1.259674</td>\n",
       "      <td>0.089070</td>\n",
       "      <td>0.001563</td>\n",
       "    </tr>\n",
       "    <tr>\n",
       "      <th>9</th>\n",
       "      <td>Dense_MoE_e4d8_d16</td>\n",
       "      <td>1.370121</td>\n",
       "      <td>1.289102</td>\n",
       "      <td>0.013432</td>\n",
       "      <td>0.000491</td>\n",
       "      <td>0.115884</td>\n",
       "      <td>0.002114</td>\n",
       "      <td>2.110753e+06</td>\n",
       "      <td>208456.112380</td>\n",
       "      <td>0.066890</td>\n",
       "      <td>0.001273</td>\n",
       "    </tr>\n",
       "    <tr>\n",
       "      <th>10</th>\n",
       "      <td>Dense_MoE_e4d8_d16</td>\n",
       "      <td>1.368887</td>\n",
       "      <td>1.287867</td>\n",
       "      <td>0.014767</td>\n",
       "      <td>0.000134</td>\n",
       "      <td>0.121518</td>\n",
       "      <td>0.000552</td>\n",
       "      <td>1.039166e+05</td>\n",
       "      <td>14320.676253</td>\n",
       "      <td>0.078841</td>\n",
       "      <td>0.001676</td>\n",
       "    </tr>\n",
       "    <tr>\n",
       "      <th>11</th>\n",
       "      <td>Dense_MoE_e4d8_d16</td>\n",
       "      <td>1.371882</td>\n",
       "      <td>1.290483</td>\n",
       "      <td>0.009940</td>\n",
       "      <td>0.000094</td>\n",
       "      <td>0.099698</td>\n",
       "      <td>0.000469</td>\n",
       "      <td>1.232189e+05</td>\n",
       "      <td>8223.366631</td>\n",
       "      <td>0.068564</td>\n",
       "      <td>0.004112</td>\n",
       "    </tr>\n",
       "    <tr>\n",
       "      <th>12</th>\n",
       "      <td>Dense_MoE_e4d8_d16</td>\n",
       "      <td>1.423013</td>\n",
       "      <td>1.340993</td>\n",
       "      <td>0.017448</td>\n",
       "      <td>0.000767</td>\n",
       "      <td>0.132068</td>\n",
       "      <td>0.002886</td>\n",
       "      <td>1.122179e+05</td>\n",
       "      <td>26156.013617</td>\n",
       "      <td>0.085268</td>\n",
       "      <td>0.001265</td>\n",
       "    </tr>\n",
       "    <tr>\n",
       "      <th>13</th>\n",
       "      <td>Dense_MoE_e4d8_d16</td>\n",
       "      <td>1.377127</td>\n",
       "      <td>1.296101</td>\n",
       "      <td>0.019658</td>\n",
       "      <td>0.000345</td>\n",
       "      <td>0.140205</td>\n",
       "      <td>0.001232</td>\n",
       "      <td>6.986227e+04</td>\n",
       "      <td>15944.244305</td>\n",
       "      <td>0.089607</td>\n",
       "      <td>0.003576</td>\n",
       "    </tr>\n",
       "    <tr>\n",
       "      <th>14</th>\n",
       "      <td>Dense_MoE_e4d8_d16</td>\n",
       "      <td>1.394523</td>\n",
       "      <td>1.313170</td>\n",
       "      <td>0.009638</td>\n",
       "      <td>0.000077</td>\n",
       "      <td>0.098174</td>\n",
       "      <td>0.000393</td>\n",
       "      <td>1.111216e+05</td>\n",
       "      <td>6835.101455</td>\n",
       "      <td>0.055363</td>\n",
       "      <td>0.002341</td>\n",
       "    </tr>\n",
       "    <tr>\n",
       "      <th>15</th>\n",
       "      <td>Dense_MoE_e4d8_d16</td>\n",
       "      <td>1.545524</td>\n",
       "      <td>1.463505</td>\n",
       "      <td>0.013248</td>\n",
       "      <td>0.000183</td>\n",
       "      <td>0.115100</td>\n",
       "      <td>0.000792</td>\n",
       "      <td>8.737927e+04</td>\n",
       "      <td>8516.839497</td>\n",
       "      <td>0.071109</td>\n",
       "      <td>0.002487</td>\n",
       "    </tr>\n",
       "    <tr>\n",
       "      <th>16</th>\n",
       "      <td>Dense_MoE_e4d8_d16</td>\n",
       "      <td>1.378072</td>\n",
       "      <td>1.296386</td>\n",
       "      <td>0.016056</td>\n",
       "      <td>0.000132</td>\n",
       "      <td>0.126713</td>\n",
       "      <td>0.000523</td>\n",
       "      <td>1.978640e+05</td>\n",
       "      <td>12481.383654</td>\n",
       "      <td>0.081174</td>\n",
       "      <td>0.002643</td>\n",
       "    </tr>\n",
       "    <tr>\n",
       "      <th>17</th>\n",
       "      <td>Dense_MoE_e4d8_d16</td>\n",
       "      <td>1.547619</td>\n",
       "      <td>1.465266</td>\n",
       "      <td>0.014555</td>\n",
       "      <td>0.000322</td>\n",
       "      <td>0.120641</td>\n",
       "      <td>0.001336</td>\n",
       "      <td>1.258406e+05</td>\n",
       "      <td>13834.723938</td>\n",
       "      <td>0.080909</td>\n",
       "      <td>0.002241</td>\n",
       "    </tr>\n",
       "    <tr>\n",
       "      <th>18</th>\n",
       "      <td>Dense_MoE_e4d8_d16</td>\n",
       "      <td>1.514115</td>\n",
       "      <td>1.433763</td>\n",
       "      <td>0.012936</td>\n",
       "      <td>0.000172</td>\n",
       "      <td>0.113735</td>\n",
       "      <td>0.000756</td>\n",
       "      <td>5.872275e+04</td>\n",
       "      <td>5253.154541</td>\n",
       "      <td>0.059853</td>\n",
       "      <td>0.001276</td>\n",
       "    </tr>\n",
       "    <tr>\n",
       "      <th>19</th>\n",
       "      <td>Dense_MoE_e4d8_d16</td>\n",
       "      <td>1.396524</td>\n",
       "      <td>1.313330</td>\n",
       "      <td>0.027096</td>\n",
       "      <td>0.001639</td>\n",
       "      <td>0.164558</td>\n",
       "      <td>0.004937</td>\n",
       "      <td>2.586181e+05</td>\n",
       "      <td>18902.735703</td>\n",
       "      <td>0.123001</td>\n",
       "      <td>0.003946</td>\n",
       "    </tr>\n",
       "    <tr>\n",
       "      <th>20</th>\n",
       "      <td>Dense_MoE_e4d8_d16</td>\n",
       "      <td>1.383692</td>\n",
       "      <td>1.303334</td>\n",
       "      <td>0.017436</td>\n",
       "      <td>0.000135</td>\n",
       "      <td>0.132044</td>\n",
       "      <td>0.000513</td>\n",
       "      <td>1.197185e+05</td>\n",
       "      <td>1719.633848</td>\n",
       "      <td>0.096175</td>\n",
       "      <td>0.001384</td>\n",
       "    </tr>\n",
       "    <tr>\n",
       "      <th>21</th>\n",
       "      <td>Dense_MoE_e4d8_d16</td>\n",
       "      <td>1.373314</td>\n",
       "      <td>1.292295</td>\n",
       "      <td>0.020377</td>\n",
       "      <td>0.000532</td>\n",
       "      <td>0.142740</td>\n",
       "      <td>0.001858</td>\n",
       "      <td>7.416693e+04</td>\n",
       "      <td>9984.121228</td>\n",
       "      <td>0.084253</td>\n",
       "      <td>0.003355</td>\n",
       "    </tr>\n",
       "    <tr>\n",
       "      <th>22</th>\n",
       "      <td>Dense_MoE_e4d8_d16</td>\n",
       "      <td>1.534738</td>\n",
       "      <td>1.452310</td>\n",
       "      <td>0.009652</td>\n",
       "      <td>0.000035</td>\n",
       "      <td>0.098244</td>\n",
       "      <td>0.000177</td>\n",
       "      <td>1.006948e+05</td>\n",
       "      <td>2127.232563</td>\n",
       "      <td>0.057362</td>\n",
       "      <td>0.001940</td>\n",
       "    </tr>\n",
       "    <tr>\n",
       "      <th>23</th>\n",
       "      <td>Dense_MoE_e4d8_d16</td>\n",
       "      <td>1.370407</td>\n",
       "      <td>1.289421</td>\n",
       "      <td>0.007446</td>\n",
       "      <td>0.000357</td>\n",
       "      <td>0.086275</td>\n",
       "      <td>0.002077</td>\n",
       "      <td>2.148715e+05</td>\n",
       "      <td>49440.331951</td>\n",
       "      <td>0.061082</td>\n",
       "      <td>0.006579</td>\n",
       "    </tr>\n",
       "    <tr>\n",
       "      <th>24</th>\n",
       "      <td>Dense_MoE_e4d8_d16</td>\n",
       "      <td>1.368490</td>\n",
       "      <td>1.288119</td>\n",
       "      <td>0.019603</td>\n",
       "      <td>0.000283</td>\n",
       "      <td>0.140007</td>\n",
       "      <td>0.001014</td>\n",
       "      <td>1.757745e+04</td>\n",
       "      <td>8160.189623</td>\n",
       "      <td>0.082267</td>\n",
       "      <td>0.001659</td>\n",
       "    </tr>\n",
       "    <tr>\n",
       "      <th>25</th>\n",
       "      <td>Dense_MoE_e4d8_d16</td>\n",
       "      <td>1.376773</td>\n",
       "      <td>1.295421</td>\n",
       "      <td>0.022707</td>\n",
       "      <td>0.000844</td>\n",
       "      <td>0.150673</td>\n",
       "      <td>0.002785</td>\n",
       "      <td>1.098556e+05</td>\n",
       "      <td>12927.945159</td>\n",
       "      <td>0.092603</td>\n",
       "      <td>0.002295</td>\n",
       "    </tr>\n",
       "    <tr>\n",
       "      <th>26</th>\n",
       "      <td>Dense_MoE_e4d8_d16</td>\n",
       "      <td>1.374913</td>\n",
       "      <td>1.293227</td>\n",
       "      <td>0.016683</td>\n",
       "      <td>0.000123</td>\n",
       "      <td>0.129163</td>\n",
       "      <td>0.000477</td>\n",
       "      <td>2.211191e+05</td>\n",
       "      <td>2574.573932</td>\n",
       "      <td>0.087000</td>\n",
       "      <td>0.001219</td>\n",
       "    </tr>\n",
       "    <tr>\n",
       "      <th>27</th>\n",
       "      <td>Dense_MoE_e4d8_d16</td>\n",
       "      <td>1.511451</td>\n",
       "      <td>1.431766</td>\n",
       "      <td>0.010482</td>\n",
       "      <td>0.000312</td>\n",
       "      <td>0.102372</td>\n",
       "      <td>0.001529</td>\n",
       "      <td>4.355822e+04</td>\n",
       "      <td>9644.957877</td>\n",
       "      <td>0.043650</td>\n",
       "      <td>0.000682</td>\n",
       "    </tr>\n",
       "    <tr>\n",
       "      <th>28</th>\n",
       "      <td>Dense_MoE_e4d8_d16</td>\n",
       "      <td>1.371766</td>\n",
       "      <td>1.292746</td>\n",
       "      <td>0.017842</td>\n",
       "      <td>0.000926</td>\n",
       "      <td>0.133543</td>\n",
       "      <td>0.003443</td>\n",
       "      <td>3.512356e+05</td>\n",
       "      <td>56776.000382</td>\n",
       "      <td>0.092691</td>\n",
       "      <td>0.001510</td>\n",
       "    </tr>\n",
       "    <tr>\n",
       "      <th>29</th>\n",
       "      <td>Dense_MoE_e4d8_d16</td>\n",
       "      <td>1.383441</td>\n",
       "      <td>1.302758</td>\n",
       "      <td>0.017100</td>\n",
       "      <td>0.000034</td>\n",
       "      <td>0.130766</td>\n",
       "      <td>0.000130</td>\n",
       "      <td>1.674110e+06</td>\n",
       "      <td>160820.622964</td>\n",
       "      <td>0.081495</td>\n",
       "      <td>0.001172</td>\n",
       "    </tr>\n",
       "  </tbody>\n",
       "</table>\n",
       "</div>"
      ],
      "text/plain": [
       "          architecture  train_time  avg_time_epoch       mse   mse_std  \\\n",
       "0   Dense_MoE_e4d8_d16    1.495996        1.413643  0.034502  0.000277   \n",
       "1   Dense_MoE_e4d8_d16    1.350153        1.270475  0.017793  0.000942   \n",
       "2   Dense_MoE_e4d8_d16    1.374985        1.293299  0.019011  0.000143   \n",
       "3   Dense_MoE_e4d8_d16    1.375389        1.294036  0.021595  0.000361   \n",
       "4   Dense_MoE_e4d8_d16    1.382867        1.301181  0.013548  0.000742   \n",
       "5   Dense_MoE_e4d8_d16    1.398616        1.314584  0.018657  0.000397   \n",
       "6   Dense_MoE_e4d8_d16    1.547030        1.465073  0.018713  0.000332   \n",
       "7   Dense_MoE_e4d8_d16    1.358829        1.277476  0.025183  0.001245   \n",
       "8   Dense_MoE_e4d8_d16    1.362834        1.281814  0.023523  0.000862   \n",
       "9   Dense_MoE_e4d8_d16    1.370121        1.289102  0.013432  0.000491   \n",
       "10  Dense_MoE_e4d8_d16    1.368887        1.287867  0.014767  0.000134   \n",
       "11  Dense_MoE_e4d8_d16    1.371882        1.290483  0.009940  0.000094   \n",
       "12  Dense_MoE_e4d8_d16    1.423013        1.340993  0.017448  0.000767   \n",
       "13  Dense_MoE_e4d8_d16    1.377127        1.296101  0.019658  0.000345   \n",
       "14  Dense_MoE_e4d8_d16    1.394523        1.313170  0.009638  0.000077   \n",
       "15  Dense_MoE_e4d8_d16    1.545524        1.463505  0.013248  0.000183   \n",
       "16  Dense_MoE_e4d8_d16    1.378072        1.296386  0.016056  0.000132   \n",
       "17  Dense_MoE_e4d8_d16    1.547619        1.465266  0.014555  0.000322   \n",
       "18  Dense_MoE_e4d8_d16    1.514115        1.433763  0.012936  0.000172   \n",
       "19  Dense_MoE_e4d8_d16    1.396524        1.313330  0.027096  0.001639   \n",
       "20  Dense_MoE_e4d8_d16    1.383692        1.303334  0.017436  0.000135   \n",
       "21  Dense_MoE_e4d8_d16    1.373314        1.292295  0.020377  0.000532   \n",
       "22  Dense_MoE_e4d8_d16    1.534738        1.452310  0.009652  0.000035   \n",
       "23  Dense_MoE_e4d8_d16    1.370407        1.289421  0.007446  0.000357   \n",
       "24  Dense_MoE_e4d8_d16    1.368490        1.288119  0.019603  0.000283   \n",
       "25  Dense_MoE_e4d8_d16    1.376773        1.295421  0.022707  0.000844   \n",
       "26  Dense_MoE_e4d8_d16    1.374913        1.293227  0.016683  0.000123   \n",
       "27  Dense_MoE_e4d8_d16    1.511451        1.431766  0.010482  0.000312   \n",
       "28  Dense_MoE_e4d8_d16    1.371766        1.292746  0.017842  0.000926   \n",
       "29  Dense_MoE_e4d8_d16    1.383441        1.302758  0.017100  0.000034   \n",
       "\n",
       "        rmse  rmse_std          mape       mape_std       mae   mae_std  \n",
       "0   0.185745  0.000746  9.506578e+04   10724.872810  0.132685  0.001910  \n",
       "1   0.133360  0.003506  2.148979e+05   31327.194595  0.074563  0.001257  \n",
       "2   0.137878  0.000519  5.378165e+04    5117.348585  0.073185  0.004528  \n",
       "3   0.146948  0.001226  1.556666e+05   11608.861413  0.063102  0.001889  \n",
       "4   0.116367  0.003170  7.609251e+04    9830.769647  0.070237  0.001908  \n",
       "5   0.136585  0.001459  8.944397e+04    6192.629211  0.096862  0.001518  \n",
       "6   0.136792  0.001218  7.546588e+04    3156.671672  0.078188  0.000688  \n",
       "7   0.158659  0.003950  2.673365e+04    2865.039978  0.099982  0.001196  \n",
       "8   0.153356  0.002805  6.924008e+01       1.259674  0.089070  0.001563  \n",
       "9   0.115884  0.002114  2.110753e+06  208456.112380  0.066890  0.001273  \n",
       "10  0.121518  0.000552  1.039166e+05   14320.676253  0.078841  0.001676  \n",
       "11  0.099698  0.000469  1.232189e+05    8223.366631  0.068564  0.004112  \n",
       "12  0.132068  0.002886  1.122179e+05   26156.013617  0.085268  0.001265  \n",
       "13  0.140205  0.001232  6.986227e+04   15944.244305  0.089607  0.003576  \n",
       "14  0.098174  0.000393  1.111216e+05    6835.101455  0.055363  0.002341  \n",
       "15  0.115100  0.000792  8.737927e+04    8516.839497  0.071109  0.002487  \n",
       "16  0.126713  0.000523  1.978640e+05   12481.383654  0.081174  0.002643  \n",
       "17  0.120641  0.001336  1.258406e+05   13834.723938  0.080909  0.002241  \n",
       "18  0.113735  0.000756  5.872275e+04    5253.154541  0.059853  0.001276  \n",
       "19  0.164558  0.004937  2.586181e+05   18902.735703  0.123001  0.003946  \n",
       "20  0.132044  0.000513  1.197185e+05    1719.633848  0.096175  0.001384  \n",
       "21  0.142740  0.001858  7.416693e+04    9984.121228  0.084253  0.003355  \n",
       "22  0.098244  0.000177  1.006948e+05    2127.232563  0.057362  0.001940  \n",
       "23  0.086275  0.002077  2.148715e+05   49440.331951  0.061082  0.006579  \n",
       "24  0.140007  0.001014  1.757745e+04    8160.189623  0.082267  0.001659  \n",
       "25  0.150673  0.002785  1.098556e+05   12927.945159  0.092603  0.002295  \n",
       "26  0.129163  0.000477  2.211191e+05    2574.573932  0.087000  0.001219  \n",
       "27  0.102372  0.001529  4.355822e+04    9644.957877  0.043650  0.000682  \n",
       "28  0.133543  0.003443  3.512356e+05   56776.000382  0.092691  0.001510  \n",
       "29  0.130766  0.000130  1.674110e+06  160820.622964  0.081495  0.001172  "
      ]
     },
     "execution_count": 6,
     "metadata": {},
     "output_type": "execute_result"
    }
   ],
   "source": [
    "dense_results.to_csv(f'evaluations/clustered_federated_learning/{dense_moe_architecture}.csv')\n",
    "dense_results"
   ]
  },
  {
   "cell_type": "code",
   "execution_count": 7,
   "metadata": {},
   "outputs": [
    {
     "name": "stdout",
     "output_type": "stream",
     "text": [
      "WARNING:tensorflow:Compiled the loaded model, but the compiled metrics have yet to be built. `model.compile_metrics` will be empty until you train or evaluate the model.\n"
     ]
    },
    {
     "name": "stderr",
     "output_type": "stream",
     "text": [
      "WARNING:tensorflow:Compiled the loaded model, but the compiled metrics have yet to be built. `model.compile_metrics` will be empty until you train or evaluate the model.\n"
     ]
    },
    {
     "name": "stdout",
     "output_type": "stream",
     "text": [
      "INFO:tensorflow:Assets written to: c:\\Users\\rs1044\\bwSyncShare\\02Python Code\\MoE-based-FL-for-secure-STLF/models/FL/Dense/global_dense_model/cluster_0/TopK_Dense_MoE/FederatedRound0\\assets\n"
     ]
    },
    {
     "name": "stderr",
     "output_type": "stream",
     "text": [
      "INFO:tensorflow:Assets written to: c:\\Users\\rs1044\\bwSyncShare\\02Python Code\\MoE-based-FL-for-secure-STLF/models/FL/Dense/global_dense_model/cluster_0/TopK_Dense_MoE/FederatedRound0\\assets\n"
     ]
    },
    {
     "name": "stdout",
     "output_type": "stream",
     "text": [
      "WARNING:tensorflow:Compiled the loaded model, but the compiled metrics have yet to be built. `model.compile_metrics` will be empty until you train or evaluate the model.\n"
     ]
    },
    {
     "name": "stderr",
     "output_type": "stream",
     "text": [
      "WARNING:tensorflow:Compiled the loaded model, but the compiled metrics have yet to be built. `model.compile_metrics` will be empty until you train or evaluate the model.\n"
     ]
    },
    {
     "name": "stdout",
     "output_type": "stream",
     "text": [
      "INFO:tensorflow:Assets written to: c:\\Users\\rs1044\\bwSyncShare\\02Python Code\\MoE-based-FL-for-secure-STLF/models/FL/Dense/global_dense_model/cluster_1/TopK_Dense_MoE/FederatedRound0\\assets\n"
     ]
    },
    {
     "name": "stderr",
     "output_type": "stream",
     "text": [
      "INFO:tensorflow:Assets written to: c:\\Users\\rs1044\\bwSyncShare\\02Python Code\\MoE-based-FL-for-secure-STLF/models/FL/Dense/global_dense_model/cluster_1/TopK_Dense_MoE/FederatedRound0\\assets\n"
     ]
    },
    {
     "name": "stdout",
     "output_type": "stream",
     "text": [
      "WARNING:tensorflow:Compiled the loaded model, but the compiled metrics have yet to be built. `model.compile_metrics` will be empty until you train or evaluate the model.\n"
     ]
    },
    {
     "name": "stderr",
     "output_type": "stream",
     "text": [
      "WARNING:tensorflow:Compiled the loaded model, but the compiled metrics have yet to be built. `model.compile_metrics` will be empty until you train or evaluate the model.\n"
     ]
    },
    {
     "name": "stdout",
     "output_type": "stream",
     "text": [
      "INFO:tensorflow:Assets written to: c:\\Users\\rs1044\\bwSyncShare\\02Python Code\\MoE-based-FL-for-secure-STLF/models/FL/Dense/global_dense_model/cluster_2/TopK_Dense_MoE/FederatedRound0\\assets\n"
     ]
    },
    {
     "name": "stderr",
     "output_type": "stream",
     "text": [
      "INFO:tensorflow:Assets written to: c:\\Users\\rs1044\\bwSyncShare\\02Python Code\\MoE-based-FL-for-secure-STLF/models/FL/Dense/global_dense_model/cluster_2/TopK_Dense_MoE/FederatedRound0\\assets\n"
     ]
    },
    {
     "name": "stdout",
     "output_type": "stream",
     "text": [
      "WARNING:tensorflow:Compiled the loaded model, but the compiled metrics have yet to be built. `model.compile_metrics` will be empty until you train or evaluate the model.\n"
     ]
    },
    {
     "name": "stderr",
     "output_type": "stream",
     "text": [
      "WARNING:tensorflow:Compiled the loaded model, but the compiled metrics have yet to be built. `model.compile_metrics` will be empty until you train or evaluate the model.\n"
     ]
    },
    {
     "name": "stdout",
     "output_type": "stream",
     "text": [
      "INFO:tensorflow:Assets written to: c:\\Users\\rs1044\\bwSyncShare\\02Python Code\\MoE-based-FL-for-secure-STLF/models/FL/Dense/global_dense_model/cluster_3/TopK_Dense_MoE/FederatedRound0\\assets\n"
     ]
    },
    {
     "name": "stderr",
     "output_type": "stream",
     "text": [
      "INFO:tensorflow:Assets written to: c:\\Users\\rs1044\\bwSyncShare\\02Python Code\\MoE-based-FL-for-secure-STLF/models/FL/Dense/global_dense_model/cluster_3/TopK_Dense_MoE/FederatedRound0\\assets\n"
     ]
    },
    {
     "name": "stdout",
     "output_type": "stream",
     "text": [
      "Started Federated training round ---------- 1 / 3\n",
      "Cluster 0:\n",
      "User 1\n",
      "User 2\n",
      "User 4\n",
      "User 5\n",
      "User 7\n",
      "User 10\n",
      "User 11\n",
      "User 12\n",
      "User 15\n",
      "User 16\n",
      "User 17\n",
      "User 21\n",
      "User 22\n",
      "User 23\n",
      "User 24\n",
      "User 25\n",
      "User 28\n",
      "User 30\n",
      "WARNING:tensorflow:Compiled the loaded model, but the compiled metrics have yet to be built. `model.compile_metrics` will be empty until you train or evaluate the model.\n"
     ]
    },
    {
     "name": "stderr",
     "output_type": "stream",
     "text": [
      "WARNING:tensorflow:Compiled the loaded model, but the compiled metrics have yet to be built. `model.compile_metrics` will be empty until you train or evaluate the model.\n"
     ]
    },
    {
     "name": "stdout",
     "output_type": "stream",
     "text": [
      "INFO:tensorflow:Assets written to: c:\\Users\\rs1044\\bwSyncShare\\02Python Code\\MoE-based-FL-for-secure-STLF/models/FL/Dense/global_dense_model/cluster_0/TopK_Dense_MoE/FederatedRound1\\assets\n"
     ]
    },
    {
     "name": "stderr",
     "output_type": "stream",
     "text": [
      "INFO:tensorflow:Assets written to: c:\\Users\\rs1044\\bwSyncShare\\02Python Code\\MoE-based-FL-for-secure-STLF/models/FL/Dense/global_dense_model/cluster_0/TopK_Dense_MoE/FederatedRound1\\assets\n"
     ]
    },
    {
     "name": "stdout",
     "output_type": "stream",
     "text": [
      "Saved Global models\n",
      "Cluster 1:\n",
      "User 29\n",
      "WARNING:tensorflow:Compiled the loaded model, but the compiled metrics have yet to be built. `model.compile_metrics` will be empty until you train or evaluate the model.\n"
     ]
    },
    {
     "name": "stderr",
     "output_type": "stream",
     "text": [
      "WARNING:tensorflow:Compiled the loaded model, but the compiled metrics have yet to be built. `model.compile_metrics` will be empty until you train or evaluate the model.\n"
     ]
    },
    {
     "name": "stdout",
     "output_type": "stream",
     "text": [
      "INFO:tensorflow:Assets written to: c:\\Users\\rs1044\\bwSyncShare\\02Python Code\\MoE-based-FL-for-secure-STLF/models/FL/Dense/global_dense_model/cluster_1/TopK_Dense_MoE/FederatedRound1\\assets\n"
     ]
    },
    {
     "name": "stderr",
     "output_type": "stream",
     "text": [
      "INFO:tensorflow:Assets written to: c:\\Users\\rs1044\\bwSyncShare\\02Python Code\\MoE-based-FL-for-secure-STLF/models/FL/Dense/global_dense_model/cluster_1/TopK_Dense_MoE/FederatedRound1\\assets\n"
     ]
    },
    {
     "name": "stdout",
     "output_type": "stream",
     "text": [
      "Saved Global models\n",
      "Cluster 2:\n",
      "User 6\n",
      "User 13\n",
      "User 18\n",
      "User 20\n",
      "User 26\n",
      "WARNING:tensorflow:Compiled the loaded model, but the compiled metrics have yet to be built. `model.compile_metrics` will be empty until you train or evaluate the model.\n"
     ]
    },
    {
     "name": "stderr",
     "output_type": "stream",
     "text": [
      "WARNING:tensorflow:Compiled the loaded model, but the compiled metrics have yet to be built. `model.compile_metrics` will be empty until you train or evaluate the model.\n"
     ]
    },
    {
     "name": "stdout",
     "output_type": "stream",
     "text": [
      "INFO:tensorflow:Assets written to: c:\\Users\\rs1044\\bwSyncShare\\02Python Code\\MoE-based-FL-for-secure-STLF/models/FL/Dense/global_dense_model/cluster_2/TopK_Dense_MoE/FederatedRound1\\assets\n"
     ]
    },
    {
     "name": "stderr",
     "output_type": "stream",
     "text": [
      "INFO:tensorflow:Assets written to: c:\\Users\\rs1044\\bwSyncShare\\02Python Code\\MoE-based-FL-for-secure-STLF/models/FL/Dense/global_dense_model/cluster_2/TopK_Dense_MoE/FederatedRound1\\assets\n"
     ]
    },
    {
     "name": "stdout",
     "output_type": "stream",
     "text": [
      "Saved Global models\n",
      "Cluster 3:\n",
      "User 3\n",
      "User 8\n",
      "User 9\n",
      "User 14\n",
      "User 19\n",
      "User 27\n",
      "WARNING:tensorflow:Compiled the loaded model, but the compiled metrics have yet to be built. `model.compile_metrics` will be empty until you train or evaluate the model.\n"
     ]
    },
    {
     "name": "stderr",
     "output_type": "stream",
     "text": [
      "WARNING:tensorflow:Compiled the loaded model, but the compiled metrics have yet to be built. `model.compile_metrics` will be empty until you train or evaluate the model.\n"
     ]
    },
    {
     "name": "stdout",
     "output_type": "stream",
     "text": [
      "INFO:tensorflow:Assets written to: c:\\Users\\rs1044\\bwSyncShare\\02Python Code\\MoE-based-FL-for-secure-STLF/models/FL/Dense/global_dense_model/cluster_3/TopK_Dense_MoE/FederatedRound1\\assets\n"
     ]
    },
    {
     "name": "stderr",
     "output_type": "stream",
     "text": [
      "INFO:tensorflow:Assets written to: c:\\Users\\rs1044\\bwSyncShare\\02Python Code\\MoE-based-FL-for-secure-STLF/models/FL/Dense/global_dense_model/cluster_3/TopK_Dense_MoE/FederatedRound1\\assets\n"
     ]
    },
    {
     "name": "stdout",
     "output_type": "stream",
     "text": [
      "Saved Global models\n",
      "Started Federated training round ---------- 2 / 3\n",
      "Cluster 0:\n",
      "User 1\n",
      "User 2\n",
      "User 4\n",
      "User 5\n",
      "User 7\n",
      "User 10\n",
      "User 11\n",
      "User 12\n",
      "User 15\n",
      "User 16\n",
      "User 17\n",
      "User 21\n",
      "User 22\n",
      "User 23\n",
      "User 24\n",
      "User 25\n",
      "User 28\n",
      "User 30\n",
      "WARNING:tensorflow:Compiled the loaded model, but the compiled metrics have yet to be built. `model.compile_metrics` will be empty until you train or evaluate the model.\n"
     ]
    },
    {
     "name": "stderr",
     "output_type": "stream",
     "text": [
      "WARNING:tensorflow:Compiled the loaded model, but the compiled metrics have yet to be built. `model.compile_metrics` will be empty until you train or evaluate the model.\n"
     ]
    },
    {
     "name": "stdout",
     "output_type": "stream",
     "text": [
      "INFO:tensorflow:Assets written to: c:\\Users\\rs1044\\bwSyncShare\\02Python Code\\MoE-based-FL-for-secure-STLF/models/FL/Dense/global_dense_model/cluster_0/TopK_Dense_MoE/FederatedRound2\\assets\n"
     ]
    },
    {
     "name": "stderr",
     "output_type": "stream",
     "text": [
      "INFO:tensorflow:Assets written to: c:\\Users\\rs1044\\bwSyncShare\\02Python Code\\MoE-based-FL-for-secure-STLF/models/FL/Dense/global_dense_model/cluster_0/TopK_Dense_MoE/FederatedRound2\\assets\n"
     ]
    },
    {
     "name": "stdout",
     "output_type": "stream",
     "text": [
      "Saved Global models\n",
      "Cluster 1:\n",
      "User 29\n",
      "WARNING:tensorflow:Compiled the loaded model, but the compiled metrics have yet to be built. `model.compile_metrics` will be empty until you train or evaluate the model.\n"
     ]
    },
    {
     "name": "stderr",
     "output_type": "stream",
     "text": [
      "WARNING:tensorflow:Compiled the loaded model, but the compiled metrics have yet to be built. `model.compile_metrics` will be empty until you train or evaluate the model.\n"
     ]
    },
    {
     "name": "stdout",
     "output_type": "stream",
     "text": [
      "INFO:tensorflow:Assets written to: c:\\Users\\rs1044\\bwSyncShare\\02Python Code\\MoE-based-FL-for-secure-STLF/models/FL/Dense/global_dense_model/cluster_1/TopK_Dense_MoE/FederatedRound2\\assets\n"
     ]
    },
    {
     "name": "stderr",
     "output_type": "stream",
     "text": [
      "INFO:tensorflow:Assets written to: c:\\Users\\rs1044\\bwSyncShare\\02Python Code\\MoE-based-FL-for-secure-STLF/models/FL/Dense/global_dense_model/cluster_1/TopK_Dense_MoE/FederatedRound2\\assets\n"
     ]
    },
    {
     "name": "stdout",
     "output_type": "stream",
     "text": [
      "Saved Global models\n",
      "Cluster 2:\n",
      "User 6\n",
      "User 13\n",
      "User 18\n",
      "User 20\n",
      "User 26\n",
      "WARNING:tensorflow:Compiled the loaded model, but the compiled metrics have yet to be built. `model.compile_metrics` will be empty until you train or evaluate the model.\n"
     ]
    },
    {
     "name": "stderr",
     "output_type": "stream",
     "text": [
      "WARNING:tensorflow:Compiled the loaded model, but the compiled metrics have yet to be built. `model.compile_metrics` will be empty until you train or evaluate the model.\n"
     ]
    },
    {
     "name": "stdout",
     "output_type": "stream",
     "text": [
      "INFO:tensorflow:Assets written to: c:\\Users\\rs1044\\bwSyncShare\\02Python Code\\MoE-based-FL-for-secure-STLF/models/FL/Dense/global_dense_model/cluster_2/TopK_Dense_MoE/FederatedRound2\\assets\n"
     ]
    },
    {
     "name": "stderr",
     "output_type": "stream",
     "text": [
      "INFO:tensorflow:Assets written to: c:\\Users\\rs1044\\bwSyncShare\\02Python Code\\MoE-based-FL-for-secure-STLF/models/FL/Dense/global_dense_model/cluster_2/TopK_Dense_MoE/FederatedRound2\\assets\n"
     ]
    },
    {
     "name": "stdout",
     "output_type": "stream",
     "text": [
      "Saved Global models\n",
      "Cluster 3:\n",
      "User 3\n",
      "User 8\n",
      "User 9\n",
      "User 14\n",
      "User 19\n",
      "User 27\n",
      "WARNING:tensorflow:Compiled the loaded model, but the compiled metrics have yet to be built. `model.compile_metrics` will be empty until you train or evaluate the model.\n"
     ]
    },
    {
     "name": "stderr",
     "output_type": "stream",
     "text": [
      "WARNING:tensorflow:Compiled the loaded model, but the compiled metrics have yet to be built. `model.compile_metrics` will be empty until you train or evaluate the model.\n"
     ]
    },
    {
     "name": "stdout",
     "output_type": "stream",
     "text": [
      "INFO:tensorflow:Assets written to: c:\\Users\\rs1044\\bwSyncShare\\02Python Code\\MoE-based-FL-for-secure-STLF/models/FL/Dense/global_dense_model/cluster_3/TopK_Dense_MoE/FederatedRound2\\assets\n"
     ]
    },
    {
     "name": "stderr",
     "output_type": "stream",
     "text": [
      "INFO:tensorflow:Assets written to: c:\\Users\\rs1044\\bwSyncShare\\02Python Code\\MoE-based-FL-for-secure-STLF/models/FL/Dense/global_dense_model/cluster_3/TopK_Dense_MoE/FederatedRound2\\assets\n"
     ]
    },
    {
     "name": "stdout",
     "output_type": "stream",
     "text": [
      "Saved Global models\n",
      "Started Federated training round ---------- 3 / 3\n",
      "Cluster 0:\n",
      "User 1\n",
      "User 2\n",
      "User 4\n",
      "User 5\n",
      "User 7\n",
      "User 10\n",
      "User 11\n",
      "User 12\n",
      "User 15\n",
      "User 16\n",
      "User 17\n",
      "User 21\n",
      "User 22\n",
      "User 23\n",
      "User 24\n",
      "User 25\n",
      "User 28\n",
      "User 30\n",
      "WARNING:tensorflow:Compiled the loaded model, but the compiled metrics have yet to be built. `model.compile_metrics` will be empty until you train or evaluate the model.\n"
     ]
    },
    {
     "name": "stderr",
     "output_type": "stream",
     "text": [
      "WARNING:tensorflow:Compiled the loaded model, but the compiled metrics have yet to be built. `model.compile_metrics` will be empty until you train or evaluate the model.\n"
     ]
    },
    {
     "name": "stdout",
     "output_type": "stream",
     "text": [
      "INFO:tensorflow:Assets written to: c:\\Users\\rs1044\\bwSyncShare\\02Python Code\\MoE-based-FL-for-secure-STLF/models/FL/Dense/global_dense_model/cluster_0/TopK_Dense_MoE/FederatedRound3\\assets\n"
     ]
    },
    {
     "name": "stderr",
     "output_type": "stream",
     "text": [
      "INFO:tensorflow:Assets written to: c:\\Users\\rs1044\\bwSyncShare\\02Python Code\\MoE-based-FL-for-secure-STLF/models/FL/Dense/global_dense_model/cluster_0/TopK_Dense_MoE/FederatedRound3\\assets\n"
     ]
    },
    {
     "name": "stdout",
     "output_type": "stream",
     "text": [
      "Saved Global models\n",
      "Cluster 1:\n",
      "User 29\n",
      "WARNING:tensorflow:Compiled the loaded model, but the compiled metrics have yet to be built. `model.compile_metrics` will be empty until you train or evaluate the model.\n"
     ]
    },
    {
     "name": "stderr",
     "output_type": "stream",
     "text": [
      "WARNING:tensorflow:Compiled the loaded model, but the compiled metrics have yet to be built. `model.compile_metrics` will be empty until you train or evaluate the model.\n"
     ]
    },
    {
     "name": "stdout",
     "output_type": "stream",
     "text": [
      "INFO:tensorflow:Assets written to: c:\\Users\\rs1044\\bwSyncShare\\02Python Code\\MoE-based-FL-for-secure-STLF/models/FL/Dense/global_dense_model/cluster_1/TopK_Dense_MoE/FederatedRound3\\assets\n"
     ]
    },
    {
     "name": "stderr",
     "output_type": "stream",
     "text": [
      "INFO:tensorflow:Assets written to: c:\\Users\\rs1044\\bwSyncShare\\02Python Code\\MoE-based-FL-for-secure-STLF/models/FL/Dense/global_dense_model/cluster_1/TopK_Dense_MoE/FederatedRound3\\assets\n"
     ]
    },
    {
     "name": "stdout",
     "output_type": "stream",
     "text": [
      "Saved Global models\n",
      "Cluster 2:\n",
      "User 6\n",
      "User 13\n",
      "User 18\n",
      "User 20\n",
      "User 26\n",
      "WARNING:tensorflow:Compiled the loaded model, but the compiled metrics have yet to be built. `model.compile_metrics` will be empty until you train or evaluate the model.\n"
     ]
    },
    {
     "name": "stderr",
     "output_type": "stream",
     "text": [
      "WARNING:tensorflow:Compiled the loaded model, but the compiled metrics have yet to be built. `model.compile_metrics` will be empty until you train or evaluate the model.\n"
     ]
    },
    {
     "name": "stdout",
     "output_type": "stream",
     "text": [
      "INFO:tensorflow:Assets written to: c:\\Users\\rs1044\\bwSyncShare\\02Python Code\\MoE-based-FL-for-secure-STLF/models/FL/Dense/global_dense_model/cluster_2/TopK_Dense_MoE/FederatedRound3\\assets\n"
     ]
    },
    {
     "name": "stderr",
     "output_type": "stream",
     "text": [
      "INFO:tensorflow:Assets written to: c:\\Users\\rs1044\\bwSyncShare\\02Python Code\\MoE-based-FL-for-secure-STLF/models/FL/Dense/global_dense_model/cluster_2/TopK_Dense_MoE/FederatedRound3\\assets\n"
     ]
    },
    {
     "name": "stdout",
     "output_type": "stream",
     "text": [
      "Saved Global models\n",
      "Cluster 3:\n",
      "User 3\n",
      "User 8\n",
      "User 9\n",
      "User 14\n",
      "User 19\n",
      "User 27\n",
      "WARNING:tensorflow:Compiled the loaded model, but the compiled metrics have yet to be built. `model.compile_metrics` will be empty until you train or evaluate the model.\n"
     ]
    },
    {
     "name": "stderr",
     "output_type": "stream",
     "text": [
      "WARNING:tensorflow:Compiled the loaded model, but the compiled metrics have yet to be built. `model.compile_metrics` will be empty until you train or evaluate the model.\n"
     ]
    },
    {
     "name": "stdout",
     "output_type": "stream",
     "text": [
      "INFO:tensorflow:Assets written to: c:\\Users\\rs1044\\bwSyncShare\\02Python Code\\MoE-based-FL-for-secure-STLF/models/FL/Dense/global_dense_model/cluster_3/TopK_Dense_MoE/FederatedRound3\\assets\n"
     ]
    },
    {
     "name": "stderr",
     "output_type": "stream",
     "text": [
      "INFO:tensorflow:Assets written to: c:\\Users\\rs1044\\bwSyncShare\\02Python Code\\MoE-based-FL-for-secure-STLF/models/FL/Dense/global_dense_model/cluster_3/TopK_Dense_MoE/FederatedRound3\\assets\n"
     ]
    },
    {
     "name": "stdout",
     "output_type": "stream",
     "text": [
      "Saved Global models\n",
      "Cluster 0:\n",
      "User:  1\n",
      "User:  2\n",
      "User:  4\n",
      "User:  5\n",
      "User:  7\n",
      "User:  10\n",
      "User:  11\n",
      "User:  12\n",
      "User:  15\n",
      "User:  16\n",
      "User:  17\n",
      "User:  21\n",
      "User:  22\n",
      "User:  23\n",
      "User:  24\n",
      "User:  25\n",
      "User:  28\n",
      "User:  30\n",
      "Cluster 1:\n",
      "User:  29\n",
      "Cluster 2:\n",
      "User:  6\n",
      "User:  13\n",
      "User:  18\n",
      "User:  20\n",
      "User:  26\n",
      "Cluster 3:\n",
      "User:  3\n",
      "User:  8\n",
      "User:  9\n",
      "User:  14\n",
      "User:  19\n",
      "User:  27\n"
     ]
    }
   ],
   "source": [
    "#Dense MODEL 1 ------------------------------------------------------------------\n",
    "dense_moe_architecture = \"TopK_Dense_MoE\" #top2_exp5_d8\n",
    "dense_units = 16\n",
    "\n",
    "num_experts = 5\n",
    "expert_units = 8\n",
    "top_k = 2\n",
    "\n",
    "# Create global models for each cluser (6)\n",
    "for cluster in range(num_clusters):\n",
    "#Build and save global model\n",
    "    global_dense_moe = m1.build_topk_dense_moe_model(X_train[f'user{1}'], batch_size, horizon, dense_units, num_experts, top_k, expert_units, m1)\n",
    "    global_dense_moe.save(cwd + f\"/models/FL/Dense/global_dense_model/cluster_{cluster}/{dense_moe_architecture}/FederatedRound{0}\")\n",
    "\n",
    "  \n",
    "federated_rounds = 3\n",
    "for federated_round  in range(federated_rounds):\n",
    "    print(\"Started Federated training round ----------\", federated_round+1, f\"/ {federated_rounds}\")\n",
    "\n",
    "    for cluster_number, users_in_cluster in cluster_users.items():\n",
    "        print(f\"Cluster {cluster_number}:\")\n",
    "\n",
    "        #Get global models weights\n",
    "        global_dense_moe = keras.models.load_model(cwd + f\"/models/FL/Dense/global_dense_model/cluster_{cluster_number}/{dense_moe_architecture}/FederatedRound{federated_round}\", compile=False)\n",
    "        global_dense_moe_weights = global_dense_moe.get_weights()\n",
    "\n",
    "        #initial list for local model weights\n",
    "        local_dense_moe_weight_list = list()\n",
    "\n",
    "\n",
    "        #for idx, user in enumerate(df_array): \n",
    "        for user_index in users_in_cluster:\n",
    "            user_df = df_array[user_index-1]  # Get the user's DataFrame from the array\n",
    "            print(f\"User {user_index}\") \n",
    "                      \n",
    "            #build and compile local model X_train, batch_size, horizon, dense_units,  expert_units, num_experts, m1\n",
    "            local_dense_moe_model = m1.build_topk_dense_moe_model(X_train[f'user{user_index}'], batch_size, horizon, dense_units, num_experts, top_k, expert_units, m1)\n",
    "            local_dense_moe_model.compile(loss=loss, optimizer=tf.keras.optimizers.Adam(learning_rate=0.0006), metrics=metrics)\n",
    "\n",
    "            #set local model weight to the weight of the global model\n",
    "            local_dense_moe_model.set_weights(global_dense_moe_weights)\n",
    "            \n",
    "            #Fit local model to local data\n",
    "            dense_histroy, dense_user_results = mh.compile_fit_evaluate_model(\n",
    "                model=local_dense_moe_model, \n",
    "                loss=loss, \n",
    "                metrics=metrics, \n",
    "                X_train=X_train[f'user{user_index}'],\n",
    "                y_train = y_train[f'user{user_index}'], \n",
    "                max_epochs = max_epochs, \n",
    "                batch_size=batch_size, \n",
    "                X_val=X_val[f'user{user_index}'], \n",
    "                y_val=y_val[f'user{user_index}'], \n",
    "                X_test=X_test[f'user{user_index}'], \n",
    "                y_test=y_test[f'user{user_index}'], \n",
    "                callbacks=callbacks, \n",
    "                user=f'user{user_index}', \n",
    "                hyper=dense_moe_architecture,\n",
    "                optimizer=tf.keras.optimizers.Adam(learning_rate=0.0006),\n",
    "            )\n",
    "            #add model weights to list        \n",
    "            local_dense_moe_weights = local_dense_moe_model.get_weights()\n",
    "            local_dense_moe_weight_list.append(local_dense_moe_weights)\n",
    "        \n",
    "            #clear session to free memory after each communication round\n",
    "            K.clear_session()\n",
    "        \n",
    "        #to get the average over all the local model, we simply take the sum of the scaled weights\n",
    "        average_weights_dense_moe = avg_weights_with_noise_fedprox(local_dense_moe_weight_list)\n",
    "        #update global model \n",
    "        global_dense_moe.set_weights(average_weights_dense_moe)\n",
    "        #Save global models\n",
    "        global_dense_moe.save(cwd + f\"/models/FL/Dense/global_dense_model/cluster_{cluster_number}/{dense_moe_architecture}/FederatedRound{federated_round+1}\")\n",
    "        print(\"Saved Global models\")\n",
    "\n",
    "\n",
    "#Evaluation\n",
    "dense_all_results = pd.DataFrame(columns=[\"user\", \"architecture\", \"train_time\", \"avg_time_epoch\", \"mse\", \"rmse\", \"mape\", \"mae\"])\n",
    "\n",
    "for cluster_number, users_in_cluster in cluster_users.items():\n",
    "    print(f\"Cluster {cluster_number}:\")\n",
    "\n",
    "    #Get global models weights\n",
    "    global_dense_moe = tf.keras.models.load_model(cwd + f\"/models/FL/Dense/global_dense_model/cluster_{cluster_number}/{dense_moe_architecture}/FederatedRound{federated_rounds}\", compile=False)\n",
    "\n",
    "    #for idx, user in enumerate(df_array): \n",
    "    for user_index in users_in_cluster:\n",
    "        print(\"User: \", user_index)\n",
    "        for round in range(3):\n",
    "            global_dense_moe = tf.keras.models.load_model(cwd + f\"/models/FL/Dense/global_dense_model/cluster_{cluster_number}/{dense_moe_architecture}/FederatedRound{federated_rounds}\", compile=False)\n",
    "            dense_moe_model = m1.build_topk_dense_moe_model(X_train[f'user{user_index}'], batch_size, horizon, dense_units, num_experts, top_k, expert_units, m1)\n",
    "            dense_moe_model.set_weights(global_dense_moe.get_weights())\n",
    "            \n",
    "            dense_histroy, dense_user_results = mh.compile_fit_evaluate_model(\n",
    "                model=dense_moe_model, \n",
    "                loss=loss, \n",
    "                metrics=metrics, \n",
    "                X_train=X_train[f'user{user_index}'],\n",
    "                y_train = y_train[f'user{user_index}'], \n",
    "                max_epochs = 1, \n",
    "                batch_size=batch_size, \n",
    "                X_val=X_val[f'user{user_index}'], \n",
    "                y_val=y_val[f'user{user_index}'], \n",
    "                X_test=X_test[f'user{user_index}'], \n",
    "                y_test=y_test[f'user{user_index}'], \n",
    "                callbacks=callbacks, \n",
    "                user=f'user{user_index}', \n",
    "                hyper=dense_moe_architecture,\n",
    "                optimizer=tf.keras.optimizers.Adam(learning_rate=0.0006)\n",
    "            )\n",
    "            # Add the 'architecture' column from dense_user_results to dense_results\n",
    "            dense_all_results = pd.merge(dense_all_results, dense_user_results, how='outer')  \n",
    "\n",
    "for idx in range(len(df_array)):\n",
    "    new_row = {\n",
    "        'architecture': dense_moe_architecture,\n",
    "        'train_time': dense_all_results[dense_all_results[\"user\"]==f\"user{idx+1}\"][\"train_time\"].mean(), \n",
    "        'avg_time_epoch' : dense_all_results[dense_all_results[\"user\"]==f\"user{idx+1}\"][\"avg_time_epoch\"].mean(),\n",
    "        'mse': dense_all_results[dense_all_results[\"user\"]==f\"user{idx+1}\"][\"mse\"].mean(),\n",
    "        'mse_std' : dense_all_results[dense_all_results[\"user\"]==f\"user{idx+1}\"][\"mse\"].std(),\n",
    "        'rmse': dense_all_results[dense_all_results[\"user\"]==f\"user{idx+1}\"][\"rmse\"].mean(),\n",
    "        'rmse_std' : dense_all_results[dense_all_results[\"user\"]==f\"user{idx+1}\"][\"rmse\"].std(),\n",
    "        'mape': dense_all_results[dense_all_results[\"user\"]==f\"user{idx+1}\"][\"mape\"].mean(),\n",
    "        'mape_std' : dense_all_results[dense_all_results[\"user\"]==f\"user{idx+1}\"][\"mape\"].std(),\n",
    "        'mae': dense_all_results[dense_all_results[\"user\"]==f\"user{idx+1}\"][\"mae\"].mean(),\n",
    "        'mae_std' : dense_all_results[dense_all_results[\"user\"]==f\"user{idx+1}\"][\"mae\"].std(),\n",
    "    }\n",
    "    dense_results.loc[len(dense_results)] = new_row\n",
    "\n"
   ]
  },
  {
   "cell_type": "code",
   "execution_count": 8,
   "metadata": {},
   "outputs": [
    {
     "data": {
      "text/html": [
       "<div>\n",
       "<style scoped>\n",
       "    .dataframe tbody tr th:only-of-type {\n",
       "        vertical-align: middle;\n",
       "    }\n",
       "\n",
       "    .dataframe tbody tr th {\n",
       "        vertical-align: top;\n",
       "    }\n",
       "\n",
       "    .dataframe thead th {\n",
       "        text-align: right;\n",
       "    }\n",
       "</style>\n",
       "<table border=\"1\" class=\"dataframe\">\n",
       "  <thead>\n",
       "    <tr style=\"text-align: right;\">\n",
       "      <th></th>\n",
       "      <th>architecture</th>\n",
       "      <th>train_time</th>\n",
       "      <th>avg_time_epoch</th>\n",
       "      <th>mse</th>\n",
       "      <th>mse_std</th>\n",
       "      <th>rmse</th>\n",
       "      <th>rmse_std</th>\n",
       "      <th>mape</th>\n",
       "      <th>mape_std</th>\n",
       "      <th>mae</th>\n",
       "      <th>mae_std</th>\n",
       "    </tr>\n",
       "  </thead>\n",
       "  <tbody>\n",
       "    <tr>\n",
       "      <th>0</th>\n",
       "      <td>Dense_MoE_e4d8_d16</td>\n",
       "      <td>1.495996</td>\n",
       "      <td>1.413643</td>\n",
       "      <td>0.034502</td>\n",
       "      <td>0.000277</td>\n",
       "      <td>0.185745</td>\n",
       "      <td>0.000746</td>\n",
       "      <td>9.506578e+04</td>\n",
       "      <td>10724.872810</td>\n",
       "      <td>0.132685</td>\n",
       "      <td>0.001910</td>\n",
       "    </tr>\n",
       "    <tr>\n",
       "      <th>1</th>\n",
       "      <td>Dense_MoE_e4d8_d16</td>\n",
       "      <td>1.350153</td>\n",
       "      <td>1.270475</td>\n",
       "      <td>0.017793</td>\n",
       "      <td>0.000942</td>\n",
       "      <td>0.133360</td>\n",
       "      <td>0.003506</td>\n",
       "      <td>2.148979e+05</td>\n",
       "      <td>31327.194595</td>\n",
       "      <td>0.074563</td>\n",
       "      <td>0.001257</td>\n",
       "    </tr>\n",
       "    <tr>\n",
       "      <th>2</th>\n",
       "      <td>Dense_MoE_e4d8_d16</td>\n",
       "      <td>1.374985</td>\n",
       "      <td>1.293299</td>\n",
       "      <td>0.019011</td>\n",
       "      <td>0.000143</td>\n",
       "      <td>0.137878</td>\n",
       "      <td>0.000519</td>\n",
       "      <td>5.378165e+04</td>\n",
       "      <td>5117.348585</td>\n",
       "      <td>0.073185</td>\n",
       "      <td>0.004528</td>\n",
       "    </tr>\n",
       "    <tr>\n",
       "      <th>3</th>\n",
       "      <td>Dense_MoE_e4d8_d16</td>\n",
       "      <td>1.375389</td>\n",
       "      <td>1.294036</td>\n",
       "      <td>0.021595</td>\n",
       "      <td>0.000361</td>\n",
       "      <td>0.146948</td>\n",
       "      <td>0.001226</td>\n",
       "      <td>1.556666e+05</td>\n",
       "      <td>11608.861413</td>\n",
       "      <td>0.063102</td>\n",
       "      <td>0.001889</td>\n",
       "    </tr>\n",
       "    <tr>\n",
       "      <th>4</th>\n",
       "      <td>Dense_MoE_e4d8_d16</td>\n",
       "      <td>1.382867</td>\n",
       "      <td>1.301181</td>\n",
       "      <td>0.013548</td>\n",
       "      <td>0.000742</td>\n",
       "      <td>0.116367</td>\n",
       "      <td>0.003170</td>\n",
       "      <td>7.609251e+04</td>\n",
       "      <td>9830.769647</td>\n",
       "      <td>0.070237</td>\n",
       "      <td>0.001908</td>\n",
       "    </tr>\n",
       "    <tr>\n",
       "      <th>5</th>\n",
       "      <td>Dense_MoE_e4d8_d16</td>\n",
       "      <td>1.398616</td>\n",
       "      <td>1.314584</td>\n",
       "      <td>0.018657</td>\n",
       "      <td>0.000397</td>\n",
       "      <td>0.136585</td>\n",
       "      <td>0.001459</td>\n",
       "      <td>8.944397e+04</td>\n",
       "      <td>6192.629211</td>\n",
       "      <td>0.096862</td>\n",
       "      <td>0.001518</td>\n",
       "    </tr>\n",
       "    <tr>\n",
       "      <th>6</th>\n",
       "      <td>Dense_MoE_e4d8_d16</td>\n",
       "      <td>1.547030</td>\n",
       "      <td>1.465073</td>\n",
       "      <td>0.018713</td>\n",
       "      <td>0.000332</td>\n",
       "      <td>0.136792</td>\n",
       "      <td>0.001218</td>\n",
       "      <td>7.546588e+04</td>\n",
       "      <td>3156.671672</td>\n",
       "      <td>0.078188</td>\n",
       "      <td>0.000688</td>\n",
       "    </tr>\n",
       "    <tr>\n",
       "      <th>7</th>\n",
       "      <td>Dense_MoE_e4d8_d16</td>\n",
       "      <td>1.358829</td>\n",
       "      <td>1.277476</td>\n",
       "      <td>0.025183</td>\n",
       "      <td>0.001245</td>\n",
       "      <td>0.158659</td>\n",
       "      <td>0.003950</td>\n",
       "      <td>2.673365e+04</td>\n",
       "      <td>2865.039978</td>\n",
       "      <td>0.099982</td>\n",
       "      <td>0.001196</td>\n",
       "    </tr>\n",
       "    <tr>\n",
       "      <th>8</th>\n",
       "      <td>Dense_MoE_e4d8_d16</td>\n",
       "      <td>1.362834</td>\n",
       "      <td>1.281814</td>\n",
       "      <td>0.023523</td>\n",
       "      <td>0.000862</td>\n",
       "      <td>0.153356</td>\n",
       "      <td>0.002805</td>\n",
       "      <td>6.924008e+01</td>\n",
       "      <td>1.259674</td>\n",
       "      <td>0.089070</td>\n",
       "      <td>0.001563</td>\n",
       "    </tr>\n",
       "    <tr>\n",
       "      <th>9</th>\n",
       "      <td>Dense_MoE_e4d8_d16</td>\n",
       "      <td>1.370121</td>\n",
       "      <td>1.289102</td>\n",
       "      <td>0.013432</td>\n",
       "      <td>0.000491</td>\n",
       "      <td>0.115884</td>\n",
       "      <td>0.002114</td>\n",
       "      <td>2.110753e+06</td>\n",
       "      <td>208456.112380</td>\n",
       "      <td>0.066890</td>\n",
       "      <td>0.001273</td>\n",
       "    </tr>\n",
       "    <tr>\n",
       "      <th>10</th>\n",
       "      <td>Dense_MoE_e4d8_d16</td>\n",
       "      <td>1.368887</td>\n",
       "      <td>1.287867</td>\n",
       "      <td>0.014767</td>\n",
       "      <td>0.000134</td>\n",
       "      <td>0.121518</td>\n",
       "      <td>0.000552</td>\n",
       "      <td>1.039166e+05</td>\n",
       "      <td>14320.676253</td>\n",
       "      <td>0.078841</td>\n",
       "      <td>0.001676</td>\n",
       "    </tr>\n",
       "    <tr>\n",
       "      <th>11</th>\n",
       "      <td>Dense_MoE_e4d8_d16</td>\n",
       "      <td>1.371882</td>\n",
       "      <td>1.290483</td>\n",
       "      <td>0.009940</td>\n",
       "      <td>0.000094</td>\n",
       "      <td>0.099698</td>\n",
       "      <td>0.000469</td>\n",
       "      <td>1.232189e+05</td>\n",
       "      <td>8223.366631</td>\n",
       "      <td>0.068564</td>\n",
       "      <td>0.004112</td>\n",
       "    </tr>\n",
       "    <tr>\n",
       "      <th>12</th>\n",
       "      <td>Dense_MoE_e4d8_d16</td>\n",
       "      <td>1.423013</td>\n",
       "      <td>1.340993</td>\n",
       "      <td>0.017448</td>\n",
       "      <td>0.000767</td>\n",
       "      <td>0.132068</td>\n",
       "      <td>0.002886</td>\n",
       "      <td>1.122179e+05</td>\n",
       "      <td>26156.013617</td>\n",
       "      <td>0.085268</td>\n",
       "      <td>0.001265</td>\n",
       "    </tr>\n",
       "    <tr>\n",
       "      <th>13</th>\n",
       "      <td>Dense_MoE_e4d8_d16</td>\n",
       "      <td>1.377127</td>\n",
       "      <td>1.296101</td>\n",
       "      <td>0.019658</td>\n",
       "      <td>0.000345</td>\n",
       "      <td>0.140205</td>\n",
       "      <td>0.001232</td>\n",
       "      <td>6.986227e+04</td>\n",
       "      <td>15944.244305</td>\n",
       "      <td>0.089607</td>\n",
       "      <td>0.003576</td>\n",
       "    </tr>\n",
       "    <tr>\n",
       "      <th>14</th>\n",
       "      <td>Dense_MoE_e4d8_d16</td>\n",
       "      <td>1.394523</td>\n",
       "      <td>1.313170</td>\n",
       "      <td>0.009638</td>\n",
       "      <td>0.000077</td>\n",
       "      <td>0.098174</td>\n",
       "      <td>0.000393</td>\n",
       "      <td>1.111216e+05</td>\n",
       "      <td>6835.101455</td>\n",
       "      <td>0.055363</td>\n",
       "      <td>0.002341</td>\n",
       "    </tr>\n",
       "    <tr>\n",
       "      <th>15</th>\n",
       "      <td>Dense_MoE_e4d8_d16</td>\n",
       "      <td>1.545524</td>\n",
       "      <td>1.463505</td>\n",
       "      <td>0.013248</td>\n",
       "      <td>0.000183</td>\n",
       "      <td>0.115100</td>\n",
       "      <td>0.000792</td>\n",
       "      <td>8.737927e+04</td>\n",
       "      <td>8516.839497</td>\n",
       "      <td>0.071109</td>\n",
       "      <td>0.002487</td>\n",
       "    </tr>\n",
       "    <tr>\n",
       "      <th>16</th>\n",
       "      <td>Dense_MoE_e4d8_d16</td>\n",
       "      <td>1.378072</td>\n",
       "      <td>1.296386</td>\n",
       "      <td>0.016056</td>\n",
       "      <td>0.000132</td>\n",
       "      <td>0.126713</td>\n",
       "      <td>0.000523</td>\n",
       "      <td>1.978640e+05</td>\n",
       "      <td>12481.383654</td>\n",
       "      <td>0.081174</td>\n",
       "      <td>0.002643</td>\n",
       "    </tr>\n",
       "    <tr>\n",
       "      <th>17</th>\n",
       "      <td>Dense_MoE_e4d8_d16</td>\n",
       "      <td>1.547619</td>\n",
       "      <td>1.465266</td>\n",
       "      <td>0.014555</td>\n",
       "      <td>0.000322</td>\n",
       "      <td>0.120641</td>\n",
       "      <td>0.001336</td>\n",
       "      <td>1.258406e+05</td>\n",
       "      <td>13834.723938</td>\n",
       "      <td>0.080909</td>\n",
       "      <td>0.002241</td>\n",
       "    </tr>\n",
       "    <tr>\n",
       "      <th>18</th>\n",
       "      <td>Dense_MoE_e4d8_d16</td>\n",
       "      <td>1.514115</td>\n",
       "      <td>1.433763</td>\n",
       "      <td>0.012936</td>\n",
       "      <td>0.000172</td>\n",
       "      <td>0.113735</td>\n",
       "      <td>0.000756</td>\n",
       "      <td>5.872275e+04</td>\n",
       "      <td>5253.154541</td>\n",
       "      <td>0.059853</td>\n",
       "      <td>0.001276</td>\n",
       "    </tr>\n",
       "    <tr>\n",
       "      <th>19</th>\n",
       "      <td>Dense_MoE_e4d8_d16</td>\n",
       "      <td>1.396524</td>\n",
       "      <td>1.313330</td>\n",
       "      <td>0.027096</td>\n",
       "      <td>0.001639</td>\n",
       "      <td>0.164558</td>\n",
       "      <td>0.004937</td>\n",
       "      <td>2.586181e+05</td>\n",
       "      <td>18902.735703</td>\n",
       "      <td>0.123001</td>\n",
       "      <td>0.003946</td>\n",
       "    </tr>\n",
       "    <tr>\n",
       "      <th>20</th>\n",
       "      <td>Dense_MoE_e4d8_d16</td>\n",
       "      <td>1.383692</td>\n",
       "      <td>1.303334</td>\n",
       "      <td>0.017436</td>\n",
       "      <td>0.000135</td>\n",
       "      <td>0.132044</td>\n",
       "      <td>0.000513</td>\n",
       "      <td>1.197185e+05</td>\n",
       "      <td>1719.633848</td>\n",
       "      <td>0.096175</td>\n",
       "      <td>0.001384</td>\n",
       "    </tr>\n",
       "    <tr>\n",
       "      <th>21</th>\n",
       "      <td>Dense_MoE_e4d8_d16</td>\n",
       "      <td>1.373314</td>\n",
       "      <td>1.292295</td>\n",
       "      <td>0.020377</td>\n",
       "      <td>0.000532</td>\n",
       "      <td>0.142740</td>\n",
       "      <td>0.001858</td>\n",
       "      <td>7.416693e+04</td>\n",
       "      <td>9984.121228</td>\n",
       "      <td>0.084253</td>\n",
       "      <td>0.003355</td>\n",
       "    </tr>\n",
       "    <tr>\n",
       "      <th>22</th>\n",
       "      <td>Dense_MoE_e4d8_d16</td>\n",
       "      <td>1.534738</td>\n",
       "      <td>1.452310</td>\n",
       "      <td>0.009652</td>\n",
       "      <td>0.000035</td>\n",
       "      <td>0.098244</td>\n",
       "      <td>0.000177</td>\n",
       "      <td>1.006948e+05</td>\n",
       "      <td>2127.232563</td>\n",
       "      <td>0.057362</td>\n",
       "      <td>0.001940</td>\n",
       "    </tr>\n",
       "    <tr>\n",
       "      <th>23</th>\n",
       "      <td>Dense_MoE_e4d8_d16</td>\n",
       "      <td>1.370407</td>\n",
       "      <td>1.289421</td>\n",
       "      <td>0.007446</td>\n",
       "      <td>0.000357</td>\n",
       "      <td>0.086275</td>\n",
       "      <td>0.002077</td>\n",
       "      <td>2.148715e+05</td>\n",
       "      <td>49440.331951</td>\n",
       "      <td>0.061082</td>\n",
       "      <td>0.006579</td>\n",
       "    </tr>\n",
       "    <tr>\n",
       "      <th>24</th>\n",
       "      <td>Dense_MoE_e4d8_d16</td>\n",
       "      <td>1.368490</td>\n",
       "      <td>1.288119</td>\n",
       "      <td>0.019603</td>\n",
       "      <td>0.000283</td>\n",
       "      <td>0.140007</td>\n",
       "      <td>0.001014</td>\n",
       "      <td>1.757745e+04</td>\n",
       "      <td>8160.189623</td>\n",
       "      <td>0.082267</td>\n",
       "      <td>0.001659</td>\n",
       "    </tr>\n",
       "    <tr>\n",
       "      <th>25</th>\n",
       "      <td>Dense_MoE_e4d8_d16</td>\n",
       "      <td>1.376773</td>\n",
       "      <td>1.295421</td>\n",
       "      <td>0.022707</td>\n",
       "      <td>0.000844</td>\n",
       "      <td>0.150673</td>\n",
       "      <td>0.002785</td>\n",
       "      <td>1.098556e+05</td>\n",
       "      <td>12927.945159</td>\n",
       "      <td>0.092603</td>\n",
       "      <td>0.002295</td>\n",
       "    </tr>\n",
       "    <tr>\n",
       "      <th>26</th>\n",
       "      <td>Dense_MoE_e4d8_d16</td>\n",
       "      <td>1.374913</td>\n",
       "      <td>1.293227</td>\n",
       "      <td>0.016683</td>\n",
       "      <td>0.000123</td>\n",
       "      <td>0.129163</td>\n",
       "      <td>0.000477</td>\n",
       "      <td>2.211191e+05</td>\n",
       "      <td>2574.573932</td>\n",
       "      <td>0.087000</td>\n",
       "      <td>0.001219</td>\n",
       "    </tr>\n",
       "    <tr>\n",
       "      <th>27</th>\n",
       "      <td>Dense_MoE_e4d8_d16</td>\n",
       "      <td>1.511451</td>\n",
       "      <td>1.431766</td>\n",
       "      <td>0.010482</td>\n",
       "      <td>0.000312</td>\n",
       "      <td>0.102372</td>\n",
       "      <td>0.001529</td>\n",
       "      <td>4.355822e+04</td>\n",
       "      <td>9644.957877</td>\n",
       "      <td>0.043650</td>\n",
       "      <td>0.000682</td>\n",
       "    </tr>\n",
       "    <tr>\n",
       "      <th>28</th>\n",
       "      <td>Dense_MoE_e4d8_d16</td>\n",
       "      <td>1.371766</td>\n",
       "      <td>1.292746</td>\n",
       "      <td>0.017842</td>\n",
       "      <td>0.000926</td>\n",
       "      <td>0.133543</td>\n",
       "      <td>0.003443</td>\n",
       "      <td>3.512356e+05</td>\n",
       "      <td>56776.000382</td>\n",
       "      <td>0.092691</td>\n",
       "      <td>0.001510</td>\n",
       "    </tr>\n",
       "    <tr>\n",
       "      <th>29</th>\n",
       "      <td>Dense_MoE_e4d8_d16</td>\n",
       "      <td>1.383441</td>\n",
       "      <td>1.302758</td>\n",
       "      <td>0.017100</td>\n",
       "      <td>0.000034</td>\n",
       "      <td>0.130766</td>\n",
       "      <td>0.000130</td>\n",
       "      <td>1.674110e+06</td>\n",
       "      <td>160820.622964</td>\n",
       "      <td>0.081495</td>\n",
       "      <td>0.001172</td>\n",
       "    </tr>\n",
       "    <tr>\n",
       "      <th>30</th>\n",
       "      <td>TopK_Dense_MoE</td>\n",
       "      <td>1.733130</td>\n",
       "      <td>1.635774</td>\n",
       "      <td>0.033493</td>\n",
       "      <td>0.000239</td>\n",
       "      <td>0.183009</td>\n",
       "      <td>0.000654</td>\n",
       "      <td>1.038542e+05</td>\n",
       "      <td>8336.488987</td>\n",
       "      <td>0.128805</td>\n",
       "      <td>0.002640</td>\n",
       "    </tr>\n",
       "    <tr>\n",
       "      <th>31</th>\n",
       "      <td>TopK_Dense_MoE</td>\n",
       "      <td>1.732523</td>\n",
       "      <td>1.636135</td>\n",
       "      <td>0.017579</td>\n",
       "      <td>0.000066</td>\n",
       "      <td>0.132586</td>\n",
       "      <td>0.000248</td>\n",
       "      <td>2.251010e+05</td>\n",
       "      <td>20044.358548</td>\n",
       "      <td>0.075886</td>\n",
       "      <td>0.000812</td>\n",
       "    </tr>\n",
       "    <tr>\n",
       "      <th>32</th>\n",
       "      <td>TopK_Dense_MoE</td>\n",
       "      <td>1.743795</td>\n",
       "      <td>1.646936</td>\n",
       "      <td>0.019746</td>\n",
       "      <td>0.000219</td>\n",
       "      <td>0.140518</td>\n",
       "      <td>0.000778</td>\n",
       "      <td>6.408331e+04</td>\n",
       "      <td>6231.337873</td>\n",
       "      <td>0.078252</td>\n",
       "      <td>0.005101</td>\n",
       "    </tr>\n",
       "    <tr>\n",
       "      <th>33</th>\n",
       "      <td>TopK_Dense_MoE</td>\n",
       "      <td>1.726112</td>\n",
       "      <td>1.629596</td>\n",
       "      <td>0.021748</td>\n",
       "      <td>0.000108</td>\n",
       "      <td>0.147472</td>\n",
       "      <td>0.000367</td>\n",
       "      <td>1.551949e+05</td>\n",
       "      <td>15895.113999</td>\n",
       "      <td>0.061334</td>\n",
       "      <td>0.001672</td>\n",
       "    </tr>\n",
       "    <tr>\n",
       "      <th>34</th>\n",
       "      <td>TopK_Dense_MoE</td>\n",
       "      <td>1.874511</td>\n",
       "      <td>1.779488</td>\n",
       "      <td>0.012947</td>\n",
       "      <td>0.000337</td>\n",
       "      <td>0.113778</td>\n",
       "      <td>0.001488</td>\n",
       "      <td>1.051878e+05</td>\n",
       "      <td>6483.552502</td>\n",
       "      <td>0.073782</td>\n",
       "      <td>0.000442</td>\n",
       "    </tr>\n",
       "    <tr>\n",
       "      <th>35</th>\n",
       "      <td>TopK_Dense_MoE</td>\n",
       "      <td>1.757583</td>\n",
       "      <td>1.660227</td>\n",
       "      <td>0.019645</td>\n",
       "      <td>0.000478</td>\n",
       "      <td>0.140154</td>\n",
       "      <td>0.001702</td>\n",
       "      <td>9.868317e+04</td>\n",
       "      <td>18127.509424</td>\n",
       "      <td>0.098821</td>\n",
       "      <td>0.002461</td>\n",
       "    </tr>\n",
       "    <tr>\n",
       "      <th>36</th>\n",
       "      <td>TopK_Dense_MoE</td>\n",
       "      <td>1.718017</td>\n",
       "      <td>1.623328</td>\n",
       "      <td>0.018558</td>\n",
       "      <td>0.000075</td>\n",
       "      <td>0.136226</td>\n",
       "      <td>0.000274</td>\n",
       "      <td>7.262491e+04</td>\n",
       "      <td>5356.227945</td>\n",
       "      <td>0.080352</td>\n",
       "      <td>0.001413</td>\n",
       "    </tr>\n",
       "    <tr>\n",
       "      <th>37</th>\n",
       "      <td>TopK_Dense_MoE</td>\n",
       "      <td>1.926662</td>\n",
       "      <td>1.829304</td>\n",
       "      <td>0.024730</td>\n",
       "      <td>0.000519</td>\n",
       "      <td>0.157254</td>\n",
       "      <td>0.001644</td>\n",
       "      <td>1.476489e+04</td>\n",
       "      <td>16392.870059</td>\n",
       "      <td>0.102787</td>\n",
       "      <td>0.001287</td>\n",
       "    </tr>\n",
       "    <tr>\n",
       "      <th>38</th>\n",
       "      <td>TopK_Dense_MoE</td>\n",
       "      <td>1.918665</td>\n",
       "      <td>1.821646</td>\n",
       "      <td>0.024163</td>\n",
       "      <td>0.001139</td>\n",
       "      <td>0.155415</td>\n",
       "      <td>0.003686</td>\n",
       "      <td>7.001601e+01</td>\n",
       "      <td>5.880365</td>\n",
       "      <td>0.091874</td>\n",
       "      <td>0.002586</td>\n",
       "    </tr>\n",
       "    <tr>\n",
       "      <th>39</th>\n",
       "      <td>TopK_Dense_MoE</td>\n",
       "      <td>1.734451</td>\n",
       "      <td>1.637095</td>\n",
       "      <td>0.012965</td>\n",
       "      <td>0.000124</td>\n",
       "      <td>0.113863</td>\n",
       "      <td>0.000544</td>\n",
       "      <td>2.636225e+06</td>\n",
       "      <td>170632.645282</td>\n",
       "      <td>0.070032</td>\n",
       "      <td>0.001956</td>\n",
       "    </tr>\n",
       "    <tr>\n",
       "      <th>40</th>\n",
       "      <td>TopK_Dense_MoE</td>\n",
       "      <td>1.736439</td>\n",
       "      <td>1.639417</td>\n",
       "      <td>0.015352</td>\n",
       "      <td>0.000916</td>\n",
       "      <td>0.123866</td>\n",
       "      <td>0.003681</td>\n",
       "      <td>1.466639e+05</td>\n",
       "      <td>2159.748001</td>\n",
       "      <td>0.081980</td>\n",
       "      <td>0.001084</td>\n",
       "    </tr>\n",
       "    <tr>\n",
       "      <th>41</th>\n",
       "      <td>TopK_Dense_MoE</td>\n",
       "      <td>1.733823</td>\n",
       "      <td>1.635788</td>\n",
       "      <td>0.010144</td>\n",
       "      <td>0.000089</td>\n",
       "      <td>0.100717</td>\n",
       "      <td>0.000441</td>\n",
       "      <td>1.208527e+05</td>\n",
       "      <td>8321.254850</td>\n",
       "      <td>0.065839</td>\n",
       "      <td>0.002372</td>\n",
       "    </tr>\n",
       "    <tr>\n",
       "      <th>42</th>\n",
       "      <td>TopK_Dense_MoE</td>\n",
       "      <td>1.922591</td>\n",
       "      <td>1.825640</td>\n",
       "      <td>0.016739</td>\n",
       "      <td>0.000168</td>\n",
       "      <td>0.129377</td>\n",
       "      <td>0.000651</td>\n",
       "      <td>1.267153e+05</td>\n",
       "      <td>1800.295036</td>\n",
       "      <td>0.085029</td>\n",
       "      <td>0.001487</td>\n",
       "    </tr>\n",
       "    <tr>\n",
       "      <th>43</th>\n",
       "      <td>TopK_Dense_MoE</td>\n",
       "      <td>1.749650</td>\n",
       "      <td>1.652094</td>\n",
       "      <td>0.019815</td>\n",
       "      <td>0.000257</td>\n",
       "      <td>0.140764</td>\n",
       "      <td>0.000914</td>\n",
       "      <td>9.639379e+04</td>\n",
       "      <td>9643.061588</td>\n",
       "      <td>0.097748</td>\n",
       "      <td>0.006556</td>\n",
       "    </tr>\n",
       "    <tr>\n",
       "      <th>44</th>\n",
       "      <td>TopK_Dense_MoE</td>\n",
       "      <td>1.766181</td>\n",
       "      <td>1.670158</td>\n",
       "      <td>0.009842</td>\n",
       "      <td>0.000120</td>\n",
       "      <td>0.099205</td>\n",
       "      <td>0.000607</td>\n",
       "      <td>1.149963e+05</td>\n",
       "      <td>26530.651790</td>\n",
       "      <td>0.056161</td>\n",
       "      <td>0.005577</td>\n",
       "    </tr>\n",
       "    <tr>\n",
       "      <th>45</th>\n",
       "      <td>TopK_Dense_MoE</td>\n",
       "      <td>1.752497</td>\n",
       "      <td>1.654140</td>\n",
       "      <td>0.013433</td>\n",
       "      <td>0.000124</td>\n",
       "      <td>0.115899</td>\n",
       "      <td>0.000535</td>\n",
       "      <td>1.119269e+05</td>\n",
       "      <td>5093.272253</td>\n",
       "      <td>0.074636</td>\n",
       "      <td>0.002209</td>\n",
       "    </tr>\n",
       "    <tr>\n",
       "      <th>46</th>\n",
       "      <td>TopK_Dense_MoE</td>\n",
       "      <td>1.757175</td>\n",
       "      <td>1.658818</td>\n",
       "      <td>0.016603</td>\n",
       "      <td>0.000187</td>\n",
       "      <td>0.128851</td>\n",
       "      <td>0.000726</td>\n",
       "      <td>2.051120e+05</td>\n",
       "      <td>23053.693674</td>\n",
       "      <td>0.081508</td>\n",
       "      <td>0.001232</td>\n",
       "    </tr>\n",
       "    <tr>\n",
       "      <th>47</th>\n",
       "      <td>TopK_Dense_MoE</td>\n",
       "      <td>1.738529</td>\n",
       "      <td>1.640172</td>\n",
       "      <td>0.014344</td>\n",
       "      <td>0.000077</td>\n",
       "      <td>0.119765</td>\n",
       "      <td>0.000322</td>\n",
       "      <td>1.392265e+05</td>\n",
       "      <td>14326.627284</td>\n",
       "      <td>0.079991</td>\n",
       "      <td>0.001281</td>\n",
       "    </tr>\n",
       "    <tr>\n",
       "      <th>48</th>\n",
       "      <td>TopK_Dense_MoE</td>\n",
       "      <td>1.922497</td>\n",
       "      <td>1.825808</td>\n",
       "      <td>0.012965</td>\n",
       "      <td>0.000199</td>\n",
       "      <td>0.113860</td>\n",
       "      <td>0.000874</td>\n",
       "      <td>7.540117e+04</td>\n",
       "      <td>1689.241166</td>\n",
       "      <td>0.065444</td>\n",
       "      <td>0.001090</td>\n",
       "    </tr>\n",
       "    <tr>\n",
       "      <th>49</th>\n",
       "      <td>TopK_Dense_MoE</td>\n",
       "      <td>1.751246</td>\n",
       "      <td>1.653223</td>\n",
       "      <td>0.024762</td>\n",
       "      <td>0.002317</td>\n",
       "      <td>0.157245</td>\n",
       "      <td>0.007340</td>\n",
       "      <td>3.227356e+05</td>\n",
       "      <td>28575.717440</td>\n",
       "      <td>0.115815</td>\n",
       "      <td>0.005610</td>\n",
       "    </tr>\n",
       "    <tr>\n",
       "      <th>50</th>\n",
       "      <td>TopK_Dense_MoE</td>\n",
       "      <td>1.766574</td>\n",
       "      <td>1.668716</td>\n",
       "      <td>0.017107</td>\n",
       "      <td>0.000029</td>\n",
       "      <td>0.130795</td>\n",
       "      <td>0.000111</td>\n",
       "      <td>1.073894e+05</td>\n",
       "      <td>7053.244685</td>\n",
       "      <td>0.097458</td>\n",
       "      <td>0.001490</td>\n",
       "    </tr>\n",
       "    <tr>\n",
       "      <th>51</th>\n",
       "      <td>TopK_Dense_MoE</td>\n",
       "      <td>1.926003</td>\n",
       "      <td>1.828477</td>\n",
       "      <td>0.019743</td>\n",
       "      <td>0.000238</td>\n",
       "      <td>0.140506</td>\n",
       "      <td>0.000846</td>\n",
       "      <td>5.603453e+04</td>\n",
       "      <td>8139.289637</td>\n",
       "      <td>0.081411</td>\n",
       "      <td>0.003078</td>\n",
       "    </tr>\n",
       "    <tr>\n",
       "      <th>52</th>\n",
       "      <td>TopK_Dense_MoE</td>\n",
       "      <td>1.767025</td>\n",
       "      <td>1.668668</td>\n",
       "      <td>0.010031</td>\n",
       "      <td>0.000274</td>\n",
       "      <td>0.100149</td>\n",
       "      <td>0.001364</td>\n",
       "      <td>1.241931e+05</td>\n",
       "      <td>17015.435955</td>\n",
       "      <td>0.064486</td>\n",
       "      <td>0.003708</td>\n",
       "    </tr>\n",
       "    <tr>\n",
       "      <th>53</th>\n",
       "      <td>TopK_Dense_MoE</td>\n",
       "      <td>1.770577</td>\n",
       "      <td>1.672554</td>\n",
       "      <td>0.007499</td>\n",
       "      <td>0.000151</td>\n",
       "      <td>0.086596</td>\n",
       "      <td>0.000873</td>\n",
       "      <td>2.244091e+05</td>\n",
       "      <td>19546.753472</td>\n",
       "      <td>0.062991</td>\n",
       "      <td>0.002304</td>\n",
       "    </tr>\n",
       "    <tr>\n",
       "      <th>54</th>\n",
       "      <td>TopK_Dense_MoE</td>\n",
       "      <td>1.757042</td>\n",
       "      <td>1.660020</td>\n",
       "      <td>0.020063</td>\n",
       "      <td>0.000239</td>\n",
       "      <td>0.141643</td>\n",
       "      <td>0.000842</td>\n",
       "      <td>5.335159e+04</td>\n",
       "      <td>2822.366833</td>\n",
       "      <td>0.082835</td>\n",
       "      <td>0.001799</td>\n",
       "    </tr>\n",
       "    <tr>\n",
       "      <th>55</th>\n",
       "      <td>TopK_Dense_MoE</td>\n",
       "      <td>1.748957</td>\n",
       "      <td>1.651934</td>\n",
       "      <td>0.021519</td>\n",
       "      <td>0.000766</td>\n",
       "      <td>0.146679</td>\n",
       "      <td>0.002600</td>\n",
       "      <td>1.339819e+05</td>\n",
       "      <td>2708.394251</td>\n",
       "      <td>0.090115</td>\n",
       "      <td>0.003758</td>\n",
       "    </tr>\n",
       "    <tr>\n",
       "      <th>56</th>\n",
       "      <td>TopK_Dense_MoE</td>\n",
       "      <td>1.745794</td>\n",
       "      <td>1.649771</td>\n",
       "      <td>0.017481</td>\n",
       "      <td>0.000143</td>\n",
       "      <td>0.132216</td>\n",
       "      <td>0.000540</td>\n",
       "      <td>2.254246e+05</td>\n",
       "      <td>5095.171824</td>\n",
       "      <td>0.092950</td>\n",
       "      <td>0.002672</td>\n",
       "    </tr>\n",
       "    <tr>\n",
       "      <th>57</th>\n",
       "      <td>TopK_Dense_MoE</td>\n",
       "      <td>1.764866</td>\n",
       "      <td>1.667510</td>\n",
       "      <td>0.010684</td>\n",
       "      <td>0.000150</td>\n",
       "      <td>0.103364</td>\n",
       "      <td>0.000723</td>\n",
       "      <td>5.412707e+04</td>\n",
       "      <td>6508.800785</td>\n",
       "      <td>0.043929</td>\n",
       "      <td>0.001146</td>\n",
       "    </tr>\n",
       "    <tr>\n",
       "      <th>58</th>\n",
       "      <td>TopK_Dense_MoE</td>\n",
       "      <td>1.756545</td>\n",
       "      <td>1.660189</td>\n",
       "      <td>0.017775</td>\n",
       "      <td>0.000599</td>\n",
       "      <td>0.133310</td>\n",
       "      <td>0.002240</td>\n",
       "      <td>4.037996e+05</td>\n",
       "      <td>96853.812502</td>\n",
       "      <td>0.094334</td>\n",
       "      <td>0.004686</td>\n",
       "    </tr>\n",
       "    <tr>\n",
       "      <th>59</th>\n",
       "      <td>TopK_Dense_MoE</td>\n",
       "      <td>1.760257</td>\n",
       "      <td>1.662901</td>\n",
       "      <td>0.016918</td>\n",
       "      <td>0.000238</td>\n",
       "      <td>0.130065</td>\n",
       "      <td>0.000916</td>\n",
       "      <td>1.390671e+06</td>\n",
       "      <td>558393.564029</td>\n",
       "      <td>0.081570</td>\n",
       "      <td>0.002386</td>\n",
       "    </tr>\n",
       "  </tbody>\n",
       "</table>\n",
       "</div>"
      ],
      "text/plain": [
       "          architecture  train_time  avg_time_epoch       mse   mse_std  \\\n",
       "0   Dense_MoE_e4d8_d16    1.495996        1.413643  0.034502  0.000277   \n",
       "1   Dense_MoE_e4d8_d16    1.350153        1.270475  0.017793  0.000942   \n",
       "2   Dense_MoE_e4d8_d16    1.374985        1.293299  0.019011  0.000143   \n",
       "3   Dense_MoE_e4d8_d16    1.375389        1.294036  0.021595  0.000361   \n",
       "4   Dense_MoE_e4d8_d16    1.382867        1.301181  0.013548  0.000742   \n",
       "5   Dense_MoE_e4d8_d16    1.398616        1.314584  0.018657  0.000397   \n",
       "6   Dense_MoE_e4d8_d16    1.547030        1.465073  0.018713  0.000332   \n",
       "7   Dense_MoE_e4d8_d16    1.358829        1.277476  0.025183  0.001245   \n",
       "8   Dense_MoE_e4d8_d16    1.362834        1.281814  0.023523  0.000862   \n",
       "9   Dense_MoE_e4d8_d16    1.370121        1.289102  0.013432  0.000491   \n",
       "10  Dense_MoE_e4d8_d16    1.368887        1.287867  0.014767  0.000134   \n",
       "11  Dense_MoE_e4d8_d16    1.371882        1.290483  0.009940  0.000094   \n",
       "12  Dense_MoE_e4d8_d16    1.423013        1.340993  0.017448  0.000767   \n",
       "13  Dense_MoE_e4d8_d16    1.377127        1.296101  0.019658  0.000345   \n",
       "14  Dense_MoE_e4d8_d16    1.394523        1.313170  0.009638  0.000077   \n",
       "15  Dense_MoE_e4d8_d16    1.545524        1.463505  0.013248  0.000183   \n",
       "16  Dense_MoE_e4d8_d16    1.378072        1.296386  0.016056  0.000132   \n",
       "17  Dense_MoE_e4d8_d16    1.547619        1.465266  0.014555  0.000322   \n",
       "18  Dense_MoE_e4d8_d16    1.514115        1.433763  0.012936  0.000172   \n",
       "19  Dense_MoE_e4d8_d16    1.396524        1.313330  0.027096  0.001639   \n",
       "20  Dense_MoE_e4d8_d16    1.383692        1.303334  0.017436  0.000135   \n",
       "21  Dense_MoE_e4d8_d16    1.373314        1.292295  0.020377  0.000532   \n",
       "22  Dense_MoE_e4d8_d16    1.534738        1.452310  0.009652  0.000035   \n",
       "23  Dense_MoE_e4d8_d16    1.370407        1.289421  0.007446  0.000357   \n",
       "24  Dense_MoE_e4d8_d16    1.368490        1.288119  0.019603  0.000283   \n",
       "25  Dense_MoE_e4d8_d16    1.376773        1.295421  0.022707  0.000844   \n",
       "26  Dense_MoE_e4d8_d16    1.374913        1.293227  0.016683  0.000123   \n",
       "27  Dense_MoE_e4d8_d16    1.511451        1.431766  0.010482  0.000312   \n",
       "28  Dense_MoE_e4d8_d16    1.371766        1.292746  0.017842  0.000926   \n",
       "29  Dense_MoE_e4d8_d16    1.383441        1.302758  0.017100  0.000034   \n",
       "30      TopK_Dense_MoE    1.733130        1.635774  0.033493  0.000239   \n",
       "31      TopK_Dense_MoE    1.732523        1.636135  0.017579  0.000066   \n",
       "32      TopK_Dense_MoE    1.743795        1.646936  0.019746  0.000219   \n",
       "33      TopK_Dense_MoE    1.726112        1.629596  0.021748  0.000108   \n",
       "34      TopK_Dense_MoE    1.874511        1.779488  0.012947  0.000337   \n",
       "35      TopK_Dense_MoE    1.757583        1.660227  0.019645  0.000478   \n",
       "36      TopK_Dense_MoE    1.718017        1.623328  0.018558  0.000075   \n",
       "37      TopK_Dense_MoE    1.926662        1.829304  0.024730  0.000519   \n",
       "38      TopK_Dense_MoE    1.918665        1.821646  0.024163  0.001139   \n",
       "39      TopK_Dense_MoE    1.734451        1.637095  0.012965  0.000124   \n",
       "40      TopK_Dense_MoE    1.736439        1.639417  0.015352  0.000916   \n",
       "41      TopK_Dense_MoE    1.733823        1.635788  0.010144  0.000089   \n",
       "42      TopK_Dense_MoE    1.922591        1.825640  0.016739  0.000168   \n",
       "43      TopK_Dense_MoE    1.749650        1.652094  0.019815  0.000257   \n",
       "44      TopK_Dense_MoE    1.766181        1.670158  0.009842  0.000120   \n",
       "45      TopK_Dense_MoE    1.752497        1.654140  0.013433  0.000124   \n",
       "46      TopK_Dense_MoE    1.757175        1.658818  0.016603  0.000187   \n",
       "47      TopK_Dense_MoE    1.738529        1.640172  0.014344  0.000077   \n",
       "48      TopK_Dense_MoE    1.922497        1.825808  0.012965  0.000199   \n",
       "49      TopK_Dense_MoE    1.751246        1.653223  0.024762  0.002317   \n",
       "50      TopK_Dense_MoE    1.766574        1.668716  0.017107  0.000029   \n",
       "51      TopK_Dense_MoE    1.926003        1.828477  0.019743  0.000238   \n",
       "52      TopK_Dense_MoE    1.767025        1.668668  0.010031  0.000274   \n",
       "53      TopK_Dense_MoE    1.770577        1.672554  0.007499  0.000151   \n",
       "54      TopK_Dense_MoE    1.757042        1.660020  0.020063  0.000239   \n",
       "55      TopK_Dense_MoE    1.748957        1.651934  0.021519  0.000766   \n",
       "56      TopK_Dense_MoE    1.745794        1.649771  0.017481  0.000143   \n",
       "57      TopK_Dense_MoE    1.764866        1.667510  0.010684  0.000150   \n",
       "58      TopK_Dense_MoE    1.756545        1.660189  0.017775  0.000599   \n",
       "59      TopK_Dense_MoE    1.760257        1.662901  0.016918  0.000238   \n",
       "\n",
       "        rmse  rmse_std          mape       mape_std       mae   mae_std  \n",
       "0   0.185745  0.000746  9.506578e+04   10724.872810  0.132685  0.001910  \n",
       "1   0.133360  0.003506  2.148979e+05   31327.194595  0.074563  0.001257  \n",
       "2   0.137878  0.000519  5.378165e+04    5117.348585  0.073185  0.004528  \n",
       "3   0.146948  0.001226  1.556666e+05   11608.861413  0.063102  0.001889  \n",
       "4   0.116367  0.003170  7.609251e+04    9830.769647  0.070237  0.001908  \n",
       "5   0.136585  0.001459  8.944397e+04    6192.629211  0.096862  0.001518  \n",
       "6   0.136792  0.001218  7.546588e+04    3156.671672  0.078188  0.000688  \n",
       "7   0.158659  0.003950  2.673365e+04    2865.039978  0.099982  0.001196  \n",
       "8   0.153356  0.002805  6.924008e+01       1.259674  0.089070  0.001563  \n",
       "9   0.115884  0.002114  2.110753e+06  208456.112380  0.066890  0.001273  \n",
       "10  0.121518  0.000552  1.039166e+05   14320.676253  0.078841  0.001676  \n",
       "11  0.099698  0.000469  1.232189e+05    8223.366631  0.068564  0.004112  \n",
       "12  0.132068  0.002886  1.122179e+05   26156.013617  0.085268  0.001265  \n",
       "13  0.140205  0.001232  6.986227e+04   15944.244305  0.089607  0.003576  \n",
       "14  0.098174  0.000393  1.111216e+05    6835.101455  0.055363  0.002341  \n",
       "15  0.115100  0.000792  8.737927e+04    8516.839497  0.071109  0.002487  \n",
       "16  0.126713  0.000523  1.978640e+05   12481.383654  0.081174  0.002643  \n",
       "17  0.120641  0.001336  1.258406e+05   13834.723938  0.080909  0.002241  \n",
       "18  0.113735  0.000756  5.872275e+04    5253.154541  0.059853  0.001276  \n",
       "19  0.164558  0.004937  2.586181e+05   18902.735703  0.123001  0.003946  \n",
       "20  0.132044  0.000513  1.197185e+05    1719.633848  0.096175  0.001384  \n",
       "21  0.142740  0.001858  7.416693e+04    9984.121228  0.084253  0.003355  \n",
       "22  0.098244  0.000177  1.006948e+05    2127.232563  0.057362  0.001940  \n",
       "23  0.086275  0.002077  2.148715e+05   49440.331951  0.061082  0.006579  \n",
       "24  0.140007  0.001014  1.757745e+04    8160.189623  0.082267  0.001659  \n",
       "25  0.150673  0.002785  1.098556e+05   12927.945159  0.092603  0.002295  \n",
       "26  0.129163  0.000477  2.211191e+05    2574.573932  0.087000  0.001219  \n",
       "27  0.102372  0.001529  4.355822e+04    9644.957877  0.043650  0.000682  \n",
       "28  0.133543  0.003443  3.512356e+05   56776.000382  0.092691  0.001510  \n",
       "29  0.130766  0.000130  1.674110e+06  160820.622964  0.081495  0.001172  \n",
       "30  0.183009  0.000654  1.038542e+05    8336.488987  0.128805  0.002640  \n",
       "31  0.132586  0.000248  2.251010e+05   20044.358548  0.075886  0.000812  \n",
       "32  0.140518  0.000778  6.408331e+04    6231.337873  0.078252  0.005101  \n",
       "33  0.147472  0.000367  1.551949e+05   15895.113999  0.061334  0.001672  \n",
       "34  0.113778  0.001488  1.051878e+05    6483.552502  0.073782  0.000442  \n",
       "35  0.140154  0.001702  9.868317e+04   18127.509424  0.098821  0.002461  \n",
       "36  0.136226  0.000274  7.262491e+04    5356.227945  0.080352  0.001413  \n",
       "37  0.157254  0.001644  1.476489e+04   16392.870059  0.102787  0.001287  \n",
       "38  0.155415  0.003686  7.001601e+01       5.880365  0.091874  0.002586  \n",
       "39  0.113863  0.000544  2.636225e+06  170632.645282  0.070032  0.001956  \n",
       "40  0.123866  0.003681  1.466639e+05    2159.748001  0.081980  0.001084  \n",
       "41  0.100717  0.000441  1.208527e+05    8321.254850  0.065839  0.002372  \n",
       "42  0.129377  0.000651  1.267153e+05    1800.295036  0.085029  0.001487  \n",
       "43  0.140764  0.000914  9.639379e+04    9643.061588  0.097748  0.006556  \n",
       "44  0.099205  0.000607  1.149963e+05   26530.651790  0.056161  0.005577  \n",
       "45  0.115899  0.000535  1.119269e+05    5093.272253  0.074636  0.002209  \n",
       "46  0.128851  0.000726  2.051120e+05   23053.693674  0.081508  0.001232  \n",
       "47  0.119765  0.000322  1.392265e+05   14326.627284  0.079991  0.001281  \n",
       "48  0.113860  0.000874  7.540117e+04    1689.241166  0.065444  0.001090  \n",
       "49  0.157245  0.007340  3.227356e+05   28575.717440  0.115815  0.005610  \n",
       "50  0.130795  0.000111  1.073894e+05    7053.244685  0.097458  0.001490  \n",
       "51  0.140506  0.000846  5.603453e+04    8139.289637  0.081411  0.003078  \n",
       "52  0.100149  0.001364  1.241931e+05   17015.435955  0.064486  0.003708  \n",
       "53  0.086596  0.000873  2.244091e+05   19546.753472  0.062991  0.002304  \n",
       "54  0.141643  0.000842  5.335159e+04    2822.366833  0.082835  0.001799  \n",
       "55  0.146679  0.002600  1.339819e+05    2708.394251  0.090115  0.003758  \n",
       "56  0.132216  0.000540  2.254246e+05    5095.171824  0.092950  0.002672  \n",
       "57  0.103364  0.000723  5.412707e+04    6508.800785  0.043929  0.001146  \n",
       "58  0.133310  0.002240  4.037996e+05   96853.812502  0.094334  0.004686  \n",
       "59  0.130065  0.000916  1.390671e+06  558393.564029  0.081570  0.002386  "
      ]
     },
     "execution_count": 8,
     "metadata": {},
     "output_type": "execute_result"
    }
   ],
   "source": [
    "dense_results.to_csv(f'evaluations/clustered_federated_learning/{dense_moe_architecture}.csv')\n",
    "dense_results"
   ]
  },
  {
   "cell_type": "markdown",
   "metadata": {},
   "source": [
    "# Federated Learning Bidirectional LSTM Moe"
   ]
  },
  {
   "cell_type": "code",
   "execution_count": 9,
   "metadata": {},
   "outputs": [
    {
     "name": "stdout",
     "output_type": "stream",
     "text": [
      "WARNING:tensorflow:Compiled the loaded model, but the compiled metrics have yet to be built. `model.compile_metrics` will be empty until you train or evaluate the model.\n"
     ]
    },
    {
     "name": "stderr",
     "output_type": "stream",
     "text": [
      "WARNING:tensorflow:Compiled the loaded model, but the compiled metrics have yet to be built. `model.compile_metrics` will be empty until you train or evaluate the model.\n"
     ]
    },
    {
     "name": "stdout",
     "output_type": "stream",
     "text": [
      "INFO:tensorflow:Assets written to: c:\\Users\\rs1044\\bwSyncShare\\02Python Code\\MoE-based-FL-for-secure-STLF/models/FL/Dense/global_dense_model/cluster_0/Soft_BiLSTM_MoE/FederatedRound0\\assets\n"
     ]
    },
    {
     "name": "stderr",
     "output_type": "stream",
     "text": [
      "INFO:tensorflow:Assets written to: c:\\Users\\rs1044\\bwSyncShare\\02Python Code\\MoE-based-FL-for-secure-STLF/models/FL/Dense/global_dense_model/cluster_0/Soft_BiLSTM_MoE/FederatedRound0\\assets\n"
     ]
    },
    {
     "name": "stdout",
     "output_type": "stream",
     "text": [
      "WARNING:tensorflow:Compiled the loaded model, but the compiled metrics have yet to be built. `model.compile_metrics` will be empty until you train or evaluate the model.\n"
     ]
    },
    {
     "name": "stderr",
     "output_type": "stream",
     "text": [
      "WARNING:tensorflow:Compiled the loaded model, but the compiled metrics have yet to be built. `model.compile_metrics` will be empty until you train or evaluate the model.\n"
     ]
    },
    {
     "name": "stdout",
     "output_type": "stream",
     "text": [
      "INFO:tensorflow:Assets written to: c:\\Users\\rs1044\\bwSyncShare\\02Python Code\\MoE-based-FL-for-secure-STLF/models/FL/Dense/global_dense_model/cluster_1/Soft_BiLSTM_MoE/FederatedRound0\\assets\n"
     ]
    },
    {
     "name": "stderr",
     "output_type": "stream",
     "text": [
      "INFO:tensorflow:Assets written to: c:\\Users\\rs1044\\bwSyncShare\\02Python Code\\MoE-based-FL-for-secure-STLF/models/FL/Dense/global_dense_model/cluster_1/Soft_BiLSTM_MoE/FederatedRound0\\assets\n"
     ]
    },
    {
     "name": "stdout",
     "output_type": "stream",
     "text": [
      "WARNING:tensorflow:Compiled the loaded model, but the compiled metrics have yet to be built. `model.compile_metrics` will be empty until you train or evaluate the model.\n"
     ]
    },
    {
     "name": "stderr",
     "output_type": "stream",
     "text": [
      "WARNING:tensorflow:Compiled the loaded model, but the compiled metrics have yet to be built. `model.compile_metrics` will be empty until you train or evaluate the model.\n"
     ]
    },
    {
     "name": "stdout",
     "output_type": "stream",
     "text": [
      "INFO:tensorflow:Assets written to: c:\\Users\\rs1044\\bwSyncShare\\02Python Code\\MoE-based-FL-for-secure-STLF/models/FL/Dense/global_dense_model/cluster_2/Soft_BiLSTM_MoE/FederatedRound0\\assets\n"
     ]
    },
    {
     "name": "stderr",
     "output_type": "stream",
     "text": [
      "INFO:tensorflow:Assets written to: c:\\Users\\rs1044\\bwSyncShare\\02Python Code\\MoE-based-FL-for-secure-STLF/models/FL/Dense/global_dense_model/cluster_2/Soft_BiLSTM_MoE/FederatedRound0\\assets\n"
     ]
    },
    {
     "name": "stdout",
     "output_type": "stream",
     "text": [
      "WARNING:tensorflow:Compiled the loaded model, but the compiled metrics have yet to be built. `model.compile_metrics` will be empty until you train or evaluate the model.\n"
     ]
    },
    {
     "name": "stderr",
     "output_type": "stream",
     "text": [
      "WARNING:tensorflow:Compiled the loaded model, but the compiled metrics have yet to be built. `model.compile_metrics` will be empty until you train or evaluate the model.\n"
     ]
    },
    {
     "name": "stdout",
     "output_type": "stream",
     "text": [
      "INFO:tensorflow:Assets written to: c:\\Users\\rs1044\\bwSyncShare\\02Python Code\\MoE-based-FL-for-secure-STLF/models/FL/Dense/global_dense_model/cluster_3/Soft_BiLSTM_MoE/FederatedRound0\\assets\n"
     ]
    },
    {
     "name": "stderr",
     "output_type": "stream",
     "text": [
      "INFO:tensorflow:Assets written to: c:\\Users\\rs1044\\bwSyncShare\\02Python Code\\MoE-based-FL-for-secure-STLF/models/FL/Dense/global_dense_model/cluster_3/Soft_BiLSTM_MoE/FederatedRound0\\assets\n"
     ]
    },
    {
     "name": "stdout",
     "output_type": "stream",
     "text": [
      "Started Federated training round ---------- 1 / 3\n",
      "Cluster 0:\n",
      "User 1\n",
      "User 2\n",
      "User 4\n",
      "User 5\n",
      "User 7\n",
      "User 10\n",
      "User 11\n",
      "User 12\n",
      "User 15\n",
      "User 16\n",
      "User 17\n",
      "User 21\n",
      "User 22\n",
      "User 23\n",
      "User 24\n",
      "User 25\n",
      "User 28\n",
      "User 30\n",
      "WARNING:tensorflow:Compiled the loaded model, but the compiled metrics have yet to be built. `model.compile_metrics` will be empty until you train or evaluate the model.\n"
     ]
    },
    {
     "name": "stderr",
     "output_type": "stream",
     "text": [
      "WARNING:tensorflow:Compiled the loaded model, but the compiled metrics have yet to be built. `model.compile_metrics` will be empty until you train or evaluate the model.\n"
     ]
    },
    {
     "name": "stdout",
     "output_type": "stream",
     "text": [
      "INFO:tensorflow:Assets written to: c:\\Users\\rs1044\\bwSyncShare\\02Python Code\\MoE-based-FL-for-secure-STLF/models/FL/Dense/global_dense_model/cluster_0/Soft_BiLSTM_MoE/FederatedRound1\\assets\n"
     ]
    },
    {
     "name": "stderr",
     "output_type": "stream",
     "text": [
      "INFO:tensorflow:Assets written to: c:\\Users\\rs1044\\bwSyncShare\\02Python Code\\MoE-based-FL-for-secure-STLF/models/FL/Dense/global_dense_model/cluster_0/Soft_BiLSTM_MoE/FederatedRound1\\assets\n"
     ]
    },
    {
     "name": "stdout",
     "output_type": "stream",
     "text": [
      "Saved Global models\n",
      "Cluster 1:\n",
      "User 29\n",
      "WARNING:tensorflow:Compiled the loaded model, but the compiled metrics have yet to be built. `model.compile_metrics` will be empty until you train or evaluate the model.\n"
     ]
    },
    {
     "name": "stderr",
     "output_type": "stream",
     "text": [
      "WARNING:tensorflow:Compiled the loaded model, but the compiled metrics have yet to be built. `model.compile_metrics` will be empty until you train or evaluate the model.\n"
     ]
    },
    {
     "name": "stdout",
     "output_type": "stream",
     "text": [
      "INFO:tensorflow:Assets written to: c:\\Users\\rs1044\\bwSyncShare\\02Python Code\\MoE-based-FL-for-secure-STLF/models/FL/Dense/global_dense_model/cluster_1/Soft_BiLSTM_MoE/FederatedRound1\\assets\n"
     ]
    },
    {
     "name": "stderr",
     "output_type": "stream",
     "text": [
      "INFO:tensorflow:Assets written to: c:\\Users\\rs1044\\bwSyncShare\\02Python Code\\MoE-based-FL-for-secure-STLF/models/FL/Dense/global_dense_model/cluster_1/Soft_BiLSTM_MoE/FederatedRound1\\assets\n"
     ]
    },
    {
     "name": "stdout",
     "output_type": "stream",
     "text": [
      "Saved Global models\n",
      "Cluster 2:\n",
      "User 6\n",
      "User 13\n",
      "User 18\n",
      "User 20\n",
      "User 26\n",
      "WARNING:tensorflow:Compiled the loaded model, but the compiled metrics have yet to be built. `model.compile_metrics` will be empty until you train or evaluate the model.\n"
     ]
    },
    {
     "name": "stderr",
     "output_type": "stream",
     "text": [
      "WARNING:tensorflow:Compiled the loaded model, but the compiled metrics have yet to be built. `model.compile_metrics` will be empty until you train or evaluate the model.\n"
     ]
    },
    {
     "name": "stdout",
     "output_type": "stream",
     "text": [
      "INFO:tensorflow:Assets written to: c:\\Users\\rs1044\\bwSyncShare\\02Python Code\\MoE-based-FL-for-secure-STLF/models/FL/Dense/global_dense_model/cluster_2/Soft_BiLSTM_MoE/FederatedRound1\\assets\n"
     ]
    },
    {
     "name": "stderr",
     "output_type": "stream",
     "text": [
      "INFO:tensorflow:Assets written to: c:\\Users\\rs1044\\bwSyncShare\\02Python Code\\MoE-based-FL-for-secure-STLF/models/FL/Dense/global_dense_model/cluster_2/Soft_BiLSTM_MoE/FederatedRound1\\assets\n"
     ]
    },
    {
     "name": "stdout",
     "output_type": "stream",
     "text": [
      "Saved Global models\n",
      "Cluster 3:\n",
      "User 3\n",
      "User 8\n",
      "User 9\n",
      "User 14\n",
      "User 19\n",
      "User 27\n",
      "WARNING:tensorflow:Compiled the loaded model, but the compiled metrics have yet to be built. `model.compile_metrics` will be empty until you train or evaluate the model.\n"
     ]
    },
    {
     "name": "stderr",
     "output_type": "stream",
     "text": [
      "WARNING:tensorflow:Compiled the loaded model, but the compiled metrics have yet to be built. `model.compile_metrics` will be empty until you train or evaluate the model.\n"
     ]
    },
    {
     "name": "stdout",
     "output_type": "stream",
     "text": [
      "INFO:tensorflow:Assets written to: c:\\Users\\rs1044\\bwSyncShare\\02Python Code\\MoE-based-FL-for-secure-STLF/models/FL/Dense/global_dense_model/cluster_3/Soft_BiLSTM_MoE/FederatedRound1\\assets\n"
     ]
    },
    {
     "name": "stderr",
     "output_type": "stream",
     "text": [
      "INFO:tensorflow:Assets written to: c:\\Users\\rs1044\\bwSyncShare\\02Python Code\\MoE-based-FL-for-secure-STLF/models/FL/Dense/global_dense_model/cluster_3/Soft_BiLSTM_MoE/FederatedRound1\\assets\n"
     ]
    },
    {
     "name": "stdout",
     "output_type": "stream",
     "text": [
      "Saved Global models\n",
      "Started Federated training round ---------- 2 / 3\n",
      "Cluster 0:\n",
      "User 1\n",
      "User 2\n",
      "User 4\n",
      "User 5\n",
      "User 7\n",
      "User 10\n",
      "User 11\n",
      "User 12\n",
      "User 15\n",
      "User 16\n",
      "User 17\n",
      "User 21\n",
      "User 22\n",
      "User 23\n",
      "User 24\n",
      "User 25\n",
      "User 28\n",
      "User 30\n",
      "WARNING:tensorflow:Compiled the loaded model, but the compiled metrics have yet to be built. `model.compile_metrics` will be empty until you train or evaluate the model.\n"
     ]
    },
    {
     "name": "stderr",
     "output_type": "stream",
     "text": [
      "WARNING:tensorflow:Compiled the loaded model, but the compiled metrics have yet to be built. `model.compile_metrics` will be empty until you train or evaluate the model.\n"
     ]
    },
    {
     "name": "stdout",
     "output_type": "stream",
     "text": [
      "INFO:tensorflow:Assets written to: c:\\Users\\rs1044\\bwSyncShare\\02Python Code\\MoE-based-FL-for-secure-STLF/models/FL/Dense/global_dense_model/cluster_0/Soft_BiLSTM_MoE/FederatedRound2\\assets\n"
     ]
    },
    {
     "name": "stderr",
     "output_type": "stream",
     "text": [
      "INFO:tensorflow:Assets written to: c:\\Users\\rs1044\\bwSyncShare\\02Python Code\\MoE-based-FL-for-secure-STLF/models/FL/Dense/global_dense_model/cluster_0/Soft_BiLSTM_MoE/FederatedRound2\\assets\n"
     ]
    },
    {
     "name": "stdout",
     "output_type": "stream",
     "text": [
      "Saved Global models\n",
      "Cluster 1:\n",
      "User 29\n",
      "WARNING:tensorflow:Compiled the loaded model, but the compiled metrics have yet to be built. `model.compile_metrics` will be empty until you train or evaluate the model.\n"
     ]
    },
    {
     "name": "stderr",
     "output_type": "stream",
     "text": [
      "WARNING:tensorflow:Compiled the loaded model, but the compiled metrics have yet to be built. `model.compile_metrics` will be empty until you train or evaluate the model.\n"
     ]
    },
    {
     "name": "stdout",
     "output_type": "stream",
     "text": [
      "INFO:tensorflow:Assets written to: c:\\Users\\rs1044\\bwSyncShare\\02Python Code\\MoE-based-FL-for-secure-STLF/models/FL/Dense/global_dense_model/cluster_1/Soft_BiLSTM_MoE/FederatedRound2\\assets\n"
     ]
    },
    {
     "name": "stderr",
     "output_type": "stream",
     "text": [
      "INFO:tensorflow:Assets written to: c:\\Users\\rs1044\\bwSyncShare\\02Python Code\\MoE-based-FL-for-secure-STLF/models/FL/Dense/global_dense_model/cluster_1/Soft_BiLSTM_MoE/FederatedRound2\\assets\n"
     ]
    },
    {
     "name": "stdout",
     "output_type": "stream",
     "text": [
      "Saved Global models\n",
      "Cluster 2:\n",
      "User 6\n",
      "User 13\n",
      "User 18\n",
      "User 20\n",
      "User 26\n",
      "WARNING:tensorflow:Compiled the loaded model, but the compiled metrics have yet to be built. `model.compile_metrics` will be empty until you train or evaluate the model.\n"
     ]
    },
    {
     "name": "stderr",
     "output_type": "stream",
     "text": [
      "WARNING:tensorflow:Compiled the loaded model, but the compiled metrics have yet to be built. `model.compile_metrics` will be empty until you train or evaluate the model.\n"
     ]
    },
    {
     "name": "stdout",
     "output_type": "stream",
     "text": [
      "INFO:tensorflow:Assets written to: c:\\Users\\rs1044\\bwSyncShare\\02Python Code\\MoE-based-FL-for-secure-STLF/models/FL/Dense/global_dense_model/cluster_2/Soft_BiLSTM_MoE/FederatedRound2\\assets\n"
     ]
    },
    {
     "name": "stderr",
     "output_type": "stream",
     "text": [
      "INFO:tensorflow:Assets written to: c:\\Users\\rs1044\\bwSyncShare\\02Python Code\\MoE-based-FL-for-secure-STLF/models/FL/Dense/global_dense_model/cluster_2/Soft_BiLSTM_MoE/FederatedRound2\\assets\n"
     ]
    },
    {
     "name": "stdout",
     "output_type": "stream",
     "text": [
      "Saved Global models\n",
      "Cluster 3:\n",
      "User 3\n",
      "User 8\n",
      "User 9\n",
      "User 14\n",
      "User 19\n",
      "User 27\n",
      "WARNING:tensorflow:Compiled the loaded model, but the compiled metrics have yet to be built. `model.compile_metrics` will be empty until you train or evaluate the model.\n"
     ]
    },
    {
     "name": "stderr",
     "output_type": "stream",
     "text": [
      "WARNING:tensorflow:Compiled the loaded model, but the compiled metrics have yet to be built. `model.compile_metrics` will be empty until you train or evaluate the model.\n"
     ]
    },
    {
     "name": "stdout",
     "output_type": "stream",
     "text": [
      "INFO:tensorflow:Assets written to: c:\\Users\\rs1044\\bwSyncShare\\02Python Code\\MoE-based-FL-for-secure-STLF/models/FL/Dense/global_dense_model/cluster_3/Soft_BiLSTM_MoE/FederatedRound2\\assets\n"
     ]
    },
    {
     "name": "stderr",
     "output_type": "stream",
     "text": [
      "INFO:tensorflow:Assets written to: c:\\Users\\rs1044\\bwSyncShare\\02Python Code\\MoE-based-FL-for-secure-STLF/models/FL/Dense/global_dense_model/cluster_3/Soft_BiLSTM_MoE/FederatedRound2\\assets\n"
     ]
    },
    {
     "name": "stdout",
     "output_type": "stream",
     "text": [
      "Saved Global models\n",
      "Started Federated training round ---------- 3 / 3\n",
      "Cluster 0:\n",
      "User 1\n",
      "User 2\n",
      "User 4\n",
      "User 5\n",
      "User 7\n",
      "User 10\n",
      "User 11\n",
      "User 12\n",
      "User 15\n",
      "User 16\n",
      "User 17\n",
      "User 21\n",
      "User 22\n",
      "User 23\n",
      "User 24\n",
      "User 25\n",
      "User 28\n",
      "User 30\n",
      "WARNING:tensorflow:Compiled the loaded model, but the compiled metrics have yet to be built. `model.compile_metrics` will be empty until you train or evaluate the model.\n"
     ]
    },
    {
     "name": "stderr",
     "output_type": "stream",
     "text": [
      "WARNING:tensorflow:Compiled the loaded model, but the compiled metrics have yet to be built. `model.compile_metrics` will be empty until you train or evaluate the model.\n"
     ]
    },
    {
     "name": "stdout",
     "output_type": "stream",
     "text": [
      "INFO:tensorflow:Assets written to: c:\\Users\\rs1044\\bwSyncShare\\02Python Code\\MoE-based-FL-for-secure-STLF/models/FL/Dense/global_dense_model/cluster_0/Soft_BiLSTM_MoE/FederatedRound3\\assets\n"
     ]
    },
    {
     "name": "stderr",
     "output_type": "stream",
     "text": [
      "INFO:tensorflow:Assets written to: c:\\Users\\rs1044\\bwSyncShare\\02Python Code\\MoE-based-FL-for-secure-STLF/models/FL/Dense/global_dense_model/cluster_0/Soft_BiLSTM_MoE/FederatedRound3\\assets\n"
     ]
    },
    {
     "name": "stdout",
     "output_type": "stream",
     "text": [
      "Saved Global models\n",
      "Cluster 1:\n",
      "User 29\n",
      "WARNING:tensorflow:Compiled the loaded model, but the compiled metrics have yet to be built. `model.compile_metrics` will be empty until you train or evaluate the model.\n"
     ]
    },
    {
     "name": "stderr",
     "output_type": "stream",
     "text": [
      "WARNING:tensorflow:Compiled the loaded model, but the compiled metrics have yet to be built. `model.compile_metrics` will be empty until you train or evaluate the model.\n"
     ]
    },
    {
     "name": "stdout",
     "output_type": "stream",
     "text": [
      "INFO:tensorflow:Assets written to: c:\\Users\\rs1044\\bwSyncShare\\02Python Code\\MoE-based-FL-for-secure-STLF/models/FL/Dense/global_dense_model/cluster_1/Soft_BiLSTM_MoE/FederatedRound3\\assets\n"
     ]
    },
    {
     "name": "stderr",
     "output_type": "stream",
     "text": [
      "INFO:tensorflow:Assets written to: c:\\Users\\rs1044\\bwSyncShare\\02Python Code\\MoE-based-FL-for-secure-STLF/models/FL/Dense/global_dense_model/cluster_1/Soft_BiLSTM_MoE/FederatedRound3\\assets\n"
     ]
    },
    {
     "name": "stdout",
     "output_type": "stream",
     "text": [
      "Saved Global models\n",
      "Cluster 2:\n",
      "User 6\n",
      "User 13\n",
      "User 18\n",
      "User 20\n",
      "User 26\n",
      "WARNING:tensorflow:Compiled the loaded model, but the compiled metrics have yet to be built. `model.compile_metrics` will be empty until you train or evaluate the model.\n"
     ]
    },
    {
     "name": "stderr",
     "output_type": "stream",
     "text": [
      "WARNING:tensorflow:Compiled the loaded model, but the compiled metrics have yet to be built. `model.compile_metrics` will be empty until you train or evaluate the model.\n"
     ]
    },
    {
     "name": "stdout",
     "output_type": "stream",
     "text": [
      "INFO:tensorflow:Assets written to: c:\\Users\\rs1044\\bwSyncShare\\02Python Code\\MoE-based-FL-for-secure-STLF/models/FL/Dense/global_dense_model/cluster_2/Soft_BiLSTM_MoE/FederatedRound3\\assets\n"
     ]
    },
    {
     "name": "stderr",
     "output_type": "stream",
     "text": [
      "INFO:tensorflow:Assets written to: c:\\Users\\rs1044\\bwSyncShare\\02Python Code\\MoE-based-FL-for-secure-STLF/models/FL/Dense/global_dense_model/cluster_2/Soft_BiLSTM_MoE/FederatedRound3\\assets\n"
     ]
    },
    {
     "name": "stdout",
     "output_type": "stream",
     "text": [
      "Saved Global models\n",
      "Cluster 3:\n",
      "User 3\n",
      "User 8\n",
      "User 9\n",
      "User 14\n",
      "User 19\n",
      "User 27\n",
      "WARNING:tensorflow:Compiled the loaded model, but the compiled metrics have yet to be built. `model.compile_metrics` will be empty until you train or evaluate the model.\n"
     ]
    },
    {
     "name": "stderr",
     "output_type": "stream",
     "text": [
      "WARNING:tensorflow:Compiled the loaded model, but the compiled metrics have yet to be built. `model.compile_metrics` will be empty until you train or evaluate the model.\n"
     ]
    },
    {
     "name": "stdout",
     "output_type": "stream",
     "text": [
      "INFO:tensorflow:Assets written to: c:\\Users\\rs1044\\bwSyncShare\\02Python Code\\MoE-based-FL-for-secure-STLF/models/FL/Dense/global_dense_model/cluster_3/Soft_BiLSTM_MoE/FederatedRound3\\assets\n"
     ]
    },
    {
     "name": "stderr",
     "output_type": "stream",
     "text": [
      "INFO:tensorflow:Assets written to: c:\\Users\\rs1044\\bwSyncShare\\02Python Code\\MoE-based-FL-for-secure-STLF/models/FL/Dense/global_dense_model/cluster_3/Soft_BiLSTM_MoE/FederatedRound3\\assets\n"
     ]
    },
    {
     "name": "stdout",
     "output_type": "stream",
     "text": [
      "Saved Global models\n",
      "Cluster 0:\n",
      "User:  1\n",
      "User:  2\n",
      "User:  4\n",
      "User:  5\n",
      "User:  7\n",
      "User:  10\n",
      "User:  11\n",
      "User:  12\n",
      "User:  15\n",
      "User:  16\n",
      "User:  17\n",
      "User:  21\n",
      "User:  22\n",
      "User:  23\n",
      "User:  24\n",
      "User:  25\n",
      "User:  28\n",
      "User:  30\n",
      "Cluster 1:\n",
      "User:  29\n",
      "Cluster 2:\n",
      "User:  6\n",
      "User:  13\n",
      "User:  18\n",
      "User:  20\n",
      "User:  26\n",
      "Cluster 3:\n",
      "User:  3\n",
      "User:  8\n",
      "User:  9\n",
      "User:  14\n",
      "User:  19\n",
      "User:  27\n"
     ]
    }
   ],
   "source": [
    "#Dense MODEL 1 ------------------------------------------------------------------\n",
    "bilstm_moe_architecture = \"Soft_BiLSTM_MoE\"\n",
    "lstm_units = 4\n",
    "num_experts = 4\n",
    "expert_units = 8\n",
    "\n",
    "# Create global models for each cluser (6)\n",
    "for cluster in range(num_clusters):\n",
    "#Build and save global model\n",
    "    global_dense_moe = m1.build_soft_biLSTM_moe_model(X_train[f'user{1}'], batch_size, horizon, lstm_units, num_experts, expert_units, m1)\n",
    "    global_dense_moe.save(cwd + f\"/models/FL/Dense/global_dense_model/cluster_{cluster}/{bilstm_moe_architecture}/FederatedRound{0}\")\n",
    "\n",
    "  \n",
    "federated_rounds = 3\n",
    "for federated_round  in range(federated_rounds):\n",
    "    print(\"Started Federated training round ----------\", federated_round+1, f\"/ {federated_rounds}\")\n",
    "\n",
    "    for cluster_number, users_in_cluster in cluster_users.items():\n",
    "        print(f\"Cluster {cluster_number}:\")\n",
    "\n",
    "        #Get global models weights\n",
    "        global_dense_moe = keras.models.load_model(cwd + f\"/models/FL/Dense/global_dense_model/cluster_{cluster_number}/{bilstm_moe_architecture}/FederatedRound{federated_round}\", compile=False)\n",
    "        global_dense_moe_weights = global_dense_moe.get_weights()\n",
    "\n",
    "        #initial list for local model weights\n",
    "        local_dense_moe_weight_list = list()\n",
    "\n",
    "\n",
    "        #for idx, user in enumerate(df_array): \n",
    "        for user_index in users_in_cluster:\n",
    "            user_df = df_array[user_index-1]  # Get the user's DataFrame from the array\n",
    "            print(f\"User {user_index}\") \n",
    "                      \n",
    "            #build and compile local model X_train, batch_size, horizon, dense_units,  expert_units, num_experts, m1\n",
    "            local_dense_moe_model = m1.build_soft_biLSTM_moe_model(X_train[f'user{user_index}'], batch_size, horizon, lstm_units, num_experts, expert_units, m1)\n",
    "            local_dense_moe_model.compile(loss=loss, optimizer=tf.keras.optimizers.Adam(learning_rate=0.0006), metrics=metrics)\n",
    "\n",
    "            #set local model weight to the weight of the global model\n",
    "            local_dense_moe_model.set_weights(global_dense_moe_weights)\n",
    "            \n",
    "            #Fit local model to local data\n",
    "            dense_histroy, dense_user_results = mh.compile_fit_evaluate_model(\n",
    "                model=local_dense_moe_model, \n",
    "                loss=loss, \n",
    "                metrics=metrics, \n",
    "                X_train=X_train[f'user{user_index}'],\n",
    "                y_train = y_train[f'user{user_index}'], \n",
    "                max_epochs = max_epochs, \n",
    "                batch_size=batch_size, \n",
    "                X_val=X_val[f'user{user_index}'], \n",
    "                y_val=y_val[f'user{user_index}'], \n",
    "                X_test=X_test[f'user{user_index}'], \n",
    "                y_test=y_test[f'user{user_index}'], \n",
    "                callbacks=callbacks, \n",
    "                user=f'user{user_index}', \n",
    "                hyper=bilstm_moe_architecture,\n",
    "                optimizer=tf.keras.optimizers.Adam(learning_rate=0.0006),\n",
    "            )\n",
    "            #add model weights to list        \n",
    "            local_dense_moe_weights = local_dense_moe_model.get_weights()\n",
    "            local_dense_moe_weight_list.append(local_dense_moe_weights)\n",
    "        \n",
    "            #clear session to free memory after each communication round\n",
    "            K.clear_session()\n",
    "        \n",
    "        #to get the average over all the local model, we simply take the sum of the scaled weights\n",
    "        average_weights_dense_moe = avg_weights_with_noise_fedprox(local_dense_moe_weight_list)\n",
    "        #update global model \n",
    "        global_dense_moe.set_weights(average_weights_dense_moe)\n",
    "        #Save global models\n",
    "        global_dense_moe.save(cwd + f\"/models/FL/Dense/global_dense_model/cluster_{cluster_number}/{bilstm_moe_architecture}/FederatedRound{federated_round+1}\")\n",
    "        print(\"Saved Global models\")\n",
    "\n",
    "\n",
    "#Evaluation\n",
    "dense_all_results = pd.DataFrame(columns=[\"user\", \"architecture\", \"train_time\", \"avg_time_epoch\", \"mse\", \"rmse\", \"mape\", \"mae\"])\n",
    "\n",
    "for cluster_number, users_in_cluster in cluster_users.items():\n",
    "    print(f\"Cluster {cluster_number}:\")\n",
    "\n",
    "    #Get global models weights\n",
    "    global_dense_moe = tf.keras.models.load_model(cwd + f\"/models/FL/Dense/global_dense_model/cluster_{cluster_number}/{bilstm_moe_architecture}/FederatedRound{federated_rounds}\", compile=False)\n",
    "\n",
    "    #for idx, user in enumerate(df_array): \n",
    "    for user_index in users_in_cluster:\n",
    "        print(\"User: \", user_index)\n",
    "        for round in range(3):\n",
    "            global_dense_moe = tf.keras.models.load_model(cwd + f\"/models/FL/Dense/global_dense_model/cluster_{cluster_number}/{bilstm_moe_architecture}/FederatedRound{federated_rounds}\", compile=False)\n",
    "            dense_moe_model = m1.build_soft_biLSTM_moe_model(X_train[f'user{user_index}'], batch_size, horizon, lstm_units, num_experts, expert_units, m1)\n",
    "            dense_moe_model.set_weights(global_dense_moe.get_weights())\n",
    "            \n",
    "            dense_histroy, dense_user_results = mh.compile_fit_evaluate_model(\n",
    "                model=dense_moe_model, \n",
    "                loss=loss, \n",
    "                metrics=metrics, \n",
    "                X_train=X_train[f'user{user_index}'],\n",
    "                y_train = y_train[f'user{user_index}'], \n",
    "                max_epochs = 1, \n",
    "                batch_size=batch_size, \n",
    "                X_val=X_val[f'user{user_index}'], \n",
    "                y_val=y_val[f'user{user_index}'], \n",
    "                X_test=X_test[f'user{user_index}'], \n",
    "                y_test=y_test[f'user{user_index}'], \n",
    "                callbacks=callbacks, \n",
    "                user=f'user{user_index}', \n",
    "                hyper=bilstm_moe_architecture,\n",
    "                optimizer=tf.keras.optimizers.Adam(learning_rate=0.0006)\n",
    "            )\n",
    "            # Add the 'architecture' column from dense_user_results to dense_results\n",
    "            dense_all_results = pd.merge(dense_all_results, dense_user_results, how='outer')  \n",
    "\n",
    "for idx in range(len(df_array)):\n",
    "    new_row = {\n",
    "        'architecture': bilstm_moe_architecture,\n",
    "        'train_time': dense_all_results[dense_all_results[\"user\"]==f\"user{idx+1}\"][\"train_time\"].mean(), \n",
    "        'avg_time_epoch' : dense_all_results[dense_all_results[\"user\"]==f\"user{idx+1}\"][\"avg_time_epoch\"].mean(),\n",
    "        'mse': dense_all_results[dense_all_results[\"user\"]==f\"user{idx+1}\"][\"mse\"].mean(),\n",
    "        'mse_std' : dense_all_results[dense_all_results[\"user\"]==f\"user{idx+1}\"][\"mse\"].std(),\n",
    "        'rmse': dense_all_results[dense_all_results[\"user\"]==f\"user{idx+1}\"][\"rmse\"].mean(),\n",
    "        'rmse_std' : dense_all_results[dense_all_results[\"user\"]==f\"user{idx+1}\"][\"rmse\"].std(),\n",
    "        'mape': dense_all_results[dense_all_results[\"user\"]==f\"user{idx+1}\"][\"mape\"].mean(),\n",
    "        'mape_std' : dense_all_results[dense_all_results[\"user\"]==f\"user{idx+1}\"][\"mape\"].std(),\n",
    "        'mae': dense_all_results[dense_all_results[\"user\"]==f\"user{idx+1}\"][\"mae\"].mean(),\n",
    "        'mae_std' : dense_all_results[dense_all_results[\"user\"]==f\"user{idx+1}\"][\"mae\"].std(),\n",
    "    }\n",
    "    dense_results.loc[len(dense_results)] = new_row"
   ]
  },
  {
   "cell_type": "code",
   "execution_count": 10,
   "metadata": {},
   "outputs": [
    {
     "data": {
      "text/html": [
       "<div>\n",
       "<style scoped>\n",
       "    .dataframe tbody tr th:only-of-type {\n",
       "        vertical-align: middle;\n",
       "    }\n",
       "\n",
       "    .dataframe tbody tr th {\n",
       "        vertical-align: top;\n",
       "    }\n",
       "\n",
       "    .dataframe thead th {\n",
       "        text-align: right;\n",
       "    }\n",
       "</style>\n",
       "<table border=\"1\" class=\"dataframe\">\n",
       "  <thead>\n",
       "    <tr style=\"text-align: right;\">\n",
       "      <th></th>\n",
       "      <th>architecture</th>\n",
       "      <th>train_time</th>\n",
       "      <th>avg_time_epoch</th>\n",
       "      <th>mse</th>\n",
       "      <th>mse_std</th>\n",
       "      <th>rmse</th>\n",
       "      <th>rmse_std</th>\n",
       "      <th>mape</th>\n",
       "      <th>mape_std</th>\n",
       "      <th>mae</th>\n",
       "      <th>mae_std</th>\n",
       "    </tr>\n",
       "  </thead>\n",
       "  <tbody>\n",
       "    <tr>\n",
       "      <th>0</th>\n",
       "      <td>Dense_MoE_e4d8_d16</td>\n",
       "      <td>1.495996</td>\n",
       "      <td>1.413643</td>\n",
       "      <td>0.034502</td>\n",
       "      <td>0.000277</td>\n",
       "      <td>0.185745</td>\n",
       "      <td>0.000746</td>\n",
       "      <td>9.506578e+04</td>\n",
       "      <td>10724.872810</td>\n",
       "      <td>0.132685</td>\n",
       "      <td>0.001910</td>\n",
       "    </tr>\n",
       "    <tr>\n",
       "      <th>1</th>\n",
       "      <td>Dense_MoE_e4d8_d16</td>\n",
       "      <td>1.350153</td>\n",
       "      <td>1.270475</td>\n",
       "      <td>0.017793</td>\n",
       "      <td>0.000942</td>\n",
       "      <td>0.133360</td>\n",
       "      <td>0.003506</td>\n",
       "      <td>2.148979e+05</td>\n",
       "      <td>31327.194595</td>\n",
       "      <td>0.074563</td>\n",
       "      <td>0.001257</td>\n",
       "    </tr>\n",
       "    <tr>\n",
       "      <th>2</th>\n",
       "      <td>Dense_MoE_e4d8_d16</td>\n",
       "      <td>1.374985</td>\n",
       "      <td>1.293299</td>\n",
       "      <td>0.019011</td>\n",
       "      <td>0.000143</td>\n",
       "      <td>0.137878</td>\n",
       "      <td>0.000519</td>\n",
       "      <td>5.378165e+04</td>\n",
       "      <td>5117.348585</td>\n",
       "      <td>0.073185</td>\n",
       "      <td>0.004528</td>\n",
       "    </tr>\n",
       "    <tr>\n",
       "      <th>3</th>\n",
       "      <td>Dense_MoE_e4d8_d16</td>\n",
       "      <td>1.375389</td>\n",
       "      <td>1.294036</td>\n",
       "      <td>0.021595</td>\n",
       "      <td>0.000361</td>\n",
       "      <td>0.146948</td>\n",
       "      <td>0.001226</td>\n",
       "      <td>1.556666e+05</td>\n",
       "      <td>11608.861413</td>\n",
       "      <td>0.063102</td>\n",
       "      <td>0.001889</td>\n",
       "    </tr>\n",
       "    <tr>\n",
       "      <th>4</th>\n",
       "      <td>Dense_MoE_e4d8_d16</td>\n",
       "      <td>1.382867</td>\n",
       "      <td>1.301181</td>\n",
       "      <td>0.013548</td>\n",
       "      <td>0.000742</td>\n",
       "      <td>0.116367</td>\n",
       "      <td>0.003170</td>\n",
       "      <td>7.609251e+04</td>\n",
       "      <td>9830.769647</td>\n",
       "      <td>0.070237</td>\n",
       "      <td>0.001908</td>\n",
       "    </tr>\n",
       "    <tr>\n",
       "      <th>...</th>\n",
       "      <td>...</td>\n",
       "      <td>...</td>\n",
       "      <td>...</td>\n",
       "      <td>...</td>\n",
       "      <td>...</td>\n",
       "      <td>...</td>\n",
       "      <td>...</td>\n",
       "      <td>...</td>\n",
       "      <td>...</td>\n",
       "      <td>...</td>\n",
       "      <td>...</td>\n",
       "    </tr>\n",
       "    <tr>\n",
       "      <th>85</th>\n",
       "      <td>Soft_BiLSTM_MoE</td>\n",
       "      <td>4.052393</td>\n",
       "      <td>3.921894</td>\n",
       "      <td>0.021977</td>\n",
       "      <td>0.000236</td>\n",
       "      <td>0.148244</td>\n",
       "      <td>0.000798</td>\n",
       "      <td>9.824401e+04</td>\n",
       "      <td>23268.604926</td>\n",
       "      <td>0.088703</td>\n",
       "      <td>0.000406</td>\n",
       "    </tr>\n",
       "    <tr>\n",
       "      <th>86</th>\n",
       "      <td>Soft_BiLSTM_MoE</td>\n",
       "      <td>4.356113</td>\n",
       "      <td>4.225749</td>\n",
       "      <td>0.016887</td>\n",
       "      <td>0.000127</td>\n",
       "      <td>0.129950</td>\n",
       "      <td>0.000487</td>\n",
       "      <td>1.760885e+05</td>\n",
       "      <td>6127.874173</td>\n",
       "      <td>0.088117</td>\n",
       "      <td>0.001665</td>\n",
       "    </tr>\n",
       "    <tr>\n",
       "      <th>87</th>\n",
       "      <td>Soft_BiLSTM_MoE</td>\n",
       "      <td>3.948699</td>\n",
       "      <td>3.820669</td>\n",
       "      <td>0.010527</td>\n",
       "      <td>0.000138</td>\n",
       "      <td>0.102599</td>\n",
       "      <td>0.000672</td>\n",
       "      <td>4.613215e+04</td>\n",
       "      <td>7909.502836</td>\n",
       "      <td>0.043659</td>\n",
       "      <td>0.000603</td>\n",
       "    </tr>\n",
       "    <tr>\n",
       "      <th>88</th>\n",
       "      <td>Soft_BiLSTM_MoE</td>\n",
       "      <td>4.225190</td>\n",
       "      <td>4.100161</td>\n",
       "      <td>0.017087</td>\n",
       "      <td>0.000407</td>\n",
       "      <td>0.130713</td>\n",
       "      <td>0.001553</td>\n",
       "      <td>4.136983e+05</td>\n",
       "      <td>34033.598254</td>\n",
       "      <td>0.093070</td>\n",
       "      <td>0.000742</td>\n",
       "    </tr>\n",
       "    <tr>\n",
       "      <th>89</th>\n",
       "      <td>Soft_BiLSTM_MoE</td>\n",
       "      <td>3.969656</td>\n",
       "      <td>3.841960</td>\n",
       "      <td>0.016862</td>\n",
       "      <td>0.000061</td>\n",
       "      <td>0.129855</td>\n",
       "      <td>0.000235</td>\n",
       "      <td>1.517527e+06</td>\n",
       "      <td>353270.636094</td>\n",
       "      <td>0.085033</td>\n",
       "      <td>0.003914</td>\n",
       "    </tr>\n",
       "  </tbody>\n",
       "</table>\n",
       "<p>90 rows × 11 columns</p>\n",
       "</div>"
      ],
      "text/plain": [
       "          architecture  train_time  avg_time_epoch       mse   mse_std  \\\n",
       "0   Dense_MoE_e4d8_d16    1.495996        1.413643  0.034502  0.000277   \n",
       "1   Dense_MoE_e4d8_d16    1.350153        1.270475  0.017793  0.000942   \n",
       "2   Dense_MoE_e4d8_d16    1.374985        1.293299  0.019011  0.000143   \n",
       "3   Dense_MoE_e4d8_d16    1.375389        1.294036  0.021595  0.000361   \n",
       "4   Dense_MoE_e4d8_d16    1.382867        1.301181  0.013548  0.000742   \n",
       "..                 ...         ...             ...       ...       ...   \n",
       "85     Soft_BiLSTM_MoE    4.052393        3.921894  0.021977  0.000236   \n",
       "86     Soft_BiLSTM_MoE    4.356113        4.225749  0.016887  0.000127   \n",
       "87     Soft_BiLSTM_MoE    3.948699        3.820669  0.010527  0.000138   \n",
       "88     Soft_BiLSTM_MoE    4.225190        4.100161  0.017087  0.000407   \n",
       "89     Soft_BiLSTM_MoE    3.969656        3.841960  0.016862  0.000061   \n",
       "\n",
       "        rmse  rmse_std          mape       mape_std       mae   mae_std  \n",
       "0   0.185745  0.000746  9.506578e+04   10724.872810  0.132685  0.001910  \n",
       "1   0.133360  0.003506  2.148979e+05   31327.194595  0.074563  0.001257  \n",
       "2   0.137878  0.000519  5.378165e+04    5117.348585  0.073185  0.004528  \n",
       "3   0.146948  0.001226  1.556666e+05   11608.861413  0.063102  0.001889  \n",
       "4   0.116367  0.003170  7.609251e+04    9830.769647  0.070237  0.001908  \n",
       "..       ...       ...           ...            ...       ...       ...  \n",
       "85  0.148244  0.000798  9.824401e+04   23268.604926  0.088703  0.000406  \n",
       "86  0.129950  0.000487  1.760885e+05    6127.874173  0.088117  0.001665  \n",
       "87  0.102599  0.000672  4.613215e+04    7909.502836  0.043659  0.000603  \n",
       "88  0.130713  0.001553  4.136983e+05   34033.598254  0.093070  0.000742  \n",
       "89  0.129855  0.000235  1.517527e+06  353270.636094  0.085033  0.003914  \n",
       "\n",
       "[90 rows x 11 columns]"
      ]
     },
     "execution_count": 10,
     "metadata": {},
     "output_type": "execute_result"
    }
   ],
   "source": [
    "dense_results.to_csv(f'evaluations/clustered_federated_learning/{bilstm_moe_architecture}.csv')\n",
    "dense_results"
   ]
  },
  {
   "cell_type": "code",
   "execution_count": 11,
   "metadata": {},
   "outputs": [
    {
     "name": "stdout",
     "output_type": "stream",
     "text": [
      "WARNING:tensorflow:Compiled the loaded model, but the compiled metrics have yet to be built. `model.compile_metrics` will be empty until you train or evaluate the model.\n"
     ]
    },
    {
     "name": "stderr",
     "output_type": "stream",
     "text": [
      "WARNING:tensorflow:Compiled the loaded model, but the compiled metrics have yet to be built. `model.compile_metrics` will be empty until you train or evaluate the model.\n"
     ]
    },
    {
     "name": "stdout",
     "output_type": "stream",
     "text": [
      "INFO:tensorflow:Assets written to: c:\\Users\\rs1044\\bwSyncShare\\02Python Code\\MoE-based-FL-for-secure-STLF/models/FL/Dense/global_dense_model/cluster_0/TopK_BiLSTM_MoE/FederatedRound0\\assets\n"
     ]
    },
    {
     "name": "stderr",
     "output_type": "stream",
     "text": [
      "INFO:tensorflow:Assets written to: c:\\Users\\rs1044\\bwSyncShare\\02Python Code\\MoE-based-FL-for-secure-STLF/models/FL/Dense/global_dense_model/cluster_0/TopK_BiLSTM_MoE/FederatedRound0\\assets\n"
     ]
    },
    {
     "name": "stdout",
     "output_type": "stream",
     "text": [
      "WARNING:tensorflow:Compiled the loaded model, but the compiled metrics have yet to be built. `model.compile_metrics` will be empty until you train or evaluate the model.\n"
     ]
    },
    {
     "name": "stderr",
     "output_type": "stream",
     "text": [
      "WARNING:tensorflow:Compiled the loaded model, but the compiled metrics have yet to be built. `model.compile_metrics` will be empty until you train or evaluate the model.\n"
     ]
    },
    {
     "name": "stdout",
     "output_type": "stream",
     "text": [
      "INFO:tensorflow:Assets written to: c:\\Users\\rs1044\\bwSyncShare\\02Python Code\\MoE-based-FL-for-secure-STLF/models/FL/Dense/global_dense_model/cluster_1/TopK_BiLSTM_MoE/FederatedRound0\\assets\n"
     ]
    },
    {
     "name": "stderr",
     "output_type": "stream",
     "text": [
      "INFO:tensorflow:Assets written to: c:\\Users\\rs1044\\bwSyncShare\\02Python Code\\MoE-based-FL-for-secure-STLF/models/FL/Dense/global_dense_model/cluster_1/TopK_BiLSTM_MoE/FederatedRound0\\assets\n"
     ]
    },
    {
     "name": "stdout",
     "output_type": "stream",
     "text": [
      "WARNING:tensorflow:Compiled the loaded model, but the compiled metrics have yet to be built. `model.compile_metrics` will be empty until you train or evaluate the model.\n"
     ]
    },
    {
     "name": "stderr",
     "output_type": "stream",
     "text": [
      "WARNING:tensorflow:Compiled the loaded model, but the compiled metrics have yet to be built. `model.compile_metrics` will be empty until you train or evaluate the model.\n"
     ]
    },
    {
     "name": "stdout",
     "output_type": "stream",
     "text": [
      "INFO:tensorflow:Assets written to: c:\\Users\\rs1044\\bwSyncShare\\02Python Code\\MoE-based-FL-for-secure-STLF/models/FL/Dense/global_dense_model/cluster_2/TopK_BiLSTM_MoE/FederatedRound0\\assets\n"
     ]
    },
    {
     "name": "stderr",
     "output_type": "stream",
     "text": [
      "INFO:tensorflow:Assets written to: c:\\Users\\rs1044\\bwSyncShare\\02Python Code\\MoE-based-FL-for-secure-STLF/models/FL/Dense/global_dense_model/cluster_2/TopK_BiLSTM_MoE/FederatedRound0\\assets\n"
     ]
    },
    {
     "name": "stdout",
     "output_type": "stream",
     "text": [
      "WARNING:tensorflow:Compiled the loaded model, but the compiled metrics have yet to be built. `model.compile_metrics` will be empty until you train or evaluate the model.\n"
     ]
    },
    {
     "name": "stderr",
     "output_type": "stream",
     "text": [
      "WARNING:tensorflow:Compiled the loaded model, but the compiled metrics have yet to be built. `model.compile_metrics` will be empty until you train or evaluate the model.\n"
     ]
    },
    {
     "name": "stdout",
     "output_type": "stream",
     "text": [
      "INFO:tensorflow:Assets written to: c:\\Users\\rs1044\\bwSyncShare\\02Python Code\\MoE-based-FL-for-secure-STLF/models/FL/Dense/global_dense_model/cluster_3/TopK_BiLSTM_MoE/FederatedRound0\\assets\n"
     ]
    },
    {
     "name": "stderr",
     "output_type": "stream",
     "text": [
      "INFO:tensorflow:Assets written to: c:\\Users\\rs1044\\bwSyncShare\\02Python Code\\MoE-based-FL-for-secure-STLF/models/FL/Dense/global_dense_model/cluster_3/TopK_BiLSTM_MoE/FederatedRound0\\assets\n"
     ]
    },
    {
     "name": "stdout",
     "output_type": "stream",
     "text": [
      "Started Federated training round ---------- 1 / 3\n",
      "Cluster 0:\n",
      "User 1\n",
      "User 2\n",
      "User 4\n",
      "User 5\n",
      "User 7\n",
      "User 10\n",
      "User 11\n",
      "User 12\n",
      "User 15\n",
      "User 16\n",
      "User 17\n",
      "User 21\n",
      "User 22\n",
      "User 23\n",
      "User 24\n",
      "User 25\n",
      "User 28\n",
      "User 30\n",
      "WARNING:tensorflow:Compiled the loaded model, but the compiled metrics have yet to be built. `model.compile_metrics` will be empty until you train or evaluate the model.\n"
     ]
    },
    {
     "name": "stderr",
     "output_type": "stream",
     "text": [
      "WARNING:tensorflow:Compiled the loaded model, but the compiled metrics have yet to be built. `model.compile_metrics` will be empty until you train or evaluate the model.\n"
     ]
    },
    {
     "name": "stdout",
     "output_type": "stream",
     "text": [
      "INFO:tensorflow:Assets written to: c:\\Users\\rs1044\\bwSyncShare\\02Python Code\\MoE-based-FL-for-secure-STLF/models/FL/Dense/global_dense_model/cluster_0/TopK_BiLSTM_MoE/FederatedRound1\\assets\n"
     ]
    },
    {
     "name": "stderr",
     "output_type": "stream",
     "text": [
      "INFO:tensorflow:Assets written to: c:\\Users\\rs1044\\bwSyncShare\\02Python Code\\MoE-based-FL-for-secure-STLF/models/FL/Dense/global_dense_model/cluster_0/TopK_BiLSTM_MoE/FederatedRound1\\assets\n"
     ]
    },
    {
     "name": "stdout",
     "output_type": "stream",
     "text": [
      "Saved Global models\n",
      "Cluster 1:\n",
      "User 29\n",
      "WARNING:tensorflow:Compiled the loaded model, but the compiled metrics have yet to be built. `model.compile_metrics` will be empty until you train or evaluate the model.\n"
     ]
    },
    {
     "name": "stderr",
     "output_type": "stream",
     "text": [
      "WARNING:tensorflow:Compiled the loaded model, but the compiled metrics have yet to be built. `model.compile_metrics` will be empty until you train or evaluate the model.\n"
     ]
    },
    {
     "name": "stdout",
     "output_type": "stream",
     "text": [
      "INFO:tensorflow:Assets written to: c:\\Users\\rs1044\\bwSyncShare\\02Python Code\\MoE-based-FL-for-secure-STLF/models/FL/Dense/global_dense_model/cluster_1/TopK_BiLSTM_MoE/FederatedRound1\\assets\n"
     ]
    },
    {
     "name": "stderr",
     "output_type": "stream",
     "text": [
      "INFO:tensorflow:Assets written to: c:\\Users\\rs1044\\bwSyncShare\\02Python Code\\MoE-based-FL-for-secure-STLF/models/FL/Dense/global_dense_model/cluster_1/TopK_BiLSTM_MoE/FederatedRound1\\assets\n"
     ]
    },
    {
     "name": "stdout",
     "output_type": "stream",
     "text": [
      "Saved Global models\n",
      "Cluster 2:\n",
      "User 6\n",
      "User 13\n",
      "User 18\n",
      "User 20\n",
      "User 26\n",
      "WARNING:tensorflow:Compiled the loaded model, but the compiled metrics have yet to be built. `model.compile_metrics` will be empty until you train or evaluate the model.\n"
     ]
    },
    {
     "name": "stderr",
     "output_type": "stream",
     "text": [
      "WARNING:tensorflow:Compiled the loaded model, but the compiled metrics have yet to be built. `model.compile_metrics` will be empty until you train or evaluate the model.\n"
     ]
    },
    {
     "name": "stdout",
     "output_type": "stream",
     "text": [
      "INFO:tensorflow:Assets written to: c:\\Users\\rs1044\\bwSyncShare\\02Python Code\\MoE-based-FL-for-secure-STLF/models/FL/Dense/global_dense_model/cluster_2/TopK_BiLSTM_MoE/FederatedRound1\\assets\n"
     ]
    },
    {
     "name": "stderr",
     "output_type": "stream",
     "text": [
      "INFO:tensorflow:Assets written to: c:\\Users\\rs1044\\bwSyncShare\\02Python Code\\MoE-based-FL-for-secure-STLF/models/FL/Dense/global_dense_model/cluster_2/TopK_BiLSTM_MoE/FederatedRound1\\assets\n"
     ]
    },
    {
     "name": "stdout",
     "output_type": "stream",
     "text": [
      "Saved Global models\n",
      "Cluster 3:\n",
      "User 3\n",
      "User 8\n",
      "User 9\n",
      "User 14\n",
      "User 19\n",
      "User 27\n",
      "WARNING:tensorflow:Compiled the loaded model, but the compiled metrics have yet to be built. `model.compile_metrics` will be empty until you train or evaluate the model.\n"
     ]
    },
    {
     "name": "stderr",
     "output_type": "stream",
     "text": [
      "WARNING:tensorflow:Compiled the loaded model, but the compiled metrics have yet to be built. `model.compile_metrics` will be empty until you train or evaluate the model.\n"
     ]
    },
    {
     "name": "stdout",
     "output_type": "stream",
     "text": [
      "INFO:tensorflow:Assets written to: c:\\Users\\rs1044\\bwSyncShare\\02Python Code\\MoE-based-FL-for-secure-STLF/models/FL/Dense/global_dense_model/cluster_3/TopK_BiLSTM_MoE/FederatedRound1\\assets\n"
     ]
    },
    {
     "name": "stderr",
     "output_type": "stream",
     "text": [
      "INFO:tensorflow:Assets written to: c:\\Users\\rs1044\\bwSyncShare\\02Python Code\\MoE-based-FL-for-secure-STLF/models/FL/Dense/global_dense_model/cluster_3/TopK_BiLSTM_MoE/FederatedRound1\\assets\n"
     ]
    },
    {
     "name": "stdout",
     "output_type": "stream",
     "text": [
      "Saved Global models\n",
      "Started Federated training round ---------- 2 / 3\n",
      "Cluster 0:\n",
      "User 1\n",
      "User 2\n",
      "User 4\n",
      "User 5\n",
      "User 7\n",
      "User 10\n",
      "User 11\n",
      "User 12\n",
      "User 15\n",
      "User 16\n",
      "User 17\n",
      "User 21\n",
      "User 22\n",
      "User 23\n",
      "User 24\n",
      "User 25\n",
      "User 28\n",
      "User 30\n",
      "WARNING:tensorflow:Compiled the loaded model, but the compiled metrics have yet to be built. `model.compile_metrics` will be empty until you train or evaluate the model.\n"
     ]
    },
    {
     "name": "stderr",
     "output_type": "stream",
     "text": [
      "WARNING:tensorflow:Compiled the loaded model, but the compiled metrics have yet to be built. `model.compile_metrics` will be empty until you train or evaluate the model.\n"
     ]
    },
    {
     "name": "stdout",
     "output_type": "stream",
     "text": [
      "INFO:tensorflow:Assets written to: c:\\Users\\rs1044\\bwSyncShare\\02Python Code\\MoE-based-FL-for-secure-STLF/models/FL/Dense/global_dense_model/cluster_0/TopK_BiLSTM_MoE/FederatedRound2\\assets\n"
     ]
    },
    {
     "name": "stderr",
     "output_type": "stream",
     "text": [
      "INFO:tensorflow:Assets written to: c:\\Users\\rs1044\\bwSyncShare\\02Python Code\\MoE-based-FL-for-secure-STLF/models/FL/Dense/global_dense_model/cluster_0/TopK_BiLSTM_MoE/FederatedRound2\\assets\n"
     ]
    },
    {
     "name": "stdout",
     "output_type": "stream",
     "text": [
      "Saved Global models\n",
      "Cluster 1:\n",
      "User 29\n",
      "WARNING:tensorflow:Compiled the loaded model, but the compiled metrics have yet to be built. `model.compile_metrics` will be empty until you train or evaluate the model.\n"
     ]
    },
    {
     "name": "stderr",
     "output_type": "stream",
     "text": [
      "WARNING:tensorflow:Compiled the loaded model, but the compiled metrics have yet to be built. `model.compile_metrics` will be empty until you train or evaluate the model.\n"
     ]
    },
    {
     "name": "stdout",
     "output_type": "stream",
     "text": [
      "INFO:tensorflow:Assets written to: c:\\Users\\rs1044\\bwSyncShare\\02Python Code\\MoE-based-FL-for-secure-STLF/models/FL/Dense/global_dense_model/cluster_1/TopK_BiLSTM_MoE/FederatedRound2\\assets\n"
     ]
    },
    {
     "name": "stderr",
     "output_type": "stream",
     "text": [
      "INFO:tensorflow:Assets written to: c:\\Users\\rs1044\\bwSyncShare\\02Python Code\\MoE-based-FL-for-secure-STLF/models/FL/Dense/global_dense_model/cluster_1/TopK_BiLSTM_MoE/FederatedRound2\\assets\n"
     ]
    },
    {
     "name": "stdout",
     "output_type": "stream",
     "text": [
      "Saved Global models\n",
      "Cluster 2:\n",
      "User 6\n",
      "User 13\n",
      "User 18\n",
      "User 20\n",
      "User 26\n",
      "WARNING:tensorflow:Compiled the loaded model, but the compiled metrics have yet to be built. `model.compile_metrics` will be empty until you train or evaluate the model.\n"
     ]
    },
    {
     "name": "stderr",
     "output_type": "stream",
     "text": [
      "WARNING:tensorflow:Compiled the loaded model, but the compiled metrics have yet to be built. `model.compile_metrics` will be empty until you train or evaluate the model.\n"
     ]
    },
    {
     "name": "stdout",
     "output_type": "stream",
     "text": [
      "INFO:tensorflow:Assets written to: c:\\Users\\rs1044\\bwSyncShare\\02Python Code\\MoE-based-FL-for-secure-STLF/models/FL/Dense/global_dense_model/cluster_2/TopK_BiLSTM_MoE/FederatedRound2\\assets\n"
     ]
    },
    {
     "name": "stderr",
     "output_type": "stream",
     "text": [
      "INFO:tensorflow:Assets written to: c:\\Users\\rs1044\\bwSyncShare\\02Python Code\\MoE-based-FL-for-secure-STLF/models/FL/Dense/global_dense_model/cluster_2/TopK_BiLSTM_MoE/FederatedRound2\\assets\n"
     ]
    },
    {
     "name": "stdout",
     "output_type": "stream",
     "text": [
      "Saved Global models\n",
      "Cluster 3:\n",
      "User 3\n",
      "User 8\n",
      "User 9\n",
      "User 14\n",
      "User 19\n",
      "User 27\n",
      "WARNING:tensorflow:Compiled the loaded model, but the compiled metrics have yet to be built. `model.compile_metrics` will be empty until you train or evaluate the model.\n"
     ]
    },
    {
     "name": "stderr",
     "output_type": "stream",
     "text": [
      "WARNING:tensorflow:Compiled the loaded model, but the compiled metrics have yet to be built. `model.compile_metrics` will be empty until you train or evaluate the model.\n"
     ]
    },
    {
     "name": "stdout",
     "output_type": "stream",
     "text": [
      "INFO:tensorflow:Assets written to: c:\\Users\\rs1044\\bwSyncShare\\02Python Code\\MoE-based-FL-for-secure-STLF/models/FL/Dense/global_dense_model/cluster_3/TopK_BiLSTM_MoE/FederatedRound2\\assets\n"
     ]
    },
    {
     "name": "stderr",
     "output_type": "stream",
     "text": [
      "INFO:tensorflow:Assets written to: c:\\Users\\rs1044\\bwSyncShare\\02Python Code\\MoE-based-FL-for-secure-STLF/models/FL/Dense/global_dense_model/cluster_3/TopK_BiLSTM_MoE/FederatedRound2\\assets\n"
     ]
    },
    {
     "name": "stdout",
     "output_type": "stream",
     "text": [
      "Saved Global models\n",
      "Started Federated training round ---------- 3 / 3\n",
      "Cluster 0:\n",
      "User 1\n",
      "User 2\n",
      "User 4\n",
      "User 5\n",
      "User 7\n",
      "User 10\n",
      "User 11\n",
      "User 12\n",
      "User 15\n",
      "User 16\n",
      "User 17\n",
      "User 21\n",
      "User 22\n",
      "User 23\n",
      "User 24\n",
      "User 25\n",
      "User 28\n",
      "User 30\n",
      "WARNING:tensorflow:Compiled the loaded model, but the compiled metrics have yet to be built. `model.compile_metrics` will be empty until you train or evaluate the model.\n"
     ]
    },
    {
     "name": "stderr",
     "output_type": "stream",
     "text": [
      "WARNING:tensorflow:Compiled the loaded model, but the compiled metrics have yet to be built. `model.compile_metrics` will be empty until you train or evaluate the model.\n"
     ]
    },
    {
     "name": "stdout",
     "output_type": "stream",
     "text": [
      "INFO:tensorflow:Assets written to: c:\\Users\\rs1044\\bwSyncShare\\02Python Code\\MoE-based-FL-for-secure-STLF/models/FL/Dense/global_dense_model/cluster_0/TopK_BiLSTM_MoE/FederatedRound3\\assets\n"
     ]
    },
    {
     "name": "stderr",
     "output_type": "stream",
     "text": [
      "INFO:tensorflow:Assets written to: c:\\Users\\rs1044\\bwSyncShare\\02Python Code\\MoE-based-FL-for-secure-STLF/models/FL/Dense/global_dense_model/cluster_0/TopK_BiLSTM_MoE/FederatedRound3\\assets\n"
     ]
    },
    {
     "name": "stdout",
     "output_type": "stream",
     "text": [
      "Saved Global models\n",
      "Cluster 1:\n",
      "User 29\n",
      "WARNING:tensorflow:Compiled the loaded model, but the compiled metrics have yet to be built. `model.compile_metrics` will be empty until you train or evaluate the model.\n"
     ]
    },
    {
     "name": "stderr",
     "output_type": "stream",
     "text": [
      "WARNING:tensorflow:Compiled the loaded model, but the compiled metrics have yet to be built. `model.compile_metrics` will be empty until you train or evaluate the model.\n"
     ]
    },
    {
     "name": "stdout",
     "output_type": "stream",
     "text": [
      "INFO:tensorflow:Assets written to: c:\\Users\\rs1044\\bwSyncShare\\02Python Code\\MoE-based-FL-for-secure-STLF/models/FL/Dense/global_dense_model/cluster_1/TopK_BiLSTM_MoE/FederatedRound3\\assets\n"
     ]
    },
    {
     "name": "stderr",
     "output_type": "stream",
     "text": [
      "INFO:tensorflow:Assets written to: c:\\Users\\rs1044\\bwSyncShare\\02Python Code\\MoE-based-FL-for-secure-STLF/models/FL/Dense/global_dense_model/cluster_1/TopK_BiLSTM_MoE/FederatedRound3\\assets\n"
     ]
    },
    {
     "name": "stdout",
     "output_type": "stream",
     "text": [
      "Saved Global models\n",
      "Cluster 2:\n",
      "User 6\n",
      "User 13\n",
      "User 18\n",
      "User 20\n",
      "User 26\n",
      "WARNING:tensorflow:Compiled the loaded model, but the compiled metrics have yet to be built. `model.compile_metrics` will be empty until you train or evaluate the model.\n"
     ]
    },
    {
     "name": "stderr",
     "output_type": "stream",
     "text": [
      "WARNING:tensorflow:Compiled the loaded model, but the compiled metrics have yet to be built. `model.compile_metrics` will be empty until you train or evaluate the model.\n"
     ]
    },
    {
     "name": "stdout",
     "output_type": "stream",
     "text": [
      "INFO:tensorflow:Assets written to: c:\\Users\\rs1044\\bwSyncShare\\02Python Code\\MoE-based-FL-for-secure-STLF/models/FL/Dense/global_dense_model/cluster_2/TopK_BiLSTM_MoE/FederatedRound3\\assets\n"
     ]
    },
    {
     "name": "stderr",
     "output_type": "stream",
     "text": [
      "INFO:tensorflow:Assets written to: c:\\Users\\rs1044\\bwSyncShare\\02Python Code\\MoE-based-FL-for-secure-STLF/models/FL/Dense/global_dense_model/cluster_2/TopK_BiLSTM_MoE/FederatedRound3\\assets\n"
     ]
    },
    {
     "name": "stdout",
     "output_type": "stream",
     "text": [
      "Saved Global models\n",
      "Cluster 3:\n",
      "User 3\n",
      "User 8\n",
      "User 9\n",
      "User 14\n",
      "User 19\n",
      "User 27\n",
      "WARNING:tensorflow:Compiled the loaded model, but the compiled metrics have yet to be built. `model.compile_metrics` will be empty until you train or evaluate the model.\n"
     ]
    },
    {
     "name": "stderr",
     "output_type": "stream",
     "text": [
      "WARNING:tensorflow:Compiled the loaded model, but the compiled metrics have yet to be built. `model.compile_metrics` will be empty until you train or evaluate the model.\n"
     ]
    },
    {
     "name": "stdout",
     "output_type": "stream",
     "text": [
      "INFO:tensorflow:Assets written to: c:\\Users\\rs1044\\bwSyncShare\\02Python Code\\MoE-based-FL-for-secure-STLF/models/FL/Dense/global_dense_model/cluster_3/TopK_BiLSTM_MoE/FederatedRound3\\assets\n"
     ]
    },
    {
     "name": "stderr",
     "output_type": "stream",
     "text": [
      "INFO:tensorflow:Assets written to: c:\\Users\\rs1044\\bwSyncShare\\02Python Code\\MoE-based-FL-for-secure-STLF/models/FL/Dense/global_dense_model/cluster_3/TopK_BiLSTM_MoE/FederatedRound3\\assets\n"
     ]
    },
    {
     "name": "stdout",
     "output_type": "stream",
     "text": [
      "Saved Global models\n",
      "Cluster 0:\n",
      "User:  1\n",
      "User:  2\n",
      "User:  4\n",
      "User:  5\n",
      "User:  7\n",
      "User:  10\n",
      "User:  11\n",
      "User:  12\n",
      "User:  15\n",
      "User:  16\n",
      "User:  17\n",
      "User:  21\n",
      "User:  22\n",
      "User:  23\n",
      "User:  24\n",
      "User:  25\n",
      "User:  28\n",
      "User:  30\n",
      "Cluster 1:\n",
      "User:  29\n",
      "Cluster 2:\n",
      "User:  6\n",
      "User:  13\n",
      "User:  18\n",
      "User:  20\n",
      "User:  26\n",
      "Cluster 3:\n",
      "User:  3\n",
      "User:  8\n",
      "User:  9\n",
      "User:  14\n",
      "User:  19\n",
      "User:  27\n"
     ]
    }
   ],
   "source": [
    "#Dense MODEL 1 ------------------------------------------------------------------\n",
    "bilstm_moe_architecture = \"TopK_BiLSTM_MoE\"\n",
    "lstm_units = 8\n",
    "\n",
    "num_experts = 4\n",
    "top_k = 2\n",
    "expert_units = 8\n",
    "\n",
    "# Create global models for each cluser (6)\n",
    "for cluster in range(num_clusters):\n",
    "#Build and save global model\n",
    "    global_dense_moe = m1.build_topk_bilstm_moe_model(X_train[f'user{1}'], batch_size, horizon, lstm_units, num_experts, top_k, expert_units, m1)\n",
    "    global_dense_moe.save(cwd + f\"/models/FL/Dense/global_dense_model/cluster_{cluster}/{bilstm_moe_architecture}/FederatedRound{0}\")\n",
    "\n",
    "  \n",
    "federated_rounds = 3\n",
    "for federated_round  in range(federated_rounds):\n",
    "    print(\"Started Federated training round ----------\", federated_round+1, f\"/ {federated_rounds}\")\n",
    "\n",
    "    for cluster_number, users_in_cluster in cluster_users.items():\n",
    "        print(f\"Cluster {cluster_number}:\")\n",
    "\n",
    "        #Get global models weights\n",
    "        global_dense_moe = keras.models.load_model(cwd + f\"/models/FL/Dense/global_dense_model/cluster_{cluster_number}/{bilstm_moe_architecture}/FederatedRound{federated_round}\", compile=False)\n",
    "        global_dense_moe_weights = global_dense_moe.get_weights()\n",
    "\n",
    "        #initial list for local model weights\n",
    "        local_dense_moe_weight_list = list()\n",
    "\n",
    "\n",
    "        #for idx, user in enumerate(df_array): \n",
    "        for user_index in users_in_cluster:\n",
    "            user_df = df_array[user_index-1]  # Get the user's DataFrame from the array\n",
    "            print(f\"User {user_index}\") \n",
    "                      \n",
    "            #build and compile local model X_train, batch_size, horizon, dense_units,  expert_units, num_experts, m1\n",
    "            local_dense_moe_model = m1.build_topk_bilstm_moe_model(X_train[f'user{user_index}'], batch_size, horizon, lstm_units, num_experts, top_k, expert_units, m1)\n",
    "            local_dense_moe_model.compile(loss=loss, optimizer=tf.keras.optimizers.Adam(learning_rate=0.0006), metrics=metrics)\n",
    "\n",
    "            #set local model weight to the weight of the global model\n",
    "            local_dense_moe_model.set_weights(global_dense_moe_weights)\n",
    "            \n",
    "            #Fit local model to local data\n",
    "            dense_histroy, dense_user_results = mh.compile_fit_evaluate_model(\n",
    "                model=local_dense_moe_model, \n",
    "                loss=loss, \n",
    "                metrics=metrics, \n",
    "                X_train=X_train[f'user{user_index}'],\n",
    "                y_train = y_train[f'user{user_index}'], \n",
    "                max_epochs = max_epochs, \n",
    "                batch_size=batch_size, \n",
    "                X_val=X_val[f'user{user_index}'], \n",
    "                y_val=y_val[f'user{user_index}'], \n",
    "                X_test=X_test[f'user{user_index}'], \n",
    "                y_test=y_test[f'user{user_index}'], \n",
    "                callbacks=callbacks, \n",
    "                user=f'user{user_index}', \n",
    "                hyper=bilstm_moe_architecture,\n",
    "                optimizer=tf.keras.optimizers.Adam(learning_rate=0.0006),\n",
    "            )\n",
    "            #add model weights to list        \n",
    "            local_dense_moe_weights = local_dense_moe_model.get_weights()\n",
    "            local_dense_moe_weight_list.append(local_dense_moe_weights)\n",
    "        \n",
    "            #clear session to free memory after each communication round\n",
    "            K.clear_session()\n",
    "        \n",
    "        #to get the average over all the local model, we simply take the sum of the scaled weights\n",
    "        average_weights_dense_moe = avg_weights_with_noise_fedprox(local_dense_moe_weight_list)\n",
    "        #update global model \n",
    "        global_dense_moe.set_weights(average_weights_dense_moe)\n",
    "        #Save global models\n",
    "        global_dense_moe.save(cwd + f\"/models/FL/Dense/global_dense_model/cluster_{cluster_number}/{bilstm_moe_architecture}/FederatedRound{federated_round+1}\")\n",
    "        print(\"Saved Global models\")\n",
    "\n",
    "\n",
    "#Evaluation\n",
    "dense_all_results = pd.DataFrame(columns=[\"user\", \"architecture\", \"train_time\", \"avg_time_epoch\", \"mse\", \"rmse\", \"mape\", \"mae\"])\n",
    "\n",
    "for cluster_number, users_in_cluster in cluster_users.items():\n",
    "    print(f\"Cluster {cluster_number}:\")\n",
    "\n",
    "    #Get global models weights\n",
    "    global_dense_moe = tf.keras.models.load_model(cwd + f\"/models/FL/Dense/global_dense_model/cluster_{cluster_number}/{bilstm_moe_architecture}/FederatedRound{federated_rounds}\", compile=False)\n",
    "\n",
    "    #for idx, user in enumerate(df_array): \n",
    "    for user_index in users_in_cluster:\n",
    "        print(\"User: \", user_index)\n",
    "        for round in range(3):\n",
    "            global_dense_moe = tf.keras.models.load_model(cwd + f\"/models/FL/Dense/global_dense_model/cluster_{cluster_number}/{bilstm_moe_architecture}/FederatedRound{federated_rounds}\", compile=False)\n",
    "            dense_moe_model = m1.build_topk_bilstm_moe_model(X_train[f'user{user_index}'], batch_size, horizon, lstm_units, num_experts, top_k, expert_units, m1)\n",
    "            dense_moe_model.set_weights(global_dense_moe.get_weights())\n",
    "            \n",
    "            dense_histroy, dense_user_results = mh.compile_fit_evaluate_model(\n",
    "                model=dense_moe_model, \n",
    "                loss=loss, \n",
    "                metrics=metrics, \n",
    "                X_train=X_train[f'user{user_index}'],\n",
    "                y_train = y_train[f'user{user_index}'], \n",
    "                max_epochs = 1, \n",
    "                batch_size=batch_size, \n",
    "                X_val=X_val[f'user{user_index}'], \n",
    "                y_val=y_val[f'user{user_index}'], \n",
    "                X_test=X_test[f'user{user_index}'], \n",
    "                y_test=y_test[f'user{user_index}'], \n",
    "                callbacks=callbacks, \n",
    "                user=f'user{user_index}', \n",
    "                hyper=bilstm_moe_architecture,\n",
    "                optimizer=tf.keras.optimizers.Adam(learning_rate=0.0006)\n",
    "            )\n",
    "            # Add the 'architecture' column from dense_user_results to dense_results\n",
    "            dense_all_results = pd.merge(dense_all_results, dense_user_results, how='outer')  \n",
    "\n",
    "for idx in range(len(df_array)):\n",
    "    new_row = {\n",
    "        'architecture': bilstm_moe_architecture,\n",
    "        'train_time': dense_all_results[dense_all_results[\"user\"]==f\"user{idx+1}\"][\"train_time\"].mean(), \n",
    "        'avg_time_epoch' : dense_all_results[dense_all_results[\"user\"]==f\"user{idx+1}\"][\"avg_time_epoch\"].mean(),\n",
    "        'mse': dense_all_results[dense_all_results[\"user\"]==f\"user{idx+1}\"][\"mse\"].mean(),\n",
    "        'mse_std' : dense_all_results[dense_all_results[\"user\"]==f\"user{idx+1}\"][\"mse\"].std(),\n",
    "        'rmse': dense_all_results[dense_all_results[\"user\"]==f\"user{idx+1}\"][\"rmse\"].mean(),\n",
    "        'rmse_std' : dense_all_results[dense_all_results[\"user\"]==f\"user{idx+1}\"][\"rmse\"].std(),\n",
    "        'mape': dense_all_results[dense_all_results[\"user\"]==f\"user{idx+1}\"][\"mape\"].mean(),\n",
    "        'mape_std' : dense_all_results[dense_all_results[\"user\"]==f\"user{idx+1}\"][\"mape\"].std(),\n",
    "        'mae': dense_all_results[dense_all_results[\"user\"]==f\"user{idx+1}\"][\"mae\"].mean(),\n",
    "        'mae_std' : dense_all_results[dense_all_results[\"user\"]==f\"user{idx+1}\"][\"mae\"].std(),\n",
    "    }\n",
    "    dense_results.loc[len(dense_results)] = new_row"
   ]
  },
  {
   "cell_type": "code",
   "execution_count": 12,
   "metadata": {},
   "outputs": [
    {
     "data": {
      "text/html": [
       "<div>\n",
       "<style scoped>\n",
       "    .dataframe tbody tr th:only-of-type {\n",
       "        vertical-align: middle;\n",
       "    }\n",
       "\n",
       "    .dataframe tbody tr th {\n",
       "        vertical-align: top;\n",
       "    }\n",
       "\n",
       "    .dataframe thead th {\n",
       "        text-align: right;\n",
       "    }\n",
       "</style>\n",
       "<table border=\"1\" class=\"dataframe\">\n",
       "  <thead>\n",
       "    <tr style=\"text-align: right;\">\n",
       "      <th></th>\n",
       "      <th>architecture</th>\n",
       "      <th>train_time</th>\n",
       "      <th>avg_time_epoch</th>\n",
       "      <th>mse</th>\n",
       "      <th>mse_std</th>\n",
       "      <th>rmse</th>\n",
       "      <th>rmse_std</th>\n",
       "      <th>mape</th>\n",
       "      <th>mape_std</th>\n",
       "      <th>mae</th>\n",
       "      <th>mae_std</th>\n",
       "    </tr>\n",
       "  </thead>\n",
       "  <tbody>\n",
       "    <tr>\n",
       "      <th>0</th>\n",
       "      <td>Dense_MoE_e4d8_d16</td>\n",
       "      <td>1.495996</td>\n",
       "      <td>1.413643</td>\n",
       "      <td>0.034502</td>\n",
       "      <td>0.000277</td>\n",
       "      <td>0.185745</td>\n",
       "      <td>0.000746</td>\n",
       "      <td>9.506578e+04</td>\n",
       "      <td>10724.872810</td>\n",
       "      <td>0.132685</td>\n",
       "      <td>0.001910</td>\n",
       "    </tr>\n",
       "    <tr>\n",
       "      <th>1</th>\n",
       "      <td>Dense_MoE_e4d8_d16</td>\n",
       "      <td>1.350153</td>\n",
       "      <td>1.270475</td>\n",
       "      <td>0.017793</td>\n",
       "      <td>0.000942</td>\n",
       "      <td>0.133360</td>\n",
       "      <td>0.003506</td>\n",
       "      <td>2.148979e+05</td>\n",
       "      <td>31327.194595</td>\n",
       "      <td>0.074563</td>\n",
       "      <td>0.001257</td>\n",
       "    </tr>\n",
       "    <tr>\n",
       "      <th>2</th>\n",
       "      <td>Dense_MoE_e4d8_d16</td>\n",
       "      <td>1.374985</td>\n",
       "      <td>1.293299</td>\n",
       "      <td>0.019011</td>\n",
       "      <td>0.000143</td>\n",
       "      <td>0.137878</td>\n",
       "      <td>0.000519</td>\n",
       "      <td>5.378165e+04</td>\n",
       "      <td>5117.348585</td>\n",
       "      <td>0.073185</td>\n",
       "      <td>0.004528</td>\n",
       "    </tr>\n",
       "    <tr>\n",
       "      <th>3</th>\n",
       "      <td>Dense_MoE_e4d8_d16</td>\n",
       "      <td>1.375389</td>\n",
       "      <td>1.294036</td>\n",
       "      <td>0.021595</td>\n",
       "      <td>0.000361</td>\n",
       "      <td>0.146948</td>\n",
       "      <td>0.001226</td>\n",
       "      <td>1.556666e+05</td>\n",
       "      <td>11608.861413</td>\n",
       "      <td>0.063102</td>\n",
       "      <td>0.001889</td>\n",
       "    </tr>\n",
       "    <tr>\n",
       "      <th>4</th>\n",
       "      <td>Dense_MoE_e4d8_d16</td>\n",
       "      <td>1.382867</td>\n",
       "      <td>1.301181</td>\n",
       "      <td>0.013548</td>\n",
       "      <td>0.000742</td>\n",
       "      <td>0.116367</td>\n",
       "      <td>0.003170</td>\n",
       "      <td>7.609251e+04</td>\n",
       "      <td>9830.769647</td>\n",
       "      <td>0.070237</td>\n",
       "      <td>0.001908</td>\n",
       "    </tr>\n",
       "    <tr>\n",
       "      <th>...</th>\n",
       "      <td>...</td>\n",
       "      <td>...</td>\n",
       "      <td>...</td>\n",
       "      <td>...</td>\n",
       "      <td>...</td>\n",
       "      <td>...</td>\n",
       "      <td>...</td>\n",
       "      <td>...</td>\n",
       "      <td>...</td>\n",
       "      <td>...</td>\n",
       "      <td>...</td>\n",
       "    </tr>\n",
       "    <tr>\n",
       "      <th>115</th>\n",
       "      <td>TopK_BiLSTM_MoE</td>\n",
       "      <td>4.228470</td>\n",
       "      <td>4.067098</td>\n",
       "      <td>0.023336</td>\n",
       "      <td>0.000537</td>\n",
       "      <td>0.152753</td>\n",
       "      <td>0.001762</td>\n",
       "      <td>1.282613e+05</td>\n",
       "      <td>12152.387653</td>\n",
       "      <td>0.094571</td>\n",
       "      <td>0.001481</td>\n",
       "    </tr>\n",
       "    <tr>\n",
       "      <th>116</th>\n",
       "      <td>TopK_BiLSTM_MoE</td>\n",
       "      <td>4.381140</td>\n",
       "      <td>4.215938</td>\n",
       "      <td>0.017637</td>\n",
       "      <td>0.000514</td>\n",
       "      <td>0.132796</td>\n",
       "      <td>0.001936</td>\n",
       "      <td>2.019347e+05</td>\n",
       "      <td>23894.619120</td>\n",
       "      <td>0.093720</td>\n",
       "      <td>0.003530</td>\n",
       "    </tr>\n",
       "    <tr>\n",
       "      <th>117</th>\n",
       "      <td>TopK_BiLSTM_MoE</td>\n",
       "      <td>4.209606</td>\n",
       "      <td>4.047897</td>\n",
       "      <td>0.010369</td>\n",
       "      <td>0.000158</td>\n",
       "      <td>0.101824</td>\n",
       "      <td>0.000775</td>\n",
       "      <td>4.658706e+04</td>\n",
       "      <td>3830.746049</td>\n",
       "      <td>0.044600</td>\n",
       "      <td>0.002256</td>\n",
       "    </tr>\n",
       "    <tr>\n",
       "      <th>118</th>\n",
       "      <td>TopK_BiLSTM_MoE</td>\n",
       "      <td>4.176567</td>\n",
       "      <td>4.016528</td>\n",
       "      <td>0.017299</td>\n",
       "      <td>0.000183</td>\n",
       "      <td>0.131526</td>\n",
       "      <td>0.000695</td>\n",
       "      <td>3.683270e+05</td>\n",
       "      <td>45011.451102</td>\n",
       "      <td>0.094126</td>\n",
       "      <td>0.001845</td>\n",
       "    </tr>\n",
       "    <tr>\n",
       "      <th>119</th>\n",
       "      <td>TopK_BiLSTM_MoE</td>\n",
       "      <td>4.216207</td>\n",
       "      <td>4.054960</td>\n",
       "      <td>0.016927</td>\n",
       "      <td>0.000118</td>\n",
       "      <td>0.130103</td>\n",
       "      <td>0.000454</td>\n",
       "      <td>1.103793e+06</td>\n",
       "      <td>151498.194722</td>\n",
       "      <td>0.081896</td>\n",
       "      <td>0.000846</td>\n",
       "    </tr>\n",
       "  </tbody>\n",
       "</table>\n",
       "<p>120 rows × 11 columns</p>\n",
       "</div>"
      ],
      "text/plain": [
       "           architecture  train_time  avg_time_epoch       mse   mse_std  \\\n",
       "0    Dense_MoE_e4d8_d16    1.495996        1.413643  0.034502  0.000277   \n",
       "1    Dense_MoE_e4d8_d16    1.350153        1.270475  0.017793  0.000942   \n",
       "2    Dense_MoE_e4d8_d16    1.374985        1.293299  0.019011  0.000143   \n",
       "3    Dense_MoE_e4d8_d16    1.375389        1.294036  0.021595  0.000361   \n",
       "4    Dense_MoE_e4d8_d16    1.382867        1.301181  0.013548  0.000742   \n",
       "..                  ...         ...             ...       ...       ...   \n",
       "115     TopK_BiLSTM_MoE    4.228470        4.067098  0.023336  0.000537   \n",
       "116     TopK_BiLSTM_MoE    4.381140        4.215938  0.017637  0.000514   \n",
       "117     TopK_BiLSTM_MoE    4.209606        4.047897  0.010369  0.000158   \n",
       "118     TopK_BiLSTM_MoE    4.176567        4.016528  0.017299  0.000183   \n",
       "119     TopK_BiLSTM_MoE    4.216207        4.054960  0.016927  0.000118   \n",
       "\n",
       "         rmse  rmse_std          mape       mape_std       mae   mae_std  \n",
       "0    0.185745  0.000746  9.506578e+04   10724.872810  0.132685  0.001910  \n",
       "1    0.133360  0.003506  2.148979e+05   31327.194595  0.074563  0.001257  \n",
       "2    0.137878  0.000519  5.378165e+04    5117.348585  0.073185  0.004528  \n",
       "3    0.146948  0.001226  1.556666e+05   11608.861413  0.063102  0.001889  \n",
       "4    0.116367  0.003170  7.609251e+04    9830.769647  0.070237  0.001908  \n",
       "..        ...       ...           ...            ...       ...       ...  \n",
       "115  0.152753  0.001762  1.282613e+05   12152.387653  0.094571  0.001481  \n",
       "116  0.132796  0.001936  2.019347e+05   23894.619120  0.093720  0.003530  \n",
       "117  0.101824  0.000775  4.658706e+04    3830.746049  0.044600  0.002256  \n",
       "118  0.131526  0.000695  3.683270e+05   45011.451102  0.094126  0.001845  \n",
       "119  0.130103  0.000454  1.103793e+06  151498.194722  0.081896  0.000846  \n",
       "\n",
       "[120 rows x 11 columns]"
      ]
     },
     "execution_count": 12,
     "metadata": {},
     "output_type": "execute_result"
    }
   ],
   "source": [
    "dense_results.to_csv(f'evaluations/clustered_federated_learning/{bilstm_moe_architecture}.csv')\n",
    "dense_results"
   ]
  }
 ],
 "metadata": {
  "kernelspec": {
   "display_name": ".venv",
   "language": "python",
   "name": "python3"
  },
  "language_info": {
   "codemirror_mode": {
    "name": "ipython",
    "version": 3
   },
   "file_extension": ".py",
   "mimetype": "text/x-python",
   "name": "python",
   "nbconvert_exporter": "python",
   "pygments_lexer": "ipython3",
   "version": "3.10.5"
  },
  "orig_nbformat": 4
 },
 "nbformat": 4,
 "nbformat_minor": 2
}
