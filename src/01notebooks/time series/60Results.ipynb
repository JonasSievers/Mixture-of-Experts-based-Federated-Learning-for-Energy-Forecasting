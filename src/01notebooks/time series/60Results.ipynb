{
 "cells": [
  {
   "cell_type": "markdown",
   "metadata": {},
   "source": [
    "# Visualize results"
   ]
  },
  {
   "cell_type": "code",
   "execution_count": 2,
   "metadata": {},
   "outputs": [],
   "source": [
    "#Imports\n",
    "import pandas as pd\n"
   ]
  },
  {
   "cell_type": "code",
   "execution_count": null,
   "metadata": {},
   "outputs": [],
   "source": [
    "#dense_local_learning_results.csv\n",
    "#moe_soft_dense_local_learning_results.csv\n",
    "#moe_topk_dense_local_learning_results.csv"
   ]
  },
  {
   "cell_type": "code",
   "execution_count": 5,
   "metadata": {},
   "outputs": [
    {
     "data": {
      "text/html": [
       "<div>\n",
       "<style scoped>\n",
       "    .dataframe tbody tr th:only-of-type {\n",
       "        vertical-align: middle;\n",
       "    }\n",
       "\n",
       "    .dataframe tbody tr th {\n",
       "        vertical-align: top;\n",
       "    }\n",
       "\n",
       "    .dataframe thead th {\n",
       "        text-align: right;\n",
       "    }\n",
       "</style>\n",
       "<table border=\"1\" class=\"dataframe\">\n",
       "  <thead>\n",
       "    <tr style=\"text-align: right;\">\n",
       "      <th></th>\n",
       "      <th>Unnamed: 0</th>\n",
       "      <th>architecture</th>\n",
       "      <th>Loss@User10</th>\n",
       "      <th>std@User10</th>\n",
       "      <th>Loss@User11</th>\n",
       "      <th>std@User11</th>\n",
       "      <th>Loss@User12</th>\n",
       "      <th>std@User12</th>\n",
       "      <th>mean</th>\n",
       "    </tr>\n",
       "  </thead>\n",
       "  <tbody>\n",
       "    <tr>\n",
       "      <th>0</th>\n",
       "      <td>0</td>\n",
       "      <td>Bi20_sexp4d8</td>\n",
       "      <td>0.016075</td>\n",
       "      <td>0.001194</td>\n",
       "      <td>0.014661</td>\n",
       "      <td>0.000493</td>\n",
       "      <td>0.011256</td>\n",
       "      <td>0.001110</td>\n",
       "      <td>0.013997</td>\n",
       "    </tr>\n",
       "    <tr>\n",
       "      <th>1</th>\n",
       "      <td>1</td>\n",
       "      <td>1xBi20_top2exp5d8_d16</td>\n",
       "      <td>0.016893</td>\n",
       "      <td>0.001499</td>\n",
       "      <td>0.014476</td>\n",
       "      <td>0.000408</td>\n",
       "      <td>0.010300</td>\n",
       "      <td>0.000619</td>\n",
       "      <td>0.013890</td>\n",
       "    </tr>\n",
       "    <tr>\n",
       "      <th>2</th>\n",
       "      <td>2</td>\n",
       "      <td>Bi10_sexp4d8</td>\n",
       "      <td>0.016085</td>\n",
       "      <td>0.000419</td>\n",
       "      <td>0.014669</td>\n",
       "      <td>0.000775</td>\n",
       "      <td>0.011186</td>\n",
       "      <td>0.001014</td>\n",
       "      <td>0.013980</td>\n",
       "    </tr>\n",
       "    <tr>\n",
       "      <th>3</th>\n",
       "      <td>3</td>\n",
       "      <td>1xBi10_top2exp5d8_d16</td>\n",
       "      <td>0.016815</td>\n",
       "      <td>0.000191</td>\n",
       "      <td>0.014956</td>\n",
       "      <td>0.000667</td>\n",
       "      <td>0.012526</td>\n",
       "      <td>0.000992</td>\n",
       "      <td>0.014766</td>\n",
       "    </tr>\n",
       "    <tr>\n",
       "      <th>4</th>\n",
       "      <td>4</td>\n",
       "      <td>Bi8_sexp8d16</td>\n",
       "      <td>0.015341</td>\n",
       "      <td>0.002136</td>\n",
       "      <td>0.014728</td>\n",
       "      <td>0.001041</td>\n",
       "      <td>0.010751</td>\n",
       "      <td>0.000751</td>\n",
       "      <td>0.013606</td>\n",
       "    </tr>\n",
       "    <tr>\n",
       "      <th>5</th>\n",
       "      <td>5</td>\n",
       "      <td>Bi8_top2exp10d16_d16</td>\n",
       "      <td>0.016634</td>\n",
       "      <td>0.002735</td>\n",
       "      <td>0.015349</td>\n",
       "      <td>0.000627</td>\n",
       "      <td>0.011403</td>\n",
       "      <td>0.001181</td>\n",
       "      <td>0.014462</td>\n",
       "    </tr>\n",
       "  </tbody>\n",
       "</table>\n",
       "</div>"
      ],
      "text/plain": [
       "   Unnamed: 0           architecture  Loss@User10  std@User10  Loss@User11  \\\n",
       "0           0           Bi20_sexp4d8     0.016075    0.001194     0.014661   \n",
       "1           1  1xBi20_top2exp5d8_d16     0.016893    0.001499     0.014476   \n",
       "2           2           Bi10_sexp4d8     0.016085    0.000419     0.014669   \n",
       "3           3  1xBi10_top2exp5d8_d16     0.016815    0.000191     0.014956   \n",
       "4           4           Bi8_sexp8d16     0.015341    0.002136     0.014728   \n",
       "5           5   Bi8_top2exp10d16_d16     0.016634    0.002735     0.015349   \n",
       "\n",
       "   std@User11  Loss@User12  std@User12      mean  \n",
       "0    0.000493     0.011256    0.001110  0.013997  \n",
       "1    0.000408     0.010300    0.000619  0.013890  \n",
       "2    0.000775     0.011186    0.001014  0.013980  \n",
       "3    0.000667     0.012526    0.000992  0.014766  \n",
       "4    0.001041     0.010751    0.000751  0.013606  \n",
       "5    0.000627     0.011403    0.001181  0.014462  "
      ]
     },
     "execution_count": 5,
     "metadata": {},
     "output_type": "execute_result"
    }
   ],
   "source": [
    "dense_results = pd.read_csv('evaluations/moe_bilstm_benchmark_results.csv')\n",
    "dense_results"
   ]
  },
  {
   "cell_type": "code",
   "execution_count": null,
   "metadata": {},
   "outputs": [],
   "source": [
    "dense_results = pd.read_csv('evaluations/moe_soft_dense_benchmark_results.csv')\n",
    "dense_results"
   ]
  },
  {
   "cell_type": "code",
   "execution_count": 10,
   "metadata": {},
   "outputs": [
    {
     "data": {
      "text/html": [
       "<div>\n",
       "<style scoped>\n",
       "    .dataframe tbody tr th:only-of-type {\n",
       "        vertical-align: middle;\n",
       "    }\n",
       "\n",
       "    .dataframe tbody tr th {\n",
       "        vertical-align: top;\n",
       "    }\n",
       "\n",
       "    .dataframe thead th {\n",
       "        text-align: right;\n",
       "    }\n",
       "</style>\n",
       "<table border=\"1\" class=\"dataframe\">\n",
       "  <thead>\n",
       "    <tr style=\"text-align: right;\">\n",
       "      <th></th>\n",
       "      <th>Unnamed: 0</th>\n",
       "      <th>architecture</th>\n",
       "      <th>train_time</th>\n",
       "      <th>avg_time_epoch</th>\n",
       "      <th>mse</th>\n",
       "      <th>mse_std</th>\n",
       "      <th>rmse</th>\n",
       "      <th>rmse_std</th>\n",
       "      <th>mape</th>\n",
       "      <th>mape_std</th>\n",
       "      <th>mae</th>\n",
       "      <th>mae_std</th>\n",
       "    </tr>\n",
       "  </thead>\n",
       "  <tbody>\n",
       "    <tr>\n",
       "      <th>0</th>\n",
       "      <td>0</td>\n",
       "      <td>L3_U16</td>\n",
       "      <td>29.244317</td>\n",
       "      <td>1.102366</td>\n",
       "      <td>0.033726</td>\n",
       "      <td>0.000621</td>\n",
       "      <td>0.183641</td>\n",
       "      <td>0.001689</td>\n",
       "      <td>64958.031250</td>\n",
       "      <td>8687.223938</td>\n",
       "      <td>0.128111</td>\n",
       "      <td>0.002490</td>\n",
       "    </tr>\n",
       "    <tr>\n",
       "      <th>1</th>\n",
       "      <td>1</td>\n",
       "      <td>L3_U16</td>\n",
       "      <td>20.418436</td>\n",
       "      <td>1.149232</td>\n",
       "      <td>0.018216</td>\n",
       "      <td>0.000367</td>\n",
       "      <td>0.134962</td>\n",
       "      <td>0.001355</td>\n",
       "      <td>198887.406250</td>\n",
       "      <td>51530.550575</td>\n",
       "      <td>0.079663</td>\n",
       "      <td>0.002686</td>\n",
       "    </tr>\n",
       "    <tr>\n",
       "      <th>2</th>\n",
       "      <td>2</td>\n",
       "      <td>L3_U16</td>\n",
       "      <td>23.348438</td>\n",
       "      <td>1.136324</td>\n",
       "      <td>0.020012</td>\n",
       "      <td>0.000339</td>\n",
       "      <td>0.141462</td>\n",
       "      <td>0.001194</td>\n",
       "      <td>61530.289062</td>\n",
       "      <td>9689.542405</td>\n",
       "      <td>0.084766</td>\n",
       "      <td>0.005494</td>\n",
       "    </tr>\n",
       "  </tbody>\n",
       "</table>\n",
       "</div>"
      ],
      "text/plain": [
       "   Unnamed: 0 architecture  train_time  avg_time_epoch       mse   mse_std  \\\n",
       "0           0       L3_U16   29.244317        1.102366  0.033726  0.000621   \n",
       "1           1       L3_U16   20.418436        1.149232  0.018216  0.000367   \n",
       "2           2       L3_U16   23.348438        1.136324  0.020012  0.000339   \n",
       "\n",
       "       rmse  rmse_std           mape      mape_std       mae   mae_std  \n",
       "0  0.183641  0.001689   64958.031250   8687.223938  0.128111  0.002490  \n",
       "1  0.134962  0.001355  198887.406250  51530.550575  0.079663  0.002686  \n",
       "2  0.141462  0.001194   61530.289062   9689.542405  0.084766  0.005494  "
      ]
     },
     "execution_count": 10,
     "metadata": {},
     "output_type": "execute_result"
    }
   ],
   "source": [
    "dense_results = pd.read_csv('evaluations/local_learning/dense_local_learning_results.csv')\n",
    "dense_results.head(3)"
   ]
  },
  {
   "cell_type": "code",
   "execution_count": 9,
   "metadata": {},
   "outputs": [
    {
     "name": "stdout",
     "output_type": "stream",
     "text": [
      "Mean total train time:  31.02335272894965\n",
      "Mean train time epoch:  1.1637335043102353\n",
      "Mean mse:  0.018687749219437395\n",
      "Mean rmse:  0.13483331476648644\n",
      "Mean mape:  242047.13003586663\n",
      "Mean mae:  0.08679013421965966\n"
     ]
    }
   ],
   "source": [
    "print(\"Mean total train time: \", dense_results[\"train_time\"].mean())\n",
    "print(\"Mean train time epoch: \", dense_results[\"avg_time_epoch\"].mean())\n",
    "print(\"Mean mse: \", dense_results[\"mse\"].mean())\n",
    "print(\"Mean rmse: \", dense_results[\"rmse\"].mean())\n",
    "print(\"Mean mape: \", dense_results[\"mape\"].mean())\n",
    "print(\"Mean mae: \", dense_results[\"mae\"].mean())"
   ]
  },
  {
   "cell_type": "code",
   "execution_count": 11,
   "metadata": {},
   "outputs": [
    {
     "name": "stdout",
     "output_type": "stream",
     "text": [
      "Mean total train time:  60.295127198431224\n",
      "Mean train time epoch:  1.960040913875554\n",
      "Mean mse:  0.018560692843877555\n",
      "Mean rmse:  0.134271362506681\n",
      "Mean mape:  252742.8143728468\n",
      "Mean mae:  0.08507795122762517\n"
     ]
    }
   ],
   "source": [
    "dense_softmoe_results = pd.read_csv('evaluations/local_learning/moe_soft_dense_local_learning_results.csv')\n",
    "print(\"Mean total train time: \", dense_softmoe_results[\"train_time\"].mean())\n",
    "print(\"Mean train time epoch: \", dense_softmoe_results[\"avg_time_epoch\"].mean())\n",
    "print(\"Mean mse: \", dense_softmoe_results[\"mse\"].mean())\n",
    "print(\"Mean rmse: \", dense_softmoe_results[\"rmse\"].mean())\n",
    "print(\"Mean mape: \", dense_softmoe_results[\"mape\"].mean())\n",
    "print(\"Mean mae: \", dense_softmoe_results[\"mae\"].mean())"
   ]
  },
  {
   "cell_type": "code",
   "execution_count": 12,
   "metadata": {},
   "outputs": [
    {
     "name": "stdout",
     "output_type": "stream",
     "text": [
      "Mean total train time:  52.313198335965474\n",
      "Mean train time epoch:  1.917139688481675\n",
      "Mean mse:  0.01877490349320897\n",
      "Mean rmse:  0.13492251775330963\n",
      "Mean mape:  251106.81528803508\n",
      "Mean mae:  0.0858432837658458\n"
     ]
    }
   ],
   "source": [
    "dense_topkmoe_results = pd.read_csv('evaluations/local_learning/moe_topk_dense_local_learning_results.csv')\n",
    "print(\"Mean total train time: \", dense_topkmoe_results[\"train_time\"].mean())\n",
    "print(\"Mean train time epoch: \", dense_topkmoe_results[\"avg_time_epoch\"].mean())\n",
    "print(\"Mean mse: \", dense_topkmoe_results[\"mse\"].mean())\n",
    "print(\"Mean rmse: \", dense_topkmoe_results[\"rmse\"].mean())\n",
    "print(\"Mean mape: \", dense_topkmoe_results[\"mape\"].mean())\n",
    "print(\"Mean mae: \", dense_topkmoe_results[\"mae\"].mean())"
   ]
  }
 ],
 "metadata": {
  "kernelspec": {
   "display_name": "Python 3 (ipykernel)",
   "language": "python",
   "name": "python3"
  },
  "language_info": {
   "codemirror_mode": {
    "name": "ipython",
    "version": 3
   },
   "file_extension": ".py",
   "mimetype": "text/x-python",
   "name": "python",
   "nbconvert_exporter": "python",
   "pygments_lexer": "ipython3",
   "version": "3.10.8"
  }
 },
 "nbformat": 4,
 "nbformat_minor": 2
}
