{
 "cells": [
  {
   "cell_type": "code",
   "execution_count": 1,
   "id": "c9d3f10c",
   "metadata": {},
   "outputs": [],
   "source": [
    "#Imports\n",
    "import pandas as pd\n",
    "import os\n",
    "import tensorflow as tf\n",
    "from keras import backend as K\n",
    "\n",
    "from utils.modelgenerator import *\n",
    "from utils.modelhandler import *\n",
    "from utils.datahandler import *\n",
    "\n",
    "#Get data \n",
    "cwd = os.path.normpath(os.getcwd())\n",
    "df = pd.read_csv(cwd+'/data/df_with_final_features.csv', index_col='Date') #df = pd.read_csv('user5.csv')\n",
    "df.index = pd.to_datetime(df.index)\n",
    "#df = df[['User5', 'temp', 'rhum']]\n",
    "df.fillna(0, inplace=True)\n",
    "\n",
    "df_array = []\n",
    "for idx in range(30):\n",
    "    df_array.append(df[[f'User{idx+1}', 'temp', 'rhum', 'wspd', 'PC1', 'hour sin', 'hour cos', f'User{idx+1}_lag_24hrs']])\n",
    "\n",
    "#df_array[3].head(3)\n",
    "\n",
    "#Train, Validation and Test datasets\n",
    "sequence_length = 25\n",
    "batch_size = 16\n",
    "num_features = df_array[0].shape[1]\n",
    "\n",
    "dh = Datahandler()\n",
    "\n",
    "X_train, y_train, X_val, y_val, X_test, y_test = {}, {}, {}, {}, {}, {}\n",
    "\n",
    "#Create Train, Validation and Test datasets\n",
    "for idx, df in enumerate(df_array):\n",
    "    n = len(df)\n",
    "    train_df = df[0:int(n*0.7)]\n",
    "    val_df = df[int(n*0.7):int(n*0.9)]\n",
    "    test_df = df[int(n*0.9):]\n",
    "\n",
    "    # Min max sclaing\n",
    "    train_df = dh.min_max_scaling(train_df)\n",
    "    val_df = dh.min_max_scaling(val_df)\n",
    "    test_df = dh.min_max_scaling(test_df)\n",
    "\n",
    "    # Sequencing\n",
    "    train_sequences = dh.create_sequences(train_df, sequence_length)\n",
    "    val_sequences = dh.create_sequences(val_df, sequence_length)\n",
    "    test_sequences = dh.create_sequences(test_df, sequence_length)\n",
    "\n",
    "    #Split into feature and label\n",
    "    X_train[f'user{idx+1}'], y_train[f'user{idx+1}'] = dh.prepare_data(train_sequences, batch_size)\n",
    "    X_val[f'user{idx+1}'], y_val[f'user{idx+1}'] = dh.prepare_data(val_sequences, batch_size)\n",
    "    X_test[f'user{idx+1}'], y_test[f'user{idx+1}'] = dh.prepare_data(test_sequences, batch_size)\n",
    "\n",
    "#General Hyperparameters\n",
    "# #All models\n",
    "horizon = 1\n",
    "max_epochs = 100\n",
    "m1 = ModelGenerator()\n",
    "mh = Modelhandler()\n",
    "\n",
    "loss = tf.keras.losses.MeanSquaredError()\n",
    "metrics=[\n",
    "    tf.keras.metrics.RootMeanSquaredError(), \n",
    "    tf.keras.metrics.MeanAbsolutePercentageError(),\n",
    "    tf.keras.metrics.MeanAbsoluteError(),\n",
    "]\n",
    "\n",
    "early_stopping = tf.keras.callbacks.EarlyStopping(monitor='val_loss',patience=10,mode='min')\n",
    "timing_callback = TimingCallback()\n",
    "custom_callback = CustomCallback()\n",
    "#model_checkpoint = ModelCheckpoint('models/best_model.h5', save_best_only=True, monitor='val_loss', mode='min')\n",
    "callbacks=[early_stopping, timing_callback, custom_callback] #model_checkpoint\n"
   ]
  },
  {
   "cell_type": "markdown",
   "id": "54818c65",
   "metadata": {},
   "source": [
    "# Federated Learning mechanisms"
   ]
  },
  {
   "cell_type": "code",
   "execution_count": 2,
   "id": "78587ca7",
   "metadata": {},
   "outputs": [],
   "source": [
    "#Average Aggregation\n",
    "def avg_weights(weight_list):\n",
    "    \"\"\"\n",
    "    Return the sum of the listed weights. The is equivalent to avg of the weights\n",
    "    \"\"\"\n",
    "    avg_grad = list()\n",
    "    #get the average grad accross all client gradients\n",
    "    for grad_list_tuple in zip(*weight_list):\n",
    "        layer_mean = tf.math.reduce_mean(grad_list_tuple, axis=0)\n",
    "        avg_grad.append(layer_mean)\n",
    "        \n",
    "    return avg_grad"
   ]
  },
  {
   "cell_type": "code",
   "execution_count": 3,
   "id": "dc79d8fc",
   "metadata": {},
   "outputs": [],
   "source": [
    "# Clipped Average Aggregation\n",
    "def clipped_avg_weights(weight_list, clip_threshold=None):\n",
    "    #clip_threshold = 1, 1.5, 0.5, 2\n",
    "    \"\"\"\n",
    "    Return the clipped average of the listed weights.\n",
    "    \n",
    "    Args:\n",
    "        weight_list (list of list of tensors): List of weights from clients.\n",
    "        clip_threshold (float or None): Optional threshold for gradient clipping.\n",
    "            If None, no clipping is performed.\n",
    "\n",
    "    Returns:\n",
    "        avg_grad (list of tensors): List of clipped average weights.\n",
    "    \"\"\"\n",
    "    avg_grad = list()\n",
    "    \n",
    "    # Get the average gradient across all client gradients\n",
    "    for grad_list_tuple in zip(*weight_list):\n",
    "        layer_mean = tf.math.reduce_mean(grad_list_tuple, axis=0)\n",
    "        \n",
    "        # Optionally clip the gradients\n",
    "        if clip_threshold is not None:\n",
    "            layer_mean = tf.clip_by_value(layer_mean, -clip_threshold, clip_threshold)\n",
    "        \n",
    "        avg_grad.append(layer_mean)\n",
    "        \n",
    "    return avg_grad\n"
   ]
  },
  {
   "cell_type": "code",
   "execution_count": 4,
   "id": "fedb5b25",
   "metadata": {},
   "outputs": [],
   "source": [
    "#Differential Privacy Average Aggregation / Adding noise\n",
    "def avg_weights_with_noise(weight_list, clip_threshold=None, noise_scale=0.02):\n",
    "    \"\"\"\n",
    "    Return the clipped average of the listed weights with added random noise.\n",
    "\n",
    "    Args:\n",
    "        weight_list (list of list of tensors): List of weights from clients.\n",
    "        clip_threshold (float or None): Optional threshold for gradient clipping.\n",
    "            If None, no clipping is performed.\n",
    "        noise_scale (float): Scale factor for the random noise. Higher values introduce more noise.\n",
    "\n",
    "    Returns:\n",
    "        avg_grad (list of tensors): List of clipped average weights with added noise.\n",
    "    \"\"\"\n",
    "    avg_grad = list()\n",
    "\n",
    "    # Get the average gradient across all client gradients\n",
    "    for grad_list_tuple in zip(*weight_list):\n",
    "        layer_mean = tf.math.reduce_mean(grad_list_tuple, axis=0)\n",
    "\n",
    "        # Optionally clip the gradients\n",
    "        if clip_threshold is not None:\n",
    "            layer_mean = tf.clip_by_value(layer_mean, -clip_threshold, clip_threshold)\n",
    "\n",
    "        # Add random noise to the gradients\n",
    "        noise = tf.random.normal(shape=layer_mean.shape, mean=0.0, stddev=noise_scale)\n",
    "        noisy_layer_mean = layer_mean + noise\n",
    "        avg_grad.append(noisy_layer_mean)\n",
    "\n",
    "    return avg_grad\n"
   ]
  },
  {
   "cell_type": "code",
   "execution_count": 5,
   "id": "437488ac",
   "metadata": {},
   "outputs": [],
   "source": [
    "def avg_weights_with_noise_fedprox(weight_list, clip_threshold=None, noise_scale=0.001, proximal_term=0.1):\n",
    "    avg_grad = list()\n",
    "\n",
    "    for grad_list_tuple in zip(*weight_list):\n",
    "        layer_mean = tf.math.reduce_mean(grad_list_tuple, axis=0)\n",
    "\n",
    "        if clip_threshold is not None:\n",
    "            layer_mean = tf.clip_by_value(layer_mean, -clip_threshold, clip_threshold)\n",
    "\n",
    "        noise = tf.random.normal(shape=layer_mean.shape, mean=0.0, stddev=noise_scale)\n",
    "        noisy_layer_mean = layer_mean + noise\n",
    "\n",
    "        # Add FedProx proximal term\n",
    "        proximal_update = -proximal_term * noisy_layer_mean\n",
    "\n",
    "        avg_grad.append(noisy_layer_mean + proximal_update)\n",
    "\n",
    "    return avg_grad\n"
   ]
  },
  {
   "cell_type": "markdown",
   "id": "1e91a767",
   "metadata": {},
   "source": [
    "# Cluster Selection"
   ]
  },
  {
   "cell_type": "code",
   "execution_count": 6,
   "id": "c111ac1c",
   "metadata": {},
   "outputs": [
    {
     "data": {
      "text/plain": [
       "{0: array([ 1,  2,  4,  5,  7, 10, 11, 12, 15, 16, 17, 21, 22, 23, 24, 25, 28,\n",
       "        30], dtype=int64),\n",
       " 1: array([29], dtype=int64),\n",
       " 2: array([ 6, 13, 18, 20, 26], dtype=int64),\n",
       " 3: array([ 3,  8,  9, 14, 19, 27], dtype=int64)}"
      ]
     },
     "execution_count": 6,
     "metadata": {},
     "output_type": "execute_result"
    }
   ],
   "source": [
    "num_clusters = 4\n",
    "y = np.loadtxt(f'evaluations/federated_learning/clusters_KMeans{num_clusters}_dtw.csv', delimiter=',').astype(int)\n",
    "\n",
    "cluster_users = {i: [] for i in range(num_clusters)}\n",
    "\n",
    "# Iterate through each cluster\n",
    "for cluster_number in range(num_clusters):\n",
    "    users_in_cluster = np.where(y == cluster_number)[0] +1\n",
    "    cluster_users[cluster_number] = users_in_cluster\n",
    "cluster_users"
   ]
  },
  {
   "cell_type": "markdown",
   "id": "a73c3d92",
   "metadata": {},
   "source": [
    "# Federated Learning with Mixture of Experts Model"
   ]
  },
  {
   "cell_type": "code",
   "execution_count": 7,
   "id": "3a9ef352",
   "metadata": {},
   "outputs": [],
   "source": [
    "#Testing\n",
    "# Cluster 4, 6, 8, 10, 15\n",
    "# Cluster Algorithm: K-Menas, Self organizing maps\n",
    "# Federated Algorithm: Clipped, momentum, noise"
   ]
  },
  {
   "cell_type": "code",
   "execution_count": 8,
   "id": "3d22b5dd",
   "metadata": {},
   "outputs": [],
   "source": [
    "results = pd.DataFrame(columns=['architecture', 'train_time', 'avg_time_epoch', 'mse','mse_std', 'rmse','rmse_std','mape','mape_std','mae','mae_std'])\n",
    "\n",
    "all_results = pd.DataFrame(columns=[\"user\", \"architecture\", \"train_time\", \"avg_time_epoch\", \"mse\", \"rmse\", \"mape\", \"mae\"])"
   ]
  },
  {
   "cell_type": "code",
   "execution_count": 9,
   "id": "2f012fd0",
   "metadata": {},
   "outputs": [
    {
     "name": "stdout",
     "output_type": "stream",
     "text": [
      "WARNING:tensorflow:Compiled the loaded model, but the compiled metrics have yet to be built. `model.compile_metrics` will be empty until you train or evaluate the model.\n",
      "INFO:tensorflow:Assets written to: c:\\Users\\rs1044\\bwSyncShare\\02Python Code\\MoE-based-FL-for-secure-STLF/models/FL/Testing/cluster_0/Dense_MoE_e4d8_d16/FederatedRound0\\assets\n"
     ]
    },
    {
     "name": "stderr",
     "output_type": "stream",
     "text": [
      "INFO:tensorflow:Assets written to: c:\\Users\\rs1044\\bwSyncShare\\02Python Code\\MoE-based-FL-for-secure-STLF/models/FL/Testing/cluster_0/Dense_MoE_e4d8_d16/FederatedRound0\\assets\n"
     ]
    },
    {
     "name": "stdout",
     "output_type": "stream",
     "text": [
      "WARNING:tensorflow:Compiled the loaded model, but the compiled metrics have yet to be built. `model.compile_metrics` will be empty until you train or evaluate the model.\n"
     ]
    },
    {
     "name": "stderr",
     "output_type": "stream",
     "text": [
      "WARNING:tensorflow:Compiled the loaded model, but the compiled metrics have yet to be built. `model.compile_metrics` will be empty until you train or evaluate the model.\n"
     ]
    },
    {
     "name": "stdout",
     "output_type": "stream",
     "text": [
      "INFO:tensorflow:Assets written to: c:\\Users\\rs1044\\bwSyncShare\\02Python Code\\MoE-based-FL-for-secure-STLF/models/FL/Testing/cluster_1/Dense_MoE_e4d8_d16/FederatedRound0\\assets\n"
     ]
    },
    {
     "name": "stderr",
     "output_type": "stream",
     "text": [
      "INFO:tensorflow:Assets written to: c:\\Users\\rs1044\\bwSyncShare\\02Python Code\\MoE-based-FL-for-secure-STLF/models/FL/Testing/cluster_1/Dense_MoE_e4d8_d16/FederatedRound0\\assets\n"
     ]
    },
    {
     "name": "stdout",
     "output_type": "stream",
     "text": [
      "WARNING:tensorflow:Compiled the loaded model, but the compiled metrics have yet to be built. `model.compile_metrics` will be empty until you train or evaluate the model.\n"
     ]
    },
    {
     "name": "stderr",
     "output_type": "stream",
     "text": [
      "WARNING:tensorflow:Compiled the loaded model, but the compiled metrics have yet to be built. `model.compile_metrics` will be empty until you train or evaluate the model.\n"
     ]
    },
    {
     "name": "stdout",
     "output_type": "stream",
     "text": [
      "INFO:tensorflow:Assets written to: c:\\Users\\rs1044\\bwSyncShare\\02Python Code\\MoE-based-FL-for-secure-STLF/models/FL/Testing/cluster_2/Dense_MoE_e4d8_d16/FederatedRound0\\assets\n"
     ]
    },
    {
     "name": "stderr",
     "output_type": "stream",
     "text": [
      "INFO:tensorflow:Assets written to: c:\\Users\\rs1044\\bwSyncShare\\02Python Code\\MoE-based-FL-for-secure-STLF/models/FL/Testing/cluster_2/Dense_MoE_e4d8_d16/FederatedRound0\\assets\n"
     ]
    },
    {
     "name": "stdout",
     "output_type": "stream",
     "text": [
      "WARNING:tensorflow:Compiled the loaded model, but the compiled metrics have yet to be built. `model.compile_metrics` will be empty until you train or evaluate the model.\n"
     ]
    },
    {
     "name": "stderr",
     "output_type": "stream",
     "text": [
      "WARNING:tensorflow:Compiled the loaded model, but the compiled metrics have yet to be built. `model.compile_metrics` will be empty until you train or evaluate the model.\n"
     ]
    },
    {
     "name": "stdout",
     "output_type": "stream",
     "text": [
      "INFO:tensorflow:Assets written to: c:\\Users\\rs1044\\bwSyncShare\\02Python Code\\MoE-based-FL-for-secure-STLF/models/FL/Testing/cluster_3/Dense_MoE_e4d8_d16/FederatedRound0\\assets\n"
     ]
    },
    {
     "name": "stderr",
     "output_type": "stream",
     "text": [
      "INFO:tensorflow:Assets written to: c:\\Users\\rs1044\\bwSyncShare\\02Python Code\\MoE-based-FL-for-secure-STLF/models/FL/Testing/cluster_3/Dense_MoE_e4d8_d16/FederatedRound0\\assets\n"
     ]
    },
    {
     "name": "stdout",
     "output_type": "stream",
     "text": [
      "Started Federated training round ---------- 1 / 3\n",
      "Cluster 0:\n",
      "User 1\n",
      "User 2\n",
      "User 4\n",
      "User 5\n",
      "User 7\n",
      "User 10\n",
      "User 11\n",
      "User 12\n",
      "User 15\n",
      "User 16\n",
      "User 17\n",
      "User 21\n",
      "User 22\n",
      "User 23\n",
      "User 24\n",
      "User 25\n",
      "User 28\n",
      "User 30\n",
      "WARNING:tensorflow:Compiled the loaded model, but the compiled metrics have yet to be built. `model.compile_metrics` will be empty until you train or evaluate the model.\n"
     ]
    },
    {
     "name": "stderr",
     "output_type": "stream",
     "text": [
      "WARNING:tensorflow:Compiled the loaded model, but the compiled metrics have yet to be built. `model.compile_metrics` will be empty until you train or evaluate the model.\n"
     ]
    },
    {
     "name": "stdout",
     "output_type": "stream",
     "text": [
      "INFO:tensorflow:Assets written to: c:\\Users\\rs1044\\bwSyncShare\\02Python Code\\MoE-based-FL-for-secure-STLF/models/FL/Testing/cluster_0/Dense_MoE_e4d8_d16/FederatedRound1\\assets\n"
     ]
    },
    {
     "name": "stderr",
     "output_type": "stream",
     "text": [
      "INFO:tensorflow:Assets written to: c:\\Users\\rs1044\\bwSyncShare\\02Python Code\\MoE-based-FL-for-secure-STLF/models/FL/Testing/cluster_0/Dense_MoE_e4d8_d16/FederatedRound1\\assets\n"
     ]
    },
    {
     "name": "stdout",
     "output_type": "stream",
     "text": [
      "Saved Global models\n",
      "Cluster 1:\n",
      "User 29\n",
      "WARNING:tensorflow:Compiled the loaded model, but the compiled metrics have yet to be built. `model.compile_metrics` will be empty until you train or evaluate the model.\n"
     ]
    },
    {
     "name": "stderr",
     "output_type": "stream",
     "text": [
      "WARNING:tensorflow:Compiled the loaded model, but the compiled metrics have yet to be built. `model.compile_metrics` will be empty until you train or evaluate the model.\n"
     ]
    },
    {
     "name": "stdout",
     "output_type": "stream",
     "text": [
      "INFO:tensorflow:Assets written to: c:\\Users\\rs1044\\bwSyncShare\\02Python Code\\MoE-based-FL-for-secure-STLF/models/FL/Testing/cluster_1/Dense_MoE_e4d8_d16/FederatedRound1\\assets\n"
     ]
    },
    {
     "name": "stderr",
     "output_type": "stream",
     "text": [
      "INFO:tensorflow:Assets written to: c:\\Users\\rs1044\\bwSyncShare\\02Python Code\\MoE-based-FL-for-secure-STLF/models/FL/Testing/cluster_1/Dense_MoE_e4d8_d16/FederatedRound1\\assets\n"
     ]
    },
    {
     "name": "stdout",
     "output_type": "stream",
     "text": [
      "Saved Global models\n",
      "Cluster 2:\n",
      "User 6\n",
      "User 13\n",
      "User 18\n",
      "User 20\n",
      "User 26\n",
      "WARNING:tensorflow:Compiled the loaded model, but the compiled metrics have yet to be built. `model.compile_metrics` will be empty until you train or evaluate the model.\n"
     ]
    },
    {
     "name": "stderr",
     "output_type": "stream",
     "text": [
      "WARNING:tensorflow:Compiled the loaded model, but the compiled metrics have yet to be built. `model.compile_metrics` will be empty until you train or evaluate the model.\n"
     ]
    },
    {
     "name": "stdout",
     "output_type": "stream",
     "text": [
      "INFO:tensorflow:Assets written to: c:\\Users\\rs1044\\bwSyncShare\\02Python Code\\MoE-based-FL-for-secure-STLF/models/FL/Testing/cluster_2/Dense_MoE_e4d8_d16/FederatedRound1\\assets\n"
     ]
    },
    {
     "name": "stderr",
     "output_type": "stream",
     "text": [
      "INFO:tensorflow:Assets written to: c:\\Users\\rs1044\\bwSyncShare\\02Python Code\\MoE-based-FL-for-secure-STLF/models/FL/Testing/cluster_2/Dense_MoE_e4d8_d16/FederatedRound1\\assets\n"
     ]
    },
    {
     "name": "stdout",
     "output_type": "stream",
     "text": [
      "Saved Global models\n",
      "Cluster 3:\n",
      "User 3\n",
      "User 8\n",
      "User 9\n",
      "User 14\n",
      "User 19\n",
      "User 27\n",
      "WARNING:tensorflow:Compiled the loaded model, but the compiled metrics have yet to be built. `model.compile_metrics` will be empty until you train or evaluate the model.\n"
     ]
    },
    {
     "name": "stderr",
     "output_type": "stream",
     "text": [
      "WARNING:tensorflow:Compiled the loaded model, but the compiled metrics have yet to be built. `model.compile_metrics` will be empty until you train or evaluate the model.\n"
     ]
    },
    {
     "name": "stdout",
     "output_type": "stream",
     "text": [
      "INFO:tensorflow:Assets written to: c:\\Users\\rs1044\\bwSyncShare\\02Python Code\\MoE-based-FL-for-secure-STLF/models/FL/Testing/cluster_3/Dense_MoE_e4d8_d16/FederatedRound1\\assets\n"
     ]
    },
    {
     "name": "stderr",
     "output_type": "stream",
     "text": [
      "INFO:tensorflow:Assets written to: c:\\Users\\rs1044\\bwSyncShare\\02Python Code\\MoE-based-FL-for-secure-STLF/models/FL/Testing/cluster_3/Dense_MoE_e4d8_d16/FederatedRound1\\assets\n"
     ]
    },
    {
     "name": "stdout",
     "output_type": "stream",
     "text": [
      "Saved Global models\n",
      "Started Federated training round ---------- 2 / 3\n",
      "Cluster 0:\n",
      "User 1\n",
      "User 2\n",
      "User 4\n",
      "User 5\n",
      "User 7\n",
      "User 10\n",
      "User 11\n",
      "User 12\n",
      "User 15\n",
      "User 16\n",
      "User 17\n",
      "User 21\n",
      "User 22\n",
      "User 23\n",
      "User 24\n",
      "User 25\n",
      "User 28\n",
      "User 30\n",
      "WARNING:tensorflow:Compiled the loaded model, but the compiled metrics have yet to be built. `model.compile_metrics` will be empty until you train or evaluate the model.\n"
     ]
    },
    {
     "name": "stderr",
     "output_type": "stream",
     "text": [
      "WARNING:tensorflow:Compiled the loaded model, but the compiled metrics have yet to be built. `model.compile_metrics` will be empty until you train or evaluate the model.\n"
     ]
    },
    {
     "name": "stdout",
     "output_type": "stream",
     "text": [
      "INFO:tensorflow:Assets written to: c:\\Users\\rs1044\\bwSyncShare\\02Python Code\\MoE-based-FL-for-secure-STLF/models/FL/Testing/cluster_0/Dense_MoE_e4d8_d16/FederatedRound2\\assets\n"
     ]
    },
    {
     "name": "stderr",
     "output_type": "stream",
     "text": [
      "INFO:tensorflow:Assets written to: c:\\Users\\rs1044\\bwSyncShare\\02Python Code\\MoE-based-FL-for-secure-STLF/models/FL/Testing/cluster_0/Dense_MoE_e4d8_d16/FederatedRound2\\assets\n"
     ]
    },
    {
     "name": "stdout",
     "output_type": "stream",
     "text": [
      "Saved Global models\n",
      "Cluster 1:\n",
      "User 29\n",
      "WARNING:tensorflow:Compiled the loaded model, but the compiled metrics have yet to be built. `model.compile_metrics` will be empty until you train or evaluate the model.\n"
     ]
    },
    {
     "name": "stderr",
     "output_type": "stream",
     "text": [
      "WARNING:tensorflow:Compiled the loaded model, but the compiled metrics have yet to be built. `model.compile_metrics` will be empty until you train or evaluate the model.\n"
     ]
    },
    {
     "name": "stdout",
     "output_type": "stream",
     "text": [
      "INFO:tensorflow:Assets written to: c:\\Users\\rs1044\\bwSyncShare\\02Python Code\\MoE-based-FL-for-secure-STLF/models/FL/Testing/cluster_1/Dense_MoE_e4d8_d16/FederatedRound2\\assets\n"
     ]
    },
    {
     "name": "stderr",
     "output_type": "stream",
     "text": [
      "INFO:tensorflow:Assets written to: c:\\Users\\rs1044\\bwSyncShare\\02Python Code\\MoE-based-FL-for-secure-STLF/models/FL/Testing/cluster_1/Dense_MoE_e4d8_d16/FederatedRound2\\assets\n"
     ]
    },
    {
     "name": "stdout",
     "output_type": "stream",
     "text": [
      "Saved Global models\n",
      "Cluster 2:\n",
      "User 6\n",
      "User 13\n",
      "User 18\n",
      "User 20\n",
      "User 26\n",
      "WARNING:tensorflow:Compiled the loaded model, but the compiled metrics have yet to be built. `model.compile_metrics` will be empty until you train or evaluate the model.\n"
     ]
    },
    {
     "name": "stderr",
     "output_type": "stream",
     "text": [
      "WARNING:tensorflow:Compiled the loaded model, but the compiled metrics have yet to be built. `model.compile_metrics` will be empty until you train or evaluate the model.\n"
     ]
    },
    {
     "name": "stdout",
     "output_type": "stream",
     "text": [
      "INFO:tensorflow:Assets written to: c:\\Users\\rs1044\\bwSyncShare\\02Python Code\\MoE-based-FL-for-secure-STLF/models/FL/Testing/cluster_2/Dense_MoE_e4d8_d16/FederatedRound2\\assets\n"
     ]
    },
    {
     "name": "stderr",
     "output_type": "stream",
     "text": [
      "INFO:tensorflow:Assets written to: c:\\Users\\rs1044\\bwSyncShare\\02Python Code\\MoE-based-FL-for-secure-STLF/models/FL/Testing/cluster_2/Dense_MoE_e4d8_d16/FederatedRound2\\assets\n"
     ]
    },
    {
     "name": "stdout",
     "output_type": "stream",
     "text": [
      "Saved Global models\n",
      "Cluster 3:\n",
      "User 3\n",
      "User 8\n",
      "User 9\n",
      "User 14\n",
      "User 19\n",
      "User 27\n",
      "WARNING:tensorflow:Compiled the loaded model, but the compiled metrics have yet to be built. `model.compile_metrics` will be empty until you train or evaluate the model.\n"
     ]
    },
    {
     "name": "stderr",
     "output_type": "stream",
     "text": [
      "WARNING:tensorflow:Compiled the loaded model, but the compiled metrics have yet to be built. `model.compile_metrics` will be empty until you train or evaluate the model.\n"
     ]
    },
    {
     "name": "stdout",
     "output_type": "stream",
     "text": [
      "INFO:tensorflow:Assets written to: c:\\Users\\rs1044\\bwSyncShare\\02Python Code\\MoE-based-FL-for-secure-STLF/models/FL/Testing/cluster_3/Dense_MoE_e4d8_d16/FederatedRound2\\assets\n"
     ]
    },
    {
     "name": "stderr",
     "output_type": "stream",
     "text": [
      "INFO:tensorflow:Assets written to: c:\\Users\\rs1044\\bwSyncShare\\02Python Code\\MoE-based-FL-for-secure-STLF/models/FL/Testing/cluster_3/Dense_MoE_e4d8_d16/FederatedRound2\\assets\n"
     ]
    },
    {
     "name": "stdout",
     "output_type": "stream",
     "text": [
      "Saved Global models\n",
      "Started Federated training round ---------- 3 / 3\n",
      "Cluster 0:\n",
      "User 1\n",
      "User 2\n",
      "User 4\n",
      "User 5\n",
      "User 7\n",
      "User 10\n",
      "User 11\n",
      "User 12\n",
      "User 15\n",
      "User 16\n",
      "User 17\n",
      "User 21\n",
      "User 22\n",
      "User 23\n",
      "User 24\n",
      "User 25\n",
      "User 28\n",
      "User 30\n",
      "WARNING:tensorflow:Compiled the loaded model, but the compiled metrics have yet to be built. `model.compile_metrics` will be empty until you train or evaluate the model.\n"
     ]
    },
    {
     "name": "stderr",
     "output_type": "stream",
     "text": [
      "WARNING:tensorflow:Compiled the loaded model, but the compiled metrics have yet to be built. `model.compile_metrics` will be empty until you train or evaluate the model.\n"
     ]
    },
    {
     "name": "stdout",
     "output_type": "stream",
     "text": [
      "INFO:tensorflow:Assets written to: c:\\Users\\rs1044\\bwSyncShare\\02Python Code\\MoE-based-FL-for-secure-STLF/models/FL/Testing/cluster_0/Dense_MoE_e4d8_d16/FederatedRound3\\assets\n"
     ]
    },
    {
     "name": "stderr",
     "output_type": "stream",
     "text": [
      "INFO:tensorflow:Assets written to: c:\\Users\\rs1044\\bwSyncShare\\02Python Code\\MoE-based-FL-for-secure-STLF/models/FL/Testing/cluster_0/Dense_MoE_e4d8_d16/FederatedRound3\\assets\n"
     ]
    },
    {
     "name": "stdout",
     "output_type": "stream",
     "text": [
      "Saved Global models\n",
      "Cluster 1:\n",
      "User 29\n",
      "WARNING:tensorflow:Compiled the loaded model, but the compiled metrics have yet to be built. `model.compile_metrics` will be empty until you train or evaluate the model.\n"
     ]
    },
    {
     "name": "stderr",
     "output_type": "stream",
     "text": [
      "WARNING:tensorflow:Compiled the loaded model, but the compiled metrics have yet to be built. `model.compile_metrics` will be empty until you train or evaluate the model.\n"
     ]
    },
    {
     "name": "stdout",
     "output_type": "stream",
     "text": [
      "INFO:tensorflow:Assets written to: c:\\Users\\rs1044\\bwSyncShare\\02Python Code\\MoE-based-FL-for-secure-STLF/models/FL/Testing/cluster_1/Dense_MoE_e4d8_d16/FederatedRound3\\assets\n"
     ]
    },
    {
     "name": "stderr",
     "output_type": "stream",
     "text": [
      "INFO:tensorflow:Assets written to: c:\\Users\\rs1044\\bwSyncShare\\02Python Code\\MoE-based-FL-for-secure-STLF/models/FL/Testing/cluster_1/Dense_MoE_e4d8_d16/FederatedRound3\\assets\n"
     ]
    },
    {
     "name": "stdout",
     "output_type": "stream",
     "text": [
      "Saved Global models\n",
      "Cluster 2:\n",
      "User 6\n",
      "User 13\n",
      "User 18\n",
      "User 20\n",
      "User 26\n",
      "WARNING:tensorflow:Compiled the loaded model, but the compiled metrics have yet to be built. `model.compile_metrics` will be empty until you train or evaluate the model.\n"
     ]
    },
    {
     "name": "stderr",
     "output_type": "stream",
     "text": [
      "WARNING:tensorflow:Compiled the loaded model, but the compiled metrics have yet to be built. `model.compile_metrics` will be empty until you train or evaluate the model.\n"
     ]
    },
    {
     "name": "stdout",
     "output_type": "stream",
     "text": [
      "INFO:tensorflow:Assets written to: c:\\Users\\rs1044\\bwSyncShare\\02Python Code\\MoE-based-FL-for-secure-STLF/models/FL/Testing/cluster_2/Dense_MoE_e4d8_d16/FederatedRound3\\assets\n"
     ]
    },
    {
     "name": "stderr",
     "output_type": "stream",
     "text": [
      "INFO:tensorflow:Assets written to: c:\\Users\\rs1044\\bwSyncShare\\02Python Code\\MoE-based-FL-for-secure-STLF/models/FL/Testing/cluster_2/Dense_MoE_e4d8_d16/FederatedRound3\\assets\n"
     ]
    },
    {
     "name": "stdout",
     "output_type": "stream",
     "text": [
      "Saved Global models\n",
      "Cluster 3:\n",
      "User 3\n",
      "User 8\n",
      "User 9\n",
      "User 14\n",
      "User 19\n",
      "User 27\n",
      "WARNING:tensorflow:Compiled the loaded model, but the compiled metrics have yet to be built. `model.compile_metrics` will be empty until you train or evaluate the model.\n"
     ]
    },
    {
     "name": "stderr",
     "output_type": "stream",
     "text": [
      "WARNING:tensorflow:Compiled the loaded model, but the compiled metrics have yet to be built. `model.compile_metrics` will be empty until you train or evaluate the model.\n"
     ]
    },
    {
     "name": "stdout",
     "output_type": "stream",
     "text": [
      "INFO:tensorflow:Assets written to: c:\\Users\\rs1044\\bwSyncShare\\02Python Code\\MoE-based-FL-for-secure-STLF/models/FL/Testing/cluster_3/Dense_MoE_e4d8_d16/FederatedRound3\\assets\n"
     ]
    },
    {
     "name": "stderr",
     "output_type": "stream",
     "text": [
      "INFO:tensorflow:Assets written to: c:\\Users\\rs1044\\bwSyncShare\\02Python Code\\MoE-based-FL-for-secure-STLF/models/FL/Testing/cluster_3/Dense_MoE_e4d8_d16/FederatedRound3\\assets\n"
     ]
    },
    {
     "name": "stdout",
     "output_type": "stream",
     "text": [
      "Saved Global models\n"
     ]
    }
   ],
   "source": [
    "federated_rounds = 3\n",
    "\n",
    "model_architecture = \"Dense_MoE_e4d8_d16\"\n",
    "dense_units = 16\n",
    "num_experts = 4\n",
    "expert_units = 8\n",
    "\n",
    "# Create global models for each cluser (6)\n",
    "for cluster in range(num_clusters):\n",
    "#Build and save global model\n",
    "    global_model = m1.build_soft_dense_moe_model(X_train[f'user{1}'], batch_size, horizon, dense_units, expert_units, num_experts, m1)\n",
    "    global_model.save(cwd + f\"/models/FL/Testing/cluster_{cluster}/{model_architecture}/FederatedRound{0}\")\n",
    "\n",
    "  \n",
    "\n",
    "for federated_round  in range(federated_rounds):\n",
    "    print(\"Started Federated training round ----------\", federated_round+1, f\"/ {federated_rounds}\")\n",
    "\n",
    "    for cluster_number, users_in_cluster in cluster_users.items():\n",
    "        print(f\"Cluster {cluster_number}:\")\n",
    "\n",
    "        #Get global models weights\n",
    "        global_model = keras.models.load_model(cwd + f\"/models/FL/Testing/cluster_{cluster_number}/{model_architecture}/Federatepund{federated_round}\", compile=False)\n",
    "        global_model_weights = global_model.get_weights()\n",
    "\n",
    "        #initial list for local model weights\n",
    "        local_weight_list = list()\n",
    "\n",
    "\n",
    "        #for idx, user in enumerate(df_array): \n",
    "        for user_index in users_in_cluster:\n",
    "            user_df = df_array[user_index-1]  # Get the user's DataFrame from the array\n",
    "            print(f\"User {user_index}\") \n",
    "                      \n",
    "            #build and compile local model X_train, batch_size, horizon, dense_units,  expert_units, num_experts, m1\n",
    "            local_model = m1.build_soft_dense_moe_model(X_train[f'user{user_index}'], batch_size, horizon, dense_units, expert_units, num_experts, m1)\n",
    "            local_model.compile(loss=loss, optimizer=tf.keras.optimizers.Adam(learning_rate=0.0006), metrics=metrics)\n",
    "\n",
    "            #set local model weight to the weight of the global model\n",
    "            local_model.set_weights(global_model_weights)\n",
    "            \n",
    "            #Fit local model to local data\n",
    "            histroy, user_results = mh.compile_fit_evaluate_model(\n",
    "                model=local_model, \n",
    "                loss=loss, \n",
    "                metrics=metrics, \n",
    "                X_train=X_train[f'user{user_index}'],\n",
    "                y_train = y_train[f'user{user_index}'], \n",
    "                max_epochs = max_epochs, \n",
    "                batch_size=batch_size, \n",
    "                X_val=X_val[f'user{user_index}'], \n",
    "                y_val=y_val[f'user{user_index}'], \n",
    "                X_test=X_test[f'user{user_index}'], \n",
    "                y_test=y_test[f'user{user_index}'], \n",
    "                callbacks=callbacks, \n",
    "                user=f'user{user_index}', \n",
    "                hyper=model_architecture,\n",
    "                optimizer=tf.keras.optimizers.Adam(learning_rate=0.0006),\n",
    "            )\n",
    "            #add model weights to list        \n",
    "            local_dense_moe_weights = local_model.get_weights()\n",
    "            local_weight_list.append(local_dense_moe_weights)\n",
    "        \n",
    "            #clear session to free memory after each communication round\n",
    "            K.clear_session()\n",
    "        \n",
    "        #to get the average over all the local model, we simply take the sum of the scaled weights\n",
    "        average_weights_dense_moe = avg_weights_with_noise_fedprox(local_weight_list)\n",
    "        #update global model \n",
    "        global_model.set_weights(average_weights_dense_moe)\n",
    "        #Save global models\n",
    "        global_model.save(cwd + f\"/models/FL/Testing/cluster_{cluster_number}/{model_architecture}/FederatedRound{federated_round+1}\")\n",
    "        print(\"Saved Global models\")"
   ]
  },
  {
   "cell_type": "code",
   "execution_count": 10,
   "id": "5f929621",
   "metadata": {},
   "outputs": [
    {
     "name": "stdout",
     "output_type": "stream",
     "text": [
      "Cluster 0:\n",
      "User:  1\n",
      "User:  2\n",
      "User:  4\n",
      "User:  5\n",
      "User:  7\n",
      "User:  10\n",
      "User:  11\n",
      "User:  12\n",
      "User:  15\n",
      "User:  16\n",
      "User:  17\n",
      "User:  21\n",
      "User:  22\n",
      "User:  23\n",
      "User:  24\n",
      "User:  25\n",
      "User:  28\n",
      "User:  30\n",
      "Cluster 1:\n",
      "User:  29\n",
      "Cluster 2:\n",
      "User:  6\n",
      "User:  13\n",
      "User:  18\n",
      "User:  20\n",
      "User:  26\n",
      "Cluster 3:\n",
      "User:  3\n",
      "User:  8\n",
      "User:  9\n",
      "User:  14\n",
      "User:  19\n",
      "User:  27\n"
     ]
    }
   ],
   "source": [
    "#Evaluation - Version 1: Direkt\n",
    "for cluster_number, users_in_cluster in cluster_users.items():\n",
    "    print(f\"Cluster {cluster_number}:\")\n",
    "\n",
    "    #Get global models weights\n",
    "    global_model = tf.keras.models.load_model(cwd + f\"/models/FL/Testing/cluster_{cluster_number}/{model_architecture}/FederatedRound{federated_rounds}\", compile=False)\n",
    "\n",
    "    #for idx, user in enumerate(df_array): \n",
    "    for user_index in users_in_cluster:\n",
    "        print(\"User: \", user_index)\n",
    "        for round in range(3):\n",
    "            global_model = tf.keras.models.load_model(cwd + f\"/models/FL/Testing/cluster_{cluster_number}/{model_architecture}/FederatedRound{federated_rounds}\", compile=False)\n",
    "            model = m1.build_soft_dense_moe_model(X_train[f'user{user_index}'], batch_size, horizon, dense_units, expert_units, num_experts, m1)\n",
    "            model.set_weights(global_model.get_weights())\n",
    "            \n",
    "            histroy, user_results = mh.compile_fit_evaluate_model(\n",
    "                model=model, \n",
    "                loss=loss, \n",
    "                metrics=metrics, \n",
    "                X_train=X_train[f'user{user_index}'],\n",
    "                y_train = y_train[f'user{user_index}'], \n",
    "                max_epochs = 1, \n",
    "                batch_size=batch_size, \n",
    "                X_val=X_val[f'user{user_index}'], \n",
    "                y_val=y_val[f'user{user_index}'], \n",
    "                X_test=X_test[f'user{user_index}'], \n",
    "                y_test=y_test[f'user{user_index}'], \n",
    "                callbacks=callbacks, \n",
    "                user=f'user{user_index}', \n",
    "                hyper=model_architecture,\n",
    "                optimizer=tf.keras.optimizers.Adam(learning_rate=0.0006)\n",
    "            )\n",
    "            # Add the 'architecture' column from dense_user_results to dense_results\n",
    "            all_results = pd.merge(all_results, user_results, how='outer')  \n",
    "\n",
    "for idx in range(len(df_array)):\n",
    "    new_row = {\n",
    "        'architecture': model_architecture,\n",
    "        'train_time': all_results[all_results[\"user\"]==f\"user{idx+1}\"][\"train_time\"].mean(), \n",
    "        'avg_time_epoch' : all_results[all_results[\"user\"]==f\"user{idx+1}\"][\"avg_time_epoch\"].mean(),\n",
    "        'mse': all_results[all_results[\"user\"]==f\"user{idx+1}\"][\"mse\"].mean(),\n",
    "        'mse_std' : all_results[all_results[\"user\"]==f\"user{idx+1}\"][\"mse\"].std(),\n",
    "        'rmse': all_results[all_results[\"user\"]==f\"user{idx+1}\"][\"rmse\"].mean(),\n",
    "        'rmse_std' : all_results[all_results[\"user\"]==f\"user{idx+1}\"][\"rmse\"].std(),\n",
    "        'mape': all_results[all_results[\"user\"]==f\"user{idx+1}\"][\"mape\"].mean(),\n",
    "        'mape_std' : all_results[all_results[\"user\"]==f\"user{idx+1}\"][\"mape\"].std(),\n",
    "        'mae': all_results[all_results[\"user\"]==f\"user{idx+1}\"][\"mae\"].mean(),\n",
    "        'mae_std' : all_results[all_results[\"user\"]==f\"user{idx+1}\"][\"mae\"].std(),\n",
    "    }\n",
    "    results.loc[len(results)] = new_row\n"
   ]
  },
  {
   "cell_type": "code",
   "execution_count": 11,
   "id": "164b6611",
   "metadata": {},
   "outputs": [
    {
     "name": "stdout",
     "output_type": "stream",
     "text": [
      "Mean:  0.01869731661087523\n"
     ]
    },
    {
     "data": {
      "text/html": [
       "<div>\n",
       "<style scoped>\n",
       "    .dataframe tbody tr th:only-of-type {\n",
       "        vertical-align: middle;\n",
       "    }\n",
       "\n",
       "    .dataframe tbody tr th {\n",
       "        vertical-align: top;\n",
       "    }\n",
       "\n",
       "    .dataframe thead th {\n",
       "        text-align: right;\n",
       "    }\n",
       "</style>\n",
       "<table border=\"1\" class=\"dataframe\">\n",
       "  <thead>\n",
       "    <tr style=\"text-align: right;\">\n",
       "      <th></th>\n",
       "      <th>cluster</th>\n",
       "      <th>architecture</th>\n",
       "      <th>time</th>\n",
       "      <th>mse</th>\n",
       "      <th>rmse</th>\n",
       "      <th>mape</th>\n",
       "      <th>mae</th>\n",
       "    </tr>\n",
       "  </thead>\n",
       "  <tbody>\n",
       "    <tr>\n",
       "      <th>0</th>\n",
       "      <td>cluster_0</td>\n",
       "      <td>Dense_MoE_e4d8_d16</td>\n",
       "      <td>1.378589</td>\n",
       "      <td>0.015697</td>\n",
       "      <td>0.123308</td>\n",
       "      <td>310467.102358</td>\n",
       "      <td>0.075675</td>\n",
       "    </tr>\n",
       "    <tr>\n",
       "      <th>1</th>\n",
       "      <td>cluster_1</td>\n",
       "      <td>Dense_MoE_e4d8_d16</td>\n",
       "      <td>1.506782</td>\n",
       "      <td>0.018375</td>\n",
       "      <td>0.135547</td>\n",
       "      <td>494650.666667</td>\n",
       "      <td>0.096580</td>\n",
       "    </tr>\n",
       "    <tr>\n",
       "      <th>2</th>\n",
       "      <td>cluster_2</td>\n",
       "      <td>Dense_MoE_e4d8_d16</td>\n",
       "      <td>1.401499</td>\n",
       "      <td>0.021122</td>\n",
       "      <td>0.144063</td>\n",
       "      <td>138798.159896</td>\n",
       "      <td>0.098415</td>\n",
       "    </tr>\n",
       "    <tr>\n",
       "      <th>3</th>\n",
       "      <td>cluster_3</td>\n",
       "      <td>Dense_MoE_e4d8_d16</td>\n",
       "      <td>1.371836</td>\n",
       "      <td>0.019595</td>\n",
       "      <td>0.139187</td>\n",
       "      <td>74041.048158</td>\n",
       "      <td>0.085833</td>\n",
       "    </tr>\n",
       "  </tbody>\n",
       "</table>\n",
       "</div>"
      ],
      "text/plain": [
       "     cluster        architecture      time       mse      rmse           mape  \\\n",
       "0  cluster_0  Dense_MoE_e4d8_d16  1.378589  0.015697  0.123308  310467.102358   \n",
       "1  cluster_1  Dense_MoE_e4d8_d16  1.506782  0.018375  0.135547  494650.666667   \n",
       "2  cluster_2  Dense_MoE_e4d8_d16  1.401499  0.021122  0.144063  138798.159896   \n",
       "3  cluster_3  Dense_MoE_e4d8_d16  1.371836  0.019595  0.139187   74041.048158   \n",
       "\n",
       "        mae  \n",
       "0  0.075675  \n",
       "1  0.096580  \n",
       "2  0.098415  \n",
       "3  0.085833  "
      ]
     },
     "execution_count": 11,
     "metadata": {},
     "output_type": "execute_result"
    }
   ],
   "source": [
    "df_evaluation = results.tail(30)\n",
    "df_evaluation.reset_index(inplace=True)\n",
    "df_results = pd.DataFrame(columns=[\"cluster\", \"architecture\", \"time\",\"mse\", \"rmse\", \"mape\", \"mae\"])\n",
    "\n",
    "for cluster_number, users_in_cluster in cluster_users.items():\n",
    "    #print(f\"Cluster {cluster_number}:\")\n",
    "    \n",
    "    cluster = f\"cluster_{cluster_number}\"\n",
    "    architecture = df_evaluation[\"architecture\"][0]\n",
    "    time = 0\n",
    "    mse = 0\n",
    "    rmse = 0\n",
    "    mape = 0\n",
    "    mae = 0\n",
    "    \n",
    "    # Filter and print the users in the current cluster\n",
    "    for user_index in users_in_cluster:\n",
    "        time += df_evaluation[\"train_time\"][user_index-1]\n",
    "        mse += df_evaluation[\"mse\"][user_index-1]\n",
    "        mae += df_evaluation[\"mae\"][user_index-1]\n",
    "        rmse += df_evaluation[\"rmse\"][user_index-1]\n",
    "        mape += df_evaluation[\"mape\"][user_index-1]\n",
    "        \n",
    "    num_users_in_cluster = len(users_in_cluster)\n",
    "    new_row = {\n",
    "        'cluster': cluster,\n",
    "        'architecture': architecture, \n",
    "        'time' : time / num_users_in_cluster,\n",
    "        'mse': mse / num_users_in_cluster,\n",
    "        \"rmse\" : rmse / num_users_in_cluster,\n",
    "        \"mape\": mape / num_users_in_cluster,\n",
    "        'mae':  mae / num_users_in_cluster,\n",
    "    }\n",
    "    df_results.loc[len(df_results)] = new_row\n",
    "    \n",
    "moe_1 = df_results\n",
    "print(\"Mean: \", df_results[\"mse\"].mean())\n",
    "df_results"
   ]
  }
 ],
 "metadata": {
  "kernelspec": {
   "display_name": "Python 3 (ipykernel)",
   "language": "python",
   "name": "python3"
  },
  "language_info": {
   "codemirror_mode": {
    "name": "ipython",
    "version": 3
   },
   "file_extension": ".py",
   "mimetype": "text/x-python",
   "name": "python",
   "nbconvert_exporter": "python",
   "pygments_lexer": "ipython3",
   "version": "3.10.5"
  }
 },
 "nbformat": 4,
 "nbformat_minor": 5
}
